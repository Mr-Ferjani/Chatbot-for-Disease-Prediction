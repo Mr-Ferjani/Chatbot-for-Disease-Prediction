{
 "cells": [
  {
   "cell_type": "markdown",
   "id": "apparent-graph",
   "metadata": {
    "heading_collapsed": true
   },
   "source": [
    "# Installations"
   ]
  },
  {
   "cell_type": "markdown",
   "id": "resident-billion",
   "metadata": {
    "hidden": true
   },
   "source": [
    "NLTK library installation command"
   ]
  },
  {
   "cell_type": "code",
   "execution_count": 1,
   "id": "saved-springer",
   "metadata": {
    "ExecuteTime": {
     "end_time": "2021-05-14T01:09:36.358692Z",
     "start_time": "2021-05-14T01:09:36.344727Z"
    },
    "hidden": true
   },
   "outputs": [],
   "source": [
    "#conda install -c anaconda nltk"
   ]
  },
  {
   "cell_type": "markdown",
   "id": "acceptable-torture",
   "metadata": {
    "heading_collapsed": true
   },
   "source": [
    "# Imports"
   ]
  },
  {
   "cell_type": "code",
   "execution_count": 2,
   "id": "fifth-joining",
   "metadata": {
    "ExecuteTime": {
     "end_time": "2021-05-14T01:09:38.549257Z",
     "start_time": "2021-05-14T01:09:36.359688Z"
    },
    "hidden": true
   },
   "outputs": [
    {
     "data": {
      "text/html": [
       "<style>.container{max-width:80%!important;width:auto!important;}</style>"
      ],
      "text/plain": [
       "<IPython.core.display.HTML object>"
      ]
     },
     "metadata": {},
     "output_type": "display_data"
    }
   ],
   "source": [
    "from IPython.core.display import display, HTML\n",
    "display(HTML(\"<style>.container{max-width:80%!important;width:auto!important;}</style>\"))\n",
    "\n",
    "%reload_ext autoreload\n",
    "%autoreload 2\n",
    "%matplotlib inline"
   ]
  },
  {
   "cell_type": "code",
   "execution_count": 3,
   "id": "judicial-california",
   "metadata": {
    "ExecuteTime": {
     "end_time": "2021-05-14T01:09:46.154479Z",
     "start_time": "2021-05-14T01:09:38.551285Z"
    },
    "hidden": true
   },
   "outputs": [],
   "source": [
    "import numpy as np\n",
    "import pandas as pd \n",
    "import json\n",
    "#NLP Packages\n",
    "import nltk\n",
    "from nltk import PorterStemmer\n",
    "from nltk.stem import WordNetLemmatizer\n",
    "import re #used to regularize - meaning removing punctuations\n",
    "\n",
    "#sklearn libraries\n",
    "from sklearn.model_selection import train_test_split\n",
    "from sklearn.naive_bayes import MultinomialNB\n",
    "from sklearn.metrics import confusion_matrix\n",
    "from sklearn.metrics import accuracy_score\n",
    "from sklearn.datasets import fetch_openml\n",
    "\n",
    "import matplotlib.pyplot as plt\n",
    "import pdb\n",
    "import random\n",
    "import math\n",
    "import operator\n",
    "\n",
    "from tqdm.notebook import trange, tqdm\n",
    "from collections import Counter, defaultdict\n",
    "#torch libraries\n",
    "import torch\n",
    "import torch.nn as nn\n",
    "import torch.optim as optim\n",
    "import torch.nn.functional as F\n",
    "from torch.utils.data import Dataset, DataLoader\n",
    "import pickle\n"
   ]
  },
  {
   "cell_type": "markdown",
   "id": "modern-qatar",
   "metadata": {
    "hidden": true
   },
   "source": [
    "At this stage we can initialise a random seed variable for reproducability of our results throughout the notebook."
   ]
  },
  {
   "cell_type": "code",
   "execution_count": 4,
   "id": "compound-librarian",
   "metadata": {
    "ExecuteTime": {
     "end_time": "2021-05-14T01:09:46.372370Z",
     "start_time": "2021-05-14T01:09:46.156478Z"
    },
    "hidden": true
   },
   "outputs": [
    {
     "data": {
      "text/plain": [
       "<torch._C.Generator at 0x16c9b841f10>"
      ]
     },
     "execution_count": 4,
     "metadata": {},
     "output_type": "execute_result"
    }
   ],
   "source": [
    "seed = 123\n",
    "random.seed(seed)\n",
    "np.random.seed(seed)\n",
    "torch.manual_seed(seed)"
   ]
  },
  {
   "cell_type": "markdown",
   "id": "serious-finish",
   "metadata": {
    "heading_collapsed": true
   },
   "source": [
    "# Data Analysis"
   ]
  },
  {
   "cell_type": "markdown",
   "id": "conscious-excerpt",
   "metadata": {
    "hidden": true
   },
   "source": [
    "## Dataset"
   ]
  },
  {
   "cell_type": "markdown",
   "id": "severe-democrat",
   "metadata": {
    "heading_collapsed": true,
    "hidden": true
   },
   "source": [
    "### Importing the data"
   ]
  },
  {
   "cell_type": "markdown",
   "id": "protecting-study",
   "metadata": {
    "hidden": true
   },
   "source": [
    "First we import the dataset."
   ]
  },
  {
   "cell_type": "code",
   "execution_count": 5,
   "id": "varying-italic",
   "metadata": {
    "ExecuteTime": {
     "end_time": "2021-05-14T01:09:46.736483Z",
     "start_time": "2021-05-14T01:09:46.374363Z"
    },
    "hidden": true
   },
   "outputs": [
    {
     "data": {
      "text/html": [
       "<div>\n",
       "<style scoped>\n",
       "    .dataframe tbody tr th:only-of-type {\n",
       "        vertical-align: middle;\n",
       "    }\n",
       "\n",
       "    .dataframe tbody tr th {\n",
       "        vertical-align: top;\n",
       "    }\n",
       "\n",
       "    .dataframe thead th {\n",
       "        text-align: right;\n",
       "    }\n",
       "</style>\n",
       "<table border=\"1\" class=\"dataframe\">\n",
       "  <thead>\n",
       "    <tr style=\"text-align: right;\">\n",
       "      <th></th>\n",
       "      <th>itching</th>\n",
       "      <th>skin_rash</th>\n",
       "      <th>nodal_skin_eruptions</th>\n",
       "      <th>continuous_sneezing</th>\n",
       "      <th>shivering</th>\n",
       "      <th>chills</th>\n",
       "      <th>joint_pain</th>\n",
       "      <th>stomach_pain</th>\n",
       "      <th>acidity</th>\n",
       "      <th>ulcers_on_tongue</th>\n",
       "      <th>...</th>\n",
       "      <th>blackheads</th>\n",
       "      <th>scurring</th>\n",
       "      <th>skin_peeling</th>\n",
       "      <th>silver_like_dusting</th>\n",
       "      <th>small_dents_in_nails</th>\n",
       "      <th>inflammatory_nails</th>\n",
       "      <th>blister</th>\n",
       "      <th>red_sore_around_nose</th>\n",
       "      <th>yellow_crust_ooze</th>\n",
       "      <th>prognosis</th>\n",
       "    </tr>\n",
       "  </thead>\n",
       "  <tbody>\n",
       "    <tr>\n",
       "      <th>0</th>\n",
       "      <td>1</td>\n",
       "      <td>1</td>\n",
       "      <td>1</td>\n",
       "      <td>0</td>\n",
       "      <td>0</td>\n",
       "      <td>0</td>\n",
       "      <td>0</td>\n",
       "      <td>0</td>\n",
       "      <td>0</td>\n",
       "      <td>0</td>\n",
       "      <td>...</td>\n",
       "      <td>0</td>\n",
       "      <td>0</td>\n",
       "      <td>0</td>\n",
       "      <td>0</td>\n",
       "      <td>0</td>\n",
       "      <td>0</td>\n",
       "      <td>0</td>\n",
       "      <td>0</td>\n",
       "      <td>0</td>\n",
       "      <td>Fungal infection</td>\n",
       "    </tr>\n",
       "    <tr>\n",
       "      <th>1</th>\n",
       "      <td>0</td>\n",
       "      <td>1</td>\n",
       "      <td>1</td>\n",
       "      <td>0</td>\n",
       "      <td>0</td>\n",
       "      <td>0</td>\n",
       "      <td>0</td>\n",
       "      <td>0</td>\n",
       "      <td>0</td>\n",
       "      <td>0</td>\n",
       "      <td>...</td>\n",
       "      <td>0</td>\n",
       "      <td>0</td>\n",
       "      <td>0</td>\n",
       "      <td>0</td>\n",
       "      <td>0</td>\n",
       "      <td>0</td>\n",
       "      <td>0</td>\n",
       "      <td>0</td>\n",
       "      <td>0</td>\n",
       "      <td>Fungal infection</td>\n",
       "    </tr>\n",
       "    <tr>\n",
       "      <th>2</th>\n",
       "      <td>1</td>\n",
       "      <td>0</td>\n",
       "      <td>1</td>\n",
       "      <td>0</td>\n",
       "      <td>0</td>\n",
       "      <td>0</td>\n",
       "      <td>0</td>\n",
       "      <td>0</td>\n",
       "      <td>0</td>\n",
       "      <td>0</td>\n",
       "      <td>...</td>\n",
       "      <td>0</td>\n",
       "      <td>0</td>\n",
       "      <td>0</td>\n",
       "      <td>0</td>\n",
       "      <td>0</td>\n",
       "      <td>0</td>\n",
       "      <td>0</td>\n",
       "      <td>0</td>\n",
       "      <td>0</td>\n",
       "      <td>Fungal infection</td>\n",
       "    </tr>\n",
       "    <tr>\n",
       "      <th>3</th>\n",
       "      <td>1</td>\n",
       "      <td>1</td>\n",
       "      <td>0</td>\n",
       "      <td>0</td>\n",
       "      <td>0</td>\n",
       "      <td>0</td>\n",
       "      <td>0</td>\n",
       "      <td>0</td>\n",
       "      <td>0</td>\n",
       "      <td>0</td>\n",
       "      <td>...</td>\n",
       "      <td>0</td>\n",
       "      <td>0</td>\n",
       "      <td>0</td>\n",
       "      <td>0</td>\n",
       "      <td>0</td>\n",
       "      <td>0</td>\n",
       "      <td>0</td>\n",
       "      <td>0</td>\n",
       "      <td>0</td>\n",
       "      <td>Fungal infection</td>\n",
       "    </tr>\n",
       "    <tr>\n",
       "      <th>4</th>\n",
       "      <td>1</td>\n",
       "      <td>1</td>\n",
       "      <td>1</td>\n",
       "      <td>0</td>\n",
       "      <td>0</td>\n",
       "      <td>0</td>\n",
       "      <td>0</td>\n",
       "      <td>0</td>\n",
       "      <td>0</td>\n",
       "      <td>0</td>\n",
       "      <td>...</td>\n",
       "      <td>0</td>\n",
       "      <td>0</td>\n",
       "      <td>0</td>\n",
       "      <td>0</td>\n",
       "      <td>0</td>\n",
       "      <td>0</td>\n",
       "      <td>0</td>\n",
       "      <td>0</td>\n",
       "      <td>0</td>\n",
       "      <td>Fungal infection</td>\n",
       "    </tr>\n",
       "    <tr>\n",
       "      <th>...</th>\n",
       "      <td>...</td>\n",
       "      <td>...</td>\n",
       "      <td>...</td>\n",
       "      <td>...</td>\n",
       "      <td>...</td>\n",
       "      <td>...</td>\n",
       "      <td>...</td>\n",
       "      <td>...</td>\n",
       "      <td>...</td>\n",
       "      <td>...</td>\n",
       "      <td>...</td>\n",
       "      <td>...</td>\n",
       "      <td>...</td>\n",
       "      <td>...</td>\n",
       "      <td>...</td>\n",
       "      <td>...</td>\n",
       "      <td>...</td>\n",
       "      <td>...</td>\n",
       "      <td>...</td>\n",
       "      <td>...</td>\n",
       "      <td>...</td>\n",
       "    </tr>\n",
       "    <tr>\n",
       "      <th>4956</th>\n",
       "      <td>0</td>\n",
       "      <td>0</td>\n",
       "      <td>0</td>\n",
       "      <td>0</td>\n",
       "      <td>0</td>\n",
       "      <td>0</td>\n",
       "      <td>0</td>\n",
       "      <td>0</td>\n",
       "      <td>0</td>\n",
       "      <td>0</td>\n",
       "      <td>...</td>\n",
       "      <td>0</td>\n",
       "      <td>0</td>\n",
       "      <td>0</td>\n",
       "      <td>0</td>\n",
       "      <td>0</td>\n",
       "      <td>0</td>\n",
       "      <td>0</td>\n",
       "      <td>0</td>\n",
       "      <td>0</td>\n",
       "      <td>(vertigo) Paroymsal  Positional Vertigo</td>\n",
       "    </tr>\n",
       "    <tr>\n",
       "      <th>4957</th>\n",
       "      <td>0</td>\n",
       "      <td>1</td>\n",
       "      <td>0</td>\n",
       "      <td>0</td>\n",
       "      <td>0</td>\n",
       "      <td>0</td>\n",
       "      <td>0</td>\n",
       "      <td>0</td>\n",
       "      <td>0</td>\n",
       "      <td>0</td>\n",
       "      <td>...</td>\n",
       "      <td>1</td>\n",
       "      <td>1</td>\n",
       "      <td>0</td>\n",
       "      <td>0</td>\n",
       "      <td>0</td>\n",
       "      <td>0</td>\n",
       "      <td>0</td>\n",
       "      <td>0</td>\n",
       "      <td>0</td>\n",
       "      <td>Acne</td>\n",
       "    </tr>\n",
       "    <tr>\n",
       "      <th>4958</th>\n",
       "      <td>0</td>\n",
       "      <td>0</td>\n",
       "      <td>0</td>\n",
       "      <td>0</td>\n",
       "      <td>0</td>\n",
       "      <td>0</td>\n",
       "      <td>0</td>\n",
       "      <td>0</td>\n",
       "      <td>0</td>\n",
       "      <td>0</td>\n",
       "      <td>...</td>\n",
       "      <td>0</td>\n",
       "      <td>0</td>\n",
       "      <td>0</td>\n",
       "      <td>0</td>\n",
       "      <td>0</td>\n",
       "      <td>0</td>\n",
       "      <td>0</td>\n",
       "      <td>0</td>\n",
       "      <td>0</td>\n",
       "      <td>Urinary tract infection</td>\n",
       "    </tr>\n",
       "    <tr>\n",
       "      <th>4959</th>\n",
       "      <td>0</td>\n",
       "      <td>1</td>\n",
       "      <td>0</td>\n",
       "      <td>0</td>\n",
       "      <td>0</td>\n",
       "      <td>0</td>\n",
       "      <td>1</td>\n",
       "      <td>0</td>\n",
       "      <td>0</td>\n",
       "      <td>0</td>\n",
       "      <td>...</td>\n",
       "      <td>0</td>\n",
       "      <td>0</td>\n",
       "      <td>1</td>\n",
       "      <td>1</td>\n",
       "      <td>1</td>\n",
       "      <td>1</td>\n",
       "      <td>0</td>\n",
       "      <td>0</td>\n",
       "      <td>0</td>\n",
       "      <td>Psoriasis</td>\n",
       "    </tr>\n",
       "    <tr>\n",
       "      <th>4960</th>\n",
       "      <td>0</td>\n",
       "      <td>1</td>\n",
       "      <td>0</td>\n",
       "      <td>0</td>\n",
       "      <td>0</td>\n",
       "      <td>0</td>\n",
       "      <td>0</td>\n",
       "      <td>0</td>\n",
       "      <td>0</td>\n",
       "      <td>0</td>\n",
       "      <td>...</td>\n",
       "      <td>0</td>\n",
       "      <td>0</td>\n",
       "      <td>0</td>\n",
       "      <td>0</td>\n",
       "      <td>0</td>\n",
       "      <td>0</td>\n",
       "      <td>1</td>\n",
       "      <td>1</td>\n",
       "      <td>1</td>\n",
       "      <td>Impetigo</td>\n",
       "    </tr>\n",
       "  </tbody>\n",
       "</table>\n",
       "<p>4961 rows × 133 columns</p>\n",
       "</div>"
      ],
      "text/plain": [
       "      itching  skin_rash  nodal_skin_eruptions  continuous_sneezing  \\\n",
       "0           1          1                     1                    0   \n",
       "1           0          1                     1                    0   \n",
       "2           1          0                     1                    0   \n",
       "3           1          1                     0                    0   \n",
       "4           1          1                     1                    0   \n",
       "...       ...        ...                   ...                  ...   \n",
       "4956        0          0                     0                    0   \n",
       "4957        0          1                     0                    0   \n",
       "4958        0          0                     0                    0   \n",
       "4959        0          1                     0                    0   \n",
       "4960        0          1                     0                    0   \n",
       "\n",
       "      shivering  chills  joint_pain  stomach_pain  acidity  ulcers_on_tongue  \\\n",
       "0             0       0           0             0        0                 0   \n",
       "1             0       0           0             0        0                 0   \n",
       "2             0       0           0             0        0                 0   \n",
       "3             0       0           0             0        0                 0   \n",
       "4             0       0           0             0        0                 0   \n",
       "...         ...     ...         ...           ...      ...               ...   \n",
       "4956          0       0           0             0        0                 0   \n",
       "4957          0       0           0             0        0                 0   \n",
       "4958          0       0           0             0        0                 0   \n",
       "4959          0       0           1             0        0                 0   \n",
       "4960          0       0           0             0        0                 0   \n",
       "\n",
       "      ...  blackheads  scurring  skin_peeling  silver_like_dusting  \\\n",
       "0     ...           0         0             0                    0   \n",
       "1     ...           0         0             0                    0   \n",
       "2     ...           0         0             0                    0   \n",
       "3     ...           0         0             0                    0   \n",
       "4     ...           0         0             0                    0   \n",
       "...   ...         ...       ...           ...                  ...   \n",
       "4956  ...           0         0             0                    0   \n",
       "4957  ...           1         1             0                    0   \n",
       "4958  ...           0         0             0                    0   \n",
       "4959  ...           0         0             1                    1   \n",
       "4960  ...           0         0             0                    0   \n",
       "\n",
       "      small_dents_in_nails  inflammatory_nails  blister  red_sore_around_nose  \\\n",
       "0                        0                   0        0                     0   \n",
       "1                        0                   0        0                     0   \n",
       "2                        0                   0        0                     0   \n",
       "3                        0                   0        0                     0   \n",
       "4                        0                   0        0                     0   \n",
       "...                    ...                 ...      ...                   ...   \n",
       "4956                     0                   0        0                     0   \n",
       "4957                     0                   0        0                     0   \n",
       "4958                     0                   0        0                     0   \n",
       "4959                     1                   1        0                     0   \n",
       "4960                     0                   0        1                     1   \n",
       "\n",
       "      yellow_crust_ooze                                prognosis  \n",
       "0                     0                         Fungal infection  \n",
       "1                     0                         Fungal infection  \n",
       "2                     0                         Fungal infection  \n",
       "3                     0                         Fungal infection  \n",
       "4                     0                         Fungal infection  \n",
       "...                 ...                                      ...  \n",
       "4956                  0  (vertigo) Paroymsal  Positional Vertigo  \n",
       "4957                  0                                     Acne  \n",
       "4958                  0                  Urinary tract infection  \n",
       "4959                  0                                Psoriasis  \n",
       "4960                  1                                 Impetigo  \n",
       "\n",
       "[4961 rows x 133 columns]"
      ]
     },
     "execution_count": 5,
     "metadata": {},
     "output_type": "execute_result"
    }
   ],
   "source": [
    "dataset = pd.read_csv('AI_dataset.csv')\n",
    "dataset"
   ]
  },
  {
   "cell_type": "markdown",
   "id": "blond-apparel",
   "metadata": {
    "hidden": true
   },
   "source": [
    "Check datatypes for our dataset."
   ]
  },
  {
   "cell_type": "code",
   "execution_count": 6,
   "id": "logical-professor",
   "metadata": {
    "ExecuteTime": {
     "end_time": "2021-05-14T01:09:46.876227Z",
     "start_time": "2021-05-14T01:09:46.737462Z"
    },
    "hidden": true
   },
   "outputs": [
    {
     "data": {
      "text/plain": [
       "itching                  int64\n",
       "skin_rash                int64\n",
       "nodal_skin_eruptions     int64\n",
       "continuous_sneezing      int64\n",
       "shivering                int64\n",
       "                         ...  \n",
       "inflammatory_nails       int64\n",
       "blister                  int64\n",
       "red_sore_around_nose     int64\n",
       "yellow_crust_ooze        int64\n",
       "prognosis               object\n",
       "Length: 133, dtype: object"
      ]
     },
     "execution_count": 6,
     "metadata": {},
     "output_type": "execute_result"
    }
   ],
   "source": [
    "dataset.dtypes"
   ]
  },
  {
   "cell_type": "code",
   "execution_count": 7,
   "id": "persistent-medicaid",
   "metadata": {
    "ExecuteTime": {
     "end_time": "2021-05-14T01:09:47.026345Z",
     "start_time": "2021-05-14T01:09:46.877214Z"
    },
    "hidden": true
   },
   "outputs": [
    {
     "data": {
      "text/plain": [
       "(4961, 133)"
      ]
     },
     "execution_count": 7,
     "metadata": {},
     "output_type": "execute_result"
    }
   ],
   "source": [
    "dataset.shape"
   ]
  },
  {
   "cell_type": "markdown",
   "id": "intermediate-keeping",
   "metadata": {
    "hidden": true
   },
   "source": [
    "We check the dataset for duplicates and remove all duplicate instances."
   ]
  },
  {
   "cell_type": "code",
   "execution_count": 8,
   "id": "complimentary-surprise",
   "metadata": {
    "ExecuteTime": {
     "end_time": "2021-05-14T01:09:47.240176Z",
     "start_time": "2021-05-14T01:09:47.028340Z"
    },
    "hidden": true
   },
   "outputs": [],
   "source": [
    "dataset.drop_duplicates(keep='first',inplace=True)"
   ]
  },
  {
   "cell_type": "code",
   "execution_count": 9,
   "id": "professional-arrangement",
   "metadata": {
    "ExecuteTime": {
     "end_time": "2021-05-14T01:09:47.380093Z",
     "start_time": "2021-05-14T01:09:47.242081Z"
    },
    "hidden": true
   },
   "outputs": [
    {
     "data": {
      "text/plain": [
       "(304, 133)"
      ]
     },
     "execution_count": 9,
     "metadata": {},
     "output_type": "execute_result"
    }
   ],
   "source": [
    "dataset.shape"
   ]
  },
  {
   "cell_type": "markdown",
   "id": "organized-mayor",
   "metadata": {
    "hidden": true
   },
   "source": [
    "Check that the dataset is balanced."
   ]
  },
  {
   "cell_type": "code",
   "execution_count": 10,
   "id": "medical-cream",
   "metadata": {
    "ExecuteTime": {
     "end_time": "2021-05-14T01:09:47.535822Z",
     "start_time": "2021-05-14T01:09:47.381054Z"
    },
    "hidden": true
   },
   "outputs": [
    {
     "data": {
      "text/plain": [
       "Hepatitis D                                10\n",
       "Migraine                                   10\n",
       "Dengue                                     10\n",
       "Chicken pox                                10\n",
       "Hepatitis B                                 9\n",
       "Diabetes                                    9\n",
       "Common Cold                                 9\n",
       "hepatitis A                                 9\n",
       "Hyperthyroidism                             9\n",
       "Typhoid                                     9\n",
       "Hepatitis E                                 9\n",
       "Tuberculosis                                9\n",
       "Jaundice                                    9\n",
       "Hypoglycemia                                9\n",
       "Pneumonia                                   9\n",
       "Chronic cholestasis                         8\n",
       "Hypothyroidism                              8\n",
       "Malaria                                     8\n",
       "Alcoholic hepatitis                         8\n",
       "Varicose veins                              8\n",
       "Osteoarthristis                             7\n",
       "(vertigo) Paroymsal  Positional Vertigo     7\n",
       "Psoriasis                                   7\n",
       "Peptic ulcer diseae                         7\n",
       "GERD                                        7\n",
       "Bronchial Asthma                            7\n",
       "Hepatitis C                                 7\n",
       "Dimorphic hemmorhoids(piles)                6\n",
       "Cervical spondylosis                        6\n",
       "Arthritis                                   6\n",
       "Hypertension                                6\n",
       "Impetigo                                    6\n",
       "Drug Reaction                               6\n",
       "Urinary tract infection                     5\n",
       "Fungal infection                            5\n",
       "AIDS                                        5\n",
       "Acne                                        5\n",
       "Heart attack                                5\n",
       "Paralysis (brain hemorrhage)                5\n",
       "Gastroenteritis                             5\n",
       "Allergy                                     5\n",
       "Name: prognosis, dtype: int64"
      ]
     },
     "execution_count": 10,
     "metadata": {},
     "output_type": "execute_result"
    }
   ],
   "source": [
    "dataset['prognosis'].value_counts()"
   ]
  },
  {
   "cell_type": "markdown",
   "id": "outstanding-browse",
   "metadata": {
    "hidden": true
   },
   "source": [
    "Convert dataset to a numpy array."
   ]
  },
  {
   "cell_type": "code",
   "execution_count": 11,
   "id": "characteristic-india",
   "metadata": {
    "ExecuteTime": {
     "end_time": "2021-05-14T01:09:47.674718Z",
     "start_time": "2021-05-14T01:09:47.536818Z"
    },
    "hidden": true
   },
   "outputs": [
    {
     "data": {
      "text/plain": [
       "array([[1, 1, 1, ..., 0, 0, 'Fungal infection'],\n",
       "       [0, 1, 1, ..., 0, 0, 'Fungal infection'],\n",
       "       [1, 0, 1, ..., 0, 0, 'Fungal infection'],\n",
       "       ...,\n",
       "       [0, 1, 0, ..., 1, 1, 'Impetigo'],\n",
       "       [0, 1, 0, ..., 0, 1, 'Impetigo'],\n",
       "       [0, 1, 0, ..., 1, 0, 'Impetigo']], dtype=object)"
      ]
     },
     "execution_count": 11,
     "metadata": {},
     "output_type": "execute_result"
    }
   ],
   "source": [
    "ds = dataset.to_numpy()\n",
    "ds"
   ]
  },
  {
   "cell_type": "markdown",
   "id": "removed-doubt",
   "metadata": {
    "hidden": true
   },
   "source": [
    "Take all but last column as input."
   ]
  },
  {
   "cell_type": "code",
   "execution_count": 12,
   "id": "protected-operation",
   "metadata": {
    "ExecuteTime": {
     "end_time": "2021-05-14T01:09:47.815615Z",
     "start_time": "2021-05-14T01:09:47.675713Z"
    },
    "hidden": true
   },
   "outputs": [
    {
     "data": {
      "text/plain": [
       "array([[1, 1, 1, ..., 0, 0, 0],\n",
       "       [0, 1, 1, ..., 0, 0, 0],\n",
       "       [1, 0, 1, ..., 0, 0, 0],\n",
       "       ...,\n",
       "       [0, 1, 0, ..., 0, 1, 1],\n",
       "       [0, 1, 0, ..., 1, 0, 1],\n",
       "       [0, 1, 0, ..., 1, 1, 0]])"
      ]
     },
     "execution_count": 12,
     "metadata": {},
     "output_type": "execute_result"
    }
   ],
   "source": [
    "X = ds[:,:-1]\n",
    "X = X.astype(np.int)\n",
    "X"
   ]
  },
  {
   "cell_type": "markdown",
   "id": "voluntary-reducing",
   "metadata": {
    "hidden": true
   },
   "source": [
    "Take final column as output."
   ]
  },
  {
   "cell_type": "code",
   "execution_count": 13,
   "id": "medium-centre",
   "metadata": {
    "ExecuteTime": {
     "end_time": "2021-05-14T01:09:47.972564Z",
     "start_time": "2021-05-14T01:09:47.816612Z"
    },
    "hidden": true
   },
   "outputs": [
    {
     "data": {
      "text/plain": [
       "array(['Fungal infection', 'Fungal infection', 'Fungal infection',\n",
       "       'Fungal infection', 'Fungal infection', 'Allergy', 'Allergy',\n",
       "       'Allergy', 'Allergy', 'Allergy', 'GERD', 'GERD', 'GERD', 'GERD',\n",
       "       'GERD', 'GERD', 'GERD', 'Chronic cholestasis',\n",
       "       'Chronic cholestasis', 'Chronic cholestasis',\n",
       "       'Chronic cholestasis', 'Chronic cholestasis',\n",
       "       'Chronic cholestasis', 'Chronic cholestasis',\n",
       "       'Chronic cholestasis', 'Drug Reaction', 'Drug Reaction',\n",
       "       'Drug Reaction', 'Drug Reaction', 'Drug Reaction', 'Drug Reaction',\n",
       "       'Peptic ulcer diseae', 'Peptic ulcer diseae',\n",
       "       'Peptic ulcer diseae', 'Peptic ulcer diseae',\n",
       "       'Peptic ulcer diseae', 'Peptic ulcer diseae',\n",
       "       'Peptic ulcer diseae', 'AIDS', 'AIDS', 'AIDS', 'AIDS', 'AIDS',\n",
       "       'Diabetes ', 'Diabetes ', 'Diabetes ', 'Diabetes ', 'Diabetes ',\n",
       "       'Diabetes ', 'Diabetes ', 'Diabetes ', 'Diabetes ',\n",
       "       'Gastroenteritis', 'Gastroenteritis', 'Gastroenteritis',\n",
       "       'Gastroenteritis', 'Gastroenteritis', 'Bronchial Asthma',\n",
       "       'Bronchial Asthma', 'Bronchial Asthma', 'Bronchial Asthma',\n",
       "       'Bronchial Asthma', 'Bronchial Asthma', 'Bronchial Asthma',\n",
       "       'Hypertension ', 'Hypertension ', 'Hypertension ', 'Hypertension ',\n",
       "       'Hypertension ', 'Hypertension ', 'Migraine', 'Migraine',\n",
       "       'Migraine', 'Migraine', 'Migraine', 'Migraine', 'Migraine',\n",
       "       'Migraine', 'Migraine', 'Migraine', 'Cervical spondylosis',\n",
       "       'Cervical spondylosis', 'Cervical spondylosis',\n",
       "       'Cervical spondylosis', 'Cervical spondylosis',\n",
       "       'Cervical spondylosis', 'Paralysis (brain hemorrhage)',\n",
       "       'Paralysis (brain hemorrhage)', 'Paralysis (brain hemorrhage)',\n",
       "       'Paralysis (brain hemorrhage)', 'Paralysis (brain hemorrhage)',\n",
       "       'Jaundice', 'Jaundice', 'Jaundice', 'Jaundice', 'Jaundice',\n",
       "       'Jaundice', 'Jaundice', 'Jaundice', 'Jaundice', 'Malaria',\n",
       "       'Malaria', 'Malaria', 'Malaria', 'Malaria', 'Malaria', 'Malaria',\n",
       "       'Malaria', 'Chicken pox', 'Chicken pox', 'Chicken pox',\n",
       "       'Chicken pox', 'Chicken pox', 'Chicken pox', 'Chicken pox',\n",
       "       'Chicken pox', 'Chicken pox', 'Chicken pox', 'Dengue', 'Dengue',\n",
       "       'Dengue', 'Dengue', 'Dengue', 'Dengue', 'Dengue', 'Dengue',\n",
       "       'Dengue', 'Dengue', 'Typhoid', 'Typhoid', 'Typhoid', 'Typhoid',\n",
       "       'Typhoid', 'Typhoid', 'Typhoid', 'Typhoid', 'Typhoid',\n",
       "       'hepatitis A', 'hepatitis A', 'hepatitis A', 'hepatitis A',\n",
       "       'hepatitis A', 'hepatitis A', 'hepatitis A', 'hepatitis A',\n",
       "       'hepatitis A', 'Hepatitis B', 'Hepatitis B', 'Hepatitis B',\n",
       "       'Hepatitis B', 'Hepatitis B', 'Hepatitis B', 'Hepatitis B',\n",
       "       'Hepatitis B', 'Hepatitis B', 'Hepatitis C', 'Hepatitis C',\n",
       "       'Hepatitis C', 'Hepatitis C', 'Hepatitis C', 'Hepatitis C',\n",
       "       'Hepatitis C', 'Hepatitis D', 'Hepatitis D', 'Hepatitis D',\n",
       "       'Hepatitis D', 'Hepatitis D', 'Hepatitis D', 'Hepatitis D',\n",
       "       'Hepatitis D', 'Hepatitis D', 'Hepatitis D', 'Hepatitis E',\n",
       "       'Hepatitis E', 'Hepatitis E', 'Hepatitis E', 'Hepatitis E',\n",
       "       'Hepatitis E', 'Hepatitis E', 'Hepatitis E', 'Hepatitis E',\n",
       "       'Alcoholic hepatitis', 'Alcoholic hepatitis',\n",
       "       'Alcoholic hepatitis', 'Alcoholic hepatitis',\n",
       "       'Alcoholic hepatitis', 'Alcoholic hepatitis',\n",
       "       'Alcoholic hepatitis', 'Alcoholic hepatitis', 'Tuberculosis',\n",
       "       'Tuberculosis', 'Tuberculosis', 'Tuberculosis', 'Tuberculosis',\n",
       "       'Tuberculosis', 'Tuberculosis', 'Tuberculosis', 'Tuberculosis',\n",
       "       'Common Cold', 'Common Cold', 'Common Cold', 'Common Cold',\n",
       "       'Common Cold', 'Common Cold', 'Common Cold', 'Common Cold',\n",
       "       'Common Cold', 'Pneumonia', 'Pneumonia', 'Pneumonia', 'Pneumonia',\n",
       "       'Pneumonia', 'Pneumonia', 'Pneumonia', 'Pneumonia', 'Pneumonia',\n",
       "       'Dimorphic hemmorhoids(piles)', 'Dimorphic hemmorhoids(piles)',\n",
       "       'Dimorphic hemmorhoids(piles)', 'Dimorphic hemmorhoids(piles)',\n",
       "       'Dimorphic hemmorhoids(piles)', 'Dimorphic hemmorhoids(piles)',\n",
       "       'Heart attack', 'Heart attack', 'Heart attack', 'Heart attack',\n",
       "       'Heart attack', 'Varicose veins', 'Varicose veins',\n",
       "       'Varicose veins', 'Varicose veins', 'Varicose veins',\n",
       "       'Varicose veins', 'Varicose veins', 'Varicose veins',\n",
       "       'Hypothyroidism', 'Hypothyroidism', 'Hypothyroidism',\n",
       "       'Hypothyroidism', 'Hypothyroidism', 'Hypothyroidism',\n",
       "       'Hypothyroidism', 'Hypothyroidism', 'Hyperthyroidism',\n",
       "       'Hyperthyroidism', 'Hyperthyroidism', 'Hyperthyroidism',\n",
       "       'Hyperthyroidism', 'Hyperthyroidism', 'Hyperthyroidism',\n",
       "       'Hyperthyroidism', 'Hyperthyroidism', 'Hypoglycemia',\n",
       "       'Hypoglycemia', 'Hypoglycemia', 'Hypoglycemia', 'Hypoglycemia',\n",
       "       'Hypoglycemia', 'Hypoglycemia', 'Hypoglycemia', 'Hypoglycemia',\n",
       "       'Osteoarthristis', 'Osteoarthristis', 'Osteoarthristis',\n",
       "       'Osteoarthristis', 'Osteoarthristis', 'Osteoarthristis',\n",
       "       'Osteoarthristis', 'Arthritis', 'Arthritis', 'Arthritis',\n",
       "       'Arthritis', 'Arthritis', 'Arthritis',\n",
       "       '(vertigo) Paroymsal  Positional Vertigo',\n",
       "       '(vertigo) Paroymsal  Positional Vertigo',\n",
       "       '(vertigo) Paroymsal  Positional Vertigo',\n",
       "       '(vertigo) Paroymsal  Positional Vertigo',\n",
       "       '(vertigo) Paroymsal  Positional Vertigo',\n",
       "       '(vertigo) Paroymsal  Positional Vertigo',\n",
       "       '(vertigo) Paroymsal  Positional Vertigo', 'Acne', 'Acne', 'Acne',\n",
       "       'Acne', 'Acne', 'Urinary tract infection',\n",
       "       'Urinary tract infection', 'Urinary tract infection',\n",
       "       'Urinary tract infection', 'Urinary tract infection', 'Psoriasis',\n",
       "       'Psoriasis', 'Psoriasis', 'Psoriasis', 'Psoriasis', 'Psoriasis',\n",
       "       'Psoriasis', 'Impetigo', 'Impetigo', 'Impetigo', 'Impetigo',\n",
       "       'Impetigo', 'Impetigo'], dtype=object)"
      ]
     },
     "execution_count": 13,
     "metadata": {},
     "output_type": "execute_result"
    }
   ],
   "source": [
    "y = ds[:,-1]\n",
    "y"
   ]
  },
  {
   "cell_type": "markdown",
   "id": "efficient-robert",
   "metadata": {
    "hidden": true
   },
   "source": [
    "Create dictionary to convert class to index and vice versa."
   ]
  },
  {
   "cell_type": "code",
   "execution_count": 14,
   "id": "spectacular-twist",
   "metadata": {
    "ExecuteTime": {
     "end_time": "2021-05-14T01:09:48.113732Z",
     "start_time": "2021-05-14T01:09:47.973562Z"
    },
    "hidden": true
   },
   "outputs": [
    {
     "data": {
      "text/plain": [
       "{'Fungal infection': 0,\n",
       " 'Allergy': 1,\n",
       " 'GERD': 2,\n",
       " 'Chronic cholestasis': 3,\n",
       " 'Drug Reaction': 4,\n",
       " 'Peptic ulcer diseae': 5,\n",
       " 'AIDS': 6,\n",
       " 'Diabetes ': 7,\n",
       " 'Gastroenteritis': 8,\n",
       " 'Bronchial Asthma': 9,\n",
       " 'Hypertension ': 10,\n",
       " 'Migraine': 11,\n",
       " 'Cervical spondylosis': 12,\n",
       " 'Paralysis (brain hemorrhage)': 13,\n",
       " 'Jaundice': 14,\n",
       " 'Malaria': 15,\n",
       " 'Chicken pox': 16,\n",
       " 'Dengue': 17,\n",
       " 'Typhoid': 18,\n",
       " 'hepatitis A': 19,\n",
       " 'Hepatitis B': 20,\n",
       " 'Hepatitis C': 21,\n",
       " 'Hepatitis D': 22,\n",
       " 'Hepatitis E': 23,\n",
       " 'Alcoholic hepatitis': 24,\n",
       " 'Tuberculosis': 25,\n",
       " 'Common Cold': 26,\n",
       " 'Pneumonia': 27,\n",
       " 'Dimorphic hemmorhoids(piles)': 28,\n",
       " 'Heart attack': 29,\n",
       " 'Varicose veins': 30,\n",
       " 'Hypothyroidism': 31,\n",
       " 'Hyperthyroidism': 32,\n",
       " 'Hypoglycemia': 33,\n",
       " 'Osteoarthristis': 34,\n",
       " 'Arthritis': 35,\n",
       " '(vertigo) Paroymsal  Positional Vertigo': 36,\n",
       " 'Acne': 37,\n",
       " 'Urinary tract infection': 38,\n",
       " 'Psoriasis': 39,\n",
       " 'Impetigo': 40}"
      ]
     },
     "execution_count": 14,
     "metadata": {},
     "output_type": "execute_result"
    }
   ],
   "source": [
    "i2c = dataset.prognosis.unique()\n",
    "c2i = {k:v for v,k in enumerate(i2c)}\n",
    "c2i"
   ]
  },
  {
   "cell_type": "markdown",
   "id": "architectural-cancer",
   "metadata": {
    "hidden": true
   },
   "source": [
    "Check number of output classes."
   ]
  },
  {
   "cell_type": "code",
   "execution_count": 15,
   "id": "rapid-complement",
   "metadata": {
    "ExecuteTime": {
     "end_time": "2021-05-14T01:09:48.268736Z",
     "start_time": "2021-05-14T01:09:48.114692Z"
    },
    "hidden": true,
    "scrolled": true
   },
   "outputs": [
    {
     "data": {
      "text/plain": [
       "41"
      ]
     },
     "execution_count": 15,
     "metadata": {},
     "output_type": "execute_result"
    }
   ],
   "source": [
    "num_classes = len(c2i)\n",
    "num_classes"
   ]
  },
  {
   "cell_type": "markdown",
   "id": "vital-bulgarian",
   "metadata": {
    "hidden": true
   },
   "source": [
    "Convert output array to indeces from class names."
   ]
  },
  {
   "cell_type": "code",
   "execution_count": 16,
   "id": "substantial-movie",
   "metadata": {
    "ExecuteTime": {
     "end_time": "2021-05-14T01:09:48.424739Z",
     "start_time": "2021-05-14T01:09:48.270729Z"
    },
    "hidden": true
   },
   "outputs": [],
   "source": [
    "i = 0\n",
    "\n",
    "for j in y:\n",
    "    y[i] = c2i[j]\n",
    "    i += 1"
   ]
  },
  {
   "cell_type": "code",
   "execution_count": 17,
   "id": "advance-latvia",
   "metadata": {
    "ExecuteTime": {
     "end_time": "2021-05-14T01:09:48.564926Z",
     "start_time": "2021-05-14T01:09:48.426732Z"
    },
    "hidden": true
   },
   "outputs": [
    {
     "data": {
      "text/plain": [
       "array([0, 0, 0, 0, 0, 1, 1, 1, 1, 1, 2, 2, 2, 2, 2, 2, 2, 3, 3, 3, 3, 3,\n",
       "       3, 3, 3, 4, 4, 4, 4, 4, 4, 5, 5, 5, 5, 5, 5, 5, 6, 6, 6, 6, 6, 7,\n",
       "       7, 7, 7, 7, 7, 7, 7, 7, 8, 8, 8, 8, 8, 9, 9, 9, 9, 9, 9, 9, 10, 10,\n",
       "       10, 10, 10, 10, 11, 11, 11, 11, 11, 11, 11, 11, 11, 11, 12, 12, 12,\n",
       "       12, 12, 12, 13, 13, 13, 13, 13, 14, 14, 14, 14, 14, 14, 14, 14, 14,\n",
       "       15, 15, 15, 15, 15, 15, 15, 15, 16, 16, 16, 16, 16, 16, 16, 16, 16,\n",
       "       16, 17, 17, 17, 17, 17, 17, 17, 17, 17, 17, 18, 18, 18, 18, 18, 18,\n",
       "       18, 18, 18, 19, 19, 19, 19, 19, 19, 19, 19, 19, 20, 20, 20, 20, 20,\n",
       "       20, 20, 20, 20, 21, 21, 21, 21, 21, 21, 21, 22, 22, 22, 22, 22, 22,\n",
       "       22, 22, 22, 22, 23, 23, 23, 23, 23, 23, 23, 23, 23, 24, 24, 24, 24,\n",
       "       24, 24, 24, 24, 25, 25, 25, 25, 25, 25, 25, 25, 25, 26, 26, 26, 26,\n",
       "       26, 26, 26, 26, 26, 27, 27, 27, 27, 27, 27, 27, 27, 27, 28, 28, 28,\n",
       "       28, 28, 28, 29, 29, 29, 29, 29, 30, 30, 30, 30, 30, 30, 30, 30, 31,\n",
       "       31, 31, 31, 31, 31, 31, 31, 32, 32, 32, 32, 32, 32, 32, 32, 32, 33,\n",
       "       33, 33, 33, 33, 33, 33, 33, 33, 34, 34, 34, 34, 34, 34, 34, 35, 35,\n",
       "       35, 35, 35, 35, 36, 36, 36, 36, 36, 36, 36, 37, 37, 37, 37, 37, 38,\n",
       "       38, 38, 38, 38, 39, 39, 39, 39, 39, 39, 39, 40, 40, 40, 40, 40, 40],\n",
       "      dtype=object)"
      ]
     },
     "execution_count": 17,
     "metadata": {},
     "output_type": "execute_result"
    }
   ],
   "source": [
    "y"
   ]
  },
  {
   "cell_type": "markdown",
   "id": "geological-eight",
   "metadata": {
    "hidden": true
   },
   "source": [
    "Convert output array to integer from object class."
   ]
  },
  {
   "cell_type": "code",
   "execution_count": 18,
   "id": "varied-judges",
   "metadata": {
    "ExecuteTime": {
     "end_time": "2021-05-14T01:09:48.706053Z",
     "start_time": "2021-05-14T01:09:48.565890Z"
    },
    "hidden": true
   },
   "outputs": [
    {
     "data": {
      "text/plain": [
       "array([ 0,  0,  0,  0,  0,  1,  1,  1,  1,  1,  2,  2,  2,  2,  2,  2,  2,\n",
       "        3,  3,  3,  3,  3,  3,  3,  3,  4,  4,  4,  4,  4,  4,  5,  5,  5,\n",
       "        5,  5,  5,  5,  6,  6,  6,  6,  6,  7,  7,  7,  7,  7,  7,  7,  7,\n",
       "        7,  8,  8,  8,  8,  8,  9,  9,  9,  9,  9,  9,  9, 10, 10, 10, 10,\n",
       "       10, 10, 11, 11, 11, 11, 11, 11, 11, 11, 11, 11, 12, 12, 12, 12, 12,\n",
       "       12, 13, 13, 13, 13, 13, 14, 14, 14, 14, 14, 14, 14, 14, 14, 15, 15,\n",
       "       15, 15, 15, 15, 15, 15, 16, 16, 16, 16, 16, 16, 16, 16, 16, 16, 17,\n",
       "       17, 17, 17, 17, 17, 17, 17, 17, 17, 18, 18, 18, 18, 18, 18, 18, 18,\n",
       "       18, 19, 19, 19, 19, 19, 19, 19, 19, 19, 20, 20, 20, 20, 20, 20, 20,\n",
       "       20, 20, 21, 21, 21, 21, 21, 21, 21, 22, 22, 22, 22, 22, 22, 22, 22,\n",
       "       22, 22, 23, 23, 23, 23, 23, 23, 23, 23, 23, 24, 24, 24, 24, 24, 24,\n",
       "       24, 24, 25, 25, 25, 25, 25, 25, 25, 25, 25, 26, 26, 26, 26, 26, 26,\n",
       "       26, 26, 26, 27, 27, 27, 27, 27, 27, 27, 27, 27, 28, 28, 28, 28, 28,\n",
       "       28, 29, 29, 29, 29, 29, 30, 30, 30, 30, 30, 30, 30, 30, 31, 31, 31,\n",
       "       31, 31, 31, 31, 31, 32, 32, 32, 32, 32, 32, 32, 32, 32, 33, 33, 33,\n",
       "       33, 33, 33, 33, 33, 33, 34, 34, 34, 34, 34, 34, 34, 35, 35, 35, 35,\n",
       "       35, 35, 36, 36, 36, 36, 36, 36, 36, 37, 37, 37, 37, 37, 38, 38, 38,\n",
       "       38, 38, 39, 39, 39, 39, 39, 39, 39, 40, 40, 40, 40, 40, 40])"
      ]
     },
     "execution_count": 18,
     "metadata": {},
     "output_type": "execute_result"
    }
   ],
   "source": [
    "y = y.astype(np.int)\n",
    "y"
   ]
  },
  {
   "cell_type": "markdown",
   "id": "continental-reasoning",
   "metadata": {
    "hidden": true
   },
   "source": [
    "Show conversion of output array with integer to class (i2c) list."
   ]
  },
  {
   "cell_type": "code",
   "execution_count": 19,
   "id": "statewide-techno",
   "metadata": {
    "ExecuteTime": {
     "end_time": "2021-05-14T01:09:48.845959Z",
     "start_time": "2021-05-14T01:09:48.707049Z"
    },
    "hidden": true
   },
   "outputs": [
    {
     "data": {
      "text/plain": [
       "array(['Fungal infection', 'Fungal infection', 'Fungal infection',\n",
       "       'Fungal infection', 'Fungal infection', 'Allergy', 'Allergy',\n",
       "       'Allergy', 'Allergy', 'Allergy', 'GERD', 'GERD', 'GERD', 'GERD',\n",
       "       'GERD', 'GERD', 'GERD', 'Chronic cholestasis',\n",
       "       'Chronic cholestasis', 'Chronic cholestasis',\n",
       "       'Chronic cholestasis', 'Chronic cholestasis',\n",
       "       'Chronic cholestasis', 'Chronic cholestasis',\n",
       "       'Chronic cholestasis', 'Drug Reaction', 'Drug Reaction',\n",
       "       'Drug Reaction', 'Drug Reaction', 'Drug Reaction', 'Drug Reaction',\n",
       "       'Peptic ulcer diseae', 'Peptic ulcer diseae',\n",
       "       'Peptic ulcer diseae', 'Peptic ulcer diseae',\n",
       "       'Peptic ulcer diseae', 'Peptic ulcer diseae',\n",
       "       'Peptic ulcer diseae', 'AIDS', 'AIDS', 'AIDS', 'AIDS', 'AIDS',\n",
       "       'Diabetes ', 'Diabetes ', 'Diabetes ', 'Diabetes ', 'Diabetes ',\n",
       "       'Diabetes ', 'Diabetes ', 'Diabetes ', 'Diabetes ',\n",
       "       'Gastroenteritis', 'Gastroenteritis', 'Gastroenteritis',\n",
       "       'Gastroenteritis', 'Gastroenteritis', 'Bronchial Asthma',\n",
       "       'Bronchial Asthma', 'Bronchial Asthma', 'Bronchial Asthma',\n",
       "       'Bronchial Asthma', 'Bronchial Asthma', 'Bronchial Asthma',\n",
       "       'Hypertension ', 'Hypertension ', 'Hypertension ', 'Hypertension ',\n",
       "       'Hypertension ', 'Hypertension ', 'Migraine', 'Migraine',\n",
       "       'Migraine', 'Migraine', 'Migraine', 'Migraine', 'Migraine',\n",
       "       'Migraine', 'Migraine', 'Migraine', 'Cervical spondylosis',\n",
       "       'Cervical spondylosis', 'Cervical spondylosis',\n",
       "       'Cervical spondylosis', 'Cervical spondylosis',\n",
       "       'Cervical spondylosis', 'Paralysis (brain hemorrhage)',\n",
       "       'Paralysis (brain hemorrhage)', 'Paralysis (brain hemorrhage)',\n",
       "       'Paralysis (brain hemorrhage)', 'Paralysis (brain hemorrhage)',\n",
       "       'Jaundice', 'Jaundice', 'Jaundice', 'Jaundice', 'Jaundice',\n",
       "       'Jaundice', 'Jaundice', 'Jaundice', 'Jaundice', 'Malaria',\n",
       "       'Malaria', 'Malaria', 'Malaria', 'Malaria', 'Malaria', 'Malaria',\n",
       "       'Malaria', 'Chicken pox', 'Chicken pox', 'Chicken pox',\n",
       "       'Chicken pox', 'Chicken pox', 'Chicken pox', 'Chicken pox',\n",
       "       'Chicken pox', 'Chicken pox', 'Chicken pox', 'Dengue', 'Dengue',\n",
       "       'Dengue', 'Dengue', 'Dengue', 'Dengue', 'Dengue', 'Dengue',\n",
       "       'Dengue', 'Dengue', 'Typhoid', 'Typhoid', 'Typhoid', 'Typhoid',\n",
       "       'Typhoid', 'Typhoid', 'Typhoid', 'Typhoid', 'Typhoid',\n",
       "       'hepatitis A', 'hepatitis A', 'hepatitis A', 'hepatitis A',\n",
       "       'hepatitis A', 'hepatitis A', 'hepatitis A', 'hepatitis A',\n",
       "       'hepatitis A', 'Hepatitis B', 'Hepatitis B', 'Hepatitis B',\n",
       "       'Hepatitis B', 'Hepatitis B', 'Hepatitis B', 'Hepatitis B',\n",
       "       'Hepatitis B', 'Hepatitis B', 'Hepatitis C', 'Hepatitis C',\n",
       "       'Hepatitis C', 'Hepatitis C', 'Hepatitis C', 'Hepatitis C',\n",
       "       'Hepatitis C', 'Hepatitis D', 'Hepatitis D', 'Hepatitis D',\n",
       "       'Hepatitis D', 'Hepatitis D', 'Hepatitis D', 'Hepatitis D',\n",
       "       'Hepatitis D', 'Hepatitis D', 'Hepatitis D', 'Hepatitis E',\n",
       "       'Hepatitis E', 'Hepatitis E', 'Hepatitis E', 'Hepatitis E',\n",
       "       'Hepatitis E', 'Hepatitis E', 'Hepatitis E', 'Hepatitis E',\n",
       "       'Alcoholic hepatitis', 'Alcoholic hepatitis',\n",
       "       'Alcoholic hepatitis', 'Alcoholic hepatitis',\n",
       "       'Alcoholic hepatitis', 'Alcoholic hepatitis',\n",
       "       'Alcoholic hepatitis', 'Alcoholic hepatitis', 'Tuberculosis',\n",
       "       'Tuberculosis', 'Tuberculosis', 'Tuberculosis', 'Tuberculosis',\n",
       "       'Tuberculosis', 'Tuberculosis', 'Tuberculosis', 'Tuberculosis',\n",
       "       'Common Cold', 'Common Cold', 'Common Cold', 'Common Cold',\n",
       "       'Common Cold', 'Common Cold', 'Common Cold', 'Common Cold',\n",
       "       'Common Cold', 'Pneumonia', 'Pneumonia', 'Pneumonia', 'Pneumonia',\n",
       "       'Pneumonia', 'Pneumonia', 'Pneumonia', 'Pneumonia', 'Pneumonia',\n",
       "       'Dimorphic hemmorhoids(piles)', 'Dimorphic hemmorhoids(piles)',\n",
       "       'Dimorphic hemmorhoids(piles)', 'Dimorphic hemmorhoids(piles)',\n",
       "       'Dimorphic hemmorhoids(piles)', 'Dimorphic hemmorhoids(piles)',\n",
       "       'Heart attack', 'Heart attack', 'Heart attack', 'Heart attack',\n",
       "       'Heart attack', 'Varicose veins', 'Varicose veins',\n",
       "       'Varicose veins', 'Varicose veins', 'Varicose veins',\n",
       "       'Varicose veins', 'Varicose veins', 'Varicose veins',\n",
       "       'Hypothyroidism', 'Hypothyroidism', 'Hypothyroidism',\n",
       "       'Hypothyroidism', 'Hypothyroidism', 'Hypothyroidism',\n",
       "       'Hypothyroidism', 'Hypothyroidism', 'Hyperthyroidism',\n",
       "       'Hyperthyroidism', 'Hyperthyroidism', 'Hyperthyroidism',\n",
       "       'Hyperthyroidism', 'Hyperthyroidism', 'Hyperthyroidism',\n",
       "       'Hyperthyroidism', 'Hyperthyroidism', 'Hypoglycemia',\n",
       "       'Hypoglycemia', 'Hypoglycemia', 'Hypoglycemia', 'Hypoglycemia',\n",
       "       'Hypoglycemia', 'Hypoglycemia', 'Hypoglycemia', 'Hypoglycemia',\n",
       "       'Osteoarthristis', 'Osteoarthristis', 'Osteoarthristis',\n",
       "       'Osteoarthristis', 'Osteoarthristis', 'Osteoarthristis',\n",
       "       'Osteoarthristis', 'Arthritis', 'Arthritis', 'Arthritis',\n",
       "       'Arthritis', 'Arthritis', 'Arthritis',\n",
       "       '(vertigo) Paroymsal  Positional Vertigo',\n",
       "       '(vertigo) Paroymsal  Positional Vertigo',\n",
       "       '(vertigo) Paroymsal  Positional Vertigo',\n",
       "       '(vertigo) Paroymsal  Positional Vertigo',\n",
       "       '(vertigo) Paroymsal  Positional Vertigo',\n",
       "       '(vertigo) Paroymsal  Positional Vertigo',\n",
       "       '(vertigo) Paroymsal  Positional Vertigo', 'Acne', 'Acne', 'Acne',\n",
       "       'Acne', 'Acne', 'Urinary tract infection',\n",
       "       'Urinary tract infection', 'Urinary tract infection',\n",
       "       'Urinary tract infection', 'Urinary tract infection', 'Psoriasis',\n",
       "       'Psoriasis', 'Psoriasis', 'Psoriasis', 'Psoriasis', 'Psoriasis',\n",
       "       'Psoriasis', 'Impetigo', 'Impetigo', 'Impetigo', 'Impetigo',\n",
       "       'Impetigo', 'Impetigo'], dtype=object)"
      ]
     },
     "execution_count": 19,
     "metadata": {},
     "output_type": "execute_result"
    }
   ],
   "source": [
    "i2c[y]"
   ]
  },
  {
   "cell_type": "markdown",
   "id": "ahead-moment",
   "metadata": {
    "hidden": true
   },
   "source": [
    "Check shape of our input and output"
   ]
  },
  {
   "cell_type": "code",
   "execution_count": 20,
   "id": "advisory-season",
   "metadata": {
    "ExecuteTime": {
     "end_time": "2021-05-14T01:09:48.987803Z",
     "start_time": "2021-05-14T01:09:48.846955Z"
    },
    "hidden": true
   },
   "outputs": [
    {
     "name": "stdout",
     "output_type": "stream",
     "text": [
      "(304, 132)\n",
      "(304,)\n"
     ]
    }
   ],
   "source": [
    "print(X.shape)\n",
    "print(y.shape)"
   ]
  },
  {
   "cell_type": "markdown",
   "id": "played-hunger",
   "metadata": {
    "heading_collapsed": true,
    "hidden": true
   },
   "source": [
    "### Training/validation data split"
   ]
  },
  {
   "cell_type": "markdown",
   "id": "afraid-pricing",
   "metadata": {
    "hidden": true
   },
   "source": [
    "Now we must split our data for training and validation. We will 80% of data for training and 20% for testing."
   ]
  },
  {
   "cell_type": "code",
   "execution_count": 21,
   "id": "hairy-clearance",
   "metadata": {
    "ExecuteTime": {
     "end_time": "2021-05-14T01:09:49.140703Z",
     "start_time": "2021-05-14T01:09:48.988798Z"
    },
    "hidden": true
   },
   "outputs": [],
   "source": [
    "Xtr, Xval, ytr, yval = train_test_split(X,y,test_size=0.2, random_state = seed)"
   ]
  },
  {
   "cell_type": "markdown",
   "id": "behavioral-basket",
   "metadata": {
    "hidden": true
   },
   "source": [
    "Check the shape of our training and validation sets"
   ]
  },
  {
   "cell_type": "code",
   "execution_count": 22,
   "id": "subject-ribbon",
   "metadata": {
    "ExecuteTime": {
     "end_time": "2021-05-14T01:09:49.280810Z",
     "start_time": "2021-05-14T01:09:49.141699Z"
    },
    "hidden": true
   },
   "outputs": [
    {
     "data": {
      "text/plain": [
       "((243, 132), (61, 132))"
      ]
     },
     "execution_count": 22,
     "metadata": {},
     "output_type": "execute_result"
    }
   ],
   "source": [
    "Xtr.shape, Xval.shape"
   ]
  },
  {
   "cell_type": "code",
   "execution_count": 23,
   "id": "funny-cargo",
   "metadata": {
    "ExecuteTime": {
     "end_time": "2021-05-14T01:09:49.421515Z",
     "start_time": "2021-05-14T01:09:49.284438Z"
    },
    "hidden": true
   },
   "outputs": [
    {
     "data": {
      "text/plain": [
       "((243,), (61,))"
      ]
     },
     "execution_count": 23,
     "metadata": {},
     "output_type": "execute_result"
    }
   ],
   "source": [
    "ytr.shape, yval.shape"
   ]
  },
  {
   "cell_type": "markdown",
   "id": "cross-arnold",
   "metadata": {
    "heading_collapsed": true,
    "hidden": true
   },
   "source": [
    "### PyTorch Dataset and Dataloader"
   ]
  },
  {
   "cell_type": "markdown",
   "id": "welcome-brave",
   "metadata": {
    "hidden": true
   },
   "source": [
    "Now we can create our Illness dataset using Pytorch's Dataset class."
   ]
  },
  {
   "cell_type": "code",
   "execution_count": 24,
   "id": "instructional-producer",
   "metadata": {
    "ExecuteTime": {
     "end_time": "2021-05-14T01:09:49.562046Z",
     "start_time": "2021-05-14T01:09:49.423510Z"
    },
    "hidden": true
   },
   "outputs": [],
   "source": [
    "class Illness(Dataset):\n",
    "    def __init__(self, x, y): self.x, self.y = torch.tensor(x).float(), torch.tensor(y).long()\n",
    "    def __len__(self): return len(self.x)\n",
    "    def __getitem__(self, ix): return self.x[ix], self.y[ix]"
   ]
  },
  {
   "cell_type": "markdown",
   "id": "controlled-kazakhstan",
   "metadata": {
    "hidden": true
   },
   "source": [
    "We initalise the training and validation datasets."
   ]
  },
  {
   "cell_type": "code",
   "execution_count": 25,
   "id": "violent-fluid",
   "metadata": {
    "ExecuteTime": {
     "end_time": "2021-05-14T01:09:49.762816Z",
     "start_time": "2021-05-14T01:09:49.563044Z"
    },
    "hidden": true
   },
   "outputs": [],
   "source": [
    "tr_ds  = Illness(Xtr, ytr)\n",
    "val_ds = Illness(Xval, yval)"
   ]
  },
  {
   "cell_type": "markdown",
   "id": "differential-apache",
   "metadata": {
    "hidden": true
   },
   "source": [
    "We check the length of both to see our training/validation split."
   ]
  },
  {
   "cell_type": "code",
   "execution_count": 26,
   "id": "latin-cameroon",
   "metadata": {
    "ExecuteTime": {
     "end_time": "2021-05-14T01:09:49.917227Z",
     "start_time": "2021-05-14T01:09:49.765479Z"
    },
    "hidden": true
   },
   "outputs": [
    {
     "data": {
      "text/plain": [
       "(243, 61)"
      ]
     },
     "execution_count": 26,
     "metadata": {},
     "output_type": "execute_result"
    }
   ],
   "source": [
    "len(tr_ds), len(val_ds)"
   ]
  },
  {
   "cell_type": "markdown",
   "id": "advisory-snowboard",
   "metadata": {
    "hidden": true
   },
   "source": [
    "We set our batch size with which our dataloader will deliver batches of inputs."
   ]
  },
  {
   "cell_type": "code",
   "execution_count": 27,
   "id": "divine-tuner",
   "metadata": {
    "ExecuteTime": {
     "end_time": "2021-05-14T01:09:50.057716Z",
     "start_time": "2021-05-14T01:09:49.918224Z"
    },
    "hidden": true
   },
   "outputs": [],
   "source": [
    "bs = 32"
   ]
  },
  {
   "cell_type": "markdown",
   "id": "asian-holocaust",
   "metadata": {
    "hidden": true
   },
   "source": [
    "Initialise training and validation dataloaders using Dataloader class"
   ]
  },
  {
   "cell_type": "code",
   "execution_count": 28,
   "id": "southern-concept",
   "metadata": {
    "ExecuteTime": {
     "end_time": "2021-05-14T01:09:50.205825Z",
     "start_time": "2021-05-14T01:09:50.059710Z"
    },
    "hidden": true
   },
   "outputs": [],
   "source": [
    "tr_dl  = DataLoader(tr_ds,  batch_size=bs, shuffle=True,  num_workers=0) # set num_workers to your CPU core count\n",
    "val_dl = DataLoader(val_ds, batch_size=bs*2, shuffle=False, num_workers=0)"
   ]
  },
  {
   "cell_type": "code",
   "execution_count": 29,
   "id": "studied-choir",
   "metadata": {
    "ExecuteTime": {
     "end_time": "2021-05-14T01:09:50.360621Z",
     "start_time": "2021-05-14T01:09:50.207823Z"
    },
    "hidden": true
   },
   "outputs": [],
   "source": [
    "device = torch.device('cuda' if torch.cuda.is_available() else 'cpu')"
   ]
  },
  {
   "cell_type": "markdown",
   "id": "excellent-wichita",
   "metadata": {
    "heading_collapsed": true,
    "hidden": true
   },
   "source": [
    "## Classification"
   ]
  },
  {
   "cell_type": "markdown",
   "id": "attempted-meter",
   "metadata": {
    "heading_collapsed": true,
    "hidden": true
   },
   "source": [
    "### Training Loop"
   ]
  },
  {
   "cell_type": "markdown",
   "id": "italic-raleigh",
   "metadata": {
    "hidden": true
   },
   "source": [
    "We create a function for one epoch through the dataset."
   ]
  },
  {
   "cell_type": "code",
   "execution_count": 30,
   "id": "super-diagram",
   "metadata": {
    "ExecuteTime": {
     "end_time": "2021-05-14T01:09:50.514768Z",
     "start_time": "2021-05-14T01:09:50.362625Z"
    },
    "hidden": true
   },
   "outputs": [],
   "source": [
    "def single_epoch(model, loss_function, dl, criterion=None, eval_metric=None):\n",
    "    \n",
    "    # Set algorithm to train when given an optimiser and to evaluate when not.\n",
    "    if criterion:\n",
    "        model.train()\n",
    "    else:\n",
    "        model.eval()\n",
    "    \n",
    "    # Create empty lists to save loss and evaluation metric\n",
    "    Loss, Eval_metric = [], []\n",
    "\n",
    "    # Iterate through the dataset, taking an optimisation step if an optimiser is given\n",
    "    # and recording validation accuracy if not. Recording loss at each iteration.   \n",
    "    dl_it = iter(dl)\n",
    "    for xb, yb in tqdm(dl_it, leave=False):\n",
    "        xb, yb = xb.to(device), yb.to(device)\n",
    "        y_ = model(xb)\n",
    "        loss = loss_function(y_, yb)\n",
    "        if criterion:\n",
    "            criterion.zero_grad()\n",
    "            loss.backward()\n",
    "            criterion.step()\n",
    "        Loss.append(loss.detach().cpu().numpy())\n",
    "        if eval_metric: Eval_metric.append(eval_metric(y_, yb).cpu().numpy())\n",
    "                    \n",
    "    return Loss, Eval_metric"
   ]
  },
  {
   "cell_type": "markdown",
   "id": "identical-analysis",
   "metadata": {
    "hidden": true
   },
   "source": [
    "We define our main training and validation function, plotting the training and validation loss for every epoch."
   ]
  },
  {
   "cell_type": "code",
   "execution_count": 31,
   "id": "packed-catalyst",
   "metadata": {
    "ExecuteTime": {
     "end_time": "2021-05-14T01:09:50.669692Z",
     "start_time": "2021-05-14T01:09:50.517760Z"
    },
    "hidden": true
   },
   "outputs": [],
   "source": [
    "def train_val(model, tr_dl, val_dl, criterion='Adam', loss_function=nn.CrossEntropyLoss(), epochs=5, lr=0.003, wd=0.001, plot=True):   \n",
    "    \n",
    "    # If SGD given as criterion then use SGD, otherwise use Adam\n",
    "    if criterion == 'SGD': \n",
    "        criterion = optim.SGD(model.parameters(), lr=lr, weight_decay=wd, momentum=0.9)\n",
    "    else:\n",
    "        criterion = optim.Adam(model.parameters(), lr=lr, weight_decay=wd)\n",
    "    \n",
    "    # Define our metric as accuracy to measure validation accuracy between the predicted class and the real class\n",
    "    accuracy = lambda y_,yb: (y_.max(dim=1)[1] == yb).float().mean()\n",
    "    \n",
    "    # Define empty lists which we will append losses and accuracy at each epoch\n",
    "    tr_loss, val_loss, val_acc = [], [], []\n",
    "    \n",
    "    # Run through our single_epoch function, recording losses and accuracy\n",
    "    for epoch in trange(epochs):\n",
    "        Loss_tr,  _    = single_epoch(model, loss_function, tr_dl, criterion)\n",
    "        Loss_val, Acc_val = single_epoch(model, loss_function, val_dl, None, accuracy)\n",
    "        tr_loss.append(np.mean(Loss_tr))\n",
    "        val_loss.append(np.mean(Loss_val))\n",
    "        val_acc.append(np.mean(Acc_val))\n",
    "        print(f'Epoch: {epoch+1}\\tTraining loss: {np.mean(Loss_tr):0.4f}\\tValidation loss: {np.mean(Loss_val):0.4f}\\tValidation accuracy: {np.mean(Acc_val):0.2f}')\n",
    "        \n",
    "        # Save model with best accuracy with for each model type\n",
    "        if np.mean(Acc_val) >= val_acc[-1] or len(val_acc) == 0:\n",
    "            if model == LogRegSGD:\n",
    "                PATH = f'./saved_model/LogRegSGD.pth'\n",
    "                torch.save(model.state_dict(), PATH)\n",
    "            elif model == LogReg:\n",
    "                PATH = f'./saved_model/LogReg.pth'\n",
    "                torch.save(model.state_dict(), PATH)\n",
    "            elif model == ANN_SGD:\n",
    "                PATH = f'./saved_model/ANN_SGD.pth'\n",
    "                torch.save(model.state_dict(), PATH)\n",
    "            elif model == ANN:\n",
    "                PATH = f'./saved_model/ANN.pth'\n",
    "                torch.save(model.state_dict(), PATH)\n",
    "        \n",
    "    # If plot = True, plot the training/validation losses and validation accuracy \n",
    "    if plot:\n",
    "        _,ax = plt.subplots(2,1,figsize=(16,8))\n",
    "        ax[0].plot(1+np.arange(len(tr_loss)),tr_loss)\n",
    "        ax[0].plot(1+np.arange(len(val_loss)),val_loss)\n",
    "        ax[0].grid('on')\n",
    "        ax[0].set_xlim(left=1, right=len(tr_loss))\n",
    "        ax[0].legend(['Training loss', 'Validation loss']);\n",
    "        \n",
    "        ax[1].plot(1+np.arange(len(val_acc)),val_acc)\n",
    "        ax[1].grid('on')\n",
    "        ax[1].set_xlim(left=1, right=len(val_acc))\n",
    "        ax[1].legend(['Validation Accuracy']);\n",
    "        \n",
    "    return tr_loss, val_loss"
   ]
  },
  {
   "cell_type": "markdown",
   "id": "graphic-incidence",
   "metadata": {
    "heading_collapsed": true,
    "hidden": true
   },
   "source": [
    "### Prediction Function"
   ]
  },
  {
   "cell_type": "markdown",
   "id": "proper-republican",
   "metadata": {
    "hidden": true
   },
   "source": [
    "We now create a prediction function which will take the classifier and an array of symptoms as arguments and return the prediction."
   ]
  },
  {
   "cell_type": "code",
   "execution_count": 32,
   "id": "pretty-discharge",
   "metadata": {
    "ExecuteTime": {
     "end_time": "2021-05-14T01:09:50.809271Z",
     "start_time": "2021-05-14T01:09:50.670621Z"
    },
    "hidden": true
   },
   "outputs": [],
   "source": [
    "def predict(model, symptoms):\n",
    "    symptoms = torch.as_tensor(symptoms).float().to(device)\n",
    "    prediction = model(symptoms).to(device)\n",
    "    prediction = np.argmax(prediction.detach().numpy())\n",
    "    prediction = i2c[prediction]\n",
    "    return prediction"
   ]
  },
  {
   "cell_type": "markdown",
   "id": "quiet-jacket",
   "metadata": {
    "hidden": true
   },
   "source": [
    "We can define a few test examples from the validation set to test our classifiers"
   ]
  },
  {
   "cell_type": "code",
   "execution_count": 33,
   "id": "textile-constitution",
   "metadata": {
    "ExecuteTime": {
     "end_time": "2021-05-14T01:09:50.962982Z",
     "start_time": "2021-05-14T01:09:50.810061Z"
    },
    "hidden": true
   },
   "outputs": [
    {
     "data": {
      "text/plain": [
       "('GERD', 'Common Cold', 'Hepatitis C', 'Hepatitis D')"
      ]
     },
     "execution_count": 33,
     "metadata": {},
     "output_type": "execute_result"
    }
   ],
   "source": [
    "i2c[yval[0]], i2c[yval[10]], i2c[yval[20]], i2c[yval[30]]"
   ]
  },
  {
   "cell_type": "code",
   "execution_count": 34,
   "id": "bacterial-cylinder",
   "metadata": {
    "ExecuteTime": {
     "end_time": "2021-05-14T01:09:51.101579Z",
     "start_time": "2021-05-14T01:09:50.964516Z"
    },
    "hidden": true
   },
   "outputs": [],
   "source": [
    "gerd = Xval[0]\n",
    "cc = Xval[10]\n",
    "hepc = Xval[20]\n",
    "hepd = Xval[30]"
   ]
  },
  {
   "cell_type": "markdown",
   "id": "assumed-locking",
   "metadata": {
    "hidden": true
   },
   "source": [
    "### Logistic Regression"
   ]
  },
  {
   "cell_type": "markdown",
   "id": "spread-equation",
   "metadata": {
    "heading_collapsed": true,
    "hidden": true
   },
   "source": [
    "#### SGD Optimiser"
   ]
  },
  {
   "cell_type": "markdown",
   "id": "instrumental-fighter",
   "metadata": {
    "hidden": true
   },
   "source": [
    "We define our Logistic Regression with SGD optimiser using Pytorch nn.Sequential."
   ]
  },
  {
   "cell_type": "code",
   "execution_count": 35,
   "id": "acknowledged-uzbekistan",
   "metadata": {
    "ExecuteTime": {
     "end_time": "2021-05-14T01:09:51.243386Z",
     "start_time": "2021-05-14T01:09:51.102548Z"
    },
    "hidden": true
   },
   "outputs": [
    {
     "data": {
      "text/plain": [
       "Sequential(\n",
       "  (0): Linear(in_features=132, out_features=41, bias=True)\n",
       ")"
      ]
     },
     "execution_count": 35,
     "metadata": {},
     "output_type": "execute_result"
    }
   ],
   "source": [
    "LogRegSGD = nn.Sequential(\n",
    "    nn.Linear(in_features=132,  out_features=num_classes)\n",
    ").to(device)\n",
    "\n",
    "LogRegSGD"
   ]
  },
  {
   "cell_type": "markdown",
   "id": "political-australian",
   "metadata": {
    "hidden": true
   },
   "source": [
    "We train and validate the model using our train_val function."
   ]
  },
  {
   "cell_type": "code",
   "execution_count": 36,
   "id": "parental-october",
   "metadata": {
    "ExecuteTime": {
     "end_time": "2021-05-14T01:09:53.262023Z",
     "start_time": "2021-05-14T01:09:51.244596Z"
    },
    "hidden": true
   },
   "outputs": [
    {
     "data": {
      "application/vnd.jupyter.widget-view+json": {
       "model_id": "7b4fda6e65584f75b66be1d20870809f",
       "version_major": 2,
       "version_minor": 0
      },
      "text/plain": [
       "  0%|          | 0/20 [00:00<?, ?it/s]"
      ]
     },
     "metadata": {},
     "output_type": "display_data"
    },
    {
     "data": {
      "application/vnd.jupyter.widget-view+json": {
       "model_id": "",
       "version_major": 2,
       "version_minor": 0
      },
      "text/plain": [
       "  0%|          | 0/8 [00:00<?, ?it/s]"
      ]
     },
     "metadata": {},
     "output_type": "display_data"
    },
    {
     "data": {
      "application/vnd.jupyter.widget-view+json": {
       "model_id": "",
       "version_major": 2,
       "version_minor": 0
      },
      "text/plain": [
       "  0%|          | 0/1 [00:00<?, ?it/s]"
      ]
     },
     "metadata": {},
     "output_type": "display_data"
    },
    {
     "name": "stdout",
     "output_type": "stream",
     "text": [
      "Epoch: 1\tTraining loss: 3.5915\tValidation loss: 3.3295\tValidation accuracy: 0.48\n"
     ]
    },
    {
     "data": {
      "application/vnd.jupyter.widget-view+json": {
       "model_id": "",
       "version_major": 2,
       "version_minor": 0
      },
      "text/plain": [
       "  0%|          | 0/8 [00:00<?, ?it/s]"
      ]
     },
     "metadata": {},
     "output_type": "display_data"
    },
    {
     "data": {
      "application/vnd.jupyter.widget-view+json": {
       "model_id": "",
       "version_major": 2,
       "version_minor": 0
      },
      "text/plain": [
       "  0%|          | 0/1 [00:00<?, ?it/s]"
      ]
     },
     "metadata": {},
     "output_type": "display_data"
    },
    {
     "name": "stdout",
     "output_type": "stream",
     "text": [
      "Epoch: 2\tTraining loss: 2.8769\tValidation loss: 2.7211\tValidation accuracy: 0.61\n"
     ]
    },
    {
     "data": {
      "application/vnd.jupyter.widget-view+json": {
       "model_id": "",
       "version_major": 2,
       "version_minor": 0
      },
      "text/plain": [
       "  0%|          | 0/8 [00:00<?, ?it/s]"
      ]
     },
     "metadata": {},
     "output_type": "display_data"
    },
    {
     "data": {
      "application/vnd.jupyter.widget-view+json": {
       "model_id": "",
       "version_major": 2,
       "version_minor": 0
      },
      "text/plain": [
       "  0%|          | 0/1 [00:00<?, ?it/s]"
      ]
     },
     "metadata": {},
     "output_type": "display_data"
    },
    {
     "name": "stdout",
     "output_type": "stream",
     "text": [
      "Epoch: 3\tTraining loss: 2.0828\tValidation loss: 2.1881\tValidation accuracy: 0.64\n"
     ]
    },
    {
     "data": {
      "application/vnd.jupyter.widget-view+json": {
       "model_id": "",
       "version_major": 2,
       "version_minor": 0
      },
      "text/plain": [
       "  0%|          | 0/8 [00:00<?, ?it/s]"
      ]
     },
     "metadata": {},
     "output_type": "display_data"
    },
    {
     "data": {
      "application/vnd.jupyter.widget-view+json": {
       "model_id": "",
       "version_major": 2,
       "version_minor": 0
      },
      "text/plain": [
       "  0%|          | 0/1 [00:00<?, ?it/s]"
      ]
     },
     "metadata": {},
     "output_type": "display_data"
    },
    {
     "name": "stdout",
     "output_type": "stream",
     "text": [
      "Epoch: 4\tTraining loss: 1.5179\tValidation loss: 1.7839\tValidation accuracy: 0.74\n"
     ]
    },
    {
     "data": {
      "application/vnd.jupyter.widget-view+json": {
       "model_id": "",
       "version_major": 2,
       "version_minor": 0
      },
      "text/plain": [
       "  0%|          | 0/8 [00:00<?, ?it/s]"
      ]
     },
     "metadata": {},
     "output_type": "display_data"
    },
    {
     "data": {
      "application/vnd.jupyter.widget-view+json": {
       "model_id": "",
       "version_major": 2,
       "version_minor": 0
      },
      "text/plain": [
       "  0%|          | 0/1 [00:00<?, ?it/s]"
      ]
     },
     "metadata": {},
     "output_type": "display_data"
    },
    {
     "name": "stdout",
     "output_type": "stream",
     "text": [
      "Epoch: 5\tTraining loss: 1.1723\tValidation loss: 1.4862\tValidation accuracy: 0.80\n"
     ]
    },
    {
     "data": {
      "application/vnd.jupyter.widget-view+json": {
       "model_id": "",
       "version_major": 2,
       "version_minor": 0
      },
      "text/plain": [
       "  0%|          | 0/8 [00:00<?, ?it/s]"
      ]
     },
     "metadata": {},
     "output_type": "display_data"
    },
    {
     "data": {
      "application/vnd.jupyter.widget-view+json": {
       "model_id": "",
       "version_major": 2,
       "version_minor": 0
      },
      "text/plain": [
       "  0%|          | 0/1 [00:00<?, ?it/s]"
      ]
     },
     "metadata": {},
     "output_type": "display_data"
    },
    {
     "name": "stdout",
     "output_type": "stream",
     "text": [
      "Epoch: 6\tTraining loss: 0.9147\tValidation loss: 1.2732\tValidation accuracy: 0.89\n"
     ]
    },
    {
     "data": {
      "application/vnd.jupyter.widget-view+json": {
       "model_id": "",
       "version_major": 2,
       "version_minor": 0
      },
      "text/plain": [
       "  0%|          | 0/8 [00:00<?, ?it/s]"
      ]
     },
     "metadata": {},
     "output_type": "display_data"
    },
    {
     "data": {
      "application/vnd.jupyter.widget-view+json": {
       "model_id": "",
       "version_major": 2,
       "version_minor": 0
      },
      "text/plain": [
       "  0%|          | 0/1 [00:00<?, ?it/s]"
      ]
     },
     "metadata": {},
     "output_type": "display_data"
    },
    {
     "name": "stdout",
     "output_type": "stream",
     "text": [
      "Epoch: 7\tTraining loss: 0.7216\tValidation loss: 1.1042\tValidation accuracy: 0.89\n"
     ]
    },
    {
     "data": {
      "application/vnd.jupyter.widget-view+json": {
       "model_id": "",
       "version_major": 2,
       "version_minor": 0
      },
      "text/plain": [
       "  0%|          | 0/8 [00:00<?, ?it/s]"
      ]
     },
     "metadata": {},
     "output_type": "display_data"
    },
    {
     "data": {
      "application/vnd.jupyter.widget-view+json": {
       "model_id": "",
       "version_major": 2,
       "version_minor": 0
      },
      "text/plain": [
       "  0%|          | 0/1 [00:00<?, ?it/s]"
      ]
     },
     "metadata": {},
     "output_type": "display_data"
    },
    {
     "name": "stdout",
     "output_type": "stream",
     "text": [
      "Epoch: 8\tTraining loss: 0.6013\tValidation loss: 0.9779\tValidation accuracy: 0.89\n"
     ]
    },
    {
     "data": {
      "application/vnd.jupyter.widget-view+json": {
       "model_id": "",
       "version_major": 2,
       "version_minor": 0
      },
      "text/plain": [
       "  0%|          | 0/8 [00:00<?, ?it/s]"
      ]
     },
     "metadata": {},
     "output_type": "display_data"
    },
    {
     "data": {
      "application/vnd.jupyter.widget-view+json": {
       "model_id": "",
       "version_major": 2,
       "version_minor": 0
      },
      "text/plain": [
       "  0%|          | 0/1 [00:00<?, ?it/s]"
      ]
     },
     "metadata": {},
     "output_type": "display_data"
    },
    {
     "name": "stdout",
     "output_type": "stream",
     "text": [
      "Epoch: 9\tTraining loss: 0.5004\tValidation loss: 0.8680\tValidation accuracy: 0.93\n"
     ]
    },
    {
     "data": {
      "application/vnd.jupyter.widget-view+json": {
       "model_id": "",
       "version_major": 2,
       "version_minor": 0
      },
      "text/plain": [
       "  0%|          | 0/8 [00:00<?, ?it/s]"
      ]
     },
     "metadata": {},
     "output_type": "display_data"
    },
    {
     "data": {
      "application/vnd.jupyter.widget-view+json": {
       "model_id": "",
       "version_major": 2,
       "version_minor": 0
      },
      "text/plain": [
       "  0%|          | 0/1 [00:00<?, ?it/s]"
      ]
     },
     "metadata": {},
     "output_type": "display_data"
    },
    {
     "name": "stdout",
     "output_type": "stream",
     "text": [
      "Epoch: 10\tTraining loss: 0.4303\tValidation loss: 0.7823\tValidation accuracy: 0.95\n"
     ]
    },
    {
     "data": {
      "application/vnd.jupyter.widget-view+json": {
       "model_id": "",
       "version_major": 2,
       "version_minor": 0
      },
      "text/plain": [
       "  0%|          | 0/8 [00:00<?, ?it/s]"
      ]
     },
     "metadata": {},
     "output_type": "display_data"
    },
    {
     "data": {
      "application/vnd.jupyter.widget-view+json": {
       "model_id": "",
       "version_major": 2,
       "version_minor": 0
      },
      "text/plain": [
       "  0%|          | 0/1 [00:00<?, ?it/s]"
      ]
     },
     "metadata": {},
     "output_type": "display_data"
    },
    {
     "name": "stdout",
     "output_type": "stream",
     "text": [
      "Epoch: 11\tTraining loss: 0.3703\tValidation loss: 0.7050\tValidation accuracy: 0.95\n"
     ]
    },
    {
     "data": {
      "application/vnd.jupyter.widget-view+json": {
       "model_id": "",
       "version_major": 2,
       "version_minor": 0
      },
      "text/plain": [
       "  0%|          | 0/8 [00:00<?, ?it/s]"
      ]
     },
     "metadata": {},
     "output_type": "display_data"
    },
    {
     "data": {
      "application/vnd.jupyter.widget-view+json": {
       "model_id": "",
       "version_major": 2,
       "version_minor": 0
      },
      "text/plain": [
       "  0%|          | 0/1 [00:00<?, ?it/s]"
      ]
     },
     "metadata": {},
     "output_type": "display_data"
    },
    {
     "name": "stdout",
     "output_type": "stream",
     "text": [
      "Epoch: 12\tTraining loss: 0.3274\tValidation loss: 0.6410\tValidation accuracy: 0.98\n"
     ]
    },
    {
     "data": {
      "application/vnd.jupyter.widget-view+json": {
       "model_id": "",
       "version_major": 2,
       "version_minor": 0
      },
      "text/plain": [
       "  0%|          | 0/8 [00:00<?, ?it/s]"
      ]
     },
     "metadata": {},
     "output_type": "display_data"
    },
    {
     "data": {
      "application/vnd.jupyter.widget-view+json": {
       "model_id": "",
       "version_major": 2,
       "version_minor": 0
      },
      "text/plain": [
       "  0%|          | 0/1 [00:00<?, ?it/s]"
      ]
     },
     "metadata": {},
     "output_type": "display_data"
    },
    {
     "name": "stdout",
     "output_type": "stream",
     "text": [
      "Epoch: 13\tTraining loss: 0.2926\tValidation loss: 0.5896\tValidation accuracy: 1.00\n"
     ]
    },
    {
     "data": {
      "application/vnd.jupyter.widget-view+json": {
       "model_id": "",
       "version_major": 2,
       "version_minor": 0
      },
      "text/plain": [
       "  0%|          | 0/8 [00:00<?, ?it/s]"
      ]
     },
     "metadata": {},
     "output_type": "display_data"
    },
    {
     "data": {
      "application/vnd.jupyter.widget-view+json": {
       "model_id": "",
       "version_major": 2,
       "version_minor": 0
      },
      "text/plain": [
       "  0%|          | 0/1 [00:00<?, ?it/s]"
      ]
     },
     "metadata": {},
     "output_type": "display_data"
    },
    {
     "name": "stdout",
     "output_type": "stream",
     "text": [
      "Epoch: 14\tTraining loss: 0.2762\tValidation loss: 0.5498\tValidation accuracy: 1.00\n"
     ]
    },
    {
     "data": {
      "application/vnd.jupyter.widget-view+json": {
       "model_id": "",
       "version_major": 2,
       "version_minor": 0
      },
      "text/plain": [
       "  0%|          | 0/8 [00:00<?, ?it/s]"
      ]
     },
     "metadata": {},
     "output_type": "display_data"
    },
    {
     "data": {
      "application/vnd.jupyter.widget-view+json": {
       "model_id": "",
       "version_major": 2,
       "version_minor": 0
      },
      "text/plain": [
       "  0%|          | 0/1 [00:00<?, ?it/s]"
      ]
     },
     "metadata": {},
     "output_type": "display_data"
    },
    {
     "name": "stdout",
     "output_type": "stream",
     "text": [
      "Epoch: 15\tTraining loss: 0.2455\tValidation loss: 0.5083\tValidation accuracy: 1.00\n"
     ]
    },
    {
     "data": {
      "application/vnd.jupyter.widget-view+json": {
       "model_id": "",
       "version_major": 2,
       "version_minor": 0
      },
      "text/plain": [
       "  0%|          | 0/8 [00:00<?, ?it/s]"
      ]
     },
     "metadata": {},
     "output_type": "display_data"
    },
    {
     "data": {
      "application/vnd.jupyter.widget-view+json": {
       "model_id": "",
       "version_major": 2,
       "version_minor": 0
      },
      "text/plain": [
       "  0%|          | 0/1 [00:00<?, ?it/s]"
      ]
     },
     "metadata": {},
     "output_type": "display_data"
    },
    {
     "name": "stdout",
     "output_type": "stream",
     "text": [
      "Epoch: 16\tTraining loss: 0.2278\tValidation loss: 0.4751\tValidation accuracy: 1.00\n"
     ]
    },
    {
     "data": {
      "application/vnd.jupyter.widget-view+json": {
       "model_id": "",
       "version_major": 2,
       "version_minor": 0
      },
      "text/plain": [
       "  0%|          | 0/8 [00:00<?, ?it/s]"
      ]
     },
     "metadata": {},
     "output_type": "display_data"
    },
    {
     "data": {
      "application/vnd.jupyter.widget-view+json": {
       "model_id": "",
       "version_major": 2,
       "version_minor": 0
      },
      "text/plain": [
       "  0%|          | 0/1 [00:00<?, ?it/s]"
      ]
     },
     "metadata": {},
     "output_type": "display_data"
    },
    {
     "name": "stdout",
     "output_type": "stream",
     "text": [
      "Epoch: 17\tTraining loss: 0.2082\tValidation loss: 0.4454\tValidation accuracy: 1.00\n"
     ]
    },
    {
     "data": {
      "application/vnd.jupyter.widget-view+json": {
       "model_id": "",
       "version_major": 2,
       "version_minor": 0
      },
      "text/plain": [
       "  0%|          | 0/8 [00:00<?, ?it/s]"
      ]
     },
     "metadata": {},
     "output_type": "display_data"
    },
    {
     "data": {
      "application/vnd.jupyter.widget-view+json": {
       "model_id": "",
       "version_major": 2,
       "version_minor": 0
      },
      "text/plain": [
       "  0%|          | 0/1 [00:00<?, ?it/s]"
      ]
     },
     "metadata": {},
     "output_type": "display_data"
    },
    {
     "name": "stdout",
     "output_type": "stream",
     "text": [
      "Epoch: 18\tTraining loss: 0.2017\tValidation loss: 0.4219\tValidation accuracy: 1.00\n"
     ]
    },
    {
     "data": {
      "application/vnd.jupyter.widget-view+json": {
       "model_id": "",
       "version_major": 2,
       "version_minor": 0
      },
      "text/plain": [
       "  0%|          | 0/8 [00:00<?, ?it/s]"
      ]
     },
     "metadata": {},
     "output_type": "display_data"
    },
    {
     "data": {
      "application/vnd.jupyter.widget-view+json": {
       "model_id": "",
       "version_major": 2,
       "version_minor": 0
      },
      "text/plain": [
       "  0%|          | 0/1 [00:00<?, ?it/s]"
      ]
     },
     "metadata": {},
     "output_type": "display_data"
    },
    {
     "name": "stdout",
     "output_type": "stream",
     "text": [
      "Epoch: 19\tTraining loss: 0.1841\tValidation loss: 0.3984\tValidation accuracy: 1.00\n"
     ]
    },
    {
     "data": {
      "application/vnd.jupyter.widget-view+json": {
       "model_id": "",
       "version_major": 2,
       "version_minor": 0
      },
      "text/plain": [
       "  0%|          | 0/8 [00:00<?, ?it/s]"
      ]
     },
     "metadata": {},
     "output_type": "display_data"
    },
    {
     "data": {
      "application/vnd.jupyter.widget-view+json": {
       "model_id": "",
       "version_major": 2,
       "version_minor": 0
      },
      "text/plain": [
       "  0%|          | 0/1 [00:00<?, ?it/s]"
      ]
     },
     "metadata": {},
     "output_type": "display_data"
    },
    {
     "name": "stdout",
     "output_type": "stream",
     "text": [
      "Epoch: 20\tTraining loss: 0.1749\tValidation loss: 0.3768\tValidation accuracy: 1.00\n",
      "Wall time: 1.48 s\n"
     ]
    },
    {
     "data": {
      "text/plain": [
       "([3.5914521,\n",
       "  2.8769174,\n",
       "  2.0828373,\n",
       "  1.5178957,\n",
       "  1.1723078,\n",
       "  0.914727,\n",
       "  0.72164917,\n",
       "  0.60132605,\n",
       "  0.500369,\n",
       "  0.43028343,\n",
       "  0.37026468,\n",
       "  0.32739097,\n",
       "  0.29263878,\n",
       "  0.27622527,\n",
       "  0.24548645,\n",
       "  0.22776113,\n",
       "  0.20822945,\n",
       "  0.20169754,\n",
       "  0.18414882,\n",
       "  0.17492856],\n",
       " [3.329532,\n",
       "  2.7211394,\n",
       "  2.1881185,\n",
       "  1.783866,\n",
       "  1.4861876,\n",
       "  1.273191,\n",
       "  1.1041826,\n",
       "  0.9779425,\n",
       "  0.86804235,\n",
       "  0.7822814,\n",
       "  0.70496315,\n",
       "  0.64104867,\n",
       "  0.58957326,\n",
       "  0.54976386,\n",
       "  0.50831944,\n",
       "  0.4751109,\n",
       "  0.44535848,\n",
       "  0.4219177,\n",
       "  0.3984116,\n",
       "  0.3767889])"
      ]
     },
     "execution_count": 36,
     "metadata": {},
     "output_type": "execute_result"
    },
    {
     "data": {
      "image/png": "[encoded data removed]",
      "text/plain": [
       "<Figure size 1152x576 with 2 Axes>"
      ]
     },
     "metadata": {
      "needs_background": "light"
     },
     "output_type": "display_data"
    }
   ],
   "source": [
    "%%time\n",
    "train_val(LogRegSGD, tr_dl, val_dl, criterion='SGD', epochs=20, lr=0.1);"
   ]
  },
  {
   "cell_type": "markdown",
   "id": "gross-tyler",
   "metadata": {
    "hidden": true
   },
   "source": [
    "Now we can test our model against some examples with our prediction function."
   ]
  },
  {
   "cell_type": "code",
   "execution_count": 37,
   "id": "historic-alfred",
   "metadata": {
    "ExecuteTime": {
     "end_time": "2021-05-14T01:09:53.415808Z",
     "start_time": "2021-05-14T01:09:53.264017Z"
    },
    "hidden": true
   },
   "outputs": [
    {
     "name": "stdout",
     "output_type": "stream",
     "text": [
      "GERD\n",
      "Wall time: 998 µs\n"
     ]
    }
   ],
   "source": [
    "%%time\n",
    "print(predict(LogRegSGD, gerd))"
   ]
  },
  {
   "cell_type": "code",
   "execution_count": 38,
   "id": "fresh-implementation",
   "metadata": {
    "ExecuteTime": {
     "end_time": "2021-05-14T01:09:53.557777Z",
     "start_time": "2021-05-14T01:09:53.416804Z"
    },
    "hidden": true
   },
   "outputs": [
    {
     "name": "stdout",
     "output_type": "stream",
     "text": [
      "Common Cold\n",
      "Wall time: 0 ns\n"
     ]
    }
   ],
   "source": [
    "%%time\n",
    "print(predict(LogRegSGD, cc))"
   ]
  },
  {
   "cell_type": "code",
   "execution_count": 39,
   "id": "interested-tenant",
   "metadata": {
    "ExecuteTime": {
     "end_time": "2021-05-14T01:09:53.713392Z",
     "start_time": "2021-05-14T01:09:53.558769Z"
    },
    "hidden": true
   },
   "outputs": [
    {
     "name": "stdout",
     "output_type": "stream",
     "text": [
      "Hepatitis C\n",
      "Wall time: 0 ns\n"
     ]
    }
   ],
   "source": [
    "%%time\n",
    "print(predict(LogRegSGD, hepc))"
   ]
  },
  {
   "cell_type": "code",
   "execution_count": 40,
   "id": "smaller-zoning",
   "metadata": {
    "ExecuteTime": {
     "end_time": "2021-05-14T01:09:53.871943Z",
     "start_time": "2021-05-14T01:09:53.715386Z"
    },
    "hidden": true
   },
   "outputs": [
    {
     "name": "stdout",
     "output_type": "stream",
     "text": [
      "Hepatitis D\n",
      "Wall time: 0 ns\n"
     ]
    }
   ],
   "source": [
    "%%time\n",
    "print(predict(LogRegSGD, hepd))"
   ]
  },
  {
   "cell_type": "code",
   "execution_count": null,
   "id": "great-hudson",
   "metadata": {
    "hidden": true
   },
   "outputs": [],
   "source": []
  },
  {
   "cell_type": "markdown",
   "id": "latest-tribune",
   "metadata": {
    "heading_collapsed": true,
    "hidden": true
   },
   "source": [
    "#### Adam Optimiser"
   ]
  },
  {
   "cell_type": "markdown",
   "id": "sustained-socket",
   "metadata": {
    "hidden": true
   },
   "source": [
    "We define our Logistic Regression with Adam optimiser using Pytorch nn.Sequential."
   ]
  },
  {
   "cell_type": "code",
   "execution_count": 41,
   "id": "decreased-lesbian",
   "metadata": {
    "ExecuteTime": {
     "end_time": "2021-05-14T01:09:54.026639Z",
     "start_time": "2021-05-14T01:09:53.873946Z"
    },
    "hidden": true
   },
   "outputs": [
    {
     "data": {
      "text/plain": [
       "Sequential(\n",
       "  (0): Linear(in_features=132, out_features=41, bias=True)\n",
       ")"
      ]
     },
     "execution_count": 41,
     "metadata": {},
     "output_type": "execute_result"
    }
   ],
   "source": [
    "LogReg = nn.Sequential(\n",
    "    nn.Linear(in_features=132,  out_features=num_classes)\n",
    ").to(device)\n",
    "\n",
    "LogReg"
   ]
  },
  {
   "cell_type": "markdown",
   "id": "unauthorized-discount",
   "metadata": {
    "hidden": true
   },
   "source": [
    "We train and validate the model using our train_val function."
   ]
  },
  {
   "cell_type": "code",
   "execution_count": 42,
   "id": "assisted-stephen",
   "metadata": {
    "ExecuteTime": {
     "end_time": "2021-05-14T01:09:55.812171Z",
     "start_time": "2021-05-14T01:09:54.027941Z"
    },
    "hidden": true
   },
   "outputs": [
    {
     "data": {
      "application/vnd.jupyter.widget-view+json": {
       "model_id": "716b8aaa91ef48178130751e34fdc4a6",
       "version_major": 2,
       "version_minor": 0
      },
      "text/plain": [
       "  0%|          | 0/20 [00:00<?, ?it/s]"
      ]
     },
     "metadata": {},
     "output_type": "display_data"
    },
    {
     "data": {
      "application/vnd.jupyter.widget-view+json": {
       "model_id": "",
       "version_major": 2,
       "version_minor": 0
      },
      "text/plain": [
       "  0%|          | 0/8 [00:00<?, ?it/s]"
      ]
     },
     "metadata": {},
     "output_type": "display_data"
    },
    {
     "data": {
      "application/vnd.jupyter.widget-view+json": {
       "model_id": "",
       "version_major": 2,
       "version_minor": 0
      },
      "text/plain": [
       "  0%|          | 0/1 [00:00<?, ?it/s]"
      ]
     },
     "metadata": {},
     "output_type": "display_data"
    },
    {
     "name": "stdout",
     "output_type": "stream",
     "text": [
      "Epoch: 1\tTraining loss: 3.4531\tValidation loss: 3.1007\tValidation accuracy: 0.74\n"
     ]
    },
    {
     "data": {
      "application/vnd.jupyter.widget-view+json": {
       "model_id": "",
       "version_major": 2,
       "version_minor": 0
      },
      "text/plain": [
       "  0%|          | 0/8 [00:00<?, ?it/s]"
      ]
     },
     "metadata": {},
     "output_type": "display_data"
    },
    {
     "data": {
      "application/vnd.jupyter.widget-view+json": {
       "model_id": "",
       "version_major": 2,
       "version_minor": 0
      },
      "text/plain": [
       "  0%|          | 0/1 [00:00<?, ?it/s]"
      ]
     },
     "metadata": {},
     "output_type": "display_data"
    },
    {
     "name": "stdout",
     "output_type": "stream",
     "text": [
      "Epoch: 2\tTraining loss: 2.7291\tValidation loss: 2.5414\tValidation accuracy: 0.85\n"
     ]
    },
    {
     "data": {
      "application/vnd.jupyter.widget-view+json": {
       "model_id": "",
       "version_major": 2,
       "version_minor": 0
      },
      "text/plain": [
       "  0%|          | 0/8 [00:00<?, ?it/s]"
      ]
     },
     "metadata": {},
     "output_type": "display_data"
    },
    {
     "data": {
      "application/vnd.jupyter.widget-view+json": {
       "model_id": "",
       "version_major": 2,
       "version_minor": 0
      },
      "text/plain": [
       "  0%|          | 0/1 [00:00<?, ?it/s]"
      ]
     },
     "metadata": {},
     "output_type": "display_data"
    },
    {
     "name": "stdout",
     "output_type": "stream",
     "text": [
      "Epoch: 3\tTraining loss: 2.1290\tValidation loss: 2.1039\tValidation accuracy: 0.87\n"
     ]
    },
    {
     "data": {
      "application/vnd.jupyter.widget-view+json": {
       "model_id": "",
       "version_major": 2,
       "version_minor": 0
      },
      "text/plain": [
       "  0%|          | 0/8 [00:00<?, ?it/s]"
      ]
     },
     "metadata": {},
     "output_type": "display_data"
    },
    {
     "data": {
      "application/vnd.jupyter.widget-view+json": {
       "model_id": "",
       "version_major": 2,
       "version_minor": 0
      },
      "text/plain": [
       "  0%|          | 0/1 [00:00<?, ?it/s]"
      ]
     },
     "metadata": {},
     "output_type": "display_data"
    },
    {
     "name": "stdout",
     "output_type": "stream",
     "text": [
      "Epoch: 4\tTraining loss: 1.6516\tValidation loss: 1.7754\tValidation accuracy: 0.90\n"
     ]
    },
    {
     "data": {
      "application/vnd.jupyter.widget-view+json": {
       "model_id": "",
       "version_major": 2,
       "version_minor": 0
      },
      "text/plain": [
       "  0%|          | 0/8 [00:00<?, ?it/s]"
      ]
     },
     "metadata": {},
     "output_type": "display_data"
    },
    {
     "data": {
      "application/vnd.jupyter.widget-view+json": {
       "model_id": "",
       "version_major": 2,
       "version_minor": 0
      },
      "text/plain": [
       "  0%|          | 0/1 [00:00<?, ?it/s]"
      ]
     },
     "metadata": {},
     "output_type": "display_data"
    },
    {
     "name": "stdout",
     "output_type": "stream",
     "text": [
      "Epoch: 5\tTraining loss: 1.3708\tValidation loss: 1.5377\tValidation accuracy: 0.93\n"
     ]
    },
    {
     "data": {
      "application/vnd.jupyter.widget-view+json": {
       "model_id": "",
       "version_major": 2,
       "version_minor": 0
      },
      "text/plain": [
       "  0%|          | 0/8 [00:00<?, ?it/s]"
      ]
     },
     "metadata": {},
     "output_type": "display_data"
    },
    {
     "data": {
      "application/vnd.jupyter.widget-view+json": {
       "model_id": "",
       "version_major": 2,
       "version_minor": 0
      },
      "text/plain": [
       "  0%|          | 0/1 [00:00<?, ?it/s]"
      ]
     },
     "metadata": {},
     "output_type": "display_data"
    },
    {
     "name": "stdout",
     "output_type": "stream",
     "text": [
      "Epoch: 6\tTraining loss: 1.1159\tValidation loss: 1.3461\tValidation accuracy: 0.95\n"
     ]
    },
    {
     "data": {
      "application/vnd.jupyter.widget-view+json": {
       "model_id": "",
       "version_major": 2,
       "version_minor": 0
      },
      "text/plain": [
       "  0%|          | 0/8 [00:00<?, ?it/s]"
      ]
     },
     "metadata": {},
     "output_type": "display_data"
    },
    {
     "data": {
      "application/vnd.jupyter.widget-view+json": {
       "model_id": "",
       "version_major": 2,
       "version_minor": 0
      },
      "text/plain": [
       "  0%|          | 0/1 [00:00<?, ?it/s]"
      ]
     },
     "metadata": {},
     "output_type": "display_data"
    },
    {
     "name": "stdout",
     "output_type": "stream",
     "text": [
      "Epoch: 7\tTraining loss: 0.9473\tValidation loss: 1.1932\tValidation accuracy: 0.95\n"
     ]
    },
    {
     "data": {
      "application/vnd.jupyter.widget-view+json": {
       "model_id": "",
       "version_major": 2,
       "version_minor": 0
      },
      "text/plain": [
       "  0%|          | 0/8 [00:00<?, ?it/s]"
      ]
     },
     "metadata": {},
     "output_type": "display_data"
    },
    {
     "data": {
      "application/vnd.jupyter.widget-view+json": {
       "model_id": "",
       "version_major": 2,
       "version_minor": 0
      },
      "text/plain": [
       "  0%|          | 0/1 [00:00<?, ?it/s]"
      ]
     },
     "metadata": {},
     "output_type": "display_data"
    },
    {
     "name": "stdout",
     "output_type": "stream",
     "text": [
      "Epoch: 8\tTraining loss: 0.8294\tValidation loss: 1.0694\tValidation accuracy: 0.97\n"
     ]
    },
    {
     "data": {
      "application/vnd.jupyter.widget-view+json": {
       "model_id": "",
       "version_major": 2,
       "version_minor": 0
      },
      "text/plain": [
       "  0%|          | 0/8 [00:00<?, ?it/s]"
      ]
     },
     "metadata": {},
     "output_type": "display_data"
    },
    {
     "data": {
      "application/vnd.jupyter.widget-view+json": {
       "model_id": "",
       "version_major": 2,
       "version_minor": 0
      },
      "text/plain": [
       "  0%|          | 0/1 [00:00<?, ?it/s]"
      ]
     },
     "metadata": {},
     "output_type": "display_data"
    },
    {
     "name": "stdout",
     "output_type": "stream",
     "text": [
      "Epoch: 9\tTraining loss: 0.7142\tValidation loss: 0.9678\tValidation accuracy: 0.97\n"
     ]
    },
    {
     "data": {
      "application/vnd.jupyter.widget-view+json": {
       "model_id": "",
       "version_major": 2,
       "version_minor": 0
      },
      "text/plain": [
       "  0%|          | 0/8 [00:00<?, ?it/s]"
      ]
     },
     "metadata": {},
     "output_type": "display_data"
    },
    {
     "data": {
      "application/vnd.jupyter.widget-view+json": {
       "model_id": "",
       "version_major": 2,
       "version_minor": 0
      },
      "text/plain": [
       "  0%|          | 0/1 [00:00<?, ?it/s]"
      ]
     },
     "metadata": {},
     "output_type": "display_data"
    },
    {
     "name": "stdout",
     "output_type": "stream",
     "text": [
      "Epoch: 10\tTraining loss: 0.6367\tValidation loss: 0.8853\tValidation accuracy: 0.98\n"
     ]
    },
    {
     "data": {
      "application/vnd.jupyter.widget-view+json": {
       "model_id": "",
       "version_major": 2,
       "version_minor": 0
      },
      "text/plain": [
       "  0%|          | 0/8 [00:00<?, ?it/s]"
      ]
     },
     "metadata": {},
     "output_type": "display_data"
    },
    {
     "data": {
      "application/vnd.jupyter.widget-view+json": {
       "model_id": "",
       "version_major": 2,
       "version_minor": 0
      },
      "text/plain": [
       "  0%|          | 0/1 [00:00<?, ?it/s]"
      ]
     },
     "metadata": {},
     "output_type": "display_data"
    },
    {
     "name": "stdout",
     "output_type": "stream",
     "text": [
      "Epoch: 11\tTraining loss: 0.5675\tValidation loss: 0.8141\tValidation accuracy: 0.98\n"
     ]
    },
    {
     "data": {
      "application/vnd.jupyter.widget-view+json": {
       "model_id": "",
       "version_major": 2,
       "version_minor": 0
      },
      "text/plain": [
       "  0%|          | 0/8 [00:00<?, ?it/s]"
      ]
     },
     "metadata": {},
     "output_type": "display_data"
    },
    {
     "data": {
      "application/vnd.jupyter.widget-view+json": {
       "model_id": "",
       "version_major": 2,
       "version_minor": 0
      },
      "text/plain": [
       "  0%|          | 0/1 [00:00<?, ?it/s]"
      ]
     },
     "metadata": {},
     "output_type": "display_data"
    },
    {
     "name": "stdout",
     "output_type": "stream",
     "text": [
      "Epoch: 12\tTraining loss: 0.5278\tValidation loss: 0.7543\tValidation accuracy: 0.98\n"
     ]
    },
    {
     "data": {
      "application/vnd.jupyter.widget-view+json": {
       "model_id": "",
       "version_major": 2,
       "version_minor": 0
      },
      "text/plain": [
       "  0%|          | 0/8 [00:00<?, ?it/s]"
      ]
     },
     "metadata": {},
     "output_type": "display_data"
    },
    {
     "data": {
      "application/vnd.jupyter.widget-view+json": {
       "model_id": "",
       "version_major": 2,
       "version_minor": 0
      },
      "text/plain": [
       "  0%|          | 0/1 [00:00<?, ?it/s]"
      ]
     },
     "metadata": {},
     "output_type": "display_data"
    },
    {
     "name": "stdout",
     "output_type": "stream",
     "text": [
      "Epoch: 13\tTraining loss: 0.4693\tValidation loss: 0.6998\tValidation accuracy: 1.00\n"
     ]
    },
    {
     "data": {
      "application/vnd.jupyter.widget-view+json": {
       "model_id": "",
       "version_major": 2,
       "version_minor": 0
      },
      "text/plain": [
       "  0%|          | 0/8 [00:00<?, ?it/s]"
      ]
     },
     "metadata": {},
     "output_type": "display_data"
    },
    {
     "data": {
      "application/vnd.jupyter.widget-view+json": {
       "model_id": "",
       "version_major": 2,
       "version_minor": 0
      },
      "text/plain": [
       "  0%|          | 0/1 [00:00<?, ?it/s]"
      ]
     },
     "metadata": {},
     "output_type": "display_data"
    },
    {
     "name": "stdout",
     "output_type": "stream",
     "text": [
      "Epoch: 14\tTraining loss: 0.4324\tValidation loss: 0.6556\tValidation accuracy: 1.00\n"
     ]
    },
    {
     "data": {
      "application/vnd.jupyter.widget-view+json": {
       "model_id": "",
       "version_major": 2,
       "version_minor": 0
      },
      "text/plain": [
       "  0%|          | 0/8 [00:00<?, ?it/s]"
      ]
     },
     "metadata": {},
     "output_type": "display_data"
    },
    {
     "data": {
      "application/vnd.jupyter.widget-view+json": {
       "model_id": "",
       "version_major": 2,
       "version_minor": 0
      },
      "text/plain": [
       "  0%|          | 0/1 [00:00<?, ?it/s]"
      ]
     },
     "metadata": {},
     "output_type": "display_data"
    },
    {
     "name": "stdout",
     "output_type": "stream",
     "text": [
      "Epoch: 15\tTraining loss: 0.3966\tValidation loss: 0.6163\tValidation accuracy: 1.00\n"
     ]
    },
    {
     "data": {
      "application/vnd.jupyter.widget-view+json": {
       "model_id": "",
       "version_major": 2,
       "version_minor": 0
      },
      "text/plain": [
       "  0%|          | 0/8 [00:00<?, ?it/s]"
      ]
     },
     "metadata": {},
     "output_type": "display_data"
    },
    {
     "data": {
      "application/vnd.jupyter.widget-view+json": {
       "model_id": "",
       "version_major": 2,
       "version_minor": 0
      },
      "text/plain": [
       "  0%|          | 0/1 [00:00<?, ?it/s]"
      ]
     },
     "metadata": {},
     "output_type": "display_data"
    },
    {
     "name": "stdout",
     "output_type": "stream",
     "text": [
      "Epoch: 16\tTraining loss: 0.3748\tValidation loss: 0.5861\tValidation accuracy: 1.00\n"
     ]
    },
    {
     "data": {
      "application/vnd.jupyter.widget-view+json": {
       "model_id": "",
       "version_major": 2,
       "version_minor": 0
      },
      "text/plain": [
       "  0%|          | 0/8 [00:00<?, ?it/s]"
      ]
     },
     "metadata": {},
     "output_type": "display_data"
    },
    {
     "data": {
      "application/vnd.jupyter.widget-view+json": {
       "model_id": "",
       "version_major": 2,
       "version_minor": 0
      },
      "text/plain": [
       "  0%|          | 0/1 [00:00<?, ?it/s]"
      ]
     },
     "metadata": {},
     "output_type": "display_data"
    },
    {
     "name": "stdout",
     "output_type": "stream",
     "text": [
      "Epoch: 17\tTraining loss: 0.3563\tValidation loss: 0.5586\tValidation accuracy: 1.00\n"
     ]
    },
    {
     "data": {
      "application/vnd.jupyter.widget-view+json": {
       "model_id": "",
       "version_major": 2,
       "version_minor": 0
      },
      "text/plain": [
       "  0%|          | 0/8 [00:00<?, ?it/s]"
      ]
     },
     "metadata": {},
     "output_type": "display_data"
    },
    {
     "data": {
      "application/vnd.jupyter.widget-view+json": {
       "model_id": "",
       "version_major": 2,
       "version_minor": 0
      },
      "text/plain": [
       "  0%|          | 0/1 [00:00<?, ?it/s]"
      ]
     },
     "metadata": {},
     "output_type": "display_data"
    },
    {
     "name": "stdout",
     "output_type": "stream",
     "text": [
      "Epoch: 18\tTraining loss: 0.3284\tValidation loss: 0.5331\tValidation accuracy: 1.00\n"
     ]
    },
    {
     "data": {
      "application/vnd.jupyter.widget-view+json": {
       "model_id": "",
       "version_major": 2,
       "version_minor": 0
      },
      "text/plain": [
       "  0%|          | 0/8 [00:00<?, ?it/s]"
      ]
     },
     "metadata": {},
     "output_type": "display_data"
    },
    {
     "data": {
      "application/vnd.jupyter.widget-view+json": {
       "model_id": "",
       "version_major": 2,
       "version_minor": 0
      },
      "text/plain": [
       "  0%|          | 0/1 [00:00<?, ?it/s]"
      ]
     },
     "metadata": {},
     "output_type": "display_data"
    },
    {
     "name": "stdout",
     "output_type": "stream",
     "text": [
      "Epoch: 19\tTraining loss: 0.3149\tValidation loss: 0.5098\tValidation accuracy: 1.00\n"
     ]
    },
    {
     "data": {
      "application/vnd.jupyter.widget-view+json": {
       "model_id": "",
       "version_major": 2,
       "version_minor": 0
      },
      "text/plain": [
       "  0%|          | 0/8 [00:00<?, ?it/s]"
      ]
     },
     "metadata": {},
     "output_type": "display_data"
    },
    {
     "data": {
      "application/vnd.jupyter.widget-view+json": {
       "model_id": "",
       "version_major": 2,
       "version_minor": 0
      },
      "text/plain": [
       "  0%|          | 0/1 [00:00<?, ?it/s]"
      ]
     },
     "metadata": {},
     "output_type": "display_data"
    },
    {
     "name": "stdout",
     "output_type": "stream",
     "text": [
      "Epoch: 20\tTraining loss: 0.2974\tValidation loss: 0.4889\tValidation accuracy: 1.00\n",
      "Wall time: 1.36 s\n"
     ]
    },
    {
     "data": {
      "text/plain": [
       "([3.4531298,\n",
       "  2.7290866,\n",
       "  2.1289506,\n",
       "  1.6515565,\n",
       "  1.370753,\n",
       "  1.1159348,\n",
       "  0.947323,\n",
       "  0.8293824,\n",
       "  0.7141702,\n",
       "  0.63667345,\n",
       "  0.5675255,\n",
       "  0.5277769,\n",
       "  0.46930104,\n",
       "  0.43235427,\n",
       "  0.39659885,\n",
       "  0.37478822,\n",
       "  0.35631576,\n",
       "  0.32840723,\n",
       "  0.3149041,\n",
       "  0.29743457],\n",
       " [3.1006646,\n",
       "  2.541441,\n",
       "  2.103937,\n",
       "  1.7753747,\n",
       "  1.5376577,\n",
       "  1.3461142,\n",
       "  1.1931751,\n",
       "  1.0694146,\n",
       "  0.9677997,\n",
       "  0.8853354,\n",
       "  0.8141094,\n",
       "  0.75434357,\n",
       "  0.69976485,\n",
       "  0.6555752,\n",
       "  0.61627346,\n",
       "  0.586101,\n",
       "  0.55857223,\n",
       "  0.533143,\n",
       "  0.5098353,\n",
       "  0.48893428])"
      ]
     },
     "execution_count": 42,
     "metadata": {},
     "output_type": "execute_result"
    },
    {
     "data": {
      "image/png": "[encoded data removed]",
      "text/plain": [
       "<Figure size 1152x576 with 2 Axes>"
      ]
     },
     "metadata": {
      "needs_background": "light"
     },
     "output_type": "display_data"
    }
   ],
   "source": [
    "%%time\n",
    "train_val(LogReg, tr_dl, val_dl, criterion='Adam', epochs=20, lr=0.01);"
   ]
  },
  {
   "cell_type": "markdown",
   "id": "nominated-portfolio",
   "metadata": {
    "hidden": true
   },
   "source": [
    "Now we can test our model against some examples with our prediction function."
   ]
  },
  {
   "cell_type": "code",
   "execution_count": 43,
   "id": "detected-sympathy",
   "metadata": {
    "ExecuteTime": {
     "end_time": "2021-05-14T01:09:55.954454Z",
     "start_time": "2021-05-14T01:09:55.813244Z"
    },
    "hidden": true
   },
   "outputs": [
    {
     "name": "stdout",
     "output_type": "stream",
     "text": [
      "GERD\n",
      "Wall time: 979 µs\n"
     ]
    }
   ],
   "source": [
    "%%time\n",
    "print(predict(LogReg, gerd))"
   ]
  },
  {
   "cell_type": "code",
   "execution_count": 44,
   "id": "natural-petroleum",
   "metadata": {
    "ExecuteTime": {
     "end_time": "2021-05-14T01:09:56.096212Z",
     "start_time": "2021-05-14T01:09:55.955331Z"
    },
    "hidden": true
   },
   "outputs": [
    {
     "name": "stdout",
     "output_type": "stream",
     "text": [
      "Common Cold\n",
      "Wall time: 0 ns\n"
     ]
    }
   ],
   "source": [
    "%%time\n",
    "print(predict(LogReg, cc))"
   ]
  },
  {
   "cell_type": "code",
   "execution_count": 45,
   "id": "bearing-aquarium",
   "metadata": {
    "ExecuteTime": {
     "end_time": "2021-05-14T01:09:56.239573Z",
     "start_time": "2021-05-14T01:09:56.097032Z"
    },
    "hidden": true
   },
   "outputs": [
    {
     "name": "stdout",
     "output_type": "stream",
     "text": [
      "Hepatitis C\n",
      "Wall time: 0 ns\n"
     ]
    }
   ],
   "source": [
    "%%time\n",
    "print(predict(LogReg, hepc))"
   ]
  },
  {
   "cell_type": "code",
   "execution_count": 46,
   "id": "spare-protocol",
   "metadata": {
    "ExecuteTime": {
     "end_time": "2021-05-14T01:09:56.379154Z",
     "start_time": "2021-05-14T01:09:56.241570Z"
    },
    "hidden": true
   },
   "outputs": [
    {
     "name": "stdout",
     "output_type": "stream",
     "text": [
      "Hepatitis D\n",
      "Wall time: 1 ms\n"
     ]
    }
   ],
   "source": [
    "%%time\n",
    "print(predict(LogReg, hepd))"
   ]
  },
  {
   "cell_type": "markdown",
   "id": "fundamental-retro",
   "metadata": {
    "heading_collapsed": true,
    "hidden": true
   },
   "source": [
    "### ANN"
   ]
  },
  {
   "cell_type": "markdown",
   "id": "social-fitness",
   "metadata": {
    "hidden": true
   },
   "source": [
    "#### SGD Optimiser"
   ]
  },
  {
   "cell_type": "markdown",
   "id": "abstract-assembly",
   "metadata": {
    "hidden": true
   },
   "source": [
    "We define our Artificial Neural Network with SGD optimiser using Pytorch nn.Sequential."
   ]
  },
  {
   "cell_type": "code",
   "execution_count": 47,
   "id": "fossil-stamp",
   "metadata": {
    "ExecuteTime": {
     "end_time": "2021-05-14T01:09:56.534013Z",
     "start_time": "2021-05-14T01:09:56.380128Z"
    },
    "hidden": true
   },
   "outputs": [
    {
     "data": {
      "text/plain": [
       "Sequential(\n",
       "  (0): Linear(in_features=132, out_features=200, bias=True)\n",
       "  (1): ReLU()\n",
       "  (2): Dropout(p=0.5, inplace=False)\n",
       "  (3): Linear(in_features=200, out_features=400, bias=True)\n",
       "  (4): ReLU()\n",
       "  (5): Dropout(p=0.5, inplace=False)\n",
       "  (6): Linear(in_features=400, out_features=200, bias=True)\n",
       "  (7): ReLU()\n",
       "  (8): Dropout(p=0.5, inplace=False)\n",
       "  (9): Linear(in_features=200, out_features=41, bias=True)\n",
       ")"
      ]
     },
     "execution_count": 47,
     "metadata": {},
     "output_type": "execute_result"
    }
   ],
   "source": [
    "ANN_SGD = nn.Sequential(\n",
    "    nn.Linear(in_features=132, out_features=200), nn.ReLU(), nn.Dropout(0.5),\n",
    "    nn.Linear(in_features=200, out_features=400), nn.ReLU(), nn.Dropout(0.5),\n",
    "    nn.Linear(in_features=400, out_features=200), nn.ReLU(), nn.Dropout(0.5),\n",
    "    nn.Linear(in_features=200, out_features=num_classes)\n",
    ").to(device)\n",
    "\n",
    "ANN_SGD"
   ]
  },
  {
   "cell_type": "markdown",
   "id": "handed-minutes",
   "metadata": {
    "hidden": true
   },
   "source": [
    "We train and validate the model using our train_val function."
   ]
  },
  {
   "cell_type": "code",
   "execution_count": 48,
   "id": "excess-employment",
   "metadata": {
    "ExecuteTime": {
     "end_time": "2021-05-14T01:10:01.410199Z",
     "start_time": "2021-05-14T01:09:56.536013Z"
    },
    "hidden": true,
    "scrolled": true
   },
   "outputs": [
    {
     "data": {
      "application/vnd.jupyter.widget-view+json": {
       "model_id": "c41a8be65741435d8939ba243920c903",
       "version_major": 2,
       "version_minor": 0
      },
      "text/plain": [
       "  0%|          | 0/50 [00:00<?, ?it/s]"
      ]
     },
     "metadata": {},
     "output_type": "display_data"
    },
    {
     "data": {
      "application/vnd.jupyter.widget-view+json": {
       "model_id": "",
       "version_major": 2,
       "version_minor": 0
      },
      "text/plain": [
       "  0%|          | 0/8 [00:00<?, ?it/s]"
      ]
     },
     "metadata": {},
     "output_type": "display_data"
    },
    {
     "data": {
      "application/vnd.jupyter.widget-view+json": {
       "model_id": "",
       "version_major": 2,
       "version_minor": 0
      },
      "text/plain": [
       "  0%|          | 0/1 [00:00<?, ?it/s]"
      ]
     },
     "metadata": {},
     "output_type": "display_data"
    },
    {
     "name": "stdout",
     "output_type": "stream",
     "text": [
      "Epoch: 1\tTraining loss: 3.7090\tValidation loss: 3.7161\tValidation accuracy: 0.00\n"
     ]
    },
    {
     "data": {
      "application/vnd.jupyter.widget-view+json": {
       "model_id": "",
       "version_major": 2,
       "version_minor": 0
      },
      "text/plain": [
       "  0%|          | 0/8 [00:00<?, ?it/s]"
      ]
     },
     "metadata": {},
     "output_type": "display_data"
    },
    {
     "data": {
      "application/vnd.jupyter.widget-view+json": {
       "model_id": "",
       "version_major": 2,
       "version_minor": 0
      },
      "text/plain": [
       "  0%|          | 0/1 [00:00<?, ?it/s]"
      ]
     },
     "metadata": {},
     "output_type": "display_data"
    },
    {
     "name": "stdout",
     "output_type": "stream",
     "text": [
      "Epoch: 2\tTraining loss: 3.6986\tValidation loss: 3.7184\tValidation accuracy: 0.02\n"
     ]
    },
    {
     "data": {
      "application/vnd.jupyter.widget-view+json": {
       "model_id": "",
       "version_major": 2,
       "version_minor": 0
      },
      "text/plain": [
       "  0%|          | 0/8 [00:00<?, ?it/s]"
      ]
     },
     "metadata": {},
     "output_type": "display_data"
    },
    {
     "data": {
      "application/vnd.jupyter.widget-view+json": {
       "model_id": "",
       "version_major": 2,
       "version_minor": 0
      },
      "text/plain": [
       "  0%|          | 0/1 [00:00<?, ?it/s]"
      ]
     },
     "metadata": {},
     "output_type": "display_data"
    },
    {
     "name": "stdout",
     "output_type": "stream",
     "text": [
      "Epoch: 3\tTraining loss: 3.6842\tValidation loss: 3.7269\tValidation accuracy: 0.02\n"
     ]
    },
    {
     "data": {
      "application/vnd.jupyter.widget-view+json": {
       "model_id": "",
       "version_major": 2,
       "version_minor": 0
      },
      "text/plain": [
       "  0%|          | 0/8 [00:00<?, ?it/s]"
      ]
     },
     "metadata": {},
     "output_type": "display_data"
    },
    {
     "data": {
      "application/vnd.jupyter.widget-view+json": {
       "model_id": "",
       "version_major": 2,
       "version_minor": 0
      },
      "text/plain": [
       "  0%|          | 0/1 [00:00<?, ?it/s]"
      ]
     },
     "metadata": {},
     "output_type": "display_data"
    },
    {
     "name": "stdout",
     "output_type": "stream",
     "text": [
      "Epoch: 4\tTraining loss: 3.6652\tValidation loss: 3.7282\tValidation accuracy: 0.02\n"
     ]
    },
    {
     "data": {
      "application/vnd.jupyter.widget-view+json": {
       "model_id": "",
       "version_major": 2,
       "version_minor": 0
      },
      "text/plain": [
       "  0%|          | 0/8 [00:00<?, ?it/s]"
      ]
     },
     "metadata": {},
     "output_type": "display_data"
    },
    {
     "data": {
      "application/vnd.jupyter.widget-view+json": {
       "model_id": "",
       "version_major": 2,
       "version_minor": 0
      },
      "text/plain": [
       "  0%|          | 0/1 [00:00<?, ?it/s]"
      ]
     },
     "metadata": {},
     "output_type": "display_data"
    },
    {
     "name": "stdout",
     "output_type": "stream",
     "text": [
      "Epoch: 5\tTraining loss: 3.6304\tValidation loss: 3.7268\tValidation accuracy: 0.03\n"
     ]
    },
    {
     "data": {
      "application/vnd.jupyter.widget-view+json": {
       "model_id": "",
       "version_major": 2,
       "version_minor": 0
      },
      "text/plain": [
       "  0%|          | 0/8 [00:00<?, ?it/s]"
      ]
     },
     "metadata": {},
     "output_type": "display_data"
    },
    {
     "data": {
      "application/vnd.jupyter.widget-view+json": {
       "model_id": "",
       "version_major": 2,
       "version_minor": 0
      },
      "text/plain": [
       "  0%|          | 0/1 [00:00<?, ?it/s]"
      ]
     },
     "metadata": {},
     "output_type": "display_data"
    },
    {
     "name": "stdout",
     "output_type": "stream",
     "text": [
      "Epoch: 6\tTraining loss: 3.5890\tValidation loss: 3.7150\tValidation accuracy: 0.02\n"
     ]
    },
    {
     "data": {
      "application/vnd.jupyter.widget-view+json": {
       "model_id": "",
       "version_major": 2,
       "version_minor": 0
      },
      "text/plain": [
       "  0%|          | 0/8 [00:00<?, ?it/s]"
      ]
     },
     "metadata": {},
     "output_type": "display_data"
    },
    {
     "data": {
      "application/vnd.jupyter.widget-view+json": {
       "model_id": "",
       "version_major": 2,
       "version_minor": 0
      },
      "text/plain": [
       "  0%|          | 0/1 [00:00<?, ?it/s]"
      ]
     },
     "metadata": {},
     "output_type": "display_data"
    },
    {
     "name": "stdout",
     "output_type": "stream",
     "text": [
      "Epoch: 7\tTraining loss: 3.5227\tValidation loss: 3.6962\tValidation accuracy: 0.00\n"
     ]
    },
    {
     "data": {
      "application/vnd.jupyter.widget-view+json": {
       "model_id": "",
       "version_major": 2,
       "version_minor": 0
      },
      "text/plain": [
       "  0%|          | 0/8 [00:00<?, ?it/s]"
      ]
     },
     "metadata": {},
     "output_type": "display_data"
    },
    {
     "data": {
      "application/vnd.jupyter.widget-view+json": {
       "model_id": "",
       "version_major": 2,
       "version_minor": 0
      },
      "text/plain": [
       "  0%|          | 0/1 [00:00<?, ?it/s]"
      ]
     },
     "metadata": {},
     "output_type": "display_data"
    },
    {
     "name": "stdout",
     "output_type": "stream",
     "text": [
      "Epoch: 8\tTraining loss: 3.4140\tValidation loss: 3.5854\tValidation accuracy: 0.08\n"
     ]
    },
    {
     "data": {
      "application/vnd.jupyter.widget-view+json": {
       "model_id": "",
       "version_major": 2,
       "version_minor": 0
      },
      "text/plain": [
       "  0%|          | 0/8 [00:00<?, ?it/s]"
      ]
     },
     "metadata": {},
     "output_type": "display_data"
    },
    {
     "data": {
      "application/vnd.jupyter.widget-view+json": {
       "model_id": "",
       "version_major": 2,
       "version_minor": 0
      },
      "text/plain": [
       "  0%|          | 0/1 [00:00<?, ?it/s]"
      ]
     },
     "metadata": {},
     "output_type": "display_data"
    },
    {
     "name": "stdout",
     "output_type": "stream",
     "text": [
      "Epoch: 9\tTraining loss: 3.2768\tValidation loss: 3.3836\tValidation accuracy: 0.10\n"
     ]
    },
    {
     "data": {
      "application/vnd.jupyter.widget-view+json": {
       "model_id": "",
       "version_major": 2,
       "version_minor": 0
      },
      "text/plain": [
       "  0%|          | 0/8 [00:00<?, ?it/s]"
      ]
     },
     "metadata": {},
     "output_type": "display_data"
    },
    {
     "data": {
      "application/vnd.jupyter.widget-view+json": {
       "model_id": "",
       "version_major": 2,
       "version_minor": 0
      },
      "text/plain": [
       "  0%|          | 0/1 [00:00<?, ?it/s]"
      ]
     },
     "metadata": {},
     "output_type": "display_data"
    },
    {
     "name": "stdout",
     "output_type": "stream",
     "text": [
      "Epoch: 10\tTraining loss: 3.0439\tValidation loss: 3.0871\tValidation accuracy: 0.13\n"
     ]
    },
    {
     "data": {
      "application/vnd.jupyter.widget-view+json": {
       "model_id": "",
       "version_major": 2,
       "version_minor": 0
      },
      "text/plain": [
       "  0%|          | 0/8 [00:00<?, ?it/s]"
      ]
     },
     "metadata": {},
     "output_type": "display_data"
    },
    {
     "data": {
      "application/vnd.jupyter.widget-view+json": {
       "model_id": "",
       "version_major": 2,
       "version_minor": 0
      },
      "text/plain": [
       "  0%|          | 0/1 [00:00<?, ?it/s]"
      ]
     },
     "metadata": {},
     "output_type": "display_data"
    },
    {
     "name": "stdout",
     "output_type": "stream",
     "text": [
      "Epoch: 11\tTraining loss: 2.7661\tValidation loss: 2.8180\tValidation accuracy: 0.15\n"
     ]
    },
    {
     "data": {
      "application/vnd.jupyter.widget-view+json": {
       "model_id": "",
       "version_major": 2,
       "version_minor": 0
      },
      "text/plain": [
       "  0%|          | 0/8 [00:00<?, ?it/s]"
      ]
     },
     "metadata": {},
     "output_type": "display_data"
    },
    {
     "data": {
      "application/vnd.jupyter.widget-view+json": {
       "model_id": "",
       "version_major": 2,
       "version_minor": 0
      },
      "text/plain": [
       "  0%|          | 0/1 [00:00<?, ?it/s]"
      ]
     },
     "metadata": {},
     "output_type": "display_data"
    },
    {
     "name": "stdout",
     "output_type": "stream",
     "text": [
      "Epoch: 12\tTraining loss: 2.4977\tValidation loss: 2.5745\tValidation accuracy: 0.30\n"
     ]
    },
    {
     "data": {
      "application/vnd.jupyter.widget-view+json": {
       "model_id": "",
       "version_major": 2,
       "version_minor": 0
      },
      "text/plain": [
       "  0%|          | 0/8 [00:00<?, ?it/s]"
      ]
     },
     "metadata": {},
     "output_type": "display_data"
    },
    {
     "data": {
      "application/vnd.jupyter.widget-view+json": {
       "model_id": "",
       "version_major": 2,
       "version_minor": 0
      },
      "text/plain": [
       "  0%|          | 0/1 [00:00<?, ?it/s]"
      ]
     },
     "metadata": {},
     "output_type": "display_data"
    },
    {
     "name": "stdout",
     "output_type": "stream",
     "text": [
      "Epoch: 13\tTraining loss: 2.2722\tValidation loss: 2.4785\tValidation accuracy: 0.23\n"
     ]
    },
    {
     "data": {
      "application/vnd.jupyter.widget-view+json": {
       "model_id": "",
       "version_major": 2,
       "version_minor": 0
      },
      "text/plain": [
       "  0%|          | 0/8 [00:00<?, ?it/s]"
      ]
     },
     "metadata": {},
     "output_type": "display_data"
    },
    {
     "data": {
      "application/vnd.jupyter.widget-view+json": {
       "model_id": "",
       "version_major": 2,
       "version_minor": 0
      },
      "text/plain": [
       "  0%|          | 0/1 [00:00<?, ?it/s]"
      ]
     },
     "metadata": {},
     "output_type": "display_data"
    },
    {
     "name": "stdout",
     "output_type": "stream",
     "text": [
      "Epoch: 14\tTraining loss: 2.2143\tValidation loss: 2.2908\tValidation accuracy: 0.43\n"
     ]
    },
    {
     "data": {
      "application/vnd.jupyter.widget-view+json": {
       "model_id": "",
       "version_major": 2,
       "version_minor": 0
      },
      "text/plain": [
       "  0%|          | 0/8 [00:00<?, ?it/s]"
      ]
     },
     "metadata": {},
     "output_type": "display_data"
    },
    {
     "data": {
      "application/vnd.jupyter.widget-view+json": {
       "model_id": "",
       "version_major": 2,
       "version_minor": 0
      },
      "text/plain": [
       "  0%|          | 0/1 [00:00<?, ?it/s]"
      ]
     },
     "metadata": {},
     "output_type": "display_data"
    },
    {
     "name": "stdout",
     "output_type": "stream",
     "text": [
      "Epoch: 15\tTraining loss: 2.0198\tValidation loss: 2.3305\tValidation accuracy: 0.26\n"
     ]
    },
    {
     "data": {
      "application/vnd.jupyter.widget-view+json": {
       "model_id": "",
       "version_major": 2,
       "version_minor": 0
      },
      "text/plain": [
       "  0%|          | 0/8 [00:00<?, ?it/s]"
      ]
     },
     "metadata": {},
     "output_type": "display_data"
    },
    {
     "data": {
      "application/vnd.jupyter.widget-view+json": {
       "model_id": "",
       "version_major": 2,
       "version_minor": 0
      },
      "text/plain": [
       "  0%|          | 0/1 [00:00<?, ?it/s]"
      ]
     },
     "metadata": {},
     "output_type": "display_data"
    },
    {
     "name": "stdout",
     "output_type": "stream",
     "text": [
      "Epoch: 16\tTraining loss: 1.8866\tValidation loss: 2.0267\tValidation accuracy: 0.52\n"
     ]
    },
    {
     "data": {
      "application/vnd.jupyter.widget-view+json": {
       "model_id": "",
       "version_major": 2,
       "version_minor": 0
      },
      "text/plain": [
       "  0%|          | 0/8 [00:00<?, ?it/s]"
      ]
     },
     "metadata": {},
     "output_type": "display_data"
    },
    {
     "data": {
      "application/vnd.jupyter.widget-view+json": {
       "model_id": "",
       "version_major": 2,
       "version_minor": 0
      },
      "text/plain": [
       "  0%|          | 0/1 [00:00<?, ?it/s]"
      ]
     },
     "metadata": {},
     "output_type": "display_data"
    },
    {
     "name": "stdout",
     "output_type": "stream",
     "text": [
      "Epoch: 17\tTraining loss: 1.6371\tValidation loss: 1.8162\tValidation accuracy: 0.52\n"
     ]
    },
    {
     "data": {
      "application/vnd.jupyter.widget-view+json": {
       "model_id": "",
       "version_major": 2,
       "version_minor": 0
      },
      "text/plain": [
       "  0%|          | 0/8 [00:00<?, ?it/s]"
      ]
     },
     "metadata": {},
     "output_type": "display_data"
    },
    {
     "data": {
      "application/vnd.jupyter.widget-view+json": {
       "model_id": "",
       "version_major": 2,
       "version_minor": 0
      },
      "text/plain": [
       "  0%|          | 0/1 [00:00<?, ?it/s]"
      ]
     },
     "metadata": {},
     "output_type": "display_data"
    },
    {
     "name": "stdout",
     "output_type": "stream",
     "text": [
      "Epoch: 18\tTraining loss: 1.5468\tValidation loss: 1.6682\tValidation accuracy: 0.62\n"
     ]
    },
    {
     "data": {
      "application/vnd.jupyter.widget-view+json": {
       "model_id": "",
       "version_major": 2,
       "version_minor": 0
      },
      "text/plain": [
       "  0%|          | 0/8 [00:00<?, ?it/s]"
      ]
     },
     "metadata": {},
     "output_type": "display_data"
    },
    {
     "data": {
      "application/vnd.jupyter.widget-view+json": {
       "model_id": "",
       "version_major": 2,
       "version_minor": 0
      },
      "text/plain": [
       "  0%|          | 0/1 [00:00<?, ?it/s]"
      ]
     },
     "metadata": {},
     "output_type": "display_data"
    },
    {
     "name": "stdout",
     "output_type": "stream",
     "text": [
      "Epoch: 19\tTraining loss: 1.4219\tValidation loss: 1.6527\tValidation accuracy: 0.57\n"
     ]
    },
    {
     "data": {
      "application/vnd.jupyter.widget-view+json": {
       "model_id": "",
       "version_major": 2,
       "version_minor": 0
      },
      "text/plain": [
       "  0%|          | 0/8 [00:00<?, ?it/s]"
      ]
     },
     "metadata": {},
     "output_type": "display_data"
    },
    {
     "data": {
      "application/vnd.jupyter.widget-view+json": {
       "model_id": "",
       "version_major": 2,
       "version_minor": 0
      },
      "text/plain": [
       "  0%|          | 0/1 [00:00<?, ?it/s]"
      ]
     },
     "metadata": {},
     "output_type": "display_data"
    },
    {
     "name": "stdout",
     "output_type": "stream",
     "text": [
      "Epoch: 20\tTraining loss: 1.3161\tValidation loss: 1.4268\tValidation accuracy: 0.62\n"
     ]
    },
    {
     "data": {
      "application/vnd.jupyter.widget-view+json": {
       "model_id": "",
       "version_major": 2,
       "version_minor": 0
      },
      "text/plain": [
       "  0%|          | 0/8 [00:00<?, ?it/s]"
      ]
     },
     "metadata": {},
     "output_type": "display_data"
    },
    {
     "data": {
      "application/vnd.jupyter.widget-view+json": {
       "model_id": "",
       "version_major": 2,
       "version_minor": 0
      },
      "text/plain": [
       "  0%|          | 0/1 [00:00<?, ?it/s]"
      ]
     },
     "metadata": {},
     "output_type": "display_data"
    },
    {
     "name": "stdout",
     "output_type": "stream",
     "text": [
      "Epoch: 21\tTraining loss: 1.2110\tValidation loss: 1.3745\tValidation accuracy: 0.61\n"
     ]
    },
    {
     "data": {
      "application/vnd.jupyter.widget-view+json": {
       "model_id": "",
       "version_major": 2,
       "version_minor": 0
      },
      "text/plain": [
       "  0%|          | 0/8 [00:00<?, ?it/s]"
      ]
     },
     "metadata": {},
     "output_type": "display_data"
    },
    {
     "data": {
      "application/vnd.jupyter.widget-view+json": {
       "model_id": "",
       "version_major": 2,
       "version_minor": 0
      },
      "text/plain": [
       "  0%|          | 0/1 [00:00<?, ?it/s]"
      ]
     },
     "metadata": {},
     "output_type": "display_data"
    },
    {
     "name": "stdout",
     "output_type": "stream",
     "text": [
      "Epoch: 22\tTraining loss: 1.1235\tValidation loss: 1.1885\tValidation accuracy: 0.67\n"
     ]
    },
    {
     "data": {
      "application/vnd.jupyter.widget-view+json": {
       "model_id": "",
       "version_major": 2,
       "version_minor": 0
      },
      "text/plain": [
       "  0%|          | 0/8 [00:00<?, ?it/s]"
      ]
     },
     "metadata": {},
     "output_type": "display_data"
    },
    {
     "data": {
      "application/vnd.jupyter.widget-view+json": {
       "model_id": "",
       "version_major": 2,
       "version_minor": 0
      },
      "text/plain": [
       "  0%|          | 0/1 [00:00<?, ?it/s]"
      ]
     },
     "metadata": {},
     "output_type": "display_data"
    },
    {
     "name": "stdout",
     "output_type": "stream",
     "text": [
      "Epoch: 23\tTraining loss: 1.0441\tValidation loss: 1.1990\tValidation accuracy: 0.59\n"
     ]
    },
    {
     "data": {
      "application/vnd.jupyter.widget-view+json": {
       "model_id": "",
       "version_major": 2,
       "version_minor": 0
      },
      "text/plain": [
       "  0%|          | 0/8 [00:00<?, ?it/s]"
      ]
     },
     "metadata": {},
     "output_type": "display_data"
    },
    {
     "data": {
      "application/vnd.jupyter.widget-view+json": {
       "model_id": "",
       "version_major": 2,
       "version_minor": 0
      },
      "text/plain": [
       "  0%|          | 0/1 [00:00<?, ?it/s]"
      ]
     },
     "metadata": {},
     "output_type": "display_data"
    },
    {
     "name": "stdout",
     "output_type": "stream",
     "text": [
      "Epoch: 24\tTraining loss: 0.9512\tValidation loss: 1.0366\tValidation accuracy: 0.66\n"
     ]
    },
    {
     "data": {
      "application/vnd.jupyter.widget-view+json": {
       "model_id": "",
       "version_major": 2,
       "version_minor": 0
      },
      "text/plain": [
       "  0%|          | 0/8 [00:00<?, ?it/s]"
      ]
     },
     "metadata": {},
     "output_type": "display_data"
    },
    {
     "data": {
      "application/vnd.jupyter.widget-view+json": {
       "model_id": "",
       "version_major": 2,
       "version_minor": 0
      },
      "text/plain": [
       "  0%|          | 0/1 [00:00<?, ?it/s]"
      ]
     },
     "metadata": {},
     "output_type": "display_data"
    },
    {
     "name": "stdout",
     "output_type": "stream",
     "text": [
      "Epoch: 25\tTraining loss: 0.9700\tValidation loss: 0.9078\tValidation accuracy: 0.70\n"
     ]
    },
    {
     "data": {
      "application/vnd.jupyter.widget-view+json": {
       "model_id": "",
       "version_major": 2,
       "version_minor": 0
      },
      "text/plain": [
       "  0%|          | 0/8 [00:00<?, ?it/s]"
      ]
     },
     "metadata": {},
     "output_type": "display_data"
    },
    {
     "data": {
      "application/vnd.jupyter.widget-view+json": {
       "model_id": "",
       "version_major": 2,
       "version_minor": 0
      },
      "text/plain": [
       "  0%|          | 0/1 [00:00<?, ?it/s]"
      ]
     },
     "metadata": {},
     "output_type": "display_data"
    },
    {
     "name": "stdout",
     "output_type": "stream",
     "text": [
      "Epoch: 26\tTraining loss: 0.8549\tValidation loss: 0.9477\tValidation accuracy: 0.69\n"
     ]
    },
    {
     "data": {
      "application/vnd.jupyter.widget-view+json": {
       "model_id": "",
       "version_major": 2,
       "version_minor": 0
      },
      "text/plain": [
       "  0%|          | 0/8 [00:00<?, ?it/s]"
      ]
     },
     "metadata": {},
     "output_type": "display_data"
    },
    {
     "data": {
      "application/vnd.jupyter.widget-view+json": {
       "model_id": "",
       "version_major": 2,
       "version_minor": 0
      },
      "text/plain": [
       "  0%|          | 0/1 [00:00<?, ?it/s]"
      ]
     },
     "metadata": {},
     "output_type": "display_data"
    },
    {
     "name": "stdout",
     "output_type": "stream",
     "text": [
      "Epoch: 27\tTraining loss: 0.8079\tValidation loss: 0.9053\tValidation accuracy: 0.72\n"
     ]
    },
    {
     "data": {
      "application/vnd.jupyter.widget-view+json": {
       "model_id": "",
       "version_major": 2,
       "version_minor": 0
      },
      "text/plain": [
       "  0%|          | 0/8 [00:00<?, ?it/s]"
      ]
     },
     "metadata": {},
     "output_type": "display_data"
    },
    {
     "data": {
      "application/vnd.jupyter.widget-view+json": {
       "model_id": "",
       "version_major": 2,
       "version_minor": 0
      },
      "text/plain": [
       "  0%|          | 0/1 [00:00<?, ?it/s]"
      ]
     },
     "metadata": {},
     "output_type": "display_data"
    },
    {
     "name": "stdout",
     "output_type": "stream",
     "text": [
      "Epoch: 28\tTraining loss: 0.7279\tValidation loss: 0.7972\tValidation accuracy: 0.75\n"
     ]
    },
    {
     "data": {
      "application/vnd.jupyter.widget-view+json": {
       "model_id": "",
       "version_major": 2,
       "version_minor": 0
      },
      "text/plain": [
       "  0%|          | 0/8 [00:00<?, ?it/s]"
      ]
     },
     "metadata": {},
     "output_type": "display_data"
    },
    {
     "data": {
      "application/vnd.jupyter.widget-view+json": {
       "model_id": "",
       "version_major": 2,
       "version_minor": 0
      },
      "text/plain": [
       "  0%|          | 0/1 [00:00<?, ?it/s]"
      ]
     },
     "metadata": {},
     "output_type": "display_data"
    },
    {
     "name": "stdout",
     "output_type": "stream",
     "text": [
      "Epoch: 29\tTraining loss: 0.6514\tValidation loss: 0.6768\tValidation accuracy: 0.77\n"
     ]
    },
    {
     "data": {
      "application/vnd.jupyter.widget-view+json": {
       "model_id": "",
       "version_major": 2,
       "version_minor": 0
      },
      "text/plain": [
       "  0%|          | 0/8 [00:00<?, ?it/s]"
      ]
     },
     "metadata": {},
     "output_type": "display_data"
    },
    {
     "data": {
      "application/vnd.jupyter.widget-view+json": {
       "model_id": "",
       "version_major": 2,
       "version_minor": 0
      },
      "text/plain": [
       "  0%|          | 0/1 [00:00<?, ?it/s]"
      ]
     },
     "metadata": {},
     "output_type": "display_data"
    },
    {
     "name": "stdout",
     "output_type": "stream",
     "text": [
      "Epoch: 30\tTraining loss: 0.5839\tValidation loss: 0.6014\tValidation accuracy: 0.79\n"
     ]
    },
    {
     "data": {
      "application/vnd.jupyter.widget-view+json": {
       "model_id": "",
       "version_major": 2,
       "version_minor": 0
      },
      "text/plain": [
       "  0%|          | 0/8 [00:00<?, ?it/s]"
      ]
     },
     "metadata": {},
     "output_type": "display_data"
    },
    {
     "data": {
      "application/vnd.jupyter.widget-view+json": {
       "model_id": "",
       "version_major": 2,
       "version_minor": 0
      },
      "text/plain": [
       "  0%|          | 0/1 [00:00<?, ?it/s]"
      ]
     },
     "metadata": {},
     "output_type": "display_data"
    },
    {
     "name": "stdout",
     "output_type": "stream",
     "text": [
      "Epoch: 31\tTraining loss: 0.6920\tValidation loss: 0.5367\tValidation accuracy: 0.80\n"
     ]
    },
    {
     "data": {
      "application/vnd.jupyter.widget-view+json": {
       "model_id": "",
       "version_major": 2,
       "version_minor": 0
      },
      "text/plain": [
       "  0%|          | 0/8 [00:00<?, ?it/s]"
      ]
     },
     "metadata": {},
     "output_type": "display_data"
    },
    {
     "data": {
      "application/vnd.jupyter.widget-view+json": {
       "model_id": "",
       "version_major": 2,
       "version_minor": 0
      },
      "text/plain": [
       "  0%|          | 0/1 [00:00<?, ?it/s]"
      ]
     },
     "metadata": {},
     "output_type": "display_data"
    },
    {
     "name": "stdout",
     "output_type": "stream",
     "text": [
      "Epoch: 32\tTraining loss: 0.5654\tValidation loss: 0.5257\tValidation accuracy: 0.89\n"
     ]
    },
    {
     "data": {
      "application/vnd.jupyter.widget-view+json": {
       "model_id": "",
       "version_major": 2,
       "version_minor": 0
      },
      "text/plain": [
       "  0%|          | 0/8 [00:00<?, ?it/s]"
      ]
     },
     "metadata": {},
     "output_type": "display_data"
    },
    {
     "data": {
      "application/vnd.jupyter.widget-view+json": {
       "model_id": "",
       "version_major": 2,
       "version_minor": 0
      },
      "text/plain": [
       "  0%|          | 0/1 [00:00<?, ?it/s]"
      ]
     },
     "metadata": {},
     "output_type": "display_data"
    },
    {
     "name": "stdout",
     "output_type": "stream",
     "text": [
      "Epoch: 33\tTraining loss: 0.5339\tValidation loss: 0.4638\tValidation accuracy: 0.85\n"
     ]
    },
    {
     "data": {
      "application/vnd.jupyter.widget-view+json": {
       "model_id": "",
       "version_major": 2,
       "version_minor": 0
      },
      "text/plain": [
       "  0%|          | 0/8 [00:00<?, ?it/s]"
      ]
     },
     "metadata": {},
     "output_type": "display_data"
    },
    {
     "data": {
      "application/vnd.jupyter.widget-view+json": {
       "model_id": "",
       "version_major": 2,
       "version_minor": 0
      },
      "text/plain": [
       "  0%|          | 0/1 [00:00<?, ?it/s]"
      ]
     },
     "metadata": {},
     "output_type": "display_data"
    },
    {
     "name": "stdout",
     "output_type": "stream",
     "text": [
      "Epoch: 34\tTraining loss: 0.4579\tValidation loss: 0.4198\tValidation accuracy: 0.87\n"
     ]
    },
    {
     "data": {
      "application/vnd.jupyter.widget-view+json": {
       "model_id": "",
       "version_major": 2,
       "version_minor": 0
      },
      "text/plain": [
       "  0%|          | 0/8 [00:00<?, ?it/s]"
      ]
     },
     "metadata": {},
     "output_type": "display_data"
    },
    {
     "data": {
      "application/vnd.jupyter.widget-view+json": {
       "model_id": "",
       "version_major": 2,
       "version_minor": 0
      },
      "text/plain": [
       "  0%|          | 0/1 [00:00<?, ?it/s]"
      ]
     },
     "metadata": {},
     "output_type": "display_data"
    },
    {
     "name": "stdout",
     "output_type": "stream",
     "text": [
      "Epoch: 35\tTraining loss: 0.4906\tValidation loss: 0.4197\tValidation accuracy: 0.84\n"
     ]
    },
    {
     "data": {
      "application/vnd.jupyter.widget-view+json": {
       "model_id": "",
       "version_major": 2,
       "version_minor": 0
      },
      "text/plain": [
       "  0%|          | 0/8 [00:00<?, ?it/s]"
      ]
     },
     "metadata": {},
     "output_type": "display_data"
    },
    {
     "data": {
      "application/vnd.jupyter.widget-view+json": {
       "model_id": "",
       "version_major": 2,
       "version_minor": 0
      },
      "text/plain": [
       "  0%|          | 0/1 [00:00<?, ?it/s]"
      ]
     },
     "metadata": {},
     "output_type": "display_data"
    },
    {
     "name": "stdout",
     "output_type": "stream",
     "text": [
      "Epoch: 36\tTraining loss: 0.5470\tValidation loss: 0.3798\tValidation accuracy: 0.89\n"
     ]
    },
    {
     "data": {
      "application/vnd.jupyter.widget-view+json": {
       "model_id": "",
       "version_major": 2,
       "version_minor": 0
      },
      "text/plain": [
       "  0%|          | 0/8 [00:00<?, ?it/s]"
      ]
     },
     "metadata": {},
     "output_type": "display_data"
    },
    {
     "data": {
      "application/vnd.jupyter.widget-view+json": {
       "model_id": "",
       "version_major": 2,
       "version_minor": 0
      },
      "text/plain": [
       "  0%|          | 0/1 [00:00<?, ?it/s]"
      ]
     },
     "metadata": {},
     "output_type": "display_data"
    },
    {
     "name": "stdout",
     "output_type": "stream",
     "text": [
      "Epoch: 37\tTraining loss: 0.3627\tValidation loss: 0.3440\tValidation accuracy: 0.93\n"
     ]
    },
    {
     "data": {
      "application/vnd.jupyter.widget-view+json": {
       "model_id": "",
       "version_major": 2,
       "version_minor": 0
      },
      "text/plain": [
       "  0%|          | 0/8 [00:00<?, ?it/s]"
      ]
     },
     "metadata": {},
     "output_type": "display_data"
    },
    {
     "data": {
      "application/vnd.jupyter.widget-view+json": {
       "model_id": "",
       "version_major": 2,
       "version_minor": 0
      },
      "text/plain": [
       "  0%|          | 0/1 [00:00<?, ?it/s]"
      ]
     },
     "metadata": {},
     "output_type": "display_data"
    },
    {
     "name": "stdout",
     "output_type": "stream",
     "text": [
      "Epoch: 38\tTraining loss: 0.4708\tValidation loss: 0.3753\tValidation accuracy: 0.87\n"
     ]
    },
    {
     "data": {
      "application/vnd.jupyter.widget-view+json": {
       "model_id": "",
       "version_major": 2,
       "version_minor": 0
      },
      "text/plain": [
       "  0%|          | 0/8 [00:00<?, ?it/s]"
      ]
     },
     "metadata": {},
     "output_type": "display_data"
    },
    {
     "data": {
      "application/vnd.jupyter.widget-view+json": {
       "model_id": "",
       "version_major": 2,
       "version_minor": 0
      },
      "text/plain": [
       "  0%|          | 0/1 [00:00<?, ?it/s]"
      ]
     },
     "metadata": {},
     "output_type": "display_data"
    },
    {
     "name": "stdout",
     "output_type": "stream",
     "text": [
      "Epoch: 39\tTraining loss: 0.4514\tValidation loss: 0.3171\tValidation accuracy: 0.89\n"
     ]
    },
    {
     "data": {
      "application/vnd.jupyter.widget-view+json": {
       "model_id": "",
       "version_major": 2,
       "version_minor": 0
      },
      "text/plain": [
       "  0%|          | 0/8 [00:00<?, ?it/s]"
      ]
     },
     "metadata": {},
     "output_type": "display_data"
    },
    {
     "data": {
      "application/vnd.jupyter.widget-view+json": {
       "model_id": "",
       "version_major": 2,
       "version_minor": 0
      },
      "text/plain": [
       "  0%|          | 0/1 [00:00<?, ?it/s]"
      ]
     },
     "metadata": {},
     "output_type": "display_data"
    },
    {
     "name": "stdout",
     "output_type": "stream",
     "text": [
      "Epoch: 40\tTraining loss: 0.3949\tValidation loss: 0.2418\tValidation accuracy: 0.95\n"
     ]
    },
    {
     "data": {
      "application/vnd.jupyter.widget-view+json": {
       "model_id": "",
       "version_major": 2,
       "version_minor": 0
      },
      "text/plain": [
       "  0%|          | 0/8 [00:00<?, ?it/s]"
      ]
     },
     "metadata": {},
     "output_type": "display_data"
    },
    {
     "data": {
      "application/vnd.jupyter.widget-view+json": {
       "model_id": "",
       "version_major": 2,
       "version_minor": 0
      },
      "text/plain": [
       "  0%|          | 0/1 [00:00<?, ?it/s]"
      ]
     },
     "metadata": {},
     "output_type": "display_data"
    },
    {
     "name": "stdout",
     "output_type": "stream",
     "text": [
      "Epoch: 41\tTraining loss: 0.3529\tValidation loss: 0.2773\tValidation accuracy: 0.93\n"
     ]
    },
    {
     "data": {
      "application/vnd.jupyter.widget-view+json": {
       "model_id": "",
       "version_major": 2,
       "version_minor": 0
      },
      "text/plain": [
       "  0%|          | 0/8 [00:00<?, ?it/s]"
      ]
     },
     "metadata": {},
     "output_type": "display_data"
    },
    {
     "data": {
      "application/vnd.jupyter.widget-view+json": {
       "model_id": "",
       "version_major": 2,
       "version_minor": 0
      },
      "text/plain": [
       "  0%|          | 0/1 [00:00<?, ?it/s]"
      ]
     },
     "metadata": {},
     "output_type": "display_data"
    },
    {
     "name": "stdout",
     "output_type": "stream",
     "text": [
      "Epoch: 42\tTraining loss: 0.3165\tValidation loss: 0.2785\tValidation accuracy: 0.92\n"
     ]
    },
    {
     "data": {
      "application/vnd.jupyter.widget-view+json": {
       "model_id": "",
       "version_major": 2,
       "version_minor": 0
      },
      "text/plain": [
       "  0%|          | 0/8 [00:00<?, ?it/s]"
      ]
     },
     "metadata": {},
     "output_type": "display_data"
    },
    {
     "data": {
      "application/vnd.jupyter.widget-view+json": {
       "model_id": "",
       "version_major": 2,
       "version_minor": 0
      },
      "text/plain": [
       "  0%|          | 0/1 [00:00<?, ?it/s]"
      ]
     },
     "metadata": {},
     "output_type": "display_data"
    },
    {
     "name": "stdout",
     "output_type": "stream",
     "text": [
      "Epoch: 43\tTraining loss: 0.3874\tValidation loss: 0.2735\tValidation accuracy: 0.89\n"
     ]
    },
    {
     "data": {
      "application/vnd.jupyter.widget-view+json": {
       "model_id": "",
       "version_major": 2,
       "version_minor": 0
      },
      "text/plain": [
       "  0%|          | 0/8 [00:00<?, ?it/s]"
      ]
     },
     "metadata": {},
     "output_type": "display_data"
    },
    {
     "data": {
      "application/vnd.jupyter.widget-view+json": {
       "model_id": "",
       "version_major": 2,
       "version_minor": 0
      },
      "text/plain": [
       "  0%|          | 0/1 [00:00<?, ?it/s]"
      ]
     },
     "metadata": {},
     "output_type": "display_data"
    },
    {
     "name": "stdout",
     "output_type": "stream",
     "text": [
      "Epoch: 44\tTraining loss: 0.2582\tValidation loss: 0.2656\tValidation accuracy: 0.92\n"
     ]
    },
    {
     "data": {
      "application/vnd.jupyter.widget-view+json": {
       "model_id": "",
       "version_major": 2,
       "version_minor": 0
      },
      "text/plain": [
       "  0%|          | 0/8 [00:00<?, ?it/s]"
      ]
     },
     "metadata": {},
     "output_type": "display_data"
    },
    {
     "data": {
      "application/vnd.jupyter.widget-view+json": {
       "model_id": "",
       "version_major": 2,
       "version_minor": 0
      },
      "text/plain": [
       "  0%|          | 0/1 [00:00<?, ?it/s]"
      ]
     },
     "metadata": {},
     "output_type": "display_data"
    },
    {
     "name": "stdout",
     "output_type": "stream",
     "text": [
      "Epoch: 45\tTraining loss: 0.2595\tValidation loss: 0.1796\tValidation accuracy: 0.97\n"
     ]
    },
    {
     "data": {
      "application/vnd.jupyter.widget-view+json": {
       "model_id": "",
       "version_major": 2,
       "version_minor": 0
      },
      "text/plain": [
       "  0%|          | 0/8 [00:00<?, ?it/s]"
      ]
     },
     "metadata": {},
     "output_type": "display_data"
    },
    {
     "data": {
      "application/vnd.jupyter.widget-view+json": {
       "model_id": "",
       "version_major": 2,
       "version_minor": 0
      },
      "text/plain": [
       "  0%|          | 0/1 [00:00<?, ?it/s]"
      ]
     },
     "metadata": {},
     "output_type": "display_data"
    },
    {
     "name": "stdout",
     "output_type": "stream",
     "text": [
      "Epoch: 46\tTraining loss: 0.3053\tValidation loss: 0.1540\tValidation accuracy: 0.95\n"
     ]
    },
    {
     "data": {
      "application/vnd.jupyter.widget-view+json": {
       "model_id": "",
       "version_major": 2,
       "version_minor": 0
      },
      "text/plain": [
       "  0%|          | 0/8 [00:00<?, ?it/s]"
      ]
     },
     "metadata": {},
     "output_type": "display_data"
    },
    {
     "data": {
      "application/vnd.jupyter.widget-view+json": {
       "model_id": "",
       "version_major": 2,
       "version_minor": 0
      },
      "text/plain": [
       "  0%|          | 0/1 [00:00<?, ?it/s]"
      ]
     },
     "metadata": {},
     "output_type": "display_data"
    },
    {
     "name": "stdout",
     "output_type": "stream",
     "text": [
      "Epoch: 47\tTraining loss: 0.2117\tValidation loss: 0.1327\tValidation accuracy: 0.97\n"
     ]
    },
    {
     "data": {
      "application/vnd.jupyter.widget-view+json": {
       "model_id": "",
       "version_major": 2,
       "version_minor": 0
      },
      "text/plain": [
       "  0%|          | 0/8 [00:00<?, ?it/s]"
      ]
     },
     "metadata": {},
     "output_type": "display_data"
    },
    {
     "data": {
      "application/vnd.jupyter.widget-view+json": {
       "model_id": "",
       "version_major": 2,
       "version_minor": 0
      },
      "text/plain": [
       "  0%|          | 0/1 [00:00<?, ?it/s]"
      ]
     },
     "metadata": {},
     "output_type": "display_data"
    },
    {
     "name": "stdout",
     "output_type": "stream",
     "text": [
      "Epoch: 48\tTraining loss: 0.2558\tValidation loss: 0.0947\tValidation accuracy: 1.00\n"
     ]
    },
    {
     "data": {
      "application/vnd.jupyter.widget-view+json": {
       "model_id": "",
       "version_major": 2,
       "version_minor": 0
      },
      "text/plain": [
       "  0%|          | 0/8 [00:00<?, ?it/s]"
      ]
     },
     "metadata": {},
     "output_type": "display_data"
    },
    {
     "data": {
      "application/vnd.jupyter.widget-view+json": {
       "model_id": "",
       "version_major": 2,
       "version_minor": 0
      },
      "text/plain": [
       "  0%|          | 0/1 [00:00<?, ?it/s]"
      ]
     },
     "metadata": {},
     "output_type": "display_data"
    },
    {
     "name": "stdout",
     "output_type": "stream",
     "text": [
      "Epoch: 49\tTraining loss: 0.1964\tValidation loss: 0.1024\tValidation accuracy: 1.00\n"
     ]
    },
    {
     "data": {
      "application/vnd.jupyter.widget-view+json": {
       "model_id": "",
       "version_major": 2,
       "version_minor": 0
      },
      "text/plain": [
       "  0%|          | 0/8 [00:00<?, ?it/s]"
      ]
     },
     "metadata": {},
     "output_type": "display_data"
    },
    {
     "data": {
      "application/vnd.jupyter.widget-view+json": {
       "model_id": "",
       "version_major": 2,
       "version_minor": 0
      },
      "text/plain": [
       "  0%|          | 0/1 [00:00<?, ?it/s]"
      ]
     },
     "metadata": {},
     "output_type": "display_data"
    },
    {
     "name": "stdout",
     "output_type": "stream",
     "text": [
      "Epoch: 50\tTraining loss: 0.2769\tValidation loss: 0.1031\tValidation accuracy: 0.98\n",
      "Wall time: 4.45 s\n"
     ]
    },
    {
     "data": {
      "text/plain": [
       "([3.7090034,\n",
       "  3.6985817,\n",
       "  3.684168,\n",
       "  3.6651623,\n",
       "  3.6303654,\n",
       "  3.5890198,\n",
       "  3.5226667,\n",
       "  3.414013,\n",
       "  3.276775,\n",
       "  3.0438995,\n",
       "  2.7661254,\n",
       "  2.497734,\n",
       "  2.272192,\n",
       "  2.214332,\n",
       "  2.019826,\n",
       "  1.8866427,\n",
       "  1.6371458,\n",
       "  1.5468428,\n",
       "  1.4218855,\n",
       "  1.3160862,\n",
       "  1.2109969,\n",
       "  1.1235285,\n",
       "  1.0440753,\n",
       "  0.9511523,\n",
       "  0.96997494,\n",
       "  0.8549166,\n",
       "  0.80787575,\n",
       "  0.7278631,\n",
       "  0.6513556,\n",
       "  0.5839288,\n",
       "  0.6919612,\n",
       "  0.56542003,\n",
       "  0.53388923,\n",
       "  0.4579456,\n",
       "  0.4905705,\n",
       "  0.54698956,\n",
       "  0.36268514,\n",
       "  0.47080135,\n",
       "  0.45144954,\n",
       "  0.39490026,\n",
       "  0.35285813,\n",
       "  0.31647298,\n",
       "  0.38739735,\n",
       "  0.2581907,\n",
       "  0.2595263,\n",
       "  0.30526692,\n",
       "  0.21171096,\n",
       "  0.255787,\n",
       "  0.19640358,\n",
       "  0.27685452],\n",
       " [3.7161043,\n",
       "  3.7183843,\n",
       "  3.7268858,\n",
       "  3.7281885,\n",
       "  3.7268019,\n",
       "  3.7149522,\n",
       "  3.6962411,\n",
       "  3.5853884,\n",
       "  3.3835588,\n",
       "  3.0870552,\n",
       "  2.8179915,\n",
       "  2.5745137,\n",
       "  2.4785151,\n",
       "  2.2907825,\n",
       "  2.3304756,\n",
       "  2.0266728,\n",
       "  1.8162206,\n",
       "  1.6682136,\n",
       "  1.6526693,\n",
       "  1.4268264,\n",
       "  1.3745204,\n",
       "  1.1885222,\n",
       "  1.1990441,\n",
       "  1.0366266,\n",
       "  0.90775067,\n",
       "  0.9476675,\n",
       "  0.9052697,\n",
       "  0.79722637,\n",
       "  0.67683583,\n",
       "  0.601397,\n",
       "  0.5366574,\n",
       "  0.5257467,\n",
       "  0.46384224,\n",
       "  0.4197993,\n",
       "  0.41973677,\n",
       "  0.37980503,\n",
       "  0.34402776,\n",
       "  0.3753419,\n",
       "  0.3171098,\n",
       "  0.24177447,\n",
       "  0.27727178,\n",
       "  0.2784878,\n",
       "  0.27354252,\n",
       "  0.26555043,\n",
       "  0.17956278,\n",
       "  0.15395528,\n",
       "  0.13266312,\n",
       "  0.09472624,\n",
       "  0.10242419,\n",
       "  0.10310712])"
      ]
     },
     "execution_count": 48,
     "metadata": {},
     "output_type": "execute_result"
    },
    {
     "data": {
      "image/png": "[encoded data removed]",
      "text/plain": [
       "<Figure size 1152x576 with 2 Axes>"
      ]
     },
     "metadata": {
      "needs_background": "light"
     },
     "output_type": "display_data"
    }
   ],
   "source": [
    "%%time\n",
    "train_val(ANN_SGD, tr_dl, val_dl, criterion='SGD', epochs=50, lr=0.05);"
   ]
  },
  {
   "cell_type": "markdown",
   "id": "linear-aruba",
   "metadata": {
    "hidden": true
   },
   "source": [
    "Now we can test our model against some examples with our prediction function."
   ]
  },
  {
   "cell_type": "code",
   "execution_count": 49,
   "id": "worthy-swaziland",
   "metadata": {
    "ExecuteTime": {
     "end_time": "2021-05-14T01:10:01.551827Z",
     "start_time": "2021-05-14T01:10:01.411206Z"
    },
    "hidden": true
   },
   "outputs": [
    {
     "name": "stdout",
     "output_type": "stream",
     "text": [
      "GERD\n",
      "Wall time: 999 µs\n"
     ]
    }
   ],
   "source": [
    "%%time\n",
    "print(predict(ANN_SGD, gerd))"
   ]
  },
  {
   "cell_type": "code",
   "execution_count": 50,
   "id": "better-eight",
   "metadata": {
    "ExecuteTime": {
     "end_time": "2021-05-14T01:10:01.753548Z",
     "start_time": "2021-05-14T01:10:01.552825Z"
    },
    "hidden": true
   },
   "outputs": [
    {
     "name": "stdout",
     "output_type": "stream",
     "text": [
      "Common Cold\n",
      "Wall time: 998 µs\n"
     ]
    }
   ],
   "source": [
    "%%time\n",
    "print(predict(ANN_SGD, cc))"
   ]
  },
  {
   "cell_type": "code",
   "execution_count": 51,
   "id": "minute-secret",
   "metadata": {
    "ExecuteTime": {
     "end_time": "2021-05-14T01:10:02.018856Z",
     "start_time": "2021-05-14T01:10:01.754546Z"
    },
    "hidden": true
   },
   "outputs": [
    {
     "name": "stdout",
     "output_type": "stream",
     "text": [
      "Hepatitis C\n",
      "Wall time: 987 µs\n"
     ]
    }
   ],
   "source": [
    "%%time\n",
    "print(predict(ANN_SGD, hepc))"
   ]
  },
  {
   "cell_type": "code",
   "execution_count": 52,
   "id": "lyric-diving",
   "metadata": {
    "ExecuteTime": {
     "end_time": "2021-05-14T01:10:02.360691Z",
     "start_time": "2021-05-14T01:10:02.021850Z"
    },
    "hidden": true
   },
   "outputs": [
    {
     "name": "stdout",
     "output_type": "stream",
     "text": [
      "Hepatitis D\n",
      "Wall time: 994 µs\n"
     ]
    }
   ],
   "source": [
    "%%time\n",
    "print(predict(ANN_SGD, hepd))"
   ]
  },
  {
   "cell_type": "markdown",
   "id": "marine-reform",
   "metadata": {
    "heading_collapsed": true,
    "hidden": true
   },
   "source": [
    "#### Adam Optimiser"
   ]
  },
  {
   "cell_type": "markdown",
   "id": "printable-vessel",
   "metadata": {
    "hidden": true
   },
   "source": [
    "We define our Artificial Neural Network with Adam optimiser using Pytorch nn.Sequential."
   ]
  },
  {
   "cell_type": "code",
   "execution_count": 53,
   "id": "controversial-tuesday",
   "metadata": {
    "ExecuteTime": {
     "end_time": "2021-05-14T01:10:02.725346Z",
     "start_time": "2021-05-14T01:10:02.363681Z"
    },
    "hidden": true
   },
   "outputs": [
    {
     "data": {
      "text/plain": [
       "Sequential(\n",
       "  (0): Linear(in_features=132, out_features=200, bias=True)\n",
       "  (1): ReLU()\n",
       "  (2): Dropout(p=0.5, inplace=False)\n",
       "  (3): Linear(in_features=200, out_features=400, bias=True)\n",
       "  (4): ReLU()\n",
       "  (5): Dropout(p=0.5, inplace=False)\n",
       "  (6): Linear(in_features=400, out_features=200, bias=True)\n",
       "  (7): ReLU()\n",
       "  (8): Dropout(p=0.5, inplace=False)\n",
       "  (9): Linear(in_features=200, out_features=41, bias=True)\n",
       ")"
      ]
     },
     "execution_count": 53,
     "metadata": {},
     "output_type": "execute_result"
    }
   ],
   "source": [
    "ANN = nn.Sequential(\n",
    "    nn.Linear(in_features=132, out_features=200), nn.ReLU(), nn.Dropout(0.5),\n",
    "    nn.Linear(in_features=200, out_features=400), nn.ReLU(), nn.Dropout(0.5),\n",
    "    nn.Linear(in_features=400, out_features=200), nn.ReLU(), nn.Dropout(0.5),\n",
    "    nn.Linear(in_features=200, out_features=num_classes)\n",
    ").to(device)\n",
    "\n",
    "ANN"
   ]
  },
  {
   "cell_type": "markdown",
   "id": "banned-locator",
   "metadata": {
    "hidden": true
   },
   "source": [
    "We train and validate the model using our train_val function."
   ]
  },
  {
   "cell_type": "code",
   "execution_count": 54,
   "id": "identical-probe",
   "metadata": {
    "ExecuteTime": {
     "end_time": "2021-05-14T01:10:09.374674Z",
     "start_time": "2021-05-14T01:10:02.727329Z"
    },
    "hidden": true
   },
   "outputs": [
    {
     "data": {
      "application/vnd.jupyter.widget-view+json": {
       "model_id": "dd454f91488d4e9e9b24a38ed618fa90",
       "version_major": 2,
       "version_minor": 0
      },
      "text/plain": [
       "  0%|          | 0/50 [00:00<?, ?it/s]"
      ]
     },
     "metadata": {},
     "output_type": "display_data"
    },
    {
     "data": {
      "application/vnd.jupyter.widget-view+json": {
       "model_id": "",
       "version_major": 2,
       "version_minor": 0
      },
      "text/plain": [
       "  0%|          | 0/8 [00:00<?, ?it/s]"
      ]
     },
     "metadata": {},
     "output_type": "display_data"
    },
    {
     "data": {
      "application/vnd.jupyter.widget-view+json": {
       "model_id": "",
       "version_major": 2,
       "version_minor": 0
      },
      "text/plain": [
       "  0%|          | 0/1 [00:00<?, ?it/s]"
      ]
     },
     "metadata": {},
     "output_type": "display_data"
    },
    {
     "name": "stdout",
     "output_type": "stream",
     "text": [
      "Epoch: 1\tTraining loss: 3.7073\tValidation loss: 3.7037\tValidation accuracy: 0.03\n"
     ]
    },
    {
     "data": {
      "application/vnd.jupyter.widget-view+json": {
       "model_id": "",
       "version_major": 2,
       "version_minor": 0
      },
      "text/plain": [
       "  0%|          | 0/8 [00:00<?, ?it/s]"
      ]
     },
     "metadata": {},
     "output_type": "display_data"
    },
    {
     "data": {
      "application/vnd.jupyter.widget-view+json": {
       "model_id": "",
       "version_major": 2,
       "version_minor": 0
      },
      "text/plain": [
       "  0%|          | 0/1 [00:00<?, ?it/s]"
      ]
     },
     "metadata": {},
     "output_type": "display_data"
    },
    {
     "name": "stdout",
     "output_type": "stream",
     "text": [
      "Epoch: 2\tTraining loss: 3.6744\tValidation loss: 3.6827\tValidation accuracy: 0.10\n"
     ]
    },
    {
     "data": {
      "application/vnd.jupyter.widget-view+json": {
       "model_id": "",
       "version_major": 2,
       "version_minor": 0
      },
      "text/plain": [
       "  0%|          | 0/8 [00:00<?, ?it/s]"
      ]
     },
     "metadata": {},
     "output_type": "display_data"
    },
    {
     "data": {
      "application/vnd.jupyter.widget-view+json": {
       "model_id": "",
       "version_major": 2,
       "version_minor": 0
      },
      "text/plain": [
       "  0%|          | 0/1 [00:00<?, ?it/s]"
      ]
     },
     "metadata": {},
     "output_type": "display_data"
    },
    {
     "name": "stdout",
     "output_type": "stream",
     "text": [
      "Epoch: 3\tTraining loss: 3.6145\tValidation loss: 3.6462\tValidation accuracy: 0.13\n"
     ]
    },
    {
     "data": {
      "application/vnd.jupyter.widget-view+json": {
       "model_id": "",
       "version_major": 2,
       "version_minor": 0
      },
      "text/plain": [
       "  0%|          | 0/8 [00:00<?, ?it/s]"
      ]
     },
     "metadata": {},
     "output_type": "display_data"
    },
    {
     "data": {
      "application/vnd.jupyter.widget-view+json": {
       "model_id": "",
       "version_major": 2,
       "version_minor": 0
      },
      "text/plain": [
       "  0%|          | 0/1 [00:00<?, ?it/s]"
      ]
     },
     "metadata": {},
     "output_type": "display_data"
    },
    {
     "name": "stdout",
     "output_type": "stream",
     "text": [
      "Epoch: 4\tTraining loss: 3.5217\tValidation loss: 3.5758\tValidation accuracy: 0.13\n"
     ]
    },
    {
     "data": {
      "application/vnd.jupyter.widget-view+json": {
       "model_id": "",
       "version_major": 2,
       "version_minor": 0
      },
      "text/plain": [
       "  0%|          | 0/8 [00:00<?, ?it/s]"
      ]
     },
     "metadata": {},
     "output_type": "display_data"
    },
    {
     "data": {
      "application/vnd.jupyter.widget-view+json": {
       "model_id": "",
       "version_major": 2,
       "version_minor": 0
      },
      "text/plain": [
       "  0%|          | 0/1 [00:00<?, ?it/s]"
      ]
     },
     "metadata": {},
     "output_type": "display_data"
    },
    {
     "name": "stdout",
     "output_type": "stream",
     "text": [
      "Epoch: 5\tTraining loss: 3.3312\tValidation loss: 3.4932\tValidation accuracy: 0.13\n"
     ]
    },
    {
     "data": {
      "application/vnd.jupyter.widget-view+json": {
       "model_id": "",
       "version_major": 2,
       "version_minor": 0
      },
      "text/plain": [
       "  0%|          | 0/8 [00:00<?, ?it/s]"
      ]
     },
     "metadata": {},
     "output_type": "display_data"
    },
    {
     "data": {
      "application/vnd.jupyter.widget-view+json": {
       "model_id": "",
       "version_major": 2,
       "version_minor": 0
      },
      "text/plain": [
       "  0%|          | 0/1 [00:00<?, ?it/s]"
      ]
     },
     "metadata": {},
     "output_type": "display_data"
    },
    {
     "name": "stdout",
     "output_type": "stream",
     "text": [
      "Epoch: 6\tTraining loss: 3.1976\tValidation loss: 3.3011\tValidation accuracy: 0.18\n"
     ]
    },
    {
     "data": {
      "application/vnd.jupyter.widget-view+json": {
       "model_id": "",
       "version_major": 2,
       "version_minor": 0
      },
      "text/plain": [
       "  0%|          | 0/8 [00:00<?, ?it/s]"
      ]
     },
     "metadata": {},
     "output_type": "display_data"
    },
    {
     "data": {
      "application/vnd.jupyter.widget-view+json": {
       "model_id": "",
       "version_major": 2,
       "version_minor": 0
      },
      "text/plain": [
       "  0%|          | 0/1 [00:00<?, ?it/s]"
      ]
     },
     "metadata": {},
     "output_type": "display_data"
    },
    {
     "name": "stdout",
     "output_type": "stream",
     "text": [
      "Epoch: 7\tTraining loss: 2.9533\tValidation loss: 3.0395\tValidation accuracy: 0.16\n"
     ]
    },
    {
     "data": {
      "application/vnd.jupyter.widget-view+json": {
       "model_id": "",
       "version_major": 2,
       "version_minor": 0
      },
      "text/plain": [
       "  0%|          | 0/8 [00:00<?, ?it/s]"
      ]
     },
     "metadata": {},
     "output_type": "display_data"
    },
    {
     "data": {
      "application/vnd.jupyter.widget-view+json": {
       "model_id": "",
       "version_major": 2,
       "version_minor": 0
      },
      "text/plain": [
       "  0%|          | 0/1 [00:00<?, ?it/s]"
      ]
     },
     "metadata": {},
     "output_type": "display_data"
    },
    {
     "name": "stdout",
     "output_type": "stream",
     "text": [
      "Epoch: 8\tTraining loss: 2.6630\tValidation loss: 2.7935\tValidation accuracy: 0.21\n"
     ]
    },
    {
     "data": {
      "application/vnd.jupyter.widget-view+json": {
       "model_id": "",
       "version_major": 2,
       "version_minor": 0
      },
      "text/plain": [
       "  0%|          | 0/8 [00:00<?, ?it/s]"
      ]
     },
     "metadata": {},
     "output_type": "display_data"
    },
    {
     "data": {
      "application/vnd.jupyter.widget-view+json": {
       "model_id": "",
       "version_major": 2,
       "version_minor": 0
      },
      "text/plain": [
       "  0%|          | 0/1 [00:00<?, ?it/s]"
      ]
     },
     "metadata": {},
     "output_type": "display_data"
    },
    {
     "name": "stdout",
     "output_type": "stream",
     "text": [
      "Epoch: 9\tTraining loss: 2.3499\tValidation loss: 2.5348\tValidation accuracy: 0.38\n"
     ]
    },
    {
     "data": {
      "application/vnd.jupyter.widget-view+json": {
       "model_id": "",
       "version_major": 2,
       "version_minor": 0
      },
      "text/plain": [
       "  0%|          | 0/8 [00:00<?, ?it/s]"
      ]
     },
     "metadata": {},
     "output_type": "display_data"
    },
    {
     "data": {
      "application/vnd.jupyter.widget-view+json": {
       "model_id": "",
       "version_major": 2,
       "version_minor": 0
      },
      "text/plain": [
       "  0%|          | 0/1 [00:00<?, ?it/s]"
      ]
     },
     "metadata": {},
     "output_type": "display_data"
    },
    {
     "name": "stdout",
     "output_type": "stream",
     "text": [
      "Epoch: 10\tTraining loss: 2.1923\tValidation loss: 2.3326\tValidation accuracy: 0.38\n"
     ]
    },
    {
     "data": {
      "application/vnd.jupyter.widget-view+json": {
       "model_id": "",
       "version_major": 2,
       "version_minor": 0
      },
      "text/plain": [
       "  0%|          | 0/8 [00:00<?, ?it/s]"
      ]
     },
     "metadata": {},
     "output_type": "display_data"
    },
    {
     "data": {
      "application/vnd.jupyter.widget-view+json": {
       "model_id": "",
       "version_major": 2,
       "version_minor": 0
      },
      "text/plain": [
       "  0%|          | 0/1 [00:00<?, ?it/s]"
      ]
     },
     "metadata": {},
     "output_type": "display_data"
    },
    {
     "name": "stdout",
     "output_type": "stream",
     "text": [
      "Epoch: 11\tTraining loss: 1.9364\tValidation loss: 2.1526\tValidation accuracy: 0.49\n"
     ]
    },
    {
     "data": {
      "application/vnd.jupyter.widget-view+json": {
       "model_id": "",
       "version_major": 2,
       "version_minor": 0
      },
      "text/plain": [
       "  0%|          | 0/8 [00:00<?, ?it/s]"
      ]
     },
     "metadata": {},
     "output_type": "display_data"
    },
    {
     "data": {
      "application/vnd.jupyter.widget-view+json": {
       "model_id": "",
       "version_major": 2,
       "version_minor": 0
      },
      "text/plain": [
       "  0%|          | 0/1 [00:00<?, ?it/s]"
      ]
     },
     "metadata": {},
     "output_type": "display_data"
    },
    {
     "name": "stdout",
     "output_type": "stream",
     "text": [
      "Epoch: 12\tTraining loss: 1.8120\tValidation loss: 1.9659\tValidation accuracy: 0.56\n"
     ]
    },
    {
     "data": {
      "application/vnd.jupyter.widget-view+json": {
       "model_id": "",
       "version_major": 2,
       "version_minor": 0
      },
      "text/plain": [
       "  0%|          | 0/8 [00:00<?, ?it/s]"
      ]
     },
     "metadata": {},
     "output_type": "display_data"
    },
    {
     "data": {
      "application/vnd.jupyter.widget-view+json": {
       "model_id": "",
       "version_major": 2,
       "version_minor": 0
      },
      "text/plain": [
       "  0%|          | 0/1 [00:00<?, ?it/s]"
      ]
     },
     "metadata": {},
     "output_type": "display_data"
    },
    {
     "name": "stdout",
     "output_type": "stream",
     "text": [
      "Epoch: 13\tTraining loss: 1.6270\tValidation loss: 1.8512\tValidation accuracy: 0.54\n"
     ]
    },
    {
     "data": {
      "application/vnd.jupyter.widget-view+json": {
       "model_id": "",
       "version_major": 2,
       "version_minor": 0
      },
      "text/plain": [
       "  0%|          | 0/8 [00:00<?, ?it/s]"
      ]
     },
     "metadata": {},
     "output_type": "display_data"
    },
    {
     "data": {
      "application/vnd.jupyter.widget-view+json": {
       "model_id": "",
       "version_major": 2,
       "version_minor": 0
      },
      "text/plain": [
       "  0%|          | 0/1 [00:00<?, ?it/s]"
      ]
     },
     "metadata": {},
     "output_type": "display_data"
    },
    {
     "name": "stdout",
     "output_type": "stream",
     "text": [
      "Epoch: 14\tTraining loss: 1.4520\tValidation loss: 1.6844\tValidation accuracy: 0.64\n"
     ]
    },
    {
     "data": {
      "application/vnd.jupyter.widget-view+json": {
       "model_id": "",
       "version_major": 2,
       "version_minor": 0
      },
      "text/plain": [
       "  0%|          | 0/8 [00:00<?, ?it/s]"
      ]
     },
     "metadata": {},
     "output_type": "display_data"
    },
    {
     "data": {
      "application/vnd.jupyter.widget-view+json": {
       "model_id": "",
       "version_major": 2,
       "version_minor": 0
      },
      "text/plain": [
       "  0%|          | 0/1 [00:00<?, ?it/s]"
      ]
     },
     "metadata": {},
     "output_type": "display_data"
    },
    {
     "name": "stdout",
     "output_type": "stream",
     "text": [
      "Epoch: 15\tTraining loss: 1.2660\tValidation loss: 1.5227\tValidation accuracy: 0.62\n"
     ]
    },
    {
     "data": {
      "application/vnd.jupyter.widget-view+json": {
       "model_id": "",
       "version_major": 2,
       "version_minor": 0
      },
      "text/plain": [
       "  0%|          | 0/8 [00:00<?, ?it/s]"
      ]
     },
     "metadata": {},
     "output_type": "display_data"
    },
    {
     "data": {
      "application/vnd.jupyter.widget-view+json": {
       "model_id": "",
       "version_major": 2,
       "version_minor": 0
      },
      "text/plain": [
       "  0%|          | 0/1 [00:00<?, ?it/s]"
      ]
     },
     "metadata": {},
     "output_type": "display_data"
    },
    {
     "name": "stdout",
     "output_type": "stream",
     "text": [
      "Epoch: 16\tTraining loss: 1.1994\tValidation loss: 1.3862\tValidation accuracy: 0.64\n"
     ]
    },
    {
     "data": {
      "application/vnd.jupyter.widget-view+json": {
       "model_id": "",
       "version_major": 2,
       "version_minor": 0
      },
      "text/plain": [
       "  0%|          | 0/8 [00:00<?, ?it/s]"
      ]
     },
     "metadata": {},
     "output_type": "display_data"
    },
    {
     "data": {
      "application/vnd.jupyter.widget-view+json": {
       "model_id": "",
       "version_major": 2,
       "version_minor": 0
      },
      "text/plain": [
       "  0%|          | 0/1 [00:00<?, ?it/s]"
      ]
     },
     "metadata": {},
     "output_type": "display_data"
    },
    {
     "name": "stdout",
     "output_type": "stream",
     "text": [
      "Epoch: 17\tTraining loss: 0.9956\tValidation loss: 1.2616\tValidation accuracy: 0.67\n"
     ]
    },
    {
     "data": {
      "application/vnd.jupyter.widget-view+json": {
       "model_id": "",
       "version_major": 2,
       "version_minor": 0
      },
      "text/plain": [
       "  0%|          | 0/8 [00:00<?, ?it/s]"
      ]
     },
     "metadata": {},
     "output_type": "display_data"
    },
    {
     "data": {
      "application/vnd.jupyter.widget-view+json": {
       "model_id": "",
       "version_major": 2,
       "version_minor": 0
      },
      "text/plain": [
       "  0%|          | 0/1 [00:00<?, ?it/s]"
      ]
     },
     "metadata": {},
     "output_type": "display_data"
    },
    {
     "name": "stdout",
     "output_type": "stream",
     "text": [
      "Epoch: 18\tTraining loss: 0.9135\tValidation loss: 1.1204\tValidation accuracy: 0.69\n"
     ]
    },
    {
     "data": {
      "application/vnd.jupyter.widget-view+json": {
       "model_id": "",
       "version_major": 2,
       "version_minor": 0
      },
      "text/plain": [
       "  0%|          | 0/8 [00:00<?, ?it/s]"
      ]
     },
     "metadata": {},
     "output_type": "display_data"
    },
    {
     "data": {
      "application/vnd.jupyter.widget-view+json": {
       "model_id": "",
       "version_major": 2,
       "version_minor": 0
      },
      "text/plain": [
       "  0%|          | 0/1 [00:00<?, ?it/s]"
      ]
     },
     "metadata": {},
     "output_type": "display_data"
    },
    {
     "name": "stdout",
     "output_type": "stream",
     "text": [
      "Epoch: 19\tTraining loss: 0.9292\tValidation loss: 1.0157\tValidation accuracy: 0.72\n"
     ]
    },
    {
     "data": {
      "application/vnd.jupyter.widget-view+json": {
       "model_id": "",
       "version_major": 2,
       "version_minor": 0
      },
      "text/plain": [
       "  0%|          | 0/8 [00:00<?, ?it/s]"
      ]
     },
     "metadata": {},
     "output_type": "display_data"
    },
    {
     "data": {
      "application/vnd.jupyter.widget-view+json": {
       "model_id": "",
       "version_major": 2,
       "version_minor": 0
      },
      "text/plain": [
       "  0%|          | 0/1 [00:00<?, ?it/s]"
      ]
     },
     "metadata": {},
     "output_type": "display_data"
    },
    {
     "name": "stdout",
     "output_type": "stream",
     "text": [
      "Epoch: 20\tTraining loss: 0.7112\tValidation loss: 0.8815\tValidation accuracy: 0.79\n"
     ]
    },
    {
     "data": {
      "application/vnd.jupyter.widget-view+json": {
       "model_id": "",
       "version_major": 2,
       "version_minor": 0
      },
      "text/plain": [
       "  0%|          | 0/8 [00:00<?, ?it/s]"
      ]
     },
     "metadata": {},
     "output_type": "display_data"
    },
    {
     "data": {
      "application/vnd.jupyter.widget-view+json": {
       "model_id": "",
       "version_major": 2,
       "version_minor": 0
      },
      "text/plain": [
       "  0%|          | 0/1 [00:00<?, ?it/s]"
      ]
     },
     "metadata": {},
     "output_type": "display_data"
    },
    {
     "name": "stdout",
     "output_type": "stream",
     "text": [
      "Epoch: 21\tTraining loss: 0.6513\tValidation loss: 0.7808\tValidation accuracy: 0.80\n"
     ]
    },
    {
     "data": {
      "application/vnd.jupyter.widget-view+json": {
       "model_id": "",
       "version_major": 2,
       "version_minor": 0
      },
      "text/plain": [
       "  0%|          | 0/8 [00:00<?, ?it/s]"
      ]
     },
     "metadata": {},
     "output_type": "display_data"
    },
    {
     "data": {
      "application/vnd.jupyter.widget-view+json": {
       "model_id": "",
       "version_major": 2,
       "version_minor": 0
      },
      "text/plain": [
       "  0%|          | 0/1 [00:00<?, ?it/s]"
      ]
     },
     "metadata": {},
     "output_type": "display_data"
    },
    {
     "name": "stdout",
     "output_type": "stream",
     "text": [
      "Epoch: 22\tTraining loss: 0.6429\tValidation loss: 0.7216\tValidation accuracy: 0.80\n"
     ]
    },
    {
     "data": {
      "application/vnd.jupyter.widget-view+json": {
       "model_id": "",
       "version_major": 2,
       "version_minor": 0
      },
      "text/plain": [
       "  0%|          | 0/8 [00:00<?, ?it/s]"
      ]
     },
     "metadata": {},
     "output_type": "display_data"
    },
    {
     "data": {
      "application/vnd.jupyter.widget-view+json": {
       "model_id": "",
       "version_major": 2,
       "version_minor": 0
      },
      "text/plain": [
       "  0%|          | 0/1 [00:00<?, ?it/s]"
      ]
     },
     "metadata": {},
     "output_type": "display_data"
    },
    {
     "name": "stdout",
     "output_type": "stream",
     "text": [
      "Epoch: 23\tTraining loss: 0.5380\tValidation loss: 0.6471\tValidation accuracy: 0.84\n"
     ]
    },
    {
     "data": {
      "application/vnd.jupyter.widget-view+json": {
       "model_id": "",
       "version_major": 2,
       "version_minor": 0
      },
      "text/plain": [
       "  0%|          | 0/8 [00:00<?, ?it/s]"
      ]
     },
     "metadata": {},
     "output_type": "display_data"
    },
    {
     "data": {
      "application/vnd.jupyter.widget-view+json": {
       "model_id": "",
       "version_major": 2,
       "version_minor": 0
      },
      "text/plain": [
       "  0%|          | 0/1 [00:00<?, ?it/s]"
      ]
     },
     "metadata": {},
     "output_type": "display_data"
    },
    {
     "name": "stdout",
     "output_type": "stream",
     "text": [
      "Epoch: 24\tTraining loss: 0.4686\tValidation loss: 0.5723\tValidation accuracy: 0.82\n"
     ]
    },
    {
     "data": {
      "application/vnd.jupyter.widget-view+json": {
       "model_id": "",
       "version_major": 2,
       "version_minor": 0
      },
      "text/plain": [
       "  0%|          | 0/8 [00:00<?, ?it/s]"
      ]
     },
     "metadata": {},
     "output_type": "display_data"
    },
    {
     "data": {
      "application/vnd.jupyter.widget-view+json": {
       "model_id": "",
       "version_major": 2,
       "version_minor": 0
      },
      "text/plain": [
       "  0%|          | 0/1 [00:00<?, ?it/s]"
      ]
     },
     "metadata": {},
     "output_type": "display_data"
    },
    {
     "name": "stdout",
     "output_type": "stream",
     "text": [
      "Epoch: 25\tTraining loss: 0.4437\tValidation loss: 0.4898\tValidation accuracy: 0.89\n"
     ]
    },
    {
     "data": {
      "application/vnd.jupyter.widget-view+json": {
       "model_id": "",
       "version_major": 2,
       "version_minor": 0
      },
      "text/plain": [
       "  0%|          | 0/8 [00:00<?, ?it/s]"
      ]
     },
     "metadata": {},
     "output_type": "display_data"
    },
    {
     "data": {
      "application/vnd.jupyter.widget-view+json": {
       "model_id": "",
       "version_major": 2,
       "version_minor": 0
      },
      "text/plain": [
       "  0%|          | 0/1 [00:00<?, ?it/s]"
      ]
     },
     "metadata": {},
     "output_type": "display_data"
    },
    {
     "name": "stdout",
     "output_type": "stream",
     "text": [
      "Epoch: 26\tTraining loss: 0.4479\tValidation loss: 0.4389\tValidation accuracy: 0.89\n"
     ]
    },
    {
     "data": {
      "application/vnd.jupyter.widget-view+json": {
       "model_id": "",
       "version_major": 2,
       "version_minor": 0
      },
      "text/plain": [
       "  0%|          | 0/8 [00:00<?, ?it/s]"
      ]
     },
     "metadata": {},
     "output_type": "display_data"
    },
    {
     "data": {
      "application/vnd.jupyter.widget-view+json": {
       "model_id": "",
       "version_major": 2,
       "version_minor": 0
      },
      "text/plain": [
       "  0%|          | 0/1 [00:00<?, ?it/s]"
      ]
     },
     "metadata": {},
     "output_type": "display_data"
    },
    {
     "name": "stdout",
     "output_type": "stream",
     "text": [
      "Epoch: 27\tTraining loss: 0.3117\tValidation loss: 0.3978\tValidation accuracy: 0.92\n"
     ]
    },
    {
     "data": {
      "application/vnd.jupyter.widget-view+json": {
       "model_id": "",
       "version_major": 2,
       "version_minor": 0
      },
      "text/plain": [
       "  0%|          | 0/8 [00:00<?, ?it/s]"
      ]
     },
     "metadata": {},
     "output_type": "display_data"
    },
    {
     "data": {
      "application/vnd.jupyter.widget-view+json": {
       "model_id": "",
       "version_major": 2,
       "version_minor": 0
      },
      "text/plain": [
       "  0%|          | 0/1 [00:00<?, ?it/s]"
      ]
     },
     "metadata": {},
     "output_type": "display_data"
    },
    {
     "name": "stdout",
     "output_type": "stream",
     "text": [
      "Epoch: 28\tTraining loss: 0.3247\tValidation loss: 0.3420\tValidation accuracy: 0.97\n"
     ]
    },
    {
     "data": {
      "application/vnd.jupyter.widget-view+json": {
       "model_id": "",
       "version_major": 2,
       "version_minor": 0
      },
      "text/plain": [
       "  0%|          | 0/8 [00:00<?, ?it/s]"
      ]
     },
     "metadata": {},
     "output_type": "display_data"
    },
    {
     "data": {
      "application/vnd.jupyter.widget-view+json": {
       "model_id": "",
       "version_major": 2,
       "version_minor": 0
      },
      "text/plain": [
       "  0%|          | 0/1 [00:00<?, ?it/s]"
      ]
     },
     "metadata": {},
     "output_type": "display_data"
    },
    {
     "name": "stdout",
     "output_type": "stream",
     "text": [
      "Epoch: 29\tTraining loss: 0.3155\tValidation loss: 0.2808\tValidation accuracy: 0.98\n"
     ]
    },
    {
     "data": {
      "application/vnd.jupyter.widget-view+json": {
       "model_id": "",
       "version_major": 2,
       "version_minor": 0
      },
      "text/plain": [
       "  0%|          | 0/8 [00:00<?, ?it/s]"
      ]
     },
     "metadata": {},
     "output_type": "display_data"
    },
    {
     "data": {
      "application/vnd.jupyter.widget-view+json": {
       "model_id": "",
       "version_major": 2,
       "version_minor": 0
      },
      "text/plain": [
       "  0%|          | 0/1 [00:00<?, ?it/s]"
      ]
     },
     "metadata": {},
     "output_type": "display_data"
    },
    {
     "name": "stdout",
     "output_type": "stream",
     "text": [
      "Epoch: 30\tTraining loss: 0.3063\tValidation loss: 0.2590\tValidation accuracy: 0.97\n"
     ]
    },
    {
     "data": {
      "application/vnd.jupyter.widget-view+json": {
       "model_id": "",
       "version_major": 2,
       "version_minor": 0
      },
      "text/plain": [
       "  0%|          | 0/8 [00:00<?, ?it/s]"
      ]
     },
     "metadata": {},
     "output_type": "display_data"
    },
    {
     "data": {
      "application/vnd.jupyter.widget-view+json": {
       "model_id": "",
       "version_major": 2,
       "version_minor": 0
      },
      "text/plain": [
       "  0%|          | 0/1 [00:00<?, ?it/s]"
      ]
     },
     "metadata": {},
     "output_type": "display_data"
    },
    {
     "name": "stdout",
     "output_type": "stream",
     "text": [
      "Epoch: 31\tTraining loss: 0.3073\tValidation loss: 0.2678\tValidation accuracy: 0.97\n"
     ]
    },
    {
     "data": {
      "application/vnd.jupyter.widget-view+json": {
       "model_id": "",
       "version_major": 2,
       "version_minor": 0
      },
      "text/plain": [
       "  0%|          | 0/8 [00:00<?, ?it/s]"
      ]
     },
     "metadata": {},
     "output_type": "display_data"
    },
    {
     "data": {
      "application/vnd.jupyter.widget-view+json": {
       "model_id": "",
       "version_major": 2,
       "version_minor": 0
      },
      "text/plain": [
       "  0%|          | 0/1 [00:00<?, ?it/s]"
      ]
     },
     "metadata": {},
     "output_type": "display_data"
    },
    {
     "name": "stdout",
     "output_type": "stream",
     "text": [
      "Epoch: 32\tTraining loss: 0.2716\tValidation loss: 0.2395\tValidation accuracy: 0.95\n"
     ]
    },
    {
     "data": {
      "application/vnd.jupyter.widget-view+json": {
       "model_id": "",
       "version_major": 2,
       "version_minor": 0
      },
      "text/plain": [
       "  0%|          | 0/8 [00:00<?, ?it/s]"
      ]
     },
     "metadata": {},
     "output_type": "display_data"
    },
    {
     "data": {
      "application/vnd.jupyter.widget-view+json": {
       "model_id": "",
       "version_major": 2,
       "version_minor": 0
      },
      "text/plain": [
       "  0%|          | 0/1 [00:00<?, ?it/s]"
      ]
     },
     "metadata": {},
     "output_type": "display_data"
    },
    {
     "name": "stdout",
     "output_type": "stream",
     "text": [
      "Epoch: 33\tTraining loss: 0.2250\tValidation loss: 0.2189\tValidation accuracy: 0.97\n"
     ]
    },
    {
     "data": {
      "application/vnd.jupyter.widget-view+json": {
       "model_id": "",
       "version_major": 2,
       "version_minor": 0
      },
      "text/plain": [
       "  0%|          | 0/8 [00:00<?, ?it/s]"
      ]
     },
     "metadata": {},
     "output_type": "display_data"
    },
    {
     "data": {
      "application/vnd.jupyter.widget-view+json": {
       "model_id": "",
       "version_major": 2,
       "version_minor": 0
      },
      "text/plain": [
       "  0%|          | 0/1 [00:00<?, ?it/s]"
      ]
     },
     "metadata": {},
     "output_type": "display_data"
    },
    {
     "name": "stdout",
     "output_type": "stream",
     "text": [
      "Epoch: 34\tTraining loss: 0.2254\tValidation loss: 0.1620\tValidation accuracy: 0.98\n"
     ]
    },
    {
     "data": {
      "application/vnd.jupyter.widget-view+json": {
       "model_id": "",
       "version_major": 2,
       "version_minor": 0
      },
      "text/plain": [
       "  0%|          | 0/8 [00:00<?, ?it/s]"
      ]
     },
     "metadata": {},
     "output_type": "display_data"
    },
    {
     "data": {
      "application/vnd.jupyter.widget-view+json": {
       "model_id": "",
       "version_major": 2,
       "version_minor": 0
      },
      "text/plain": [
       "  0%|          | 0/1 [00:00<?, ?it/s]"
      ]
     },
     "metadata": {},
     "output_type": "display_data"
    },
    {
     "name": "stdout",
     "output_type": "stream",
     "text": [
      "Epoch: 35\tTraining loss: 0.1905\tValidation loss: 0.1330\tValidation accuracy: 1.00\n"
     ]
    },
    {
     "data": {
      "application/vnd.jupyter.widget-view+json": {
       "model_id": "",
       "version_major": 2,
       "version_minor": 0
      },
      "text/plain": [
       "  0%|          | 0/8 [00:00<?, ?it/s]"
      ]
     },
     "metadata": {},
     "output_type": "display_data"
    },
    {
     "data": {
      "application/vnd.jupyter.widget-view+json": {
       "model_id": "",
       "version_major": 2,
       "version_minor": 0
      },
      "text/plain": [
       "  0%|          | 0/1 [00:00<?, ?it/s]"
      ]
     },
     "metadata": {},
     "output_type": "display_data"
    },
    {
     "name": "stdout",
     "output_type": "stream",
     "text": [
      "Epoch: 36\tTraining loss: 0.1814\tValidation loss: 0.1311\tValidation accuracy: 1.00\n"
     ]
    },
    {
     "data": {
      "application/vnd.jupyter.widget-view+json": {
       "model_id": "",
       "version_major": 2,
       "version_minor": 0
      },
      "text/plain": [
       "  0%|          | 0/8 [00:00<?, ?it/s]"
      ]
     },
     "metadata": {},
     "output_type": "display_data"
    },
    {
     "data": {
      "application/vnd.jupyter.widget-view+json": {
       "model_id": "",
       "version_major": 2,
       "version_minor": 0
      },
      "text/plain": [
       "  0%|          | 0/1 [00:00<?, ?it/s]"
      ]
     },
     "metadata": {},
     "output_type": "display_data"
    },
    {
     "name": "stdout",
     "output_type": "stream",
     "text": [
      "Epoch: 37\tTraining loss: 0.1620\tValidation loss: 0.1205\tValidation accuracy: 1.00\n"
     ]
    },
    {
     "data": {
      "application/vnd.jupyter.widget-view+json": {
       "model_id": "",
       "version_major": 2,
       "version_minor": 0
      },
      "text/plain": [
       "  0%|          | 0/8 [00:00<?, ?it/s]"
      ]
     },
     "metadata": {},
     "output_type": "display_data"
    },
    {
     "data": {
      "application/vnd.jupyter.widget-view+json": {
       "model_id": "",
       "version_major": 2,
       "version_minor": 0
      },
      "text/plain": [
       "  0%|          | 0/1 [00:00<?, ?it/s]"
      ]
     },
     "metadata": {},
     "output_type": "display_data"
    },
    {
     "name": "stdout",
     "output_type": "stream",
     "text": [
      "Epoch: 38\tTraining loss: 0.1894\tValidation loss: 0.1043\tValidation accuracy: 1.00\n"
     ]
    },
    {
     "data": {
      "application/vnd.jupyter.widget-view+json": {
       "model_id": "",
       "version_major": 2,
       "version_minor": 0
      },
      "text/plain": [
       "  0%|          | 0/8 [00:00<?, ?it/s]"
      ]
     },
     "metadata": {},
     "output_type": "display_data"
    },
    {
     "data": {
      "application/vnd.jupyter.widget-view+json": {
       "model_id": "",
       "version_major": 2,
       "version_minor": 0
      },
      "text/plain": [
       "  0%|          | 0/1 [00:00<?, ?it/s]"
      ]
     },
     "metadata": {},
     "output_type": "display_data"
    },
    {
     "name": "stdout",
     "output_type": "stream",
     "text": [
      "Epoch: 39\tTraining loss: 0.1498\tValidation loss: 0.0824\tValidation accuracy: 1.00\n"
     ]
    },
    {
     "data": {
      "application/vnd.jupyter.widget-view+json": {
       "model_id": "",
       "version_major": 2,
       "version_minor": 0
      },
      "text/plain": [
       "  0%|          | 0/8 [00:00<?, ?it/s]"
      ]
     },
     "metadata": {},
     "output_type": "display_data"
    },
    {
     "data": {
      "application/vnd.jupyter.widget-view+json": {
       "model_id": "",
       "version_major": 2,
       "version_minor": 0
      },
      "text/plain": [
       "  0%|          | 0/1 [00:00<?, ?it/s]"
      ]
     },
     "metadata": {},
     "output_type": "display_data"
    },
    {
     "name": "stdout",
     "output_type": "stream",
     "text": [
      "Epoch: 40\tTraining loss: 0.1543\tValidation loss: 0.0729\tValidation accuracy: 1.00\n"
     ]
    },
    {
     "data": {
      "application/vnd.jupyter.widget-view+json": {
       "model_id": "",
       "version_major": 2,
       "version_minor": 0
      },
      "text/plain": [
       "  0%|          | 0/8 [00:00<?, ?it/s]"
      ]
     },
     "metadata": {},
     "output_type": "display_data"
    },
    {
     "data": {
      "application/vnd.jupyter.widget-view+json": {
       "model_id": "",
       "version_major": 2,
       "version_minor": 0
      },
      "text/plain": [
       "  0%|          | 0/1 [00:00<?, ?it/s]"
      ]
     },
     "metadata": {},
     "output_type": "display_data"
    },
    {
     "name": "stdout",
     "output_type": "stream",
     "text": [
      "Epoch: 41\tTraining loss: 0.1326\tValidation loss: 0.0643\tValidation accuracy: 1.00\n"
     ]
    },
    {
     "data": {
      "application/vnd.jupyter.widget-view+json": {
       "model_id": "",
       "version_major": 2,
       "version_minor": 0
      },
      "text/plain": [
       "  0%|          | 0/8 [00:00<?, ?it/s]"
      ]
     },
     "metadata": {},
     "output_type": "display_data"
    },
    {
     "data": {
      "application/vnd.jupyter.widget-view+json": {
       "model_id": "",
       "version_major": 2,
       "version_minor": 0
      },
      "text/plain": [
       "  0%|          | 0/1 [00:00<?, ?it/s]"
      ]
     },
     "metadata": {},
     "output_type": "display_data"
    },
    {
     "name": "stdout",
     "output_type": "stream",
     "text": [
      "Epoch: 42\tTraining loss: 0.1359\tValidation loss: 0.0617\tValidation accuracy: 1.00\n"
     ]
    },
    {
     "data": {
      "application/vnd.jupyter.widget-view+json": {
       "model_id": "",
       "version_major": 2,
       "version_minor": 0
      },
      "text/plain": [
       "  0%|          | 0/8 [00:00<?, ?it/s]"
      ]
     },
     "metadata": {},
     "output_type": "display_data"
    },
    {
     "data": {
      "application/vnd.jupyter.widget-view+json": {
       "model_id": "",
       "version_major": 2,
       "version_minor": 0
      },
      "text/plain": [
       "  0%|          | 0/1 [00:00<?, ?it/s]"
      ]
     },
     "metadata": {},
     "output_type": "display_data"
    },
    {
     "name": "stdout",
     "output_type": "stream",
     "text": [
      "Epoch: 43\tTraining loss: 0.1464\tValidation loss: 0.0585\tValidation accuracy: 1.00\n"
     ]
    },
    {
     "data": {
      "application/vnd.jupyter.widget-view+json": {
       "model_id": "",
       "version_major": 2,
       "version_minor": 0
      },
      "text/plain": [
       "  0%|          | 0/8 [00:00<?, ?it/s]"
      ]
     },
     "metadata": {},
     "output_type": "display_data"
    },
    {
     "data": {
      "application/vnd.jupyter.widget-view+json": {
       "model_id": "",
       "version_major": 2,
       "version_minor": 0
      },
      "text/plain": [
       "  0%|          | 0/1 [00:00<?, ?it/s]"
      ]
     },
     "metadata": {},
     "output_type": "display_data"
    },
    {
     "name": "stdout",
     "output_type": "stream",
     "text": [
      "Epoch: 44\tTraining loss: 0.1194\tValidation loss: 0.0542\tValidation accuracy: 1.00\n"
     ]
    },
    {
     "data": {
      "application/vnd.jupyter.widget-view+json": {
       "model_id": "",
       "version_major": 2,
       "version_minor": 0
      },
      "text/plain": [
       "  0%|          | 0/8 [00:00<?, ?it/s]"
      ]
     },
     "metadata": {},
     "output_type": "display_data"
    },
    {
     "data": {
      "application/vnd.jupyter.widget-view+json": {
       "model_id": "",
       "version_major": 2,
       "version_minor": 0
      },
      "text/plain": [
       "  0%|          | 0/1 [00:00<?, ?it/s]"
      ]
     },
     "metadata": {},
     "output_type": "display_data"
    },
    {
     "name": "stdout",
     "output_type": "stream",
     "text": [
      "Epoch: 45\tTraining loss: 0.1479\tValidation loss: 0.0628\tValidation accuracy: 1.00\n"
     ]
    },
    {
     "data": {
      "application/vnd.jupyter.widget-view+json": {
       "model_id": "",
       "version_major": 2,
       "version_minor": 0
      },
      "text/plain": [
       "  0%|          | 0/8 [00:00<?, ?it/s]"
      ]
     },
     "metadata": {},
     "output_type": "display_data"
    },
    {
     "data": {
      "application/vnd.jupyter.widget-view+json": {
       "model_id": "",
       "version_major": 2,
       "version_minor": 0
      },
      "text/plain": [
       "  0%|          | 0/1 [00:00<?, ?it/s]"
      ]
     },
     "metadata": {},
     "output_type": "display_data"
    },
    {
     "name": "stdout",
     "output_type": "stream",
     "text": [
      "Epoch: 46\tTraining loss: 0.1175\tValidation loss: 0.0791\tValidation accuracy: 1.00\n"
     ]
    },
    {
     "data": {
      "application/vnd.jupyter.widget-view+json": {
       "model_id": "",
       "version_major": 2,
       "version_minor": 0
      },
      "text/plain": [
       "  0%|          | 0/8 [00:00<?, ?it/s]"
      ]
     },
     "metadata": {},
     "output_type": "display_data"
    },
    {
     "data": {
      "application/vnd.jupyter.widget-view+json": {
       "model_id": "",
       "version_major": 2,
       "version_minor": 0
      },
      "text/plain": [
       "  0%|          | 0/1 [00:00<?, ?it/s]"
      ]
     },
     "metadata": {},
     "output_type": "display_data"
    },
    {
     "name": "stdout",
     "output_type": "stream",
     "text": [
      "Epoch: 47\tTraining loss: 0.1145\tValidation loss: 0.0543\tValidation accuracy: 1.00\n"
     ]
    },
    {
     "data": {
      "application/vnd.jupyter.widget-view+json": {
       "model_id": "",
       "version_major": 2,
       "version_minor": 0
      },
      "text/plain": [
       "  0%|          | 0/8 [00:00<?, ?it/s]"
      ]
     },
     "metadata": {},
     "output_type": "display_data"
    },
    {
     "data": {
      "application/vnd.jupyter.widget-view+json": {
       "model_id": "",
       "version_major": 2,
       "version_minor": 0
      },
      "text/plain": [
       "  0%|          | 0/1 [00:00<?, ?it/s]"
      ]
     },
     "metadata": {},
     "output_type": "display_data"
    },
    {
     "name": "stdout",
     "output_type": "stream",
     "text": [
      "Epoch: 48\tTraining loss: 0.1213\tValidation loss: 0.0446\tValidation accuracy: 1.00\n"
     ]
    },
    {
     "data": {
      "application/vnd.jupyter.widget-view+json": {
       "model_id": "",
       "version_major": 2,
       "version_minor": 0
      },
      "text/plain": [
       "  0%|          | 0/8 [00:00<?, ?it/s]"
      ]
     },
     "metadata": {},
     "output_type": "display_data"
    },
    {
     "data": {
      "application/vnd.jupyter.widget-view+json": {
       "model_id": "",
       "version_major": 2,
       "version_minor": 0
      },
      "text/plain": [
       "  0%|          | 0/1 [00:00<?, ?it/s]"
      ]
     },
     "metadata": {},
     "output_type": "display_data"
    },
    {
     "name": "stdout",
     "output_type": "stream",
     "text": [
      "Epoch: 49\tTraining loss: 0.0915\tValidation loss: 0.0449\tValidation accuracy: 1.00\n"
     ]
    },
    {
     "data": {
      "application/vnd.jupyter.widget-view+json": {
       "model_id": "",
       "version_major": 2,
       "version_minor": 0
      },
      "text/plain": [
       "  0%|          | 0/8 [00:00<?, ?it/s]"
      ]
     },
     "metadata": {},
     "output_type": "display_data"
    },
    {
     "data": {
      "application/vnd.jupyter.widget-view+json": {
       "model_id": "",
       "version_major": 2,
       "version_minor": 0
      },
      "text/plain": [
       "  0%|          | 0/1 [00:00<?, ?it/s]"
      ]
     },
     "metadata": {},
     "output_type": "display_data"
    },
    {
     "name": "stdout",
     "output_type": "stream",
     "text": [
      "Epoch: 50\tTraining loss: 0.1092\tValidation loss: 0.0406\tValidation accuracy: 1.00\n",
      "Wall time: 6.05 s\n"
     ]
    },
    {
     "data": {
      "text/plain": [
       "([3.7073164,\n",
       "  3.6744127,\n",
       "  3.6145191,\n",
       "  3.5216513,\n",
       "  3.331162,\n",
       "  3.1975687,\n",
       "  2.953291,\n",
       "  2.662972,\n",
       "  2.3499222,\n",
       "  2.1922727,\n",
       "  1.9363871,\n",
       "  1.8119836,\n",
       "  1.6269622,\n",
       "  1.4520016,\n",
       "  1.2659787,\n",
       "  1.1993594,\n",
       "  0.9956006,\n",
       "  0.91354287,\n",
       "  0.92916894,\n",
       "  0.71120304,\n",
       "  0.6513442,\n",
       "  0.6429374,\n",
       "  0.53801525,\n",
       "  0.46862286,\n",
       "  0.44370097,\n",
       "  0.44794005,\n",
       "  0.3117432,\n",
       "  0.3246739,\n",
       "  0.31548566,\n",
       "  0.30628192,\n",
       "  0.30726832,\n",
       "  0.27158862,\n",
       "  0.22495106,\n",
       "  0.22543243,\n",
       "  0.1905173,\n",
       "  0.18144569,\n",
       "  0.16197026,\n",
       "  0.18935427,\n",
       "  0.14984733,\n",
       "  0.15426789,\n",
       "  0.13257527,\n",
       "  0.13590613,\n",
       "  0.14636026,\n",
       "  0.11944113,\n",
       "  0.14792931,\n",
       "  0.11745754,\n",
       "  0.11446292,\n",
       "  0.12127499,\n",
       "  0.09153533,\n",
       "  0.10918419],\n",
       " [3.7036614,\n",
       "  3.682722,\n",
       "  3.6461682,\n",
       "  3.575846,\n",
       "  3.4932387,\n",
       "  3.3011212,\n",
       "  3.0394993,\n",
       "  2.7935364,\n",
       "  2.5348136,\n",
       "  2.332588,\n",
       "  2.1525736,\n",
       "  1.9658899,\n",
       "  1.851158,\n",
       "  1.6843673,\n",
       "  1.5226662,\n",
       "  1.3862401,\n",
       "  1.2615802,\n",
       "  1.1204003,\n",
       "  1.0157083,\n",
       "  0.8814732,\n",
       "  0.7807701,\n",
       "  0.7215895,\n",
       "  0.6470624,\n",
       "  0.5722647,\n",
       "  0.48981985,\n",
       "  0.43893752,\n",
       "  0.39777374,\n",
       "  0.34197462,\n",
       "  0.28083053,\n",
       "  0.25899738,\n",
       "  0.26777163,\n",
       "  0.23951685,\n",
       "  0.21886073,\n",
       "  0.161998,\n",
       "  0.13302515,\n",
       "  0.13105878,\n",
       "  0.12048393,\n",
       "  0.10433112,\n",
       "  0.08236737,\n",
       "  0.07287126,\n",
       "  0.064316414,\n",
       "  0.061654277,\n",
       "  0.05850066,\n",
       "  0.05421835,\n",
       "  0.06282799,\n",
       "  0.079135545,\n",
       "  0.054278377,\n",
       "  0.04459942,\n",
       "  0.04490852,\n",
       "  0.040556245])"
      ]
     },
     "execution_count": 54,
     "metadata": {},
     "output_type": "execute_result"
    },
    {
     "data": {
      "image/png": "[encoded data removed]",
      "text/plain": [
       "<Figure size 1152x576 with 2 Axes>"
      ]
     },
     "metadata": {
      "needs_background": "light"
     },
     "output_type": "display_data"
    }
   ],
   "source": [
    "%%time\n",
    "train_val(ANN, tr_dl, val_dl, epochs=50, lr=0.001);"
   ]
  },
  {
   "cell_type": "markdown",
   "id": "fresh-complement",
   "metadata": {
    "hidden": true
   },
   "source": [
    "Now we can test our model against some examples with our prediction function."
   ]
  },
  {
   "cell_type": "code",
   "execution_count": 55,
   "id": "charming-timber",
   "metadata": {
    "ExecuteTime": {
     "end_time": "2021-05-14T01:10:09.529254Z",
     "start_time": "2021-05-14T01:10:09.376672Z"
    },
    "hidden": true
   },
   "outputs": [
    {
     "name": "stdout",
     "output_type": "stream",
     "text": [
      "GERD\n",
      "Wall time: 997 µs\n"
     ]
    }
   ],
   "source": [
    "%%time\n",
    "print(predict(ANN, gerd))"
   ]
  },
  {
   "cell_type": "code",
   "execution_count": 56,
   "id": "executed-calgary",
   "metadata": {
    "ExecuteTime": {
     "end_time": "2021-05-14T01:10:09.746883Z",
     "start_time": "2021-05-14T01:10:09.531249Z"
    },
    "hidden": true
   },
   "outputs": [
    {
     "name": "stdout",
     "output_type": "stream",
     "text": [
      "Common Cold\n",
      "Wall time: 997 µs\n"
     ]
    }
   ],
   "source": [
    "%%time\n",
    "print(predict(ANN, cc))"
   ]
  },
  {
   "cell_type": "code",
   "execution_count": 57,
   "id": "downtown-institute",
   "metadata": {
    "ExecuteTime": {
     "end_time": "2021-05-14T01:10:09.963183Z",
     "start_time": "2021-05-14T01:10:09.749874Z"
    },
    "hidden": true
   },
   "outputs": [
    {
     "name": "stdout",
     "output_type": "stream",
     "text": [
      "Hepatitis D\n",
      "Wall time: 998 µs\n"
     ]
    }
   ],
   "source": [
    "%%time\n",
    "print(predict(ANN, hepd))"
   ]
  },
  {
   "cell_type": "markdown",
   "id": "aquatic-satellite",
   "metadata": {
    "hidden": true
   },
   "source": [
    "### Naive Bayes"
   ]
  },
  {
   "cell_type": "markdown",
   "id": "stable-mechanism",
   "metadata": {
    "hidden": true
   },
   "source": [
    "Identifying unique categories in reponses for the dataset."
   ]
  },
  {
   "cell_type": "code",
   "execution_count": 58,
   "id": "lesbian-anchor",
   "metadata": {
    "ExecuteTime": {
     "end_time": "2021-05-14T01:10:10.134699Z",
     "start_time": "2021-05-14T01:10:09.964180Z"
    },
    "hidden": true
   },
   "outputs": [
    {
     "data": {
      "text/plain": [
       "array(['(vertigo) Paroymsal  Positional Vertigo', 'AIDS', 'Acne',\n",
       "       'Alcoholic hepatitis', 'Allergy', 'Arthritis', 'Bronchial Asthma',\n",
       "       'Cervical spondylosis', 'Chicken pox', 'Chronic cholestasis',\n",
       "       'Common Cold', 'Dengue', 'Diabetes ',\n",
       "       'Dimorphic hemmorhoids(piles)', 'Drug Reaction',\n",
       "       'Fungal infection', 'GERD', 'Gastroenteritis', 'Heart attack',\n",
       "       'Hepatitis B', 'Hepatitis C', 'Hepatitis D', 'Hepatitis E',\n",
       "       'Hypertension ', 'Hyperthyroidism', 'Hypoglycemia',\n",
       "       'Hypothyroidism', 'Impetigo', 'Jaundice', 'Malaria', 'Migraine',\n",
       "       'Osteoarthristis', 'Paralysis (brain hemorrhage)',\n",
       "       'Peptic ulcer diseae', 'Pneumonia', 'Psoriasis', 'Tuberculosis',\n",
       "       'Typhoid', 'Urinary tract infection', 'Varicose veins',\n",
       "       'hepatitis A'], dtype=object)"
      ]
     },
     "execution_count": 58,
     "metadata": {},
     "output_type": "execute_result"
    }
   ],
   "source": [
    "categories = np.unique(i2c[y])\n",
    "categories"
   ]
  },
  {
   "cell_type": "markdown",
   "id": "nutritional-kazakhstan",
   "metadata": {
    "hidden": true
   },
   "source": [
    "Identifying training inputs (train_x) and outputs (train_y)."
   ]
  },
  {
   "cell_type": "code",
   "execution_count": 59,
   "id": "athletic-magic",
   "metadata": {
    "ExecuteTime": {
     "end_time": "2021-05-14T01:10:10.322561Z",
     "start_time": "2021-05-14T01:10:10.135663Z"
    },
    "hidden": true
   },
   "outputs": [
    {
     "data": {
      "text/plain": [
       "(array([[0, 0, 0, ..., 0, 0, 0],\n",
       "        [0, 0, 0, ..., 0, 0, 0],\n",
       "        [0, 0, 0, ..., 0, 0, 0],\n",
       "        ...,\n",
       "        [1, 0, 0, ..., 0, 0, 0],\n",
       "        [0, 0, 0, ..., 0, 0, 0],\n",
       "        [1, 0, 0, ..., 0, 0, 0]]),\n",
       " array(['Malaria', 'Osteoarthristis', 'Varicose veins',\n",
       "        'Urinary tract infection', 'Migraine', 'Dengue', 'Common Cold',\n",
       "        'Dimorphic hemmorhoids(piles)', 'Chronic cholestasis',\n",
       "        'Hepatitis E', '(vertigo) Paroymsal  Positional Vertigo',\n",
       "        'Malaria', 'Dimorphic hemmorhoids(piles)', 'Bronchial Asthma',\n",
       "        'Osteoarthristis', 'Peptic ulcer diseae', 'Hepatitis B',\n",
       "        'Chronic cholestasis', 'Alcoholic hepatitis', 'Hepatitis C',\n",
       "        'Chicken pox', 'Allergy', 'Psoriasis', 'Cervical spondylosis',\n",
       "        'Acne', 'Osteoarthristis', 'Allergy', 'Hepatitis D',\n",
       "        'Alcoholic hepatitis', 'Varicose veins', 'Hepatitis D', 'Typhoid',\n",
       "        'Typhoid', 'Urinary tract infection', 'Hepatitis D', 'Hepatitis B',\n",
       "        'Tuberculosis', 'Hyperthyroidism', 'Psoriasis', 'Hyperthyroidism',\n",
       "        'Peptic ulcer diseae', 'Peptic ulcer diseae', 'Gastroenteritis',\n",
       "        'Jaundice', 'Chronic cholestasis', 'Hepatitis E', 'Hypothyroidism',\n",
       "        'hepatitis A', 'Dengue', 'GERD', 'Arthritis', 'Drug Reaction',\n",
       "        'Migraine', 'Hepatitis C', 'Tuberculosis', 'Peptic ulcer diseae',\n",
       "        'Hepatitis B', 'Hypertension ', 'Heart attack',\n",
       "        'Alcoholic hepatitis', 'Typhoid', 'Chicken pox', 'Hypertension ',\n",
       "        'Fungal infection', 'Malaria', 'Dengue', 'Psoriasis',\n",
       "        'Hypothyroidism', 'Cervical spondylosis', 'Pneumonia',\n",
       "        'Hepatitis B', 'Dimorphic hemmorhoids(piles)', 'Pneumonia',\n",
       "        'Osteoarthristis', 'Dengue', 'hepatitis A', 'Typhoid',\n",
       "        'hepatitis A', 'Jaundice', 'Varicose veins', 'Bronchial Asthma',\n",
       "        'Urinary tract infection', 'Hyperthyroidism', 'Tuberculosis',\n",
       "        'Common Cold', 'Typhoid', 'Hypoglycemia', 'Diabetes ', 'Jaundice',\n",
       "        'Common Cold', 'Impetigo', 'Heart attack', 'Hepatitis E',\n",
       "        'Hyperthyroidism', 'GERD', 'Hypoglycemia', 'Impetigo',\n",
       "        'Tuberculosis', 'Arthritis', 'Hepatitis D', 'Tuberculosis',\n",
       "        'Hypoglycemia', 'Typhoid', 'Allergy', 'Migraine',\n",
       "        'Bronchial Asthma', 'Dimorphic hemmorhoids(piles)', 'Arthritis',\n",
       "        'Hypothyroidism', 'Dengue', 'Hepatitis D',\n",
       "        '(vertigo) Paroymsal  Positional Vertigo', 'Bronchial Asthma',\n",
       "        'Chicken pox', 'Hepatitis C', 'hepatitis A',\n",
       "        'Paralysis (brain hemorrhage)', 'Hypoglycemia', 'Hypoglycemia',\n",
       "        'Diabetes ', 'Varicose veins', 'Osteoarthristis', 'Hypertension ',\n",
       "        'Bronchial Asthma', 'Jaundice',\n",
       "        '(vertigo) Paroymsal  Positional Vertigo', 'Osteoarthristis',\n",
       "        'Acne', 'Hypoglycemia', 'Hepatitis C', 'Hepatitis D',\n",
       "        'Fungal infection', 'Hypothyroidism', 'Diabetes ', 'Hepatitis B',\n",
       "        'AIDS', 'Bronchial Asthma', 'GERD', 'Diabetes ', 'Hypothyroidism',\n",
       "        'Chicken pox', 'Malaria', 'Typhoid', 'GERD',\n",
       "        '(vertigo) Paroymsal  Positional Vertigo', 'Tuberculosis',\n",
       "        'Hyperthyroidism', 'Chicken pox',\n",
       "        '(vertigo) Paroymsal  Positional Vertigo', 'Migraine',\n",
       "        'Chicken pox', 'Tuberculosis', 'hepatitis A', 'AIDS',\n",
       "        'Drug Reaction', 'Alcoholic hepatitis', 'hepatitis A',\n",
       "        'Common Cold', 'Dengue', 'Pneumonia', 'GERD',\n",
       "        'Paralysis (brain hemorrhage)', 'Allergy', 'Allergy',\n",
       "        'Heart attack', 'Varicose veins', 'Hypothyroidism',\n",
       "        'Hypothyroidism', 'Impetigo', 'Malaria',\n",
       "        'Dimorphic hemmorhoids(piles)', 'Hepatitis B', 'hepatitis A',\n",
       "        'Hypertension ', 'Fungal infection',\n",
       "        'Paralysis (brain hemorrhage)', 'Hepatitis E',\n",
       "        'Dimorphic hemmorhoids(piles)', 'Hyperthyroidism', 'Diabetes ',\n",
       "        'Varicose veins', 'Chicken pox', 'Hepatitis E', 'Diabetes ',\n",
       "        'Fungal infection', 'Pneumonia', 'Chronic cholestasis', 'GERD',\n",
       "        'Diabetes ', 'Gastroenteritis', 'Pneumonia', 'Hepatitis E',\n",
       "        'Drug Reaction', 'Alcoholic hepatitis', 'Malaria',\n",
       "        'Alcoholic hepatitis', 'Diabetes ', 'Typhoid', 'Hyperthyroidism',\n",
       "        'Hypoglycemia', 'Acne', 'Hepatitis B', 'Migraine',\n",
       "        '(vertigo) Paroymsal  Positional Vertigo', 'Hepatitis C',\n",
       "        'Urinary tract infection', 'Hepatitis B', 'Common Cold',\n",
       "        'Hypertension ', 'Impetigo', 'Hepatitis D', 'Migraine', 'Dengue',\n",
       "        'Pneumonia', 'Hepatitis E', 'Jaundice', 'Typhoid', 'Hepatitis E',\n",
       "        'Psoriasis', 'Cervical spondylosis', 'AIDS', 'Fungal infection',\n",
       "        'Hypertension ', 'Pneumonia', 'Psoriasis', 'Hypoglycemia',\n",
       "        'Chicken pox', 'Heart attack', 'Peptic ulcer diseae', 'Migraine',\n",
       "        'Diabetes ', 'Dengue', 'Chicken pox', 'Jaundice', 'Heart attack',\n",
       "        'Pneumonia', 'Bronchial Asthma', 'Dengue', 'Malaria',\n",
       "        'Cervical spondylosis', 'Chronic cholestasis', 'Varicose veins',\n",
       "        'Jaundice'], dtype=object))"
      ]
     },
     "execution_count": 59,
     "metadata": {},
     "output_type": "execute_result"
    }
   ],
   "source": [
    "train_x,train_y = Xtr, i2c[ytr]\n",
    "train_x,train_y"
   ]
  },
  {
   "cell_type": "markdown",
   "id": "determined-minimum",
   "metadata": {
    "hidden": true
   },
   "source": [
    "Identifying how many training examples (tr_examples) are there and how many variables (features) are there."
   ]
  },
  {
   "cell_type": "code",
   "execution_count": 60,
   "id": "lesbian-customs",
   "metadata": {
    "ExecuteTime": {
     "end_time": "2021-05-14T01:10:10.479840Z",
     "start_time": "2021-05-14T01:10:10.324523Z"
    },
    "hidden": true
   },
   "outputs": [
    {
     "data": {
      "text/plain": [
       "(243, 132)"
      ]
     },
     "execution_count": 60,
     "metadata": {},
     "output_type": "execute_result"
    }
   ],
   "source": [
    "tr_examples, features  = np.shape(train_x)\n",
    "tr_examples, features"
   ]
  },
  {
   "cell_type": "markdown",
   "id": "arbitrary-mozambique",
   "metadata": {
    "hidden": true
   },
   "source": [
    "Identifying validation data"
   ]
  },
  {
   "cell_type": "code",
   "execution_count": 61,
   "id": "alternate-uniform",
   "metadata": {
    "ExecuteTime": {
     "end_time": "2021-05-14T01:10:10.618786Z",
     "start_time": "2021-05-14T01:10:10.480847Z"
    },
    "hidden": true
   },
   "outputs": [
    {
     "data": {
      "text/plain": [
       "(array([[0, 0, 0, ..., 0, 0, 0],\n",
       "        [0, 1, 0, ..., 0, 0, 0],\n",
       "        [0, 0, 0, ..., 0, 0, 0],\n",
       "        ...,\n",
       "        [0, 0, 0, ..., 0, 0, 0],\n",
       "        [0, 0, 0, ..., 0, 0, 0],\n",
       "        [0, 0, 0, ..., 0, 0, 0]]),\n",
       " array(['GERD', 'Psoriasis', 'Arthritis', 'Arthritis', 'Jaundice',\n",
       "        'Common Cold', 'Cervical spondylosis', 'Chronic cholestasis',\n",
       "        'Gastroenteritis', 'Tuberculosis', 'Common Cold',\n",
       "        'Peptic ulcer diseae', '(vertigo) Paroymsal  Positional Vertigo',\n",
       "        'Hypoglycemia', 'Pneumonia', 'Arthritis', 'Dengue', 'Acne',\n",
       "        'Common Cold', 'Paralysis (brain hemorrhage)', 'Hepatitis C',\n",
       "        'Hyperthyroidism', 'Chicken pox', 'Gastroenteritis', 'Common Cold',\n",
       "        'Hypothyroidism', 'Hepatitis D', 'Psoriasis',\n",
       "        'Urinary tract infection', 'Hepatitis B', 'Hepatitis D', 'Malaria',\n",
       "        'Hepatitis C', 'Hepatitis E', 'Hyperthyroidism', 'Gastroenteritis',\n",
       "        'AIDS', 'Drug Reaction', 'hepatitis A', 'Migraine', 'Migraine',\n",
       "        'Hepatitis D', 'Osteoarthristis', 'Drug Reaction',\n",
       "        'Chronic cholestasis', 'Impetigo', 'Tuberculosis',\n",
       "        'Varicose veins', 'Paralysis (brain hemorrhage)',\n",
       "        'Chronic cholestasis', 'Alcoholic hepatitis', 'Acne',\n",
       "        'Cervical spondylosis', 'Migraine', 'Impetigo',\n",
       "        'Peptic ulcer diseae', 'Jaundice', 'Drug Reaction',\n",
       "        'Alcoholic hepatitis', 'hepatitis A', 'AIDS'], dtype=object))"
      ]
     },
     "execution_count": 61,
     "metadata": {},
     "output_type": "execute_result"
    }
   ],
   "source": [
    "test_x,test_y = Xval, i2c[yval]\n",
    "test_x,test_y"
   ]
  },
  {
   "cell_type": "markdown",
   "id": "ordered-generation",
   "metadata": {
    "hidden": true
   },
   "source": [
    "Identifying how many validation examples (test_examples) are there and how many variables (test_features) are there."
   ]
  },
  {
   "cell_type": "code",
   "execution_count": 62,
   "id": "adult-surprise",
   "metadata": {
    "ExecuteTime": {
     "end_time": "2021-05-14T01:10:10.759874Z",
     "start_time": "2021-05-14T01:10:10.619791Z"
    },
    "hidden": true
   },
   "outputs": [
    {
     "data": {
      "text/plain": [
       "(61, 132)"
      ]
     },
     "execution_count": 62,
     "metadata": {},
     "output_type": "execute_result"
    }
   ],
   "source": [
    "test_examples, test_features  = np.shape(test_x)\n",
    "test_examples, test_features"
   ]
  },
  {
   "cell_type": "markdown",
   "id": "configured-norfolk",
   "metadata": {
    "hidden": true
   },
   "source": [
    "Here prior probabilities are calculated by iterating through training set and calculating the probability that each symptom be present for each category."
   ]
  },
  {
   "cell_type": "code",
   "execution_count": 63,
   "id": "contrary-williams",
   "metadata": {
    "ExecuteTime": {
     "end_time": "2021-05-14T01:10:10.899122Z",
     "start_time": "2021-05-14T01:10:10.761859Z"
    },
    "hidden": true
   },
   "outputs": [],
   "source": [
    "def patient(dataarray):\n",
    "    len_data = len(dataarray)\n",
    "    #Counter gets count of each element in array\n",
    "    initialprob = dict(Counter(dataarray))\n",
    "    for disease in initialprob.keys():\n",
    "        initialprob [disease] /=  float(len_data)\n",
    "    return initialprob"
   ]
  },
  {
   "cell_type": "markdown",
   "id": "skilled-lincoln",
   "metadata": {
    "hidden": true
   },
   "source": [
    "Since the features are binary, we are going to implement bernoulli naive bayes. This classfier calculates probability of a given input to belong for each category. The category with the highest probability is chosen as the correct category."
   ]
  },
  {
   "cell_type": "code",
   "execution_count": 64,
   "id": "comparative-trinidad",
   "metadata": {
    "ExecuteTime": {
     "end_time": "2021-05-14T01:10:11.054971Z",
     "start_time": "2021-05-14T01:10:10.900168Z"
    },
    "hidden": true
   },
   "outputs": [],
   "source": [
    "def nbayes(data_x, data_y, test_x):\n",
    "  \n",
    "  categories=np.unique(data_y)\n",
    "  r,c=np.shape(data_x)\n",
    "  prob = {}\n",
    "  for n in categories:\n",
    "    #defaultdict creates dictionary and creates automatic keys and values for missing\n",
    "    prob[n] = defaultdict(list)\n",
    " \n",
    "  category_prob_array = patient(data_y)\n",
    " \n",
    "  for n in categories:\n",
    "    r_index = np.where(data_y == n)[0]\n",
    "    subset = data_x[r_index, :]\n",
    "    rr, cc = np.shape(subset)\n",
    "    for k in range(0,cc):\n",
    "      prob[n][k] += list(subset[:,k])\n",
    " \n",
    "  for n in categories:\n",
    "    for k in range(0,c):\n",
    "      prob[n][k] = patient(prob[n][k])\n",
    " \n",
    "  output = {}\n",
    "  ans={}\n",
    "\n",
    "  # print(\"Calculated conditional probabilites for each category\")\n",
    "\n",
    "  #calculation of conditional probability\n",
    "  for i in range(0,test_examples):\n",
    "    for n in categories:\n",
    "      category_prob = category_prob_array[n]\n",
    "        \n",
    "      for k in range(0,test_features):\n",
    "        rel_prob = prob[n][k]\n",
    "        if test_x[i][k] in rel_prob.keys():\n",
    "          category_prob *= rel_prob[test_x[i][k]]\n",
    "       \n",
    "        output[n] = category_prob\n",
    "        #taking maximum probability to classify\n",
    "        ans[i]=max(output, key=output.get)\n",
    "    \n",
    "    # print(output)\n",
    "  print(\"\\n\\n\")\n",
    "  print(\"Predicted response for validation data\")\n",
    "  print(ans)\n",
    "  print(\"\\n\\n\")\n",
    "\n",
    "  count=0\n",
    "  cnt=0\n",
    "\n",
    "  #calculating accuracy, count of correct classifications divided by total validation sample size\n",
    "  for j in ans.values():\n",
    "    if j==test_y[cnt]:\n",
    "      cnt += 1\n",
    "      count +=1\n",
    "    else:\n",
    "      cnt += 1\n",
    "      count+=0\n",
    "  print(\"accuracy =\", count/test_examples*100, \"%\")"
   ]
  },
  {
   "cell_type": "markdown",
   "id": "funded-sierra",
   "metadata": {
    "hidden": true
   },
   "source": [
    "We run the function and are given the predicted results and the classification accuracy."
   ]
  },
  {
   "cell_type": "code",
   "execution_count": 65,
   "id": "critical-royal",
   "metadata": {
    "ExecuteTime": {
     "end_time": "2021-05-14T01:10:12.642260Z",
     "start_time": "2021-05-14T01:10:11.055916Z"
    },
    "hidden": true
   },
   "outputs": [
    {
     "name": "stdout",
     "output_type": "stream",
     "text": [
      "\n",
      "\n",
      "\n",
      "Predicted response for validation data\n",
      "{0: 'GERD', 1: 'Psoriasis', 2: 'Arthritis', 3: 'Arthritis', 4: 'Jaundice', 5: 'Common Cold', 6: 'Cervical spondylosis', 7: 'Chronic cholestasis', 8: 'Paralysis (brain hemorrhage)', 9: 'Tuberculosis', 10: 'Common Cold', 11: 'Peptic ulcer diseae', 12: '(vertigo) Paroymsal  Positional Vertigo', 13: 'Hypoglycemia', 14: 'Pneumonia', 15: 'Arthritis', 16: 'Dengue', 17: 'Acne', 18: 'Common Cold', 19: 'Paralysis (brain hemorrhage)', 20: 'Hepatitis C', 21: 'Hyperthyroidism', 22: 'Chicken pox', 23: 'Paralysis (brain hemorrhage)', 24: 'Common Cold', 25: 'Hypothyroidism', 26: 'Hepatitis D', 27: 'Psoriasis', 28: 'Urinary tract infection', 29: 'Hepatitis B', 30: 'Hepatitis D', 31: 'Malaria', 32: 'Hepatitis C', 33: 'Hepatitis E', 34: 'Hyperthyroidism', 35: 'Gastroenteritis', 36: 'AIDS', 37: 'Drug Reaction', 38: 'hepatitis A', 39: 'Migraine', 40: 'Migraine', 41: 'Hepatitis D', 42: 'Osteoarthristis', 43: 'Drug Reaction', 44: 'Chronic cholestasis', 45: 'Impetigo', 46: 'Pneumonia', 47: 'Varicose veins', 48: 'Paralysis (brain hemorrhage)', 49: 'Chronic cholestasis', 50: 'Alcoholic hepatitis', 51: 'Acne', 52: 'Cervical spondylosis', 53: 'Migraine', 54: 'Impetigo', 55: 'Peptic ulcer diseae', 56: 'Jaundice', 57: 'Drug Reaction', 58: 'Alcoholic hepatitis', 59: 'Hepatitis D', 60: 'AIDS'}\n",
      "\n",
      "\n",
      "\n",
      "accuracy = 93.44262295081968 %\n"
     ]
    }
   ],
   "source": [
    "nbayes(train_x, train_y, test_x)"
   ]
  },
  {
   "cell_type": "markdown",
   "id": "considered-blackberry",
   "metadata": {},
   "source": [
    "# Chatbot"
   ]
  },
  {
   "cell_type": "markdown",
   "id": "strong-chest",
   "metadata": {},
   "source": [
    "## Reading Data"
   ]
  },
  {
   "cell_type": "code",
   "execution_count": 66,
   "id": "indoor-semester",
   "metadata": {
    "ExecuteTime": {
     "end_time": "2021-05-14T01:10:13.158552Z",
     "start_time": "2021-05-14T01:10:12.646186Z"
    },
    "scrolled": true
   },
   "outputs": [
    {
     "data": {
      "text/html": [
       "<div>\n",
       "<style scoped>\n",
       "    .dataframe tbody tr th:only-of-type {\n",
       "        vertical-align: middle;\n",
       "    }\n",
       "\n",
       "    .dataframe tbody tr th {\n",
       "        vertical-align: top;\n",
       "    }\n",
       "\n",
       "    .dataframe thead th {\n",
       "        text-align: right;\n",
       "    }\n",
       "</style>\n",
       "<table border=\"1\" class=\"dataframe\">\n",
       "  <thead>\n",
       "    <tr style=\"text-align: right;\">\n",
       "      <th></th>\n",
       "      <th>Disease</th>\n",
       "      <th>Symptom_1</th>\n",
       "      <th>Symptom_2</th>\n",
       "      <th>Symptom_3</th>\n",
       "      <th>Symptom_4</th>\n",
       "      <th>Symptom_5</th>\n",
       "      <th>Symptom_6</th>\n",
       "      <th>Symptom_7</th>\n",
       "      <th>Symptom_8</th>\n",
       "      <th>Symptom_9</th>\n",
       "      <th>Symptom_10</th>\n",
       "      <th>Symptom_11</th>\n",
       "      <th>Symptom_12</th>\n",
       "      <th>Symptom_13</th>\n",
       "      <th>Symptom_14</th>\n",
       "      <th>Symptom_15</th>\n",
       "      <th>Symptom_16</th>\n",
       "      <th>Symptom_17</th>\n",
       "    </tr>\n",
       "  </thead>\n",
       "  <tbody>\n",
       "    <tr>\n",
       "      <th>0</th>\n",
       "      <td>Fungal infection</td>\n",
       "      <td>itching</td>\n",
       "      <td>skin_rash</td>\n",
       "      <td>nodal_skin_eruptions</td>\n",
       "      <td>dischromic _patches</td>\n",
       "      <td>NaN</td>\n",
       "      <td>NaN</td>\n",
       "      <td>NaN</td>\n",
       "      <td>NaN</td>\n",
       "      <td>NaN</td>\n",
       "      <td>NaN</td>\n",
       "      <td>NaN</td>\n",
       "      <td>NaN</td>\n",
       "      <td>NaN</td>\n",
       "      <td>NaN</td>\n",
       "      <td>NaN</td>\n",
       "      <td>NaN</td>\n",
       "      <td>NaN</td>\n",
       "    </tr>\n",
       "    <tr>\n",
       "      <th>1</th>\n",
       "      <td>Fungal infection</td>\n",
       "      <td>skin_rash</td>\n",
       "      <td>nodal_skin_eruptions</td>\n",
       "      <td>dischromic _patches</td>\n",
       "      <td>NaN</td>\n",
       "      <td>NaN</td>\n",
       "      <td>NaN</td>\n",
       "      <td>NaN</td>\n",
       "      <td>NaN</td>\n",
       "      <td>NaN</td>\n",
       "      <td>NaN</td>\n",
       "      <td>NaN</td>\n",
       "      <td>NaN</td>\n",
       "      <td>NaN</td>\n",
       "      <td>NaN</td>\n",
       "      <td>NaN</td>\n",
       "      <td>NaN</td>\n",
       "      <td>NaN</td>\n",
       "    </tr>\n",
       "    <tr>\n",
       "      <th>2</th>\n",
       "      <td>Fungal infection</td>\n",
       "      <td>itching</td>\n",
       "      <td>nodal_skin_eruptions</td>\n",
       "      <td>dischromic _patches</td>\n",
       "      <td>NaN</td>\n",
       "      <td>NaN</td>\n",
       "      <td>NaN</td>\n",
       "      <td>NaN</td>\n",
       "      <td>NaN</td>\n",
       "      <td>NaN</td>\n",
       "      <td>NaN</td>\n",
       "      <td>NaN</td>\n",
       "      <td>NaN</td>\n",
       "      <td>NaN</td>\n",
       "      <td>NaN</td>\n",
       "      <td>NaN</td>\n",
       "      <td>NaN</td>\n",
       "      <td>NaN</td>\n",
       "    </tr>\n",
       "    <tr>\n",
       "      <th>3</th>\n",
       "      <td>Fungal infection</td>\n",
       "      <td>itching</td>\n",
       "      <td>skin_rash</td>\n",
       "      <td>dischromic _patches</td>\n",
       "      <td>NaN</td>\n",
       "      <td>NaN</td>\n",
       "      <td>NaN</td>\n",
       "      <td>NaN</td>\n",
       "      <td>NaN</td>\n",
       "      <td>NaN</td>\n",
       "      <td>NaN</td>\n",
       "      <td>NaN</td>\n",
       "      <td>NaN</td>\n",
       "      <td>NaN</td>\n",
       "      <td>NaN</td>\n",
       "      <td>NaN</td>\n",
       "      <td>NaN</td>\n",
       "      <td>NaN</td>\n",
       "    </tr>\n",
       "    <tr>\n",
       "      <th>4</th>\n",
       "      <td>Fungal infection</td>\n",
       "      <td>itching</td>\n",
       "      <td>skin_rash</td>\n",
       "      <td>nodal_skin_eruptions</td>\n",
       "      <td>NaN</td>\n",
       "      <td>NaN</td>\n",
       "      <td>NaN</td>\n",
       "      <td>NaN</td>\n",
       "      <td>NaN</td>\n",
       "      <td>NaN</td>\n",
       "      <td>NaN</td>\n",
       "      <td>NaN</td>\n",
       "      <td>NaN</td>\n",
       "      <td>NaN</td>\n",
       "      <td>NaN</td>\n",
       "      <td>NaN</td>\n",
       "      <td>NaN</td>\n",
       "      <td>NaN</td>\n",
       "    </tr>\n",
       "    <tr>\n",
       "      <th>5</th>\n",
       "      <td>Fungal infection</td>\n",
       "      <td>skin_rash</td>\n",
       "      <td>nodal_skin_eruptions</td>\n",
       "      <td>dischromic _patches</td>\n",
       "      <td>NaN</td>\n",
       "      <td>NaN</td>\n",
       "      <td>NaN</td>\n",
       "      <td>NaN</td>\n",
       "      <td>NaN</td>\n",
       "      <td>NaN</td>\n",
       "      <td>NaN</td>\n",
       "      <td>NaN</td>\n",
       "      <td>NaN</td>\n",
       "      <td>NaN</td>\n",
       "      <td>NaN</td>\n",
       "      <td>NaN</td>\n",
       "      <td>NaN</td>\n",
       "      <td>NaN</td>\n",
       "    </tr>\n",
       "    <tr>\n",
       "      <th>6</th>\n",
       "      <td>Fungal infection</td>\n",
       "      <td>itching</td>\n",
       "      <td>nodal_skin_eruptions</td>\n",
       "      <td>dischromic _patches</td>\n",
       "      <td>NaN</td>\n",
       "      <td>NaN</td>\n",
       "      <td>NaN</td>\n",
       "      <td>NaN</td>\n",
       "      <td>NaN</td>\n",
       "      <td>NaN</td>\n",
       "      <td>NaN</td>\n",
       "      <td>NaN</td>\n",
       "      <td>NaN</td>\n",
       "      <td>NaN</td>\n",
       "      <td>NaN</td>\n",
       "      <td>NaN</td>\n",
       "      <td>NaN</td>\n",
       "      <td>NaN</td>\n",
       "    </tr>\n",
       "    <tr>\n",
       "      <th>7</th>\n",
       "      <td>Fungal infection</td>\n",
       "      <td>itching</td>\n",
       "      <td>skin_rash</td>\n",
       "      <td>dischromic _patches</td>\n",
       "      <td>NaN</td>\n",
       "      <td>NaN</td>\n",
       "      <td>NaN</td>\n",
       "      <td>NaN</td>\n",
       "      <td>NaN</td>\n",
       "      <td>NaN</td>\n",
       "      <td>NaN</td>\n",
       "      <td>NaN</td>\n",
       "      <td>NaN</td>\n",
       "      <td>NaN</td>\n",
       "      <td>NaN</td>\n",
       "      <td>NaN</td>\n",
       "      <td>NaN</td>\n",
       "      <td>NaN</td>\n",
       "    </tr>\n",
       "    <tr>\n",
       "      <th>8</th>\n",
       "      <td>Fungal infection</td>\n",
       "      <td>itching</td>\n",
       "      <td>skin_rash</td>\n",
       "      <td>nodal_skin_eruptions</td>\n",
       "      <td>NaN</td>\n",
       "      <td>NaN</td>\n",
       "      <td>NaN</td>\n",
       "      <td>NaN</td>\n",
       "      <td>NaN</td>\n",
       "      <td>NaN</td>\n",
       "      <td>NaN</td>\n",
       "      <td>NaN</td>\n",
       "      <td>NaN</td>\n",
       "      <td>NaN</td>\n",
       "      <td>NaN</td>\n",
       "      <td>NaN</td>\n",
       "      <td>NaN</td>\n",
       "      <td>NaN</td>\n",
       "    </tr>\n",
       "    <tr>\n",
       "      <th>9</th>\n",
       "      <td>Fungal infection</td>\n",
       "      <td>itching</td>\n",
       "      <td>skin_rash</td>\n",
       "      <td>nodal_skin_eruptions</td>\n",
       "      <td>dischromic _patches</td>\n",
       "      <td>NaN</td>\n",
       "      <td>NaN</td>\n",
       "      <td>NaN</td>\n",
       "      <td>NaN</td>\n",
       "      <td>NaN</td>\n",
       "      <td>NaN</td>\n",
       "      <td>NaN</td>\n",
       "      <td>NaN</td>\n",
       "      <td>NaN</td>\n",
       "      <td>NaN</td>\n",
       "      <td>NaN</td>\n",
       "      <td>NaN</td>\n",
       "      <td>NaN</td>\n",
       "    </tr>\n",
       "    <tr>\n",
       "      <th>10</th>\n",
       "      <td>Allergy</td>\n",
       "      <td>continuous_sneezing</td>\n",
       "      <td>shivering</td>\n",
       "      <td>chills</td>\n",
       "      <td>watering_from_eyes</td>\n",
       "      <td>NaN</td>\n",
       "      <td>NaN</td>\n",
       "      <td>NaN</td>\n",
       "      <td>NaN</td>\n",
       "      <td>NaN</td>\n",
       "      <td>NaN</td>\n",
       "      <td>NaN</td>\n",
       "      <td>NaN</td>\n",
       "      <td>NaN</td>\n",
       "      <td>NaN</td>\n",
       "      <td>NaN</td>\n",
       "      <td>NaN</td>\n",
       "      <td>NaN</td>\n",
       "    </tr>\n",
       "    <tr>\n",
       "      <th>11</th>\n",
       "      <td>Allergy</td>\n",
       "      <td>shivering</td>\n",
       "      <td>chills</td>\n",
       "      <td>watering_from_eyes</td>\n",
       "      <td>NaN</td>\n",
       "      <td>NaN</td>\n",
       "      <td>NaN</td>\n",
       "      <td>NaN</td>\n",
       "      <td>NaN</td>\n",
       "      <td>NaN</td>\n",
       "      <td>NaN</td>\n",
       "      <td>NaN</td>\n",
       "      <td>NaN</td>\n",
       "      <td>NaN</td>\n",
       "      <td>NaN</td>\n",
       "      <td>NaN</td>\n",
       "      <td>NaN</td>\n",
       "      <td>NaN</td>\n",
       "    </tr>\n",
       "    <tr>\n",
       "      <th>12</th>\n",
       "      <td>Allergy</td>\n",
       "      <td>continuous_sneezing</td>\n",
       "      <td>chills</td>\n",
       "      <td>watering_from_eyes</td>\n",
       "      <td>NaN</td>\n",
       "      <td>NaN</td>\n",
       "      <td>NaN</td>\n",
       "      <td>NaN</td>\n",
       "      <td>NaN</td>\n",
       "      <td>NaN</td>\n",
       "      <td>NaN</td>\n",
       "      <td>NaN</td>\n",
       "      <td>NaN</td>\n",
       "      <td>NaN</td>\n",
       "      <td>NaN</td>\n",
       "      <td>NaN</td>\n",
       "      <td>NaN</td>\n",
       "      <td>NaN</td>\n",
       "    </tr>\n",
       "    <tr>\n",
       "      <th>13</th>\n",
       "      <td>Allergy</td>\n",
       "      <td>continuous_sneezing</td>\n",
       "      <td>shivering</td>\n",
       "      <td>watering_from_eyes</td>\n",
       "      <td>NaN</td>\n",
       "      <td>NaN</td>\n",
       "      <td>NaN</td>\n",
       "      <td>NaN</td>\n",
       "      <td>NaN</td>\n",
       "      <td>NaN</td>\n",
       "      <td>NaN</td>\n",
       "      <td>NaN</td>\n",
       "      <td>NaN</td>\n",
       "      <td>NaN</td>\n",
       "      <td>NaN</td>\n",
       "      <td>NaN</td>\n",
       "      <td>NaN</td>\n",
       "      <td>NaN</td>\n",
       "    </tr>\n",
       "    <tr>\n",
       "      <th>14</th>\n",
       "      <td>Allergy</td>\n",
       "      <td>continuous_sneezing</td>\n",
       "      <td>shivering</td>\n",
       "      <td>chills</td>\n",
       "      <td>NaN</td>\n",
       "      <td>NaN</td>\n",
       "      <td>NaN</td>\n",
       "      <td>NaN</td>\n",
       "      <td>NaN</td>\n",
       "      <td>NaN</td>\n",
       "      <td>NaN</td>\n",
       "      <td>NaN</td>\n",
       "      <td>NaN</td>\n",
       "      <td>NaN</td>\n",
       "      <td>NaN</td>\n",
       "      <td>NaN</td>\n",
       "      <td>NaN</td>\n",
       "      <td>NaN</td>\n",
       "    </tr>\n",
       "    <tr>\n",
       "      <th>15</th>\n",
       "      <td>Allergy</td>\n",
       "      <td>shivering</td>\n",
       "      <td>chills</td>\n",
       "      <td>watering_from_eyes</td>\n",
       "      <td>NaN</td>\n",
       "      <td>NaN</td>\n",
       "      <td>NaN</td>\n",
       "      <td>NaN</td>\n",
       "      <td>NaN</td>\n",
       "      <td>NaN</td>\n",
       "      <td>NaN</td>\n",
       "      <td>NaN</td>\n",
       "      <td>NaN</td>\n",
       "      <td>NaN</td>\n",
       "      <td>NaN</td>\n",
       "      <td>NaN</td>\n",
       "      <td>NaN</td>\n",
       "      <td>NaN</td>\n",
       "    </tr>\n",
       "    <tr>\n",
       "      <th>16</th>\n",
       "      <td>Allergy</td>\n",
       "      <td>continuous_sneezing</td>\n",
       "      <td>chills</td>\n",
       "      <td>watering_from_eyes</td>\n",
       "      <td>NaN</td>\n",
       "      <td>NaN</td>\n",
       "      <td>NaN</td>\n",
       "      <td>NaN</td>\n",
       "      <td>NaN</td>\n",
       "      <td>NaN</td>\n",
       "      <td>NaN</td>\n",
       "      <td>NaN</td>\n",
       "      <td>NaN</td>\n",
       "      <td>NaN</td>\n",
       "      <td>NaN</td>\n",
       "      <td>NaN</td>\n",
       "      <td>NaN</td>\n",
       "      <td>NaN</td>\n",
       "    </tr>\n",
       "    <tr>\n",
       "      <th>17</th>\n",
       "      <td>Allergy</td>\n",
       "      <td>continuous_sneezing</td>\n",
       "      <td>shivering</td>\n",
       "      <td>watering_from_eyes</td>\n",
       "      <td>NaN</td>\n",
       "      <td>NaN</td>\n",
       "      <td>NaN</td>\n",
       "      <td>NaN</td>\n",
       "      <td>NaN</td>\n",
       "      <td>NaN</td>\n",
       "      <td>NaN</td>\n",
       "      <td>NaN</td>\n",
       "      <td>NaN</td>\n",
       "      <td>NaN</td>\n",
       "      <td>NaN</td>\n",
       "      <td>NaN</td>\n",
       "      <td>NaN</td>\n",
       "      <td>NaN</td>\n",
       "    </tr>\n",
       "    <tr>\n",
       "      <th>18</th>\n",
       "      <td>Allergy</td>\n",
       "      <td>continuous_sneezing</td>\n",
       "      <td>shivering</td>\n",
       "      <td>chills</td>\n",
       "      <td>NaN</td>\n",
       "      <td>NaN</td>\n",
       "      <td>NaN</td>\n",
       "      <td>NaN</td>\n",
       "      <td>NaN</td>\n",
       "      <td>NaN</td>\n",
       "      <td>NaN</td>\n",
       "      <td>NaN</td>\n",
       "      <td>NaN</td>\n",
       "      <td>NaN</td>\n",
       "      <td>NaN</td>\n",
       "      <td>NaN</td>\n",
       "      <td>NaN</td>\n",
       "      <td>NaN</td>\n",
       "    </tr>\n",
       "    <tr>\n",
       "      <th>19</th>\n",
       "      <td>Allergy</td>\n",
       "      <td>continuous_sneezing</td>\n",
       "      <td>shivering</td>\n",
       "      <td>chills</td>\n",
       "      <td>watering_from_eyes</td>\n",
       "      <td>NaN</td>\n",
       "      <td>NaN</td>\n",
       "      <td>NaN</td>\n",
       "      <td>NaN</td>\n",
       "      <td>NaN</td>\n",
       "      <td>NaN</td>\n",
       "      <td>NaN</td>\n",
       "      <td>NaN</td>\n",
       "      <td>NaN</td>\n",
       "      <td>NaN</td>\n",
       "      <td>NaN</td>\n",
       "      <td>NaN</td>\n",
       "      <td>NaN</td>\n",
       "    </tr>\n",
       "  </tbody>\n",
       "</table>\n",
       "</div>"
      ],
      "text/plain": [
       "             Disease             Symptom_1              Symptom_2  \\\n",
       "0   Fungal infection               itching              skin_rash   \n",
       "1   Fungal infection             skin_rash   nodal_skin_eruptions   \n",
       "2   Fungal infection               itching   nodal_skin_eruptions   \n",
       "3   Fungal infection               itching              skin_rash   \n",
       "4   Fungal infection               itching              skin_rash   \n",
       "5   Fungal infection             skin_rash   nodal_skin_eruptions   \n",
       "6   Fungal infection               itching   nodal_skin_eruptions   \n",
       "7   Fungal infection               itching              skin_rash   \n",
       "8   Fungal infection               itching              skin_rash   \n",
       "9   Fungal infection               itching              skin_rash   \n",
       "10           Allergy   continuous_sneezing              shivering   \n",
       "11           Allergy             shivering                 chills   \n",
       "12           Allergy   continuous_sneezing                 chills   \n",
       "13           Allergy   continuous_sneezing              shivering   \n",
       "14           Allergy   continuous_sneezing              shivering   \n",
       "15           Allergy             shivering                 chills   \n",
       "16           Allergy   continuous_sneezing                 chills   \n",
       "17           Allergy   continuous_sneezing              shivering   \n",
       "18           Allergy   continuous_sneezing              shivering   \n",
       "19           Allergy   continuous_sneezing              shivering   \n",
       "\n",
       "                Symptom_3             Symptom_4 Symptom_5 Symptom_6 Symptom_7  \\\n",
       "0    nodal_skin_eruptions   dischromic _patches       NaN       NaN       NaN   \n",
       "1     dischromic _patches                   NaN       NaN       NaN       NaN   \n",
       "2     dischromic _patches                   NaN       NaN       NaN       NaN   \n",
       "3     dischromic _patches                   NaN       NaN       NaN       NaN   \n",
       "4    nodal_skin_eruptions                   NaN       NaN       NaN       NaN   \n",
       "5     dischromic _patches                   NaN       NaN       NaN       NaN   \n",
       "6     dischromic _patches                   NaN       NaN       NaN       NaN   \n",
       "7     dischromic _patches                   NaN       NaN       NaN       NaN   \n",
       "8    nodal_skin_eruptions                   NaN       NaN       NaN       NaN   \n",
       "9    nodal_skin_eruptions   dischromic _patches       NaN       NaN       NaN   \n",
       "10                 chills    watering_from_eyes       NaN       NaN       NaN   \n",
       "11     watering_from_eyes                   NaN       NaN       NaN       NaN   \n",
       "12     watering_from_eyes                   NaN       NaN       NaN       NaN   \n",
       "13     watering_from_eyes                   NaN       NaN       NaN       NaN   \n",
       "14                 chills                   NaN       NaN       NaN       NaN   \n",
       "15     watering_from_eyes                   NaN       NaN       NaN       NaN   \n",
       "16     watering_from_eyes                   NaN       NaN       NaN       NaN   \n",
       "17     watering_from_eyes                   NaN       NaN       NaN       NaN   \n",
       "18                 chills                   NaN       NaN       NaN       NaN   \n",
       "19                 chills    watering_from_eyes       NaN       NaN       NaN   \n",
       "\n",
       "   Symptom_8 Symptom_9 Symptom_10 Symptom_11 Symptom_12 Symptom_13 Symptom_14  \\\n",
       "0        NaN       NaN        NaN        NaN        NaN        NaN        NaN   \n",
       "1        NaN       NaN        NaN        NaN        NaN        NaN        NaN   \n",
       "2        NaN       NaN        NaN        NaN        NaN        NaN        NaN   \n",
       "3        NaN       NaN        NaN        NaN        NaN        NaN        NaN   \n",
       "4        NaN       NaN        NaN        NaN        NaN        NaN        NaN   \n",
       "5        NaN       NaN        NaN        NaN        NaN        NaN        NaN   \n",
       "6        NaN       NaN        NaN        NaN        NaN        NaN        NaN   \n",
       "7        NaN       NaN        NaN        NaN        NaN        NaN        NaN   \n",
       "8        NaN       NaN        NaN        NaN        NaN        NaN        NaN   \n",
       "9        NaN       NaN        NaN        NaN        NaN        NaN        NaN   \n",
       "10       NaN       NaN        NaN        NaN        NaN        NaN        NaN   \n",
       "11       NaN       NaN        NaN        NaN        NaN        NaN        NaN   \n",
       "12       NaN       NaN        NaN        NaN        NaN        NaN        NaN   \n",
       "13       NaN       NaN        NaN        NaN        NaN        NaN        NaN   \n",
       "14       NaN       NaN        NaN        NaN        NaN        NaN        NaN   \n",
       "15       NaN       NaN        NaN        NaN        NaN        NaN        NaN   \n",
       "16       NaN       NaN        NaN        NaN        NaN        NaN        NaN   \n",
       "17       NaN       NaN        NaN        NaN        NaN        NaN        NaN   \n",
       "18       NaN       NaN        NaN        NaN        NaN        NaN        NaN   \n",
       "19       NaN       NaN        NaN        NaN        NaN        NaN        NaN   \n",
       "\n",
       "   Symptom_15 Symptom_16 Symptom_17  \n",
       "0         NaN        NaN        NaN  \n",
       "1         NaN        NaN        NaN  \n",
       "2         NaN        NaN        NaN  \n",
       "3         NaN        NaN        NaN  \n",
       "4         NaN        NaN        NaN  \n",
       "5         NaN        NaN        NaN  \n",
       "6         NaN        NaN        NaN  \n",
       "7         NaN        NaN        NaN  \n",
       "8         NaN        NaN        NaN  \n",
       "9         NaN        NaN        NaN  \n",
       "10        NaN        NaN        NaN  \n",
       "11        NaN        NaN        NaN  \n",
       "12        NaN        NaN        NaN  \n",
       "13        NaN        NaN        NaN  \n",
       "14        NaN        NaN        NaN  \n",
       "15        NaN        NaN        NaN  \n",
       "16        NaN        NaN        NaN  \n",
       "17        NaN        NaN        NaN  \n",
       "18        NaN        NaN        NaN  \n",
       "19        NaN        NaN        NaN  "
      ]
     },
     "execution_count": 66,
     "metadata": {},
     "output_type": "execute_result"
    }
   ],
   "source": [
    "df_c = pd.read_csv('dataset.csv')\n",
    "df_c.head(20)"
   ]
  },
  {
   "cell_type": "code",
   "execution_count": 67,
   "id": "composed-tablet",
   "metadata": {
    "ExecuteTime": {
     "end_time": "2021-05-14T01:10:13.596050Z",
     "start_time": "2021-05-14T01:10:13.161549Z"
    },
    "scrolled": true
   },
   "outputs": [
    {
     "data": {
      "text/html": [
       "<div>\n",
       "<style scoped>\n",
       "    .dataframe tbody tr th:only-of-type {\n",
       "        vertical-align: middle;\n",
       "    }\n",
       "\n",
       "    .dataframe tbody tr th {\n",
       "        vertical-align: top;\n",
       "    }\n",
       "\n",
       "    .dataframe thead th {\n",
       "        text-align: right;\n",
       "    }\n",
       "</style>\n",
       "<table border=\"1\" class=\"dataframe\">\n",
       "  <thead>\n",
       "    <tr style=\"text-align: right;\">\n",
       "      <th></th>\n",
       "      <th>Disease</th>\n",
       "      <th>Symptom_1</th>\n",
       "      <th>Symptom_2</th>\n",
       "      <th>Symptom_3</th>\n",
       "      <th>Symptom_4</th>\n",
       "      <th>Symptom_5</th>\n",
       "      <th>Symptom_6</th>\n",
       "      <th>Symptom_7</th>\n",
       "      <th>Symptom_8</th>\n",
       "      <th>Symptom_9</th>\n",
       "      <th>Symptom_10</th>\n",
       "      <th>Symptom_11</th>\n",
       "      <th>Symptom_12</th>\n",
       "      <th>Symptom_13</th>\n",
       "      <th>Symptom_14</th>\n",
       "      <th>Symptom_15</th>\n",
       "      <th>Symptom_16</th>\n",
       "      <th>Symptom_17</th>\n",
       "    </tr>\n",
       "  </thead>\n",
       "  <tbody>\n",
       "    <tr>\n",
       "      <th>count</th>\n",
       "      <td>4920</td>\n",
       "      <td>4920</td>\n",
       "      <td>4920</td>\n",
       "      <td>4920</td>\n",
       "      <td>4572</td>\n",
       "      <td>3714</td>\n",
       "      <td>2934</td>\n",
       "      <td>2268</td>\n",
       "      <td>1944</td>\n",
       "      <td>1692</td>\n",
       "      <td>1512</td>\n",
       "      <td>1194</td>\n",
       "      <td>744</td>\n",
       "      <td>504</td>\n",
       "      <td>306</td>\n",
       "      <td>240</td>\n",
       "      <td>192</td>\n",
       "      <td>72</td>\n",
       "    </tr>\n",
       "    <tr>\n",
       "      <th>unique</th>\n",
       "      <td>41</td>\n",
       "      <td>34</td>\n",
       "      <td>48</td>\n",
       "      <td>54</td>\n",
       "      <td>50</td>\n",
       "      <td>38</td>\n",
       "      <td>32</td>\n",
       "      <td>26</td>\n",
       "      <td>21</td>\n",
       "      <td>22</td>\n",
       "      <td>21</td>\n",
       "      <td>18</td>\n",
       "      <td>11</td>\n",
       "      <td>8</td>\n",
       "      <td>4</td>\n",
       "      <td>3</td>\n",
       "      <td>3</td>\n",
       "      <td>1</td>\n",
       "    </tr>\n",
       "    <tr>\n",
       "      <th>top</th>\n",
       "      <td>Paralysis (brain hemorrhage)</td>\n",
       "      <td>vomiting</td>\n",
       "      <td>vomiting</td>\n",
       "      <td>fatigue</td>\n",
       "      <td>high_fever</td>\n",
       "      <td>headache</td>\n",
       "      <td>nausea</td>\n",
       "      <td>abdominal_pain</td>\n",
       "      <td>abdominal_pain</td>\n",
       "      <td>yellowing_of_eyes</td>\n",
       "      <td>yellowing_of_eyes</td>\n",
       "      <td>irritability</td>\n",
       "      <td>malaise</td>\n",
       "      <td>stomach_bleeding</td>\n",
       "      <td>chest_pain</td>\n",
       "      <td>chest_pain</td>\n",
       "      <td>loss_of_smell</td>\n",
       "      <td>muscle_pain</td>\n",
       "    </tr>\n",
       "    <tr>\n",
       "      <th>freq</th>\n",
       "      <td>120</td>\n",
       "      <td>822</td>\n",
       "      <td>870</td>\n",
       "      <td>726</td>\n",
       "      <td>378</td>\n",
       "      <td>348</td>\n",
       "      <td>390</td>\n",
       "      <td>264</td>\n",
       "      <td>276</td>\n",
       "      <td>228</td>\n",
       "      <td>198</td>\n",
       "      <td>120</td>\n",
       "      <td>126</td>\n",
       "      <td>72</td>\n",
       "      <td>96</td>\n",
       "      <td>144</td>\n",
       "      <td>72</td>\n",
       "      <td>72</td>\n",
       "    </tr>\n",
       "  </tbody>\n",
       "</table>\n",
       "</div>"
      ],
      "text/plain": [
       "                             Disease  Symptom_1  Symptom_2 Symptom_3  \\\n",
       "count                           4920       4920       4920      4920   \n",
       "unique                            41         34         48        54   \n",
       "top     Paralysis (brain hemorrhage)   vomiting   vomiting   fatigue   \n",
       "freq                             120        822        870       726   \n",
       "\n",
       "          Symptom_4  Symptom_5 Symptom_6        Symptom_7        Symptom_8  \\\n",
       "count          4572       3714      2934             2268             1944   \n",
       "unique           50         38        32               26               21   \n",
       "top      high_fever   headache    nausea   abdominal_pain   abdominal_pain   \n",
       "freq            378        348       390              264              276   \n",
       "\n",
       "                 Symptom_9          Symptom_10     Symptom_11 Symptom_12  \\\n",
       "count                 1692                1512           1194        744   \n",
       "unique                  22                  21             18         11   \n",
       "top      yellowing_of_eyes   yellowing_of_eyes   irritability    malaise   \n",
       "freq                   228                 198            120        126   \n",
       "\n",
       "               Symptom_13   Symptom_14   Symptom_15      Symptom_16  \\\n",
       "count                 504          306          240             192   \n",
       "unique                  8            4            3               3   \n",
       "top      stomach_bleeding   chest_pain   chest_pain   loss_of_smell   \n",
       "freq                   72           96          144              72   \n",
       "\n",
       "          Symptom_17  \n",
       "count             72  \n",
       "unique             1  \n",
       "top      muscle_pain  \n",
       "freq              72  "
      ]
     },
     "execution_count": 67,
     "metadata": {},
     "output_type": "execute_result"
    }
   ],
   "source": [
    "df_c.describe()"
   ]
  },
  {
   "cell_type": "code",
   "execution_count": 68,
   "id": "adequate-bargain",
   "metadata": {
    "ExecuteTime": {
     "end_time": "2021-05-14T01:10:13.924667Z",
     "start_time": "2021-05-14T01:10:13.608970Z"
    }
   },
   "outputs": [
    {
     "data": {
      "text/plain": [
       "Disease          0\n",
       "Symptom_1        0\n",
       "Symptom_2        0\n",
       "Symptom_3        0\n",
       "Symptom_4      348\n",
       "Symptom_5     1206\n",
       "Symptom_6     1986\n",
       "Symptom_7     2652\n",
       "Symptom_8     2976\n",
       "Symptom_9     3228\n",
       "Symptom_10    3408\n",
       "Symptom_11    3726\n",
       "Symptom_12    4176\n",
       "Symptom_13    4416\n",
       "Symptom_14    4614\n",
       "Symptom_15    4680\n",
       "Symptom_16    4728\n",
       "Symptom_17    4848\n",
       "dtype: int64"
      ]
     },
     "execution_count": 68,
     "metadata": {},
     "output_type": "execute_result"
    }
   ],
   "source": [
    "df_c.isnull().sum() #Checking null values for each column"
   ]
  },
  {
   "cell_type": "markdown",
   "id": "informational-cleaning",
   "metadata": {},
   "source": [
    "## Data Pre-processing"
   ]
  },
  {
   "cell_type": "code",
   "execution_count": 69,
   "id": "athletic-gibson",
   "metadata": {
    "ExecuteTime": {
     "end_time": "2021-05-14T01:10:14.244886Z",
     "start_time": "2021-05-14T01:10:13.928655Z"
    }
   },
   "outputs": [],
   "source": [
    "cols = df_c.columns\n",
    "data = df_c[cols].values.flatten()\n",
    "values=df_c.values.flatten() #array contaning all column values."
   ]
  },
  {
   "cell_type": "markdown",
   "id": "forward-manhattan",
   "metadata": {},
   "source": [
    " squeezing array into series object to remove spaces within each string"
   ]
  },
  {
   "cell_type": "code",
   "execution_count": 70,
   "id": "gentle-realtor",
   "metadata": {
    "ExecuteTime": {
     "end_time": "2021-05-14T01:10:14.606970Z",
     "start_time": "2021-05-14T01:10:14.247760Z"
    }
   },
   "outputs": [],
   "source": [
    "s = pd.Series(data) \n",
    "s = s.str.strip()\n",
    "s = s.values.reshape(df_c.shape)"
   ]
  },
  {
   "cell_type": "code",
   "execution_count": 71,
   "id": "noble-discovery",
   "metadata": {
    "ExecuteTime": {
     "end_time": "2021-05-14T01:10:14.967520Z",
     "start_time": "2021-05-14T01:10:14.610602Z"
    },
    "scrolled": true
   },
   "outputs": [
    {
     "data": {
      "text/html": [
       "<div>\n",
       "<style scoped>\n",
       "    .dataframe tbody tr th:only-of-type {\n",
       "        vertical-align: middle;\n",
       "    }\n",
       "\n",
       "    .dataframe tbody tr th {\n",
       "        vertical-align: top;\n",
       "    }\n",
       "\n",
       "    .dataframe thead th {\n",
       "        text-align: right;\n",
       "    }\n",
       "</style>\n",
       "<table border=\"1\" class=\"dataframe\">\n",
       "  <thead>\n",
       "    <tr style=\"text-align: right;\">\n",
       "      <th></th>\n",
       "      <th>Disease</th>\n",
       "      <th>Symptom_1</th>\n",
       "      <th>Symptom_2</th>\n",
       "      <th>Symptom_3</th>\n",
       "      <th>Symptom_4</th>\n",
       "      <th>Symptom_5</th>\n",
       "      <th>Symptom_6</th>\n",
       "      <th>Symptom_7</th>\n",
       "      <th>Symptom_8</th>\n",
       "      <th>Symptom_9</th>\n",
       "      <th>Symptom_10</th>\n",
       "      <th>Symptom_11</th>\n",
       "      <th>Symptom_12</th>\n",
       "      <th>Symptom_13</th>\n",
       "      <th>Symptom_14</th>\n",
       "      <th>Symptom_15</th>\n",
       "      <th>Symptom_16</th>\n",
       "      <th>Symptom_17</th>\n",
       "    </tr>\n",
       "  </thead>\n",
       "  <tbody>\n",
       "    <tr>\n",
       "      <th>0</th>\n",
       "      <td>Fungal infection</td>\n",
       "      <td>itching</td>\n",
       "      <td>skin_rash</td>\n",
       "      <td>nodal_skin_eruptions</td>\n",
       "      <td>dischromic _patches</td>\n",
       "      <td></td>\n",
       "      <td></td>\n",
       "      <td></td>\n",
       "      <td></td>\n",
       "      <td></td>\n",
       "      <td></td>\n",
       "      <td></td>\n",
       "      <td></td>\n",
       "      <td></td>\n",
       "      <td></td>\n",
       "      <td></td>\n",
       "      <td></td>\n",
       "      <td></td>\n",
       "    </tr>\n",
       "    <tr>\n",
       "      <th>1</th>\n",
       "      <td>Fungal infection</td>\n",
       "      <td>skin_rash</td>\n",
       "      <td>nodal_skin_eruptions</td>\n",
       "      <td>dischromic _patches</td>\n",
       "      <td></td>\n",
       "      <td></td>\n",
       "      <td></td>\n",
       "      <td></td>\n",
       "      <td></td>\n",
       "      <td></td>\n",
       "      <td></td>\n",
       "      <td></td>\n",
       "      <td></td>\n",
       "      <td></td>\n",
       "      <td></td>\n",
       "      <td></td>\n",
       "      <td></td>\n",
       "      <td></td>\n",
       "    </tr>\n",
       "    <tr>\n",
       "      <th>2</th>\n",
       "      <td>Fungal infection</td>\n",
       "      <td>itching</td>\n",
       "      <td>nodal_skin_eruptions</td>\n",
       "      <td>dischromic _patches</td>\n",
       "      <td></td>\n",
       "      <td></td>\n",
       "      <td></td>\n",
       "      <td></td>\n",
       "      <td></td>\n",
       "      <td></td>\n",
       "      <td></td>\n",
       "      <td></td>\n",
       "      <td></td>\n",
       "      <td></td>\n",
       "      <td></td>\n",
       "      <td></td>\n",
       "      <td></td>\n",
       "      <td></td>\n",
       "    </tr>\n",
       "    <tr>\n",
       "      <th>3</th>\n",
       "      <td>Fungal infection</td>\n",
       "      <td>itching</td>\n",
       "      <td>skin_rash</td>\n",
       "      <td>dischromic _patches</td>\n",
       "      <td></td>\n",
       "      <td></td>\n",
       "      <td></td>\n",
       "      <td></td>\n",
       "      <td></td>\n",
       "      <td></td>\n",
       "      <td></td>\n",
       "      <td></td>\n",
       "      <td></td>\n",
       "      <td></td>\n",
       "      <td></td>\n",
       "      <td></td>\n",
       "      <td></td>\n",
       "      <td></td>\n",
       "    </tr>\n",
       "    <tr>\n",
       "      <th>4</th>\n",
       "      <td>Fungal infection</td>\n",
       "      <td>itching</td>\n",
       "      <td>skin_rash</td>\n",
       "      <td>nodal_skin_eruptions</td>\n",
       "      <td></td>\n",
       "      <td></td>\n",
       "      <td></td>\n",
       "      <td></td>\n",
       "      <td></td>\n",
       "      <td></td>\n",
       "      <td></td>\n",
       "      <td></td>\n",
       "      <td></td>\n",
       "      <td></td>\n",
       "      <td></td>\n",
       "      <td></td>\n",
       "      <td></td>\n",
       "      <td></td>\n",
       "    </tr>\n",
       "  </tbody>\n",
       "</table>\n",
       "</div>"
      ],
      "text/plain": [
       "            Disease  Symptom_1             Symptom_2             Symptom_3  \\\n",
       "0  Fungal infection    itching             skin_rash  nodal_skin_eruptions   \n",
       "1  Fungal infection  skin_rash  nodal_skin_eruptions   dischromic _patches   \n",
       "2  Fungal infection    itching  nodal_skin_eruptions   dischromic _patches   \n",
       "3  Fungal infection    itching             skin_rash   dischromic _patches   \n",
       "4  Fungal infection    itching             skin_rash  nodal_skin_eruptions   \n",
       "\n",
       "             Symptom_4 Symptom_5 Symptom_6 Symptom_7 Symptom_8 Symptom_9  \\\n",
       "0  dischromic _patches                                                     \n",
       "1                                                                          \n",
       "2                                                                          \n",
       "3                                                                          \n",
       "4                                                                          \n",
       "\n",
       "  Symptom_10 Symptom_11 Symptom_12 Symptom_13 Symptom_14 Symptom_15  \\\n",
       "0                                                                     \n",
       "1                                                                     \n",
       "2                                                                     \n",
       "3                                                                     \n",
       "4                                                                     \n",
       "\n",
       "  Symptom_16 Symptom_17  \n",
       "0                        \n",
       "1                        \n",
       "2                        \n",
       "3                        \n",
       "4                        "
      ]
     },
     "execution_count": 71,
     "metadata": {},
     "output_type": "execute_result"
    }
   ],
   "source": [
    "df_c = pd.DataFrame(s, columns=df_c.columns)\n",
    "df_c = df_c.fillna('')#filling all nan values to empty string\n",
    "df_c.head()"
   ]
  },
  {
   "cell_type": "markdown",
   "id": "premium-blood",
   "metadata": {},
   "source": [
    "voiding weightless symptoms "
   ]
  },
  {
   "cell_type": "code",
   "execution_count": 72,
   "id": "selected-passion",
   "metadata": {
    "ExecuteTime": {
     "end_time": "2021-05-14T01:10:15.342356Z",
     "start_time": "2021-05-14T01:10:14.970522Z"
    },
    "scrolled": true
   },
   "outputs": [
    {
     "data": {
      "text/html": [
       "<div>\n",
       "<style scoped>\n",
       "    .dataframe tbody tr th:only-of-type {\n",
       "        vertical-align: middle;\n",
       "    }\n",
       "\n",
       "    .dataframe tbody tr th {\n",
       "        vertical-align: top;\n",
       "    }\n",
       "\n",
       "    .dataframe thead th {\n",
       "        text-align: right;\n",
       "    }\n",
       "</style>\n",
       "<table border=\"1\" class=\"dataframe\">\n",
       "  <thead>\n",
       "    <tr style=\"text-align: right;\">\n",
       "      <th></th>\n",
       "      <th>Disease</th>\n",
       "      <th>Symptom_1</th>\n",
       "      <th>Symptom_2</th>\n",
       "      <th>Symptom_3</th>\n",
       "      <th>Symptom_4</th>\n",
       "      <th>Symptom_5</th>\n",
       "      <th>Symptom_6</th>\n",
       "      <th>Symptom_7</th>\n",
       "      <th>Symptom_8</th>\n",
       "      <th>Symptom_9</th>\n",
       "      <th>Symptom_10</th>\n",
       "      <th>Symptom_11</th>\n",
       "      <th>Symptom_12</th>\n",
       "      <th>Symptom_13</th>\n",
       "      <th>Symptom_14</th>\n",
       "      <th>Symptom_15</th>\n",
       "      <th>Symptom_16</th>\n",
       "      <th>Symptom_17</th>\n",
       "    </tr>\n",
       "  </thead>\n",
       "  <tbody>\n",
       "    <tr>\n",
       "      <th>0</th>\n",
       "      <td>Fungal infection</td>\n",
       "      <td>itching</td>\n",
       "      <td>skin_rash</td>\n",
       "      <td>nodal_skin_eruptions</td>\n",
       "      <td></td>\n",
       "      <td></td>\n",
       "      <td></td>\n",
       "      <td></td>\n",
       "      <td></td>\n",
       "      <td></td>\n",
       "      <td></td>\n",
       "      <td></td>\n",
       "      <td></td>\n",
       "      <td></td>\n",
       "      <td></td>\n",
       "      <td></td>\n",
       "      <td></td>\n",
       "      <td></td>\n",
       "    </tr>\n",
       "    <tr>\n",
       "      <th>1</th>\n",
       "      <td>Fungal infection</td>\n",
       "      <td>skin_rash</td>\n",
       "      <td>nodal_skin_eruptions</td>\n",
       "      <td></td>\n",
       "      <td></td>\n",
       "      <td></td>\n",
       "      <td></td>\n",
       "      <td></td>\n",
       "      <td></td>\n",
       "      <td></td>\n",
       "      <td></td>\n",
       "      <td></td>\n",
       "      <td></td>\n",
       "      <td></td>\n",
       "      <td></td>\n",
       "      <td></td>\n",
       "      <td></td>\n",
       "      <td></td>\n",
       "    </tr>\n",
       "    <tr>\n",
       "      <th>2</th>\n",
       "      <td>Fungal infection</td>\n",
       "      <td>itching</td>\n",
       "      <td>nodal_skin_eruptions</td>\n",
       "      <td></td>\n",
       "      <td></td>\n",
       "      <td></td>\n",
       "      <td></td>\n",
       "      <td></td>\n",
       "      <td></td>\n",
       "      <td></td>\n",
       "      <td></td>\n",
       "      <td></td>\n",
       "      <td></td>\n",
       "      <td></td>\n",
       "      <td></td>\n",
       "      <td></td>\n",
       "      <td></td>\n",
       "      <td></td>\n",
       "    </tr>\n",
       "    <tr>\n",
       "      <th>3</th>\n",
       "      <td>Fungal infection</td>\n",
       "      <td>itching</td>\n",
       "      <td>skin_rash</td>\n",
       "      <td></td>\n",
       "      <td></td>\n",
       "      <td></td>\n",
       "      <td></td>\n",
       "      <td></td>\n",
       "      <td></td>\n",
       "      <td></td>\n",
       "      <td></td>\n",
       "      <td></td>\n",
       "      <td></td>\n",
       "      <td></td>\n",
       "      <td></td>\n",
       "      <td></td>\n",
       "      <td></td>\n",
       "      <td></td>\n",
       "    </tr>\n",
       "    <tr>\n",
       "      <th>4</th>\n",
       "      <td>Fungal infection</td>\n",
       "      <td>itching</td>\n",
       "      <td>skin_rash</td>\n",
       "      <td>nodal_skin_eruptions</td>\n",
       "      <td></td>\n",
       "      <td></td>\n",
       "      <td></td>\n",
       "      <td></td>\n",
       "      <td></td>\n",
       "      <td></td>\n",
       "      <td></td>\n",
       "      <td></td>\n",
       "      <td></td>\n",
       "      <td></td>\n",
       "      <td></td>\n",
       "      <td></td>\n",
       "      <td></td>\n",
       "      <td></td>\n",
       "    </tr>\n",
       "  </tbody>\n",
       "</table>\n",
       "</div>"
      ],
      "text/plain": [
       "            Disease  Symptom_1             Symptom_2             Symptom_3  \\\n",
       "0  Fungal infection    itching             skin_rash  nodal_skin_eruptions   \n",
       "1  Fungal infection  skin_rash  nodal_skin_eruptions                         \n",
       "2  Fungal infection    itching  nodal_skin_eruptions                         \n",
       "3  Fungal infection    itching             skin_rash                         \n",
       "4  Fungal infection    itching             skin_rash  nodal_skin_eruptions   \n",
       "\n",
       "  Symptom_4 Symptom_5 Symptom_6 Symptom_7 Symptom_8 Symptom_9 Symptom_10  \\\n",
       "0                                                                          \n",
       "1                                                                          \n",
       "2                                                                          \n",
       "3                                                                          \n",
       "4                                                                          \n",
       "\n",
       "  Symptom_11 Symptom_12 Symptom_13 Symptom_14 Symptom_15 Symptom_16 Symptom_17  \n",
       "0                                                                               \n",
       "1                                                                               \n",
       "2                                                                               \n",
       "3                                                                               \n",
       "4                                                                               "
      ]
     },
     "execution_count": 72,
     "metadata": {},
     "output_type": "execute_result"
    }
   ],
   "source": [
    "\n",
    "df_c = df_c.replace('dischromic _patches','') \n",
    "df_c = df_c.replace('spotting_ urination','')\n",
    "df_c = df_c.replace('foul_smell_of urine','')\n",
    "df_c.head()"
   ]
  },
  {
   "cell_type": "code",
   "execution_count": 73,
   "id": "jewish-netscape",
   "metadata": {
    "ExecuteTime": {
     "end_time": "2021-05-14T01:10:15.692001Z",
     "start_time": "2021-05-14T01:10:15.345346Z"
    }
   },
   "outputs": [
    {
     "name": "stdout",
     "output_type": "stream",
     "text": [
      "duplicated rows = 4618, non-duplicated rows = 302\n"
     ]
    }
   ],
   "source": [
    "print(f'duplicated rows = {df_c.duplicated().sum()}, non-duplicated rows = {(~df_c.duplicated()).sum()}')"
   ]
  },
  {
   "cell_type": "code",
   "execution_count": 74,
   "id": "suspected-thong",
   "metadata": {
    "ExecuteTime": {
     "end_time": "2021-05-14T01:10:16.008166Z",
     "start_time": "2021-05-14T01:10:15.693999Z"
    }
   },
   "outputs": [
    {
     "data": {
      "text/html": [
       "<div>\n",
       "<style scoped>\n",
       "    .dataframe tbody tr th:only-of-type {\n",
       "        vertical-align: middle;\n",
       "    }\n",
       "\n",
       "    .dataframe tbody tr th {\n",
       "        vertical-align: top;\n",
       "    }\n",
       "\n",
       "    .dataframe thead th {\n",
       "        text-align: right;\n",
       "    }\n",
       "</style>\n",
       "<table border=\"1\" class=\"dataframe\">\n",
       "  <thead>\n",
       "    <tr style=\"text-align: right;\">\n",
       "      <th></th>\n",
       "      <th>Disease</th>\n",
       "      <th>Symptom_1</th>\n",
       "      <th>Symptom_2</th>\n",
       "      <th>Symptom_3</th>\n",
       "      <th>Symptom_4</th>\n",
       "      <th>Symptom_5</th>\n",
       "      <th>Symptom_6</th>\n",
       "      <th>Symptom_7</th>\n",
       "      <th>Symptom_8</th>\n",
       "      <th>Symptom_9</th>\n",
       "      <th>Symptom_10</th>\n",
       "      <th>Symptom_11</th>\n",
       "      <th>Symptom_12</th>\n",
       "      <th>Symptom_13</th>\n",
       "      <th>Symptom_14</th>\n",
       "      <th>Symptom_15</th>\n",
       "      <th>Symptom_16</th>\n",
       "      <th>Symptom_17</th>\n",
       "    </tr>\n",
       "  </thead>\n",
       "  <tbody>\n",
       "    <tr>\n",
       "      <th>4</th>\n",
       "      <td>Fungal infection</td>\n",
       "      <td>itching</td>\n",
       "      <td>skin_rash</td>\n",
       "      <td>nodal_skin_eruptions</td>\n",
       "      <td></td>\n",
       "      <td></td>\n",
       "      <td></td>\n",
       "      <td></td>\n",
       "      <td></td>\n",
       "      <td></td>\n",
       "      <td></td>\n",
       "      <td></td>\n",
       "      <td></td>\n",
       "      <td></td>\n",
       "      <td></td>\n",
       "      <td></td>\n",
       "      <td></td>\n",
       "      <td></td>\n",
       "    </tr>\n",
       "    <tr>\n",
       "      <th>5</th>\n",
       "      <td>Fungal infection</td>\n",
       "      <td>skin_rash</td>\n",
       "      <td>nodal_skin_eruptions</td>\n",
       "      <td></td>\n",
       "      <td></td>\n",
       "      <td></td>\n",
       "      <td></td>\n",
       "      <td></td>\n",
       "      <td></td>\n",
       "      <td></td>\n",
       "      <td></td>\n",
       "      <td></td>\n",
       "      <td></td>\n",
       "      <td></td>\n",
       "      <td></td>\n",
       "      <td></td>\n",
       "      <td></td>\n",
       "      <td></td>\n",
       "    </tr>\n",
       "    <tr>\n",
       "      <th>6</th>\n",
       "      <td>Fungal infection</td>\n",
       "      <td>itching</td>\n",
       "      <td>nodal_skin_eruptions</td>\n",
       "      <td></td>\n",
       "      <td></td>\n",
       "      <td></td>\n",
       "      <td></td>\n",
       "      <td></td>\n",
       "      <td></td>\n",
       "      <td></td>\n",
       "      <td></td>\n",
       "      <td></td>\n",
       "      <td></td>\n",
       "      <td></td>\n",
       "      <td></td>\n",
       "      <td></td>\n",
       "      <td></td>\n",
       "      <td></td>\n",
       "    </tr>\n",
       "    <tr>\n",
       "      <th>7</th>\n",
       "      <td>Fungal infection</td>\n",
       "      <td>itching</td>\n",
       "      <td>skin_rash</td>\n",
       "      <td></td>\n",
       "      <td></td>\n",
       "      <td></td>\n",
       "      <td></td>\n",
       "      <td></td>\n",
       "      <td></td>\n",
       "      <td></td>\n",
       "      <td></td>\n",
       "      <td></td>\n",
       "      <td></td>\n",
       "      <td></td>\n",
       "      <td></td>\n",
       "      <td></td>\n",
       "      <td></td>\n",
       "      <td></td>\n",
       "    </tr>\n",
       "    <tr>\n",
       "      <th>8</th>\n",
       "      <td>Fungal infection</td>\n",
       "      <td>itching</td>\n",
       "      <td>skin_rash</td>\n",
       "      <td>nodal_skin_eruptions</td>\n",
       "      <td></td>\n",
       "      <td></td>\n",
       "      <td></td>\n",
       "      <td></td>\n",
       "      <td></td>\n",
       "      <td></td>\n",
       "      <td></td>\n",
       "      <td></td>\n",
       "      <td></td>\n",
       "      <td></td>\n",
       "      <td></td>\n",
       "      <td></td>\n",
       "      <td></td>\n",
       "      <td></td>\n",
       "    </tr>\n",
       "    <tr>\n",
       "      <th>...</th>\n",
       "      <td>...</td>\n",
       "      <td>...</td>\n",
       "      <td>...</td>\n",
       "      <td>...</td>\n",
       "      <td>...</td>\n",
       "      <td>...</td>\n",
       "      <td>...</td>\n",
       "      <td>...</td>\n",
       "      <td>...</td>\n",
       "      <td>...</td>\n",
       "      <td>...</td>\n",
       "      <td>...</td>\n",
       "      <td>...</td>\n",
       "      <td>...</td>\n",
       "      <td>...</td>\n",
       "      <td>...</td>\n",
       "      <td>...</td>\n",
       "      <td>...</td>\n",
       "    </tr>\n",
       "    <tr>\n",
       "      <th>4915</th>\n",
       "      <td>(vertigo) Paroymsal  Positional Vertigo</td>\n",
       "      <td>vomiting</td>\n",
       "      <td>headache</td>\n",
       "      <td>nausea</td>\n",
       "      <td>spinning_movements</td>\n",
       "      <td>loss_of_balance</td>\n",
       "      <td>unsteadiness</td>\n",
       "      <td></td>\n",
       "      <td></td>\n",
       "      <td></td>\n",
       "      <td></td>\n",
       "      <td></td>\n",
       "      <td></td>\n",
       "      <td></td>\n",
       "      <td></td>\n",
       "      <td></td>\n",
       "      <td></td>\n",
       "      <td></td>\n",
       "    </tr>\n",
       "    <tr>\n",
       "      <th>4916</th>\n",
       "      <td>Acne</td>\n",
       "      <td>skin_rash</td>\n",
       "      <td>pus_filled_pimples</td>\n",
       "      <td>blackheads</td>\n",
       "      <td>scurring</td>\n",
       "      <td></td>\n",
       "      <td></td>\n",
       "      <td></td>\n",
       "      <td></td>\n",
       "      <td></td>\n",
       "      <td></td>\n",
       "      <td></td>\n",
       "      <td></td>\n",
       "      <td></td>\n",
       "      <td></td>\n",
       "      <td></td>\n",
       "      <td></td>\n",
       "      <td></td>\n",
       "    </tr>\n",
       "    <tr>\n",
       "      <th>4917</th>\n",
       "      <td>Urinary tract infection</td>\n",
       "      <td>burning_micturition</td>\n",
       "      <td>bladder_discomfort</td>\n",
       "      <td></td>\n",
       "      <td>continuous_feel_of_urine</td>\n",
       "      <td></td>\n",
       "      <td></td>\n",
       "      <td></td>\n",
       "      <td></td>\n",
       "      <td></td>\n",
       "      <td></td>\n",
       "      <td></td>\n",
       "      <td></td>\n",
       "      <td></td>\n",
       "      <td></td>\n",
       "      <td></td>\n",
       "      <td></td>\n",
       "      <td></td>\n",
       "    </tr>\n",
       "    <tr>\n",
       "      <th>4918</th>\n",
       "      <td>Psoriasis</td>\n",
       "      <td>skin_rash</td>\n",
       "      <td>joint_pain</td>\n",
       "      <td>skin_peeling</td>\n",
       "      <td>silver_like_dusting</td>\n",
       "      <td>small_dents_in_nails</td>\n",
       "      <td>inflammatory_nails</td>\n",
       "      <td></td>\n",
       "      <td></td>\n",
       "      <td></td>\n",
       "      <td></td>\n",
       "      <td></td>\n",
       "      <td></td>\n",
       "      <td></td>\n",
       "      <td></td>\n",
       "      <td></td>\n",
       "      <td></td>\n",
       "      <td></td>\n",
       "    </tr>\n",
       "    <tr>\n",
       "      <th>4919</th>\n",
       "      <td>Impetigo</td>\n",
       "      <td>skin_rash</td>\n",
       "      <td>high_fever</td>\n",
       "      <td>blister</td>\n",
       "      <td>red_sore_around_nose</td>\n",
       "      <td>yellow_crust_ooze</td>\n",
       "      <td></td>\n",
       "      <td></td>\n",
       "      <td></td>\n",
       "      <td></td>\n",
       "      <td></td>\n",
       "      <td></td>\n",
       "      <td></td>\n",
       "      <td></td>\n",
       "      <td></td>\n",
       "      <td></td>\n",
       "      <td></td>\n",
       "      <td></td>\n",
       "    </tr>\n",
       "  </tbody>\n",
       "</table>\n",
       "<p>4618 rows × 18 columns</p>\n",
       "</div>"
      ],
      "text/plain": [
       "                                      Disease            Symptom_1  \\\n",
       "4                            Fungal infection              itching   \n",
       "5                            Fungal infection            skin_rash   \n",
       "6                            Fungal infection              itching   \n",
       "7                            Fungal infection              itching   \n",
       "8                            Fungal infection              itching   \n",
       "...                                       ...                  ...   \n",
       "4915  (vertigo) Paroymsal  Positional Vertigo             vomiting   \n",
       "4916                                     Acne            skin_rash   \n",
       "4917                  Urinary tract infection  burning_micturition   \n",
       "4918                                Psoriasis            skin_rash   \n",
       "4919                                 Impetigo            skin_rash   \n",
       "\n",
       "                 Symptom_2             Symptom_3                 Symptom_4  \\\n",
       "4                skin_rash  nodal_skin_eruptions                             \n",
       "5     nodal_skin_eruptions                                                   \n",
       "6     nodal_skin_eruptions                                                   \n",
       "7                skin_rash                                                   \n",
       "8                skin_rash  nodal_skin_eruptions                             \n",
       "...                    ...                   ...                       ...   \n",
       "4915              headache                nausea        spinning_movements   \n",
       "4916    pus_filled_pimples            blackheads                  scurring   \n",
       "4917    bladder_discomfort                        continuous_feel_of_urine   \n",
       "4918            joint_pain          skin_peeling       silver_like_dusting   \n",
       "4919            high_fever               blister      red_sore_around_nose   \n",
       "\n",
       "                 Symptom_5           Symptom_6 Symptom_7 Symptom_8 Symptom_9  \\\n",
       "4                                                                              \n",
       "5                                                                              \n",
       "6                                                                              \n",
       "7                                                                              \n",
       "8                                                                              \n",
       "...                    ...                 ...       ...       ...       ...   \n",
       "4915       loss_of_balance        unsteadiness                                 \n",
       "4916                                                                           \n",
       "4917                                                                           \n",
       "4918  small_dents_in_nails  inflammatory_nails                                 \n",
       "4919     yellow_crust_ooze                                                     \n",
       "\n",
       "     Symptom_10 Symptom_11 Symptom_12 Symptom_13 Symptom_14 Symptom_15  \\\n",
       "4                                                                        \n",
       "5                                                                        \n",
       "6                                                                        \n",
       "7                                                                        \n",
       "8                                                                        \n",
       "...         ...        ...        ...        ...        ...        ...   \n",
       "4915                                                                     \n",
       "4916                                                                     \n",
       "4917                                                                     \n",
       "4918                                                                     \n",
       "4919                                                                     \n",
       "\n",
       "     Symptom_16 Symptom_17  \n",
       "4                           \n",
       "5                           \n",
       "6                           \n",
       "7                           \n",
       "8                           \n",
       "...         ...        ...  \n",
       "4915                        \n",
       "4916                        \n",
       "4917                        \n",
       "4918                        \n",
       "4919                        \n",
       "\n",
       "[4618 rows x 18 columns]"
      ]
     },
     "execution_count": 74,
     "metadata": {},
     "output_type": "execute_result"
    }
   ],
   "source": [
    "df_c.loc[df_c.duplicated(keep='first'),:]"
   ]
  },
  {
   "cell_type": "code",
   "execution_count": 75,
   "id": "nasty-outreach",
   "metadata": {
    "ExecuteTime": {
     "end_time": "2021-05-14T01:10:16.163722Z",
     "start_time": "2021-05-14T01:10:16.009153Z"
    },
    "scrolled": true
   },
   "outputs": [
    {
     "name": "stdout",
     "output_type": "stream",
     "text": [
      "duplicated rows = 4618, non-duplicated rows = 302\n"
     ]
    }
   ],
   "source": [
    "print(f'duplicated rows = {df_c.duplicated().sum()}, non-duplicated rows = {(~df_c.duplicated()).sum()}')"
   ]
  },
  {
   "cell_type": "code",
   "execution_count": 76,
   "id": "noticed-motel",
   "metadata": {
    "ExecuteTime": {
     "end_time": "2021-05-14T01:10:16.320771Z",
     "start_time": "2021-05-14T01:10:16.165724Z"
    }
   },
   "outputs": [],
   "source": [
    "df_c.drop_duplicates(keep='first',inplace=True)"
   ]
  },
  {
   "cell_type": "code",
   "execution_count": 77,
   "id": "undefined-socket",
   "metadata": {
    "ExecuteTime": {
     "end_time": "2021-05-14T01:10:16.494804Z",
     "start_time": "2021-05-14T01:10:16.322732Z"
    }
   },
   "outputs": [
    {
     "data": {
      "text/html": [
       "<div>\n",
       "<style scoped>\n",
       "    .dataframe tbody tr th:only-of-type {\n",
       "        vertical-align: middle;\n",
       "    }\n",
       "\n",
       "    .dataframe tbody tr th {\n",
       "        vertical-align: top;\n",
       "    }\n",
       "\n",
       "    .dataframe thead th {\n",
       "        text-align: right;\n",
       "    }\n",
       "</style>\n",
       "<table border=\"1\" class=\"dataframe\">\n",
       "  <thead>\n",
       "    <tr style=\"text-align: right;\">\n",
       "      <th></th>\n",
       "      <th>Disease</th>\n",
       "      <th>Symptom_1</th>\n",
       "      <th>Symptom_2</th>\n",
       "      <th>Symptom_3</th>\n",
       "      <th>Symptom_4</th>\n",
       "      <th>Symptom_5</th>\n",
       "      <th>Symptom_6</th>\n",
       "      <th>Symptom_7</th>\n",
       "      <th>Symptom_8</th>\n",
       "      <th>Symptom_9</th>\n",
       "      <th>Symptom_10</th>\n",
       "      <th>Symptom_11</th>\n",
       "      <th>Symptom_12</th>\n",
       "      <th>Symptom_13</th>\n",
       "      <th>Symptom_14</th>\n",
       "      <th>Symptom_15</th>\n",
       "      <th>Symptom_16</th>\n",
       "      <th>Symptom_17</th>\n",
       "    </tr>\n",
       "  </thead>\n",
       "  <tbody>\n",
       "    <tr>\n",
       "      <th>0</th>\n",
       "      <td>Fungal infection</td>\n",
       "      <td>itching</td>\n",
       "      <td>skin_rash</td>\n",
       "      <td>nodal_skin_eruptions</td>\n",
       "      <td></td>\n",
       "      <td></td>\n",
       "      <td></td>\n",
       "      <td></td>\n",
       "      <td></td>\n",
       "      <td></td>\n",
       "      <td></td>\n",
       "      <td></td>\n",
       "      <td></td>\n",
       "      <td></td>\n",
       "      <td></td>\n",
       "      <td></td>\n",
       "      <td></td>\n",
       "      <td></td>\n",
       "    </tr>\n",
       "    <tr>\n",
       "      <th>1</th>\n",
       "      <td>Fungal infection</td>\n",
       "      <td>skin_rash</td>\n",
       "      <td>nodal_skin_eruptions</td>\n",
       "      <td></td>\n",
       "      <td></td>\n",
       "      <td></td>\n",
       "      <td></td>\n",
       "      <td></td>\n",
       "      <td></td>\n",
       "      <td></td>\n",
       "      <td></td>\n",
       "      <td></td>\n",
       "      <td></td>\n",
       "      <td></td>\n",
       "      <td></td>\n",
       "      <td></td>\n",
       "      <td></td>\n",
       "      <td></td>\n",
       "    </tr>\n",
       "    <tr>\n",
       "      <th>2</th>\n",
       "      <td>Fungal infection</td>\n",
       "      <td>itching</td>\n",
       "      <td>nodal_skin_eruptions</td>\n",
       "      <td></td>\n",
       "      <td></td>\n",
       "      <td></td>\n",
       "      <td></td>\n",
       "      <td></td>\n",
       "      <td></td>\n",
       "      <td></td>\n",
       "      <td></td>\n",
       "      <td></td>\n",
       "      <td></td>\n",
       "      <td></td>\n",
       "      <td></td>\n",
       "      <td></td>\n",
       "      <td></td>\n",
       "      <td></td>\n",
       "    </tr>\n",
       "    <tr>\n",
       "      <th>3</th>\n",
       "      <td>Fungal infection</td>\n",
       "      <td>itching</td>\n",
       "      <td>skin_rash</td>\n",
       "      <td></td>\n",
       "      <td></td>\n",
       "      <td></td>\n",
       "      <td></td>\n",
       "      <td></td>\n",
       "      <td></td>\n",
       "      <td></td>\n",
       "      <td></td>\n",
       "      <td></td>\n",
       "      <td></td>\n",
       "      <td></td>\n",
       "      <td></td>\n",
       "      <td></td>\n",
       "      <td></td>\n",
       "      <td></td>\n",
       "    </tr>\n",
       "    <tr>\n",
       "      <th>10</th>\n",
       "      <td>Allergy</td>\n",
       "      <td>continuous_sneezing</td>\n",
       "      <td>shivering</td>\n",
       "      <td>chills</td>\n",
       "      <td>watering_from_eyes</td>\n",
       "      <td></td>\n",
       "      <td></td>\n",
       "      <td></td>\n",
       "      <td></td>\n",
       "      <td></td>\n",
       "      <td></td>\n",
       "      <td></td>\n",
       "      <td></td>\n",
       "      <td></td>\n",
       "      <td></td>\n",
       "      <td></td>\n",
       "      <td></td>\n",
       "      <td></td>\n",
       "    </tr>\n",
       "    <tr>\n",
       "      <th>...</th>\n",
       "      <td>...</td>\n",
       "      <td>...</td>\n",
       "      <td>...</td>\n",
       "      <td>...</td>\n",
       "      <td>...</td>\n",
       "      <td>...</td>\n",
       "      <td>...</td>\n",
       "      <td>...</td>\n",
       "      <td>...</td>\n",
       "      <td>...</td>\n",
       "      <td>...</td>\n",
       "      <td>...</td>\n",
       "      <td>...</td>\n",
       "      <td>...</td>\n",
       "      <td>...</td>\n",
       "      <td>...</td>\n",
       "      <td>...</td>\n",
       "      <td>...</td>\n",
       "    </tr>\n",
       "    <tr>\n",
       "      <th>402</th>\n",
       "      <td>Impetigo</td>\n",
       "      <td>high_fever</td>\n",
       "      <td>blister</td>\n",
       "      <td>red_sore_around_nose</td>\n",
       "      <td>yellow_crust_ooze</td>\n",
       "      <td></td>\n",
       "      <td></td>\n",
       "      <td></td>\n",
       "      <td></td>\n",
       "      <td></td>\n",
       "      <td></td>\n",
       "      <td></td>\n",
       "      <td></td>\n",
       "      <td></td>\n",
       "      <td></td>\n",
       "      <td></td>\n",
       "      <td></td>\n",
       "      <td></td>\n",
       "    </tr>\n",
       "    <tr>\n",
       "      <th>403</th>\n",
       "      <td>Impetigo</td>\n",
       "      <td>skin_rash</td>\n",
       "      <td>blister</td>\n",
       "      <td>red_sore_around_nose</td>\n",
       "      <td>yellow_crust_ooze</td>\n",
       "      <td></td>\n",
       "      <td></td>\n",
       "      <td></td>\n",
       "      <td></td>\n",
       "      <td></td>\n",
       "      <td></td>\n",
       "      <td></td>\n",
       "      <td></td>\n",
       "      <td></td>\n",
       "      <td></td>\n",
       "      <td></td>\n",
       "      <td></td>\n",
       "      <td></td>\n",
       "    </tr>\n",
       "    <tr>\n",
       "      <th>405</th>\n",
       "      <td>Impetigo</td>\n",
       "      <td>skin_rash</td>\n",
       "      <td>high_fever</td>\n",
       "      <td>red_sore_around_nose</td>\n",
       "      <td>yellow_crust_ooze</td>\n",
       "      <td></td>\n",
       "      <td></td>\n",
       "      <td></td>\n",
       "      <td></td>\n",
       "      <td></td>\n",
       "      <td></td>\n",
       "      <td></td>\n",
       "      <td></td>\n",
       "      <td></td>\n",
       "      <td></td>\n",
       "      <td></td>\n",
       "      <td></td>\n",
       "      <td></td>\n",
       "    </tr>\n",
       "    <tr>\n",
       "      <th>406</th>\n",
       "      <td>Impetigo</td>\n",
       "      <td>skin_rash</td>\n",
       "      <td>high_fever</td>\n",
       "      <td>blister</td>\n",
       "      <td>yellow_crust_ooze</td>\n",
       "      <td></td>\n",
       "      <td></td>\n",
       "      <td></td>\n",
       "      <td></td>\n",
       "      <td></td>\n",
       "      <td></td>\n",
       "      <td></td>\n",
       "      <td></td>\n",
       "      <td></td>\n",
       "      <td></td>\n",
       "      <td></td>\n",
       "      <td></td>\n",
       "      <td></td>\n",
       "    </tr>\n",
       "    <tr>\n",
       "      <th>407</th>\n",
       "      <td>Impetigo</td>\n",
       "      <td>skin_rash</td>\n",
       "      <td>high_fever</td>\n",
       "      <td>blister</td>\n",
       "      <td>red_sore_around_nose</td>\n",
       "      <td></td>\n",
       "      <td></td>\n",
       "      <td></td>\n",
       "      <td></td>\n",
       "      <td></td>\n",
       "      <td></td>\n",
       "      <td></td>\n",
       "      <td></td>\n",
       "      <td></td>\n",
       "      <td></td>\n",
       "      <td></td>\n",
       "      <td></td>\n",
       "      <td></td>\n",
       "    </tr>\n",
       "  </tbody>\n",
       "</table>\n",
       "<p>302 rows × 18 columns</p>\n",
       "</div>"
      ],
      "text/plain": [
       "              Disease            Symptom_1             Symptom_2  \\\n",
       "0    Fungal infection              itching             skin_rash   \n",
       "1    Fungal infection            skin_rash  nodal_skin_eruptions   \n",
       "2    Fungal infection              itching  nodal_skin_eruptions   \n",
       "3    Fungal infection              itching             skin_rash   \n",
       "10            Allergy  continuous_sneezing             shivering   \n",
       "..                ...                  ...                   ...   \n",
       "402          Impetigo           high_fever               blister   \n",
       "403          Impetigo            skin_rash               blister   \n",
       "405          Impetigo            skin_rash            high_fever   \n",
       "406          Impetigo            skin_rash            high_fever   \n",
       "407          Impetigo            skin_rash            high_fever   \n",
       "\n",
       "                Symptom_3             Symptom_4 Symptom_5 Symptom_6 Symptom_7  \\\n",
       "0    nodal_skin_eruptions                                                       \n",
       "1                                                                               \n",
       "2                                                                               \n",
       "3                                                                               \n",
       "10                 chills    watering_from_eyes                                 \n",
       "..                    ...                   ...       ...       ...       ...   \n",
       "402  red_sore_around_nose     yellow_crust_ooze                                 \n",
       "403  red_sore_around_nose     yellow_crust_ooze                                 \n",
       "405  red_sore_around_nose     yellow_crust_ooze                                 \n",
       "406               blister     yellow_crust_ooze                                 \n",
       "407               blister  red_sore_around_nose                                 \n",
       "\n",
       "    Symptom_8 Symptom_9 Symptom_10 Symptom_11 Symptom_12 Symptom_13  \\\n",
       "0                                                                     \n",
       "1                                                                     \n",
       "2                                                                     \n",
       "3                                                                     \n",
       "10                                                                    \n",
       "..        ...       ...        ...        ...        ...        ...   \n",
       "402                                                                   \n",
       "403                                                                   \n",
       "405                                                                   \n",
       "406                                                                   \n",
       "407                                                                   \n",
       "\n",
       "    Symptom_14 Symptom_15 Symptom_16 Symptom_17  \n",
       "0                                                \n",
       "1                                                \n",
       "2                                                \n",
       "3                                                \n",
       "10                                               \n",
       "..         ...        ...        ...        ...  \n",
       "402                                              \n",
       "403                                              \n",
       "405                                              \n",
       "406                                              \n",
       "407                                              \n",
       "\n",
       "[302 rows x 18 columns]"
      ]
     },
     "execution_count": 77,
     "metadata": {},
     "output_type": "execute_result"
    }
   ],
   "source": [
    "df_c"
   ]
  },
  {
   "cell_type": "code",
   "execution_count": 78,
   "id": "structured-student",
   "metadata": {
    "ExecuteTime": {
     "end_time": "2021-05-14T01:10:16.684817Z",
     "start_time": "2021-05-14T01:10:16.495641Z"
    },
    "scrolled": false
   },
   "outputs": [
    {
     "data": {
      "text/html": [
       "<div>\n",
       "<style scoped>\n",
       "    .dataframe tbody tr th:only-of-type {\n",
       "        vertical-align: middle;\n",
       "    }\n",
       "\n",
       "    .dataframe tbody tr th {\n",
       "        vertical-align: top;\n",
       "    }\n",
       "\n",
       "    .dataframe thead th {\n",
       "        text-align: right;\n",
       "    }\n",
       "</style>\n",
       "<table border=\"1\" class=\"dataframe\">\n",
       "  <thead>\n",
       "    <tr style=\"text-align: right;\">\n",
       "      <th></th>\n",
       "      <th>Disease</th>\n",
       "      <th>Symptom_1</th>\n",
       "      <th>Symptom_2</th>\n",
       "      <th>Symptom_3</th>\n",
       "      <th>Symptom_4</th>\n",
       "      <th>Symptom_5</th>\n",
       "      <th>Symptom_6</th>\n",
       "      <th>Symptom_7</th>\n",
       "      <th>Symptom_8</th>\n",
       "      <th>Symptom_9</th>\n",
       "      <th>Symptom_10</th>\n",
       "      <th>Symptom_11</th>\n",
       "      <th>Symptom_12</th>\n",
       "      <th>Symptom_13</th>\n",
       "      <th>Symptom_14</th>\n",
       "      <th>Symptom_15</th>\n",
       "      <th>Symptom_16</th>\n",
       "      <th>Symptom_17</th>\n",
       "    </tr>\n",
       "  </thead>\n",
       "  <tbody>\n",
       "    <tr>\n",
       "      <th>count</th>\n",
       "      <td>302</td>\n",
       "      <td>302</td>\n",
       "      <td>302</td>\n",
       "      <td>302</td>\n",
       "      <td>302</td>\n",
       "      <td>302</td>\n",
       "      <td>302</td>\n",
       "      <td>302</td>\n",
       "      <td>302</td>\n",
       "      <td>302</td>\n",
       "      <td>302</td>\n",
       "      <td>302</td>\n",
       "      <td>302</td>\n",
       "      <td>302</td>\n",
       "      <td>302</td>\n",
       "      <td>302</td>\n",
       "      <td>302</td>\n",
       "      <td>302</td>\n",
       "    </tr>\n",
       "    <tr>\n",
       "      <th>unique</th>\n",
       "      <td>41</td>\n",
       "      <td>34</td>\n",
       "      <td>48</td>\n",
       "      <td>53</td>\n",
       "      <td>49</td>\n",
       "      <td>38</td>\n",
       "      <td>33</td>\n",
       "      <td>27</td>\n",
       "      <td>22</td>\n",
       "      <td>23</td>\n",
       "      <td>22</td>\n",
       "      <td>19</td>\n",
       "      <td>12</td>\n",
       "      <td>9</td>\n",
       "      <td>5</td>\n",
       "      <td>4</td>\n",
       "      <td>4</td>\n",
       "      <td>2</td>\n",
       "    </tr>\n",
       "    <tr>\n",
       "      <th>top</th>\n",
       "      <td>Migraine</td>\n",
       "      <td>vomiting</td>\n",
       "      <td>vomiting</td>\n",
       "      <td>fatigue</td>\n",
       "      <td></td>\n",
       "      <td></td>\n",
       "      <td></td>\n",
       "      <td></td>\n",
       "      <td></td>\n",
       "      <td></td>\n",
       "      <td></td>\n",
       "      <td></td>\n",
       "      <td></td>\n",
       "      <td></td>\n",
       "      <td></td>\n",
       "      <td></td>\n",
       "      <td></td>\n",
       "      <td></td>\n",
       "    </tr>\n",
       "    <tr>\n",
       "      <th>freq</th>\n",
       "      <td>10</td>\n",
       "      <td>46</td>\n",
       "      <td>56</td>\n",
       "      <td>46</td>\n",
       "      <td>36</td>\n",
       "      <td>69</td>\n",
       "      <td>116</td>\n",
       "      <td>144</td>\n",
       "      <td>162</td>\n",
       "      <td>182</td>\n",
       "      <td>192</td>\n",
       "      <td>234</td>\n",
       "      <td>255</td>\n",
       "      <td>272</td>\n",
       "      <td>283</td>\n",
       "      <td>284</td>\n",
       "      <td>292</td>\n",
       "      <td>301</td>\n",
       "    </tr>\n",
       "  </tbody>\n",
       "</table>\n",
       "</div>"
      ],
      "text/plain": [
       "         Disease Symptom_1 Symptom_2 Symptom_3 Symptom_4 Symptom_5 Symptom_6  \\\n",
       "count        302       302       302       302       302       302       302   \n",
       "unique        41        34        48        53        49        38        33   \n",
       "top     Migraine  vomiting  vomiting   fatigue                                 \n",
       "freq          10        46        56        46        36        69       116   \n",
       "\n",
       "       Symptom_7 Symptom_8 Symptom_9 Symptom_10 Symptom_11 Symptom_12  \\\n",
       "count        302       302       302        302        302        302   \n",
       "unique        27        22        23         22         19         12   \n",
       "top                                                                     \n",
       "freq         144       162       182        192        234        255   \n",
       "\n",
       "       Symptom_13 Symptom_14 Symptom_15 Symptom_16 Symptom_17  \n",
       "count         302        302        302        302        302  \n",
       "unique          9          5          4          4          2  \n",
       "top                                                            \n",
       "freq          272        283        284        292        301  "
      ]
     },
     "execution_count": 78,
     "metadata": {},
     "output_type": "execute_result"
    }
   ],
   "source": [
    "df_c.describe()"
   ]
  },
  {
   "cell_type": "code",
   "execution_count": 79,
   "id": "eleven-frequency",
   "metadata": {
    "ExecuteTime": {
     "end_time": "2021-05-14T01:10:16.826697Z",
     "start_time": "2021-05-14T01:10:16.685687Z"
    }
   },
   "outputs": [
    {
     "data": {
      "text/plain": [
       "Disease       0\n",
       "Symptom_1     0\n",
       "Symptom_2     0\n",
       "Symptom_3     0\n",
       "Symptom_4     0\n",
       "Symptom_5     0\n",
       "Symptom_6     0\n",
       "Symptom_7     0\n",
       "Symptom_8     0\n",
       "Symptom_9     0\n",
       "Symptom_10    0\n",
       "Symptom_11    0\n",
       "Symptom_12    0\n",
       "Symptom_13    0\n",
       "Symptom_14    0\n",
       "Symptom_15    0\n",
       "Symptom_16    0\n",
       "Symptom_17    0\n",
       "dtype: int64"
      ]
     },
     "execution_count": 79,
     "metadata": {},
     "output_type": "execute_result"
    }
   ],
   "source": [
    "df_c.isnull().sum() #Checking null values for each column"
   ]
  },
  {
   "cell_type": "markdown",
   "id": "optimum-singapore",
   "metadata": {},
   "source": [
    "Creating `Json File` containing all tags, patterns and answers."
   ]
  },
  {
   "cell_type": "code",
   "execution_count": 80,
   "id": "round-distance",
   "metadata": {
    "ExecuteTime": {
     "end_time": "2021-05-14T01:10:18.072064Z",
     "start_time": "2021-05-14T01:10:16.827582Z"
    }
   },
   "outputs": [
    {
     "data": {
      "text/plain": [
       "['Fungal infection',\n",
       " 'GERD',\n",
       " 'Osteoarthristis',\n",
       " 'Varicose veins',\n",
       " 'Hypoglycemia',\n",
       " 'Hypothyroidism',\n",
       " 'Chronic cholestasis',\n",
       " 'Hepatitis D',\n",
       " 'Heart attack',\n",
       " 'Psoriasis',\n",
       " 'Hepatitis C',\n",
       " 'Chicken pox',\n",
       " 'Urinary tract infection',\n",
       " 'Bronchial Asthma',\n",
       " 'Tuberculosis',\n",
       " 'Jaundice',\n",
       " 'Drug Reaction',\n",
       " 'Impetigo',\n",
       " 'hepatitis A',\n",
       " 'Typhoid',\n",
       " 'AIDS',\n",
       " 'Dimorphic hemmorhoids(piles)',\n",
       " '(vertigo) Paroymsal  Positional Vertigo',\n",
       " 'Cervical spondylosis',\n",
       " 'Gastroenteritis',\n",
       " 'Alcoholic hepatitis',\n",
       " 'Acne',\n",
       " 'Dengue',\n",
       " 'Common Cold',\n",
       " 'Migraine',\n",
       " 'Malaria',\n",
       " 'Pneumonia',\n",
       " 'Hypertension',\n",
       " 'Allergy',\n",
       " 'Arthritis',\n",
       " 'Peptic ulcer diseae',\n",
       " 'Hyperthyroidism',\n",
       " 'Paralysis (brain hemorrhage)',\n",
       " 'Hepatitis B',\n",
       " 'Hepatitis E',\n",
       " 'Diabetes']"
      ]
     },
     "execution_count": 80,
     "metadata": {},
     "output_type": "execute_result"
    }
   ],
   "source": [
    "diseases=list(set(df_c['Disease'])) #list of symptoms\n",
    "diseases"
   ]
  },
  {
   "cell_type": "code",
   "execution_count": 81,
   "id": "discrete-hearts",
   "metadata": {
    "ExecuteTime": {
     "end_time": "2021-05-14T01:10:18.255299Z",
     "start_time": "2021-05-14T01:10:18.075026Z"
    }
   },
   "outputs": [],
   "source": [
    "jsonFile={'intents':[]}\n",
    "for i,disease in enumerate(diseases):\n",
    "    jsonFile['intents'].append(dict([('tag',disease),('patterns',[]),('responses',['you have '+disease])]))"
   ]
  },
  {
   "cell_type": "code",
   "execution_count": 82,
   "id": "confused-climate",
   "metadata": {
    "ExecuteTime": {
     "end_time": "2021-05-14T01:10:18.433957Z",
     "start_time": "2021-05-14T01:10:18.257294Z"
    }
   },
   "outputs": [
    {
     "name": "stdout",
     "output_type": "stream",
     "text": [
      "Data Frame Shape After Cleaning = (302, 18)\n"
     ]
    }
   ],
   "source": [
    "print(f'Data Frame Shape After Cleaning = {df_c.shape}')"
   ]
  },
  {
   "cell_type": "markdown",
   "id": "qualified-crazy",
   "metadata": {},
   "source": [
    "Populating the Json file with patterns"
   ]
  },
  {
   "cell_type": "code",
   "execution_count": 83,
   "id": "freelance-champion",
   "metadata": {
    "ExecuteTime": {
     "end_time": "2021-05-14T01:10:27.782872Z",
     "start_time": "2021-05-14T01:10:18.434958Z"
    },
    "scrolled": true
   },
   "outputs": [
    {
     "data": {
      "application/vnd.jupyter.widget-view+json": {
       "model_id": "290640a6f57843b298c3df5b66b228f5",
       "version_major": 2,
       "version_minor": 0
      },
      "text/plain": [
       "  0%|          | 0/302 [00:00<?, ?it/s]"
      ]
     },
     "metadata": {},
     "output_type": "display_data"
    },
    {
     "data": {
      "application/vnd.jupyter.widget-view+json": {
       "model_id": "d7a3a24cfcbd424787a8ce9815e2cb08",
       "version_major": 2,
       "version_minor": 0
      },
      "text/plain": [
       "  0%|          | 0/41 [00:00<?, ?it/s]"
      ]
     },
     "metadata": {},
     "output_type": "display_data"
    },
    {
     "data": {
      "application/vnd.jupyter.widget-view+json": {
       "model_id": "36ac97a3373c440b8117a68019b90fb2",
       "version_major": 2,
       "version_minor": 0
      },
      "text/plain": [
       "  0%|          | 0/41 [00:00<?, ?it/s]"
      ]
     },
     "metadata": {},
     "output_type": "display_data"
    },
    {
     "data": {
      "application/vnd.jupyter.widget-view+json": {
       "model_id": "3015669bd5f34e9e80b1b7998ee6b534",
       "version_major": 2,
       "version_minor": 0
      },
      "text/plain": [
       "  0%|          | 0/41 [00:00<?, ?it/s]"
      ]
     },
     "metadata": {},
     "output_type": "display_data"
    },
    {
     "data": {
      "application/vnd.jupyter.widget-view+json": {
       "model_id": "54acb827d5d14d89b1ed1a092f7f586d",
       "version_major": 2,
       "version_minor": 0
      },
      "text/plain": [
       "  0%|          | 0/41 [00:00<?, ?it/s]"
      ]
     },
     "metadata": {},
     "output_type": "display_data"
    },
    {
     "data": {
      "application/vnd.jupyter.widget-view+json": {
       "model_id": "b411b85abfc5462596b0546d6074792a",
       "version_major": 2,
       "version_minor": 0
      },
      "text/plain": [
       "  0%|          | 0/41 [00:00<?, ?it/s]"
      ]
     },
     "metadata": {},
     "output_type": "display_data"
    },
    {
     "data": {
      "application/vnd.jupyter.widget-view+json": {
       "model_id": "9bdacf12d7c546e4be95c95ff20a66d6",
       "version_major": 2,
       "version_minor": 0
      },
      "text/plain": [
       "  0%|          | 0/41 [00:00<?, ?it/s]"
      ]
     },
     "metadata": {},
     "output_type": "display_data"
    },
    {
     "data": {
      "application/vnd.jupyter.widget-view+json": {
       "model_id": "36e0cb23e7674f0f96967720ffcd3dac",
       "version_major": 2,
       "version_minor": 0
      },
      "text/plain": [
       "  0%|          | 0/41 [00:00<?, ?it/s]"
      ]
     },
     "metadata": {},
     "output_type": "display_data"
    },
    {
     "data": {
      "application/vnd.jupyter.widget-view+json": {
       "model_id": "4c3e7f33907d4b44b70ca5c93dbef5b0",
       "version_major": 2,
       "version_minor": 0
      },
      "text/plain": [
       "  0%|          | 0/41 [00:00<?, ?it/s]"
      ]
     },
     "metadata": {},
     "output_type": "display_data"
    },
    {
     "data": {
      "application/vnd.jupyter.widget-view+json": {
       "model_id": "8a3d53d378484aada684120df775d3d9",
       "version_major": 2,
       "version_minor": 0
      },
      "text/plain": [
       "  0%|          | 0/41 [00:00<?, ?it/s]"
      ]
     },
     "metadata": {},
     "output_type": "display_data"
    },
    {
     "data": {
      "application/vnd.jupyter.widget-view+json": {
       "model_id": "b6de696538cc4bd6a3cb9ac95b843c25",
       "version_major": 2,
       "version_minor": 0
      },
      "text/plain": [
       "  0%|          | 0/41 [00:00<?, ?it/s]"
      ]
     },
     "metadata": {},
     "output_type": "display_data"
    },
    {
     "data": {
      "application/vnd.jupyter.widget-view+json": {
       "model_id": "5c0a1ed6efe3462f878ffc5c84fbdbb6",
       "version_major": 2,
       "version_minor": 0
      },
      "text/plain": [
       "  0%|          | 0/41 [00:00<?, ?it/s]"
      ]
     },
     "metadata": {},
     "output_type": "display_data"
    },
    {
     "data": {
      "application/vnd.jupyter.widget-view+json": {
       "model_id": "693bedbca7a24ce599eb155b10e3f28c",
       "version_major": 2,
       "version_minor": 0
      },
      "text/plain": [
       "  0%|          | 0/41 [00:00<?, ?it/s]"
      ]
     },
     "metadata": {},
     "output_type": "display_data"
    },
    {
     "data": {
      "application/vnd.jupyter.widget-view+json": {
       "model_id": "d6f43cbf34d24ea5802c98be7f56c7e1",
       "version_major": 2,
       "version_minor": 0
      },
      "text/plain": [
       "  0%|          | 0/41 [00:00<?, ?it/s]"
      ]
     },
     "metadata": {},
     "output_type": "display_data"
    },
    {
     "data": {
      "application/vnd.jupyter.widget-view+json": {
       "model_id": "01a7d90f055144c89d200c9f8e21c120",
       "version_major": 2,
       "version_minor": 0
      },
      "text/plain": [
       "  0%|          | 0/41 [00:00<?, ?it/s]"
      ]
     },
     "metadata": {},
     "output_type": "display_data"
    },
    {
     "data": {
      "application/vnd.jupyter.widget-view+json": {
       "model_id": "ecf22b7934f14a4399ae57e302baef05",
       "version_major": 2,
       "version_minor": 0
      },
      "text/plain": [
       "  0%|          | 0/41 [00:00<?, ?it/s]"
      ]
     },
     "metadata": {},
     "output_type": "display_data"
    },
    {
     "data": {
      "application/vnd.jupyter.widget-view+json": {
       "model_id": "c8c95d1649714c40aad7b93c17dd8294",
       "version_major": 2,
       "version_minor": 0
      },
      "text/plain": [
       "  0%|          | 0/41 [00:00<?, ?it/s]"
      ]
     },
     "metadata": {},
     "output_type": "display_data"
    },
    {
     "data": {
      "application/vnd.jupyter.widget-view+json": {
       "model_id": "2a318d3a2b33459d9df170a6b1828004",
       "version_major": 2,
       "version_minor": 0
      },
      "text/plain": [
       "  0%|          | 0/41 [00:00<?, ?it/s]"
      ]
     },
     "metadata": {},
     "output_type": "display_data"
    },
    {
     "data": {
      "application/vnd.jupyter.widget-view+json": {
       "model_id": "a300d4d2240e40c3823aa151b5c4d2fd",
       "version_major": 2,
       "version_minor": 0
      },
      "text/plain": [
       "  0%|          | 0/41 [00:00<?, ?it/s]"
      ]
     },
     "metadata": {},
     "output_type": "display_data"
    },
    {
     "data": {
      "application/vnd.jupyter.widget-view+json": {
       "model_id": "fb18c39e0fc041acb63926e20659119a",
       "version_major": 2,
       "version_minor": 0
      },
      "text/plain": [
       "  0%|          | 0/41 [00:00<?, ?it/s]"
      ]
     },
     "metadata": {},
     "output_type": "display_data"
    },
    {
     "data": {
      "application/vnd.jupyter.widget-view+json": {
       "model_id": "a818e68577a843459543980e9d8758e6",
       "version_major": 2,
       "version_minor": 0
      },
      "text/plain": [
       "  0%|          | 0/41 [00:00<?, ?it/s]"
      ]
     },
     "metadata": {},
     "output_type": "display_data"
    },
    {
     "data": {
      "application/vnd.jupyter.widget-view+json": {
       "model_id": "379877acfbc4466ba394d741c2af55ed",
       "version_major": 2,
       "version_minor": 0
      },
      "text/plain": [
       "  0%|          | 0/41 [00:00<?, ?it/s]"
      ]
     },
     "metadata": {},
     "output_type": "display_data"
    },
    {
     "data": {
      "application/vnd.jupyter.widget-view+json": {
       "model_id": "4c00d17f152a487e87439f23a744c476",
       "version_major": 2,
       "version_minor": 0
      },
      "text/plain": [
       "  0%|          | 0/41 [00:00<?, ?it/s]"
      ]
     },
     "metadata": {},
     "output_type": "display_data"
    },
    {
     "data": {
      "application/vnd.jupyter.widget-view+json": {
       "model_id": "e935ae48370b4a1dba84bc0a1aa0b503",
       "version_major": 2,
       "version_minor": 0
      },
      "text/plain": [
       "  0%|          | 0/41 [00:00<?, ?it/s]"
      ]
     },
     "metadata": {},
     "output_type": "display_data"
    },
    {
     "data": {
      "application/vnd.jupyter.widget-view+json": {
       "model_id": "376734ace75f4863904bdd9481647777",
       "version_major": 2,
       "version_minor": 0
      },
      "text/plain": [
       "  0%|          | 0/41 [00:00<?, ?it/s]"
      ]
     },
     "metadata": {},
     "output_type": "display_data"
    },
    {
     "data": {
      "application/vnd.jupyter.widget-view+json": {
       "model_id": "fbb216abc5d84c07bb3577c7dea8fdd9",
       "version_major": 2,
       "version_minor": 0
      },
      "text/plain": [
       "  0%|          | 0/41 [00:00<?, ?it/s]"
      ]
     },
     "metadata": {},
     "output_type": "display_data"
    },
    {
     "data": {
      "application/vnd.jupyter.widget-view+json": {
       "model_id": "b167ec188e9f4cf2bc74e4a6041394ea",
       "version_major": 2,
       "version_minor": 0
      },
      "text/plain": [
       "  0%|          | 0/41 [00:00<?, ?it/s]"
      ]
     },
     "metadata": {},
     "output_type": "display_data"
    },
    {
     "data": {
      "application/vnd.jupyter.widget-view+json": {
       "model_id": "3d67f6d832d041a38f703c138c47f25d",
       "version_major": 2,
       "version_minor": 0
      },
      "text/plain": [
       "  0%|          | 0/41 [00:00<?, ?it/s]"
      ]
     },
     "metadata": {},
     "output_type": "display_data"
    },
    {
     "data": {
      "application/vnd.jupyter.widget-view+json": {
       "model_id": "fcb845ec21654f01a144fc3cc79f834c",
       "version_major": 2,
       "version_minor": 0
      },
      "text/plain": [
       "  0%|          | 0/41 [00:00<?, ?it/s]"
      ]
     },
     "metadata": {},
     "output_type": "display_data"
    },
    {
     "data": {
      "application/vnd.jupyter.widget-view+json": {
       "model_id": "e55aee27a8dc4b7981ca641b7ede017c",
       "version_major": 2,
       "version_minor": 0
      },
      "text/plain": [
       "  0%|          | 0/41 [00:00<?, ?it/s]"
      ]
     },
     "metadata": {},
     "output_type": "display_data"
    },
    {
     "data": {
      "application/vnd.jupyter.widget-view+json": {
       "model_id": "536e643017f74652a01dc049d6630b0b",
       "version_major": 2,
       "version_minor": 0
      },
      "text/plain": [
       "  0%|          | 0/41 [00:00<?, ?it/s]"
      ]
     },
     "metadata": {},
     "output_type": "display_data"
    },
    {
     "data": {
      "application/vnd.jupyter.widget-view+json": {
       "model_id": "ef41dd31e8324c23ae0fe87c2b08299f",
       "version_major": 2,
       "version_minor": 0
      },
      "text/plain": [
       "  0%|          | 0/41 [00:00<?, ?it/s]"
      ]
     },
     "metadata": {},
     "output_type": "display_data"
    },
    {
     "data": {
      "application/vnd.jupyter.widget-view+json": {
       "model_id": "aa2a8623b06a40f1a6fcfc978189a7b5",
       "version_major": 2,
       "version_minor": 0
      },
      "text/plain": [
       "  0%|          | 0/41 [00:00<?, ?it/s]"
      ]
     },
     "metadata": {},
     "output_type": "display_data"
    },
    {
     "data": {
      "application/vnd.jupyter.widget-view+json": {
       "model_id": "8601e21ed7004ec682a420d77de5d6c2",
       "version_major": 2,
       "version_minor": 0
      },
      "text/plain": [
       "  0%|          | 0/41 [00:00<?, ?it/s]"
      ]
     },
     "metadata": {},
     "output_type": "display_data"
    },
    {
     "data": {
      "application/vnd.jupyter.widget-view+json": {
       "model_id": "0d71a7ab5d204766b1e40bd8c2a34642",
       "version_major": 2,
       "version_minor": 0
      },
      "text/plain": [
       "  0%|          | 0/41 [00:00<?, ?it/s]"
      ]
     },
     "metadata": {},
     "output_type": "display_data"
    },
    {
     "data": {
      "application/vnd.jupyter.widget-view+json": {
       "model_id": "5ab87c87cbeb49d6bfc332dec3b964d2",
       "version_major": 2,
       "version_minor": 0
      },
      "text/plain": [
       "  0%|          | 0/41 [00:00<?, ?it/s]"
      ]
     },
     "metadata": {},
     "output_type": "display_data"
    },
    {
     "data": {
      "application/vnd.jupyter.widget-view+json": {
       "model_id": "13f5a466ba7b464893aa988076e9a9a1",
       "version_major": 2,
       "version_minor": 0
      },
      "text/plain": [
       "  0%|          | 0/41 [00:00<?, ?it/s]"
      ]
     },
     "metadata": {},
     "output_type": "display_data"
    },
    {
     "data": {
      "application/vnd.jupyter.widget-view+json": {
       "model_id": "99849afbb79043aea01b44b43ed20a4e",
       "version_major": 2,
       "version_minor": 0
      },
      "text/plain": [
       "  0%|          | 0/41 [00:00<?, ?it/s]"
      ]
     },
     "metadata": {},
     "output_type": "display_data"
    },
    {
     "data": {
      "application/vnd.jupyter.widget-view+json": {
       "model_id": "e8559be80b5a471d8c0ba833e81a9ac8",
       "version_major": 2,
       "version_minor": 0
      },
      "text/plain": [
       "  0%|          | 0/41 [00:00<?, ?it/s]"
      ]
     },
     "metadata": {},
     "output_type": "display_data"
    },
    {
     "data": {
      "application/vnd.jupyter.widget-view+json": {
       "model_id": "8a965bd8bb75485ca184c7fc3cc9ebff",
       "version_major": 2,
       "version_minor": 0
      },
      "text/plain": [
       "  0%|          | 0/41 [00:00<?, ?it/s]"
      ]
     },
     "metadata": {},
     "output_type": "display_data"
    },
    {
     "data": {
      "application/vnd.jupyter.widget-view+json": {
       "model_id": "fe3649dafbb54223a2a87a945160ac18",
       "version_major": 2,
       "version_minor": 0
      },
      "text/plain": [
       "  0%|          | 0/41 [00:00<?, ?it/s]"
      ]
     },
     "metadata": {},
     "output_type": "display_data"
    },
    {
     "data": {
      "application/vnd.jupyter.widget-view+json": {
       "model_id": "1854055185de4b64a7bf28efc9599d4e",
       "version_major": 2,
       "version_minor": 0
      },
      "text/plain": [
       "  0%|          | 0/41 [00:00<?, ?it/s]"
      ]
     },
     "metadata": {},
     "output_type": "display_data"
    },
    {
     "data": {
      "application/vnd.jupyter.widget-view+json": {
       "model_id": "c60a2d31a9ce4758a5ca557a37b15df9",
       "version_major": 2,
       "version_minor": 0
      },
      "text/plain": [
       "  0%|          | 0/41 [00:00<?, ?it/s]"
      ]
     },
     "metadata": {},
     "output_type": "display_data"
    },
    {
     "data": {
      "application/vnd.jupyter.widget-view+json": {
       "model_id": "840fc0a890da4dff9e115ec0ef0b722c",
       "version_major": 2,
       "version_minor": 0
      },
      "text/plain": [
       "  0%|          | 0/41 [00:00<?, ?it/s]"
      ]
     },
     "metadata": {},
     "output_type": "display_data"
    },
    {
     "data": {
      "application/vnd.jupyter.widget-view+json": {
       "model_id": "82e6378718d04c3f925a5c807644f928",
       "version_major": 2,
       "version_minor": 0
      },
      "text/plain": [
       "  0%|          | 0/41 [00:00<?, ?it/s]"
      ]
     },
     "metadata": {},
     "output_type": "display_data"
    },
    {
     "data": {
      "application/vnd.jupyter.widget-view+json": {
       "model_id": "e7375031677c4aceb6ea673c8a529816",
       "version_major": 2,
       "version_minor": 0
      },
      "text/plain": [
       "  0%|          | 0/41 [00:00<?, ?it/s]"
      ]
     },
     "metadata": {},
     "output_type": "display_data"
    },
    {
     "data": {
      "application/vnd.jupyter.widget-view+json": {
       "model_id": "3223894bcfe84c61b9053b4da5641e31",
       "version_major": 2,
       "version_minor": 0
      },
      "text/plain": [
       "  0%|          | 0/41 [00:00<?, ?it/s]"
      ]
     },
     "metadata": {},
     "output_type": "display_data"
    },
    {
     "data": {
      "application/vnd.jupyter.widget-view+json": {
       "model_id": "ac337f3f86f344659421e4d9dc53d478",
       "version_major": 2,
       "version_minor": 0
      },
      "text/plain": [
       "  0%|          | 0/41 [00:00<?, ?it/s]"
      ]
     },
     "metadata": {},
     "output_type": "display_data"
    },
    {
     "data": {
      "application/vnd.jupyter.widget-view+json": {
       "model_id": "f1e21c36378e4b8cad8417766ffa567c",
       "version_major": 2,
       "version_minor": 0
      },
      "text/plain": [
       "  0%|          | 0/41 [00:00<?, ?it/s]"
      ]
     },
     "metadata": {},
     "output_type": "display_data"
    },
    {
     "data": {
      "application/vnd.jupyter.widget-view+json": {
       "model_id": "3840f28ac5114bf0a43538b5f579154b",
       "version_major": 2,
       "version_minor": 0
      },
      "text/plain": [
       "  0%|          | 0/41 [00:00<?, ?it/s]"
      ]
     },
     "metadata": {},
     "output_type": "display_data"
    },
    {
     "data": {
      "application/vnd.jupyter.widget-view+json": {
       "model_id": "531e798a56294e8e9065298d10b63617",
       "version_major": 2,
       "version_minor": 0
      },
      "text/plain": [
       "  0%|          | 0/41 [00:00<?, ?it/s]"
      ]
     },
     "metadata": {},
     "output_type": "display_data"
    },
    {
     "data": {
      "application/vnd.jupyter.widget-view+json": {
       "model_id": "9c3460055e9043efb3dc439440ea5059",
       "version_major": 2,
       "version_minor": 0
      },
      "text/plain": [
       "  0%|          | 0/41 [00:00<?, ?it/s]"
      ]
     },
     "metadata": {},
     "output_type": "display_data"
    },
    {
     "data": {
      "application/vnd.jupyter.widget-view+json": {
       "model_id": "f38c531783ac47dba008d3ab937dba27",
       "version_major": 2,
       "version_minor": 0
      },
      "text/plain": [
       "  0%|          | 0/41 [00:00<?, ?it/s]"
      ]
     },
     "metadata": {},
     "output_type": "display_data"
    },
    {
     "data": {
      "application/vnd.jupyter.widget-view+json": {
       "model_id": "7280ad7f9b0f41b283f5bba2dad8f2ae",
       "version_major": 2,
       "version_minor": 0
      },
      "text/plain": [
       "  0%|          | 0/41 [00:00<?, ?it/s]"
      ]
     },
     "metadata": {},
     "output_type": "display_data"
    },
    {
     "data": {
      "application/vnd.jupyter.widget-view+json": {
       "model_id": "1eb3a09ae8ce42e19981e5d402ffb3fb",
       "version_major": 2,
       "version_minor": 0
      },
      "text/plain": [
       "  0%|          | 0/41 [00:00<?, ?it/s]"
      ]
     },
     "metadata": {},
     "output_type": "display_data"
    },
    {
     "data": {
      "application/vnd.jupyter.widget-view+json": {
       "model_id": "c5faa2f1ba2f4e05adc90ba4fdeb5570",
       "version_major": 2,
       "version_minor": 0
      },
      "text/plain": [
       "  0%|          | 0/41 [00:00<?, ?it/s]"
      ]
     },
     "metadata": {},
     "output_type": "display_data"
    },
    {
     "data": {
      "application/vnd.jupyter.widget-view+json": {
       "model_id": "2a95509ab2494af081e2dec2d70d80b7",
       "version_major": 2,
       "version_minor": 0
      },
      "text/plain": [
       "  0%|          | 0/41 [00:00<?, ?it/s]"
      ]
     },
     "metadata": {},
     "output_type": "display_data"
    },
    {
     "data": {
      "application/vnd.jupyter.widget-view+json": {
       "model_id": "9f1980a4d3284e7da0d3685d66e9f2e0",
       "version_major": 2,
       "version_minor": 0
      },
      "text/plain": [
       "  0%|          | 0/41 [00:00<?, ?it/s]"
      ]
     },
     "metadata": {},
     "output_type": "display_data"
    },
    {
     "data": {
      "application/vnd.jupyter.widget-view+json": {
       "model_id": "7a74b202349d413b8c07f6306c1d23a4",
       "version_major": 2,
       "version_minor": 0
      },
      "text/plain": [
       "  0%|          | 0/41 [00:00<?, ?it/s]"
      ]
     },
     "metadata": {},
     "output_type": "display_data"
    },
    {
     "data": {
      "application/vnd.jupyter.widget-view+json": {
       "model_id": "60d77d9335504d0ca92cbe0deba6c31f",
       "version_major": 2,
       "version_minor": 0
      },
      "text/plain": [
       "  0%|          | 0/41 [00:00<?, ?it/s]"
      ]
     },
     "metadata": {},
     "output_type": "display_data"
    },
    {
     "data": {
      "application/vnd.jupyter.widget-view+json": {
       "model_id": "6560bd69a4404d56aed945d1aaa85d4d",
       "version_major": 2,
       "version_minor": 0
      },
      "text/plain": [
       "  0%|          | 0/41 [00:00<?, ?it/s]"
      ]
     },
     "metadata": {},
     "output_type": "display_data"
    },
    {
     "data": {
      "application/vnd.jupyter.widget-view+json": {
       "model_id": "08efcdf313ee48159d830282d1359cba",
       "version_major": 2,
       "version_minor": 0
      },
      "text/plain": [
       "  0%|          | 0/41 [00:00<?, ?it/s]"
      ]
     },
     "metadata": {},
     "output_type": "display_data"
    },
    {
     "data": {
      "application/vnd.jupyter.widget-view+json": {
       "model_id": "579c8377d2b64cb8bbba21d8a25ab9af",
       "version_major": 2,
       "version_minor": 0
      },
      "text/plain": [
       "  0%|          | 0/41 [00:00<?, ?it/s]"
      ]
     },
     "metadata": {},
     "output_type": "display_data"
    },
    {
     "data": {
      "application/vnd.jupyter.widget-view+json": {
       "model_id": "9e3a8234210b449a9bb22f6085847129",
       "version_major": 2,
       "version_minor": 0
      },
      "text/plain": [
       "  0%|          | 0/41 [00:00<?, ?it/s]"
      ]
     },
     "metadata": {},
     "output_type": "display_data"
    },
    {
     "data": {
      "application/vnd.jupyter.widget-view+json": {
       "model_id": "ec01b0007c9d49189b53faaadd0e05cc",
       "version_major": 2,
       "version_minor": 0
      },
      "text/plain": [
       "  0%|          | 0/41 [00:00<?, ?it/s]"
      ]
     },
     "metadata": {},
     "output_type": "display_data"
    },
    {
     "data": {
      "application/vnd.jupyter.widget-view+json": {
       "model_id": "0d8ac8ab883f4dbe996f2151c4ee7198",
       "version_major": 2,
       "version_minor": 0
      },
      "text/plain": [
       "  0%|          | 0/41 [00:00<?, ?it/s]"
      ]
     },
     "metadata": {},
     "output_type": "display_data"
    },
    {
     "data": {
      "application/vnd.jupyter.widget-view+json": {
       "model_id": "ac7568d7021a420f981402ca3cabafc1",
       "version_major": 2,
       "version_minor": 0
      },
      "text/plain": [
       "  0%|          | 0/41 [00:00<?, ?it/s]"
      ]
     },
     "metadata": {},
     "output_type": "display_data"
    },
    {
     "data": {
      "application/vnd.jupyter.widget-view+json": {
       "model_id": "577078bbc05c4258bd82703ac77f59c8",
       "version_major": 2,
       "version_minor": 0
      },
      "text/plain": [
       "  0%|          | 0/41 [00:00<?, ?it/s]"
      ]
     },
     "metadata": {},
     "output_type": "display_data"
    },
    {
     "data": {
      "application/vnd.jupyter.widget-view+json": {
       "model_id": "3d25bcbd3df848f09226eaa5c0df1938",
       "version_major": 2,
       "version_minor": 0
      },
      "text/plain": [
       "  0%|          | 0/41 [00:00<?, ?it/s]"
      ]
     },
     "metadata": {},
     "output_type": "display_data"
    },
    {
     "data": {
      "application/vnd.jupyter.widget-view+json": {
       "model_id": "b83d4a5b4b91467a87b5de9816ab3651",
       "version_major": 2,
       "version_minor": 0
      },
      "text/plain": [
       "  0%|          | 0/41 [00:00<?, ?it/s]"
      ]
     },
     "metadata": {},
     "output_type": "display_data"
    },
    {
     "data": {
      "application/vnd.jupyter.widget-view+json": {
       "model_id": "73df909260cf434db66b652df368dca7",
       "version_major": 2,
       "version_minor": 0
      },
      "text/plain": [
       "  0%|          | 0/41 [00:00<?, ?it/s]"
      ]
     },
     "metadata": {},
     "output_type": "display_data"
    },
    {
     "data": {
      "application/vnd.jupyter.widget-view+json": {
       "model_id": "423a113ed27647d9a6241b814fe3e285",
       "version_major": 2,
       "version_minor": 0
      },
      "text/plain": [
       "  0%|          | 0/41 [00:00<?, ?it/s]"
      ]
     },
     "metadata": {},
     "output_type": "display_data"
    },
    {
     "data": {
      "application/vnd.jupyter.widget-view+json": {
       "model_id": "df3dbdc34590455e86e744e9c065fb09",
       "version_major": 2,
       "version_minor": 0
      },
      "text/plain": [
       "  0%|          | 0/41 [00:00<?, ?it/s]"
      ]
     },
     "metadata": {},
     "output_type": "display_data"
    },
    {
     "data": {
      "application/vnd.jupyter.widget-view+json": {
       "model_id": "2cbec34e7be442d9b1f25df1294852fd",
       "version_major": 2,
       "version_minor": 0
      },
      "text/plain": [
       "  0%|          | 0/41 [00:00<?, ?it/s]"
      ]
     },
     "metadata": {},
     "output_type": "display_data"
    },
    {
     "data": {
      "application/vnd.jupyter.widget-view+json": {
       "model_id": "dc5ac1c6dd4f4cc2a244734134d1e499",
       "version_major": 2,
       "version_minor": 0
      },
      "text/plain": [
       "  0%|          | 0/41 [00:00<?, ?it/s]"
      ]
     },
     "metadata": {},
     "output_type": "display_data"
    },
    {
     "data": {
      "application/vnd.jupyter.widget-view+json": {
       "model_id": "00bb58d6e6e24793869012234627d0c3",
       "version_major": 2,
       "version_minor": 0
      },
      "text/plain": [
       "  0%|          | 0/41 [00:00<?, ?it/s]"
      ]
     },
     "metadata": {},
     "output_type": "display_data"
    },
    {
     "data": {
      "application/vnd.jupyter.widget-view+json": {
       "model_id": "97e096156c934cfdaf199fd923d396e9",
       "version_major": 2,
       "version_minor": 0
      },
      "text/plain": [
       "  0%|          | 0/41 [00:00<?, ?it/s]"
      ]
     },
     "metadata": {},
     "output_type": "display_data"
    },
    {
     "data": {
      "application/vnd.jupyter.widget-view+json": {
       "model_id": "923d5c8c633e4f959448f9624089b06b",
       "version_major": 2,
       "version_minor": 0
      },
      "text/plain": [
       "  0%|          | 0/41 [00:00<?, ?it/s]"
      ]
     },
     "metadata": {},
     "output_type": "display_data"
    },
    {
     "data": {
      "application/vnd.jupyter.widget-view+json": {
       "model_id": "13704348f229465c8e91ed71076cbb2c",
       "version_major": 2,
       "version_minor": 0
      },
      "text/plain": [
       "  0%|          | 0/41 [00:00<?, ?it/s]"
      ]
     },
     "metadata": {},
     "output_type": "display_data"
    },
    {
     "data": {
      "application/vnd.jupyter.widget-view+json": {
       "model_id": "48221b2fac97439eb9b3e50d246db7c0",
       "version_major": 2,
       "version_minor": 0
      },
      "text/plain": [
       "  0%|          | 0/41 [00:00<?, ?it/s]"
      ]
     },
     "metadata": {},
     "output_type": "display_data"
    },
    {
     "data": {
      "application/vnd.jupyter.widget-view+json": {
       "model_id": "b1aa478f23c3458b9d8ed8e42e1fb803",
       "version_major": 2,
       "version_minor": 0
      },
      "text/plain": [
       "  0%|          | 0/41 [00:00<?, ?it/s]"
      ]
     },
     "metadata": {},
     "output_type": "display_data"
    },
    {
     "data": {
      "application/vnd.jupyter.widget-view+json": {
       "model_id": "c5da30a589ad47358b9b85f334e6881d",
       "version_major": 2,
       "version_minor": 0
      },
      "text/plain": [
       "  0%|          | 0/41 [00:00<?, ?it/s]"
      ]
     },
     "metadata": {},
     "output_type": "display_data"
    },
    {
     "data": {
      "application/vnd.jupyter.widget-view+json": {
       "model_id": "003724bf13b24570bd5342964626c8a7",
       "version_major": 2,
       "version_minor": 0
      },
      "text/plain": [
       "  0%|          | 0/41 [00:00<?, ?it/s]"
      ]
     },
     "metadata": {},
     "output_type": "display_data"
    },
    {
     "data": {
      "application/vnd.jupyter.widget-view+json": {
       "model_id": "d9c68a3c358142b0b6f1a441900d7c95",
       "version_major": 2,
       "version_minor": 0
      },
      "text/plain": [
       "  0%|          | 0/41 [00:00<?, ?it/s]"
      ]
     },
     "metadata": {},
     "output_type": "display_data"
    },
    {
     "data": {
      "application/vnd.jupyter.widget-view+json": {
       "model_id": "dd1ccfebdc31422bb9390457a162761a",
       "version_major": 2,
       "version_minor": 0
      },
      "text/plain": [
       "  0%|          | 0/41 [00:00<?, ?it/s]"
      ]
     },
     "metadata": {},
     "output_type": "display_data"
    },
    {
     "data": {
      "application/vnd.jupyter.widget-view+json": {
       "model_id": "258945341ff94379b06a9e3939420813",
       "version_major": 2,
       "version_minor": 0
      },
      "text/plain": [
       "  0%|          | 0/41 [00:00<?, ?it/s]"
      ]
     },
     "metadata": {},
     "output_type": "display_data"
    },
    {
     "data": {
      "application/vnd.jupyter.widget-view+json": {
       "model_id": "26a26db876934989b9cefd0068d279eb",
       "version_major": 2,
       "version_minor": 0
      },
      "text/plain": [
       "  0%|          | 0/41 [00:00<?, ?it/s]"
      ]
     },
     "metadata": {},
     "output_type": "display_data"
    },
    {
     "data": {
      "application/vnd.jupyter.widget-view+json": {
       "model_id": "71925f9832dd45f3be2ee767319e8153",
       "version_major": 2,
       "version_minor": 0
      },
      "text/plain": [
       "  0%|          | 0/41 [00:00<?, ?it/s]"
      ]
     },
     "metadata": {},
     "output_type": "display_data"
    },
    {
     "data": {
      "application/vnd.jupyter.widget-view+json": {
       "model_id": "ef8b48d7a3324d1b9368e8294c92f82f",
       "version_major": 2,
       "version_minor": 0
      },
      "text/plain": [
       "  0%|          | 0/41 [00:00<?, ?it/s]"
      ]
     },
     "metadata": {},
     "output_type": "display_data"
    },
    {
     "data": {
      "application/vnd.jupyter.widget-view+json": {
       "model_id": "3ee0fdcfc60241bbb2190c4c357f78ad",
       "version_major": 2,
       "version_minor": 0
      },
      "text/plain": [
       "  0%|          | 0/41 [00:00<?, ?it/s]"
      ]
     },
     "metadata": {},
     "output_type": "display_data"
    },
    {
     "data": {
      "application/vnd.jupyter.widget-view+json": {
       "model_id": "c5fc8d2fdfbd4dfc813adb18d590dea0",
       "version_major": 2,
       "version_minor": 0
      },
      "text/plain": [
       "  0%|          | 0/41 [00:00<?, ?it/s]"
      ]
     },
     "metadata": {},
     "output_type": "display_data"
    },
    {
     "data": {
      "application/vnd.jupyter.widget-view+json": {
       "model_id": "e0fd60368c074611b21738f604d5121d",
       "version_major": 2,
       "version_minor": 0
      },
      "text/plain": [
       "  0%|          | 0/41 [00:00<?, ?it/s]"
      ]
     },
     "metadata": {},
     "output_type": "display_data"
    },
    {
     "data": {
      "application/vnd.jupyter.widget-view+json": {
       "model_id": "069441c10e3e4e3e88ac8c8931bf2e4a",
       "version_major": 2,
       "version_minor": 0
      },
      "text/plain": [
       "  0%|          | 0/41 [00:00<?, ?it/s]"
      ]
     },
     "metadata": {},
     "output_type": "display_data"
    },
    {
     "data": {
      "application/vnd.jupyter.widget-view+json": {
       "model_id": "cd318e07f4384207a3684aafe188c6af",
       "version_major": 2,
       "version_minor": 0
      },
      "text/plain": [
       "  0%|          | 0/41 [00:00<?, ?it/s]"
      ]
     },
     "metadata": {},
     "output_type": "display_data"
    },
    {
     "data": {
      "application/vnd.jupyter.widget-view+json": {
       "model_id": "a11b041f0943493498c5d3de993446f2",
       "version_major": 2,
       "version_minor": 0
      },
      "text/plain": [
       "  0%|          | 0/41 [00:00<?, ?it/s]"
      ]
     },
     "metadata": {},
     "output_type": "display_data"
    },
    {
     "data": {
      "application/vnd.jupyter.widget-view+json": {
       "model_id": "03cbb8dc1b0d40c79d3bfc044f68405d",
       "version_major": 2,
       "version_minor": 0
      },
      "text/plain": [
       "  0%|          | 0/41 [00:00<?, ?it/s]"
      ]
     },
     "metadata": {},
     "output_type": "display_data"
    },
    {
     "data": {
      "application/vnd.jupyter.widget-view+json": {
       "model_id": "b8c45781094446df8201ed0c9b8bf94b",
       "version_major": 2,
       "version_minor": 0
      },
      "text/plain": [
       "  0%|          | 0/41 [00:00<?, ?it/s]"
      ]
     },
     "metadata": {},
     "output_type": "display_data"
    },
    {
     "data": {
      "application/vnd.jupyter.widget-view+json": {
       "model_id": "75516449cc784b769e8bce85e6aa28a7",
       "version_major": 2,
       "version_minor": 0
      },
      "text/plain": [
       "  0%|          | 0/41 [00:00<?, ?it/s]"
      ]
     },
     "metadata": {},
     "output_type": "display_data"
    },
    {
     "data": {
      "application/vnd.jupyter.widget-view+json": {
       "model_id": "b53bf3c5fadf4d84a75e215ffc77b1cb",
       "version_major": 2,
       "version_minor": 0
      },
      "text/plain": [
       "  0%|          | 0/41 [00:00<?, ?it/s]"
      ]
     },
     "metadata": {},
     "output_type": "display_data"
    },
    {
     "data": {
      "application/vnd.jupyter.widget-view+json": {
       "model_id": "94899dde7a2f4c918319cfbe0bf24af2",
       "version_major": 2,
       "version_minor": 0
      },
      "text/plain": [
       "  0%|          | 0/41 [00:00<?, ?it/s]"
      ]
     },
     "metadata": {},
     "output_type": "display_data"
    },
    {
     "data": {
      "application/vnd.jupyter.widget-view+json": {
       "model_id": "7e5e4ee98a6b48b69ff82fd982cda13e",
       "version_major": 2,
       "version_minor": 0
      },
      "text/plain": [
       "  0%|          | 0/41 [00:00<?, ?it/s]"
      ]
     },
     "metadata": {},
     "output_type": "display_data"
    },
    {
     "data": {
      "application/vnd.jupyter.widget-view+json": {
       "model_id": "d38958b9614f4c7fa8150f43f713c22e",
       "version_major": 2,
       "version_minor": 0
      },
      "text/plain": [
       "  0%|          | 0/41 [00:00<?, ?it/s]"
      ]
     },
     "metadata": {},
     "output_type": "display_data"
    },
    {
     "data": {
      "application/vnd.jupyter.widget-view+json": {
       "model_id": "a8560b1510f84fcfa3115f633c152764",
       "version_major": 2,
       "version_minor": 0
      },
      "text/plain": [
       "  0%|          | 0/41 [00:00<?, ?it/s]"
      ]
     },
     "metadata": {},
     "output_type": "display_data"
    },
    {
     "data": {
      "application/vnd.jupyter.widget-view+json": {
       "model_id": "a6f2c38deb0948b8ad609e48cd51d36b",
       "version_major": 2,
       "version_minor": 0
      },
      "text/plain": [
       "  0%|          | 0/41 [00:00<?, ?it/s]"
      ]
     },
     "metadata": {},
     "output_type": "display_data"
    },
    {
     "data": {
      "application/vnd.jupyter.widget-view+json": {
       "model_id": "5d1e901f26ab45c1af15f119e139ec2c",
       "version_major": 2,
       "version_minor": 0
      },
      "text/plain": [
       "  0%|          | 0/41 [00:00<?, ?it/s]"
      ]
     },
     "metadata": {},
     "output_type": "display_data"
    },
    {
     "data": {
      "application/vnd.jupyter.widget-view+json": {
       "model_id": "2d963097208b43c2a59cfa30e2be161e",
       "version_major": 2,
       "version_minor": 0
      },
      "text/plain": [
       "  0%|          | 0/41 [00:00<?, ?it/s]"
      ]
     },
     "metadata": {},
     "output_type": "display_data"
    },
    {
     "data": {
      "application/vnd.jupyter.widget-view+json": {
       "model_id": "fc4151d1b0f34055bb3d582b4814ca55",
       "version_major": 2,
       "version_minor": 0
      },
      "text/plain": [
       "  0%|          | 0/41 [00:00<?, ?it/s]"
      ]
     },
     "metadata": {},
     "output_type": "display_data"
    },
    {
     "data": {
      "application/vnd.jupyter.widget-view+json": {
       "model_id": "3df3677a22db49b2867a6a922e34b425",
       "version_major": 2,
       "version_minor": 0
      },
      "text/plain": [
       "  0%|          | 0/41 [00:00<?, ?it/s]"
      ]
     },
     "metadata": {},
     "output_type": "display_data"
    },
    {
     "data": {
      "application/vnd.jupyter.widget-view+json": {
       "model_id": "d3daea07e5614158aba8317e6abfc898",
       "version_major": 2,
       "version_minor": 0
      },
      "text/plain": [
       "  0%|          | 0/41 [00:00<?, ?it/s]"
      ]
     },
     "metadata": {},
     "output_type": "display_data"
    },
    {
     "data": {
      "application/vnd.jupyter.widget-view+json": {
       "model_id": "8c8fb8a436de4ccd9714070857c46db5",
       "version_major": 2,
       "version_minor": 0
      },
      "text/plain": [
       "  0%|          | 0/41 [00:00<?, ?it/s]"
      ]
     },
     "metadata": {},
     "output_type": "display_data"
    },
    {
     "data": {
      "application/vnd.jupyter.widget-view+json": {
       "model_id": "7d4dee3381b449bf9c51c8dfa3f53cbe",
       "version_major": 2,
       "version_minor": 0
      },
      "text/plain": [
       "  0%|          | 0/41 [00:00<?, ?it/s]"
      ]
     },
     "metadata": {},
     "output_type": "display_data"
    },
    {
     "data": {
      "application/vnd.jupyter.widget-view+json": {
       "model_id": "af45ddefb8684ee2aa6e71ae3779fd57",
       "version_major": 2,
       "version_minor": 0
      },
      "text/plain": [
       "  0%|          | 0/41 [00:00<?, ?it/s]"
      ]
     },
     "metadata": {},
     "output_type": "display_data"
    },
    {
     "data": {
      "application/vnd.jupyter.widget-view+json": {
       "model_id": "ea6bbc1c21be4facb293b200bd434b5f",
       "version_major": 2,
       "version_minor": 0
      },
      "text/plain": [
       "  0%|          | 0/41 [00:00<?, ?it/s]"
      ]
     },
     "metadata": {},
     "output_type": "display_data"
    },
    {
     "data": {
      "application/vnd.jupyter.widget-view+json": {
       "model_id": "5d3122e9e7404a19a681ce6bb95f83d8",
       "version_major": 2,
       "version_minor": 0
      },
      "text/plain": [
       "  0%|          | 0/41 [00:00<?, ?it/s]"
      ]
     },
     "metadata": {},
     "output_type": "display_data"
    },
    {
     "data": {
      "application/vnd.jupyter.widget-view+json": {
       "model_id": "4ea3ecf4eddc43e48afba35ca7d041a9",
       "version_major": 2,
       "version_minor": 0
      },
      "text/plain": [
       "  0%|          | 0/41 [00:00<?, ?it/s]"
      ]
     },
     "metadata": {},
     "output_type": "display_data"
    },
    {
     "data": {
      "application/vnd.jupyter.widget-view+json": {
       "model_id": "8698dc8dcd9448f19fd20bd19ccdade9",
       "version_major": 2,
       "version_minor": 0
      },
      "text/plain": [
       "  0%|          | 0/41 [00:00<?, ?it/s]"
      ]
     },
     "metadata": {},
     "output_type": "display_data"
    },
    {
     "data": {
      "application/vnd.jupyter.widget-view+json": {
       "model_id": "f78df84685584e12bd7559335746843a",
       "version_major": 2,
       "version_minor": 0
      },
      "text/plain": [
       "  0%|          | 0/41 [00:00<?, ?it/s]"
      ]
     },
     "metadata": {},
     "output_type": "display_data"
    },
    {
     "data": {
      "application/vnd.jupyter.widget-view+json": {
       "model_id": "806bd95567c0403a8667153876ef2f78",
       "version_major": 2,
       "version_minor": 0
      },
      "text/plain": [
       "  0%|          | 0/41 [00:00<?, ?it/s]"
      ]
     },
     "metadata": {},
     "output_type": "display_data"
    },
    {
     "data": {
      "application/vnd.jupyter.widget-view+json": {
       "model_id": "9c399034785f4b85b540b23196ec008e",
       "version_major": 2,
       "version_minor": 0
      },
      "text/plain": [
       "  0%|          | 0/41 [00:00<?, ?it/s]"
      ]
     },
     "metadata": {},
     "output_type": "display_data"
    },
    {
     "data": {
      "application/vnd.jupyter.widget-view+json": {
       "model_id": "c889aa0796c547e8be6b5cddc70b780b",
       "version_major": 2,
       "version_minor": 0
      },
      "text/plain": [
       "  0%|          | 0/41 [00:00<?, ?it/s]"
      ]
     },
     "metadata": {},
     "output_type": "display_data"
    },
    {
     "data": {
      "application/vnd.jupyter.widget-view+json": {
       "model_id": "d559a74e810b4c8392cc228eb66027c7",
       "version_major": 2,
       "version_minor": 0
      },
      "text/plain": [
       "  0%|          | 0/41 [00:00<?, ?it/s]"
      ]
     },
     "metadata": {},
     "output_type": "display_data"
    },
    {
     "data": {
      "application/vnd.jupyter.widget-view+json": {
       "model_id": "b495798de8104011b62c591988b68a00",
       "version_major": 2,
       "version_minor": 0
      },
      "text/plain": [
       "  0%|          | 0/41 [00:00<?, ?it/s]"
      ]
     },
     "metadata": {},
     "output_type": "display_data"
    },
    {
     "data": {
      "application/vnd.jupyter.widget-view+json": {
       "model_id": "8e2a332b4f794dd5997069697e8759a2",
       "version_major": 2,
       "version_minor": 0
      },
      "text/plain": [
       "  0%|          | 0/41 [00:00<?, ?it/s]"
      ]
     },
     "metadata": {},
     "output_type": "display_data"
    },
    {
     "data": {
      "application/vnd.jupyter.widget-view+json": {
       "model_id": "f09d7cc087004b28bcd45bf588adc133",
       "version_major": 2,
       "version_minor": 0
      },
      "text/plain": [
       "  0%|          | 0/41 [00:00<?, ?it/s]"
      ]
     },
     "metadata": {},
     "output_type": "display_data"
    },
    {
     "data": {
      "application/vnd.jupyter.widget-view+json": {
       "model_id": "88e56c22a0734eda9cf78bfc5645009a",
       "version_major": 2,
       "version_minor": 0
      },
      "text/plain": [
       "  0%|          | 0/41 [00:00<?, ?it/s]"
      ]
     },
     "metadata": {},
     "output_type": "display_data"
    },
    {
     "data": {
      "application/vnd.jupyter.widget-view+json": {
       "model_id": "634ac617a8874565ad5bd8569bea409a",
       "version_major": 2,
       "version_minor": 0
      },
      "text/plain": [
       "  0%|          | 0/41 [00:00<?, ?it/s]"
      ]
     },
     "metadata": {},
     "output_type": "display_data"
    },
    {
     "data": {
      "application/vnd.jupyter.widget-view+json": {
       "model_id": "2770edae9e09443b963895b05d01f5e8",
       "version_major": 2,
       "version_minor": 0
      },
      "text/plain": [
       "  0%|          | 0/41 [00:00<?, ?it/s]"
      ]
     },
     "metadata": {},
     "output_type": "display_data"
    },
    {
     "data": {
      "application/vnd.jupyter.widget-view+json": {
       "model_id": "c4c1bd40a8b248adaed35da71a83d3b8",
       "version_major": 2,
       "version_minor": 0
      },
      "text/plain": [
       "  0%|          | 0/41 [00:00<?, ?it/s]"
      ]
     },
     "metadata": {},
     "output_type": "display_data"
    },
    {
     "data": {
      "application/vnd.jupyter.widget-view+json": {
       "model_id": "d7518953092e4c188d055df64e7c60da",
       "version_major": 2,
       "version_minor": 0
      },
      "text/plain": [
       "  0%|          | 0/41 [00:00<?, ?it/s]"
      ]
     },
     "metadata": {},
     "output_type": "display_data"
    },
    {
     "data": {
      "application/vnd.jupyter.widget-view+json": {
       "model_id": "c3b8429591d94f6880a27176bf1c614f",
       "version_major": 2,
       "version_minor": 0
      },
      "text/plain": [
       "  0%|          | 0/41 [00:00<?, ?it/s]"
      ]
     },
     "metadata": {},
     "output_type": "display_data"
    },
    {
     "data": {
      "application/vnd.jupyter.widget-view+json": {
       "model_id": "5f259c749a8b445392795e474d66b99e",
       "version_major": 2,
       "version_minor": 0
      },
      "text/plain": [
       "  0%|          | 0/41 [00:00<?, ?it/s]"
      ]
     },
     "metadata": {},
     "output_type": "display_data"
    },
    {
     "data": {
      "application/vnd.jupyter.widget-view+json": {
       "model_id": "81bd2144034749d3bf4782013f1d5494",
       "version_major": 2,
       "version_minor": 0
      },
      "text/plain": [
       "  0%|          | 0/41 [00:00<?, ?it/s]"
      ]
     },
     "metadata": {},
     "output_type": "display_data"
    },
    {
     "data": {
      "application/vnd.jupyter.widget-view+json": {
       "model_id": "71e100c7173045828174eef18fba6c54",
       "version_major": 2,
       "version_minor": 0
      },
      "text/plain": [
       "  0%|          | 0/41 [00:00<?, ?it/s]"
      ]
     },
     "metadata": {},
     "output_type": "display_data"
    },
    {
     "data": {
      "application/vnd.jupyter.widget-view+json": {
       "model_id": "12231d2eabb94c25be2e86197be96139",
       "version_major": 2,
       "version_minor": 0
      },
      "text/plain": [
       "  0%|          | 0/41 [00:00<?, ?it/s]"
      ]
     },
     "metadata": {},
     "output_type": "display_data"
    },
    {
     "data": {
      "application/vnd.jupyter.widget-view+json": {
       "model_id": "01873bfb24904ae3977d67eb22750715",
       "version_major": 2,
       "version_minor": 0
      },
      "text/plain": [
       "  0%|          | 0/41 [00:00<?, ?it/s]"
      ]
     },
     "metadata": {},
     "output_type": "display_data"
    },
    {
     "data": {
      "application/vnd.jupyter.widget-view+json": {
       "model_id": "1647cb86481b4addb404f07c90223b2d",
       "version_major": 2,
       "version_minor": 0
      },
      "text/plain": [
       "  0%|          | 0/41 [00:00<?, ?it/s]"
      ]
     },
     "metadata": {},
     "output_type": "display_data"
    },
    {
     "data": {
      "application/vnd.jupyter.widget-view+json": {
       "model_id": "026c41a39c4a467f893cc0d78ea75f4b",
       "version_major": 2,
       "version_minor": 0
      },
      "text/plain": [
       "  0%|          | 0/41 [00:00<?, ?it/s]"
      ]
     },
     "metadata": {},
     "output_type": "display_data"
    },
    {
     "data": {
      "application/vnd.jupyter.widget-view+json": {
       "model_id": "9b48dc8ad879431fa71bd2555119af6a",
       "version_major": 2,
       "version_minor": 0
      },
      "text/plain": [
       "  0%|          | 0/41 [00:00<?, ?it/s]"
      ]
     },
     "metadata": {},
     "output_type": "display_data"
    },
    {
     "data": {
      "application/vnd.jupyter.widget-view+json": {
       "model_id": "c5a8c8bf7cd54706a1083b42ab24855c",
       "version_major": 2,
       "version_minor": 0
      },
      "text/plain": [
       "  0%|          | 0/41 [00:00<?, ?it/s]"
      ]
     },
     "metadata": {},
     "output_type": "display_data"
    },
    {
     "data": {
      "application/vnd.jupyter.widget-view+json": {
       "model_id": "ea9e6ee5f2ab48308ce23ed5061b3c44",
       "version_major": 2,
       "version_minor": 0
      },
      "text/plain": [
       "  0%|          | 0/41 [00:00<?, ?it/s]"
      ]
     },
     "metadata": {},
     "output_type": "display_data"
    },
    {
     "data": {
      "application/vnd.jupyter.widget-view+json": {
       "model_id": "341e94d74268403a86ef3daa73a96f73",
       "version_major": 2,
       "version_minor": 0
      },
      "text/plain": [
       "  0%|          | 0/41 [00:00<?, ?it/s]"
      ]
     },
     "metadata": {},
     "output_type": "display_data"
    },
    {
     "data": {
      "application/vnd.jupyter.widget-view+json": {
       "model_id": "32d0aa30d6ee4bc19c0a0fc17fd3f091",
       "version_major": 2,
       "version_minor": 0
      },
      "text/plain": [
       "  0%|          | 0/41 [00:00<?, ?it/s]"
      ]
     },
     "metadata": {},
     "output_type": "display_data"
    },
    {
     "data": {
      "application/vnd.jupyter.widget-view+json": {
       "model_id": "e1a827a4387b4a1c99b1d89cb3a845d9",
       "version_major": 2,
       "version_minor": 0
      },
      "text/plain": [
       "  0%|          | 0/41 [00:00<?, ?it/s]"
      ]
     },
     "metadata": {},
     "output_type": "display_data"
    },
    {
     "data": {
      "application/vnd.jupyter.widget-view+json": {
       "model_id": "accc052da282426d894eb6704c12341c",
       "version_major": 2,
       "version_minor": 0
      },
      "text/plain": [
       "  0%|          | 0/41 [00:00<?, ?it/s]"
      ]
     },
     "metadata": {},
     "output_type": "display_data"
    },
    {
     "data": {
      "application/vnd.jupyter.widget-view+json": {
       "model_id": "3db30437908e425fbcbfd714f15fd824",
       "version_major": 2,
       "version_minor": 0
      },
      "text/plain": [
       "  0%|          | 0/41 [00:00<?, ?it/s]"
      ]
     },
     "metadata": {},
     "output_type": "display_data"
    },
    {
     "data": {
      "application/vnd.jupyter.widget-view+json": {
       "model_id": "ab3825faa67443e49fb468a2f44262d2",
       "version_major": 2,
       "version_minor": 0
      },
      "text/plain": [
       "  0%|          | 0/41 [00:00<?, ?it/s]"
      ]
     },
     "metadata": {},
     "output_type": "display_data"
    },
    {
     "data": {
      "application/vnd.jupyter.widget-view+json": {
       "model_id": "95e2623315ce4ca1b4ace7fff05ae894",
       "version_major": 2,
       "version_minor": 0
      },
      "text/plain": [
       "  0%|          | 0/41 [00:00<?, ?it/s]"
      ]
     },
     "metadata": {},
     "output_type": "display_data"
    },
    {
     "data": {
      "application/vnd.jupyter.widget-view+json": {
       "model_id": "89cc824e698b4b398e8758d57b5c4a39",
       "version_major": 2,
       "version_minor": 0
      },
      "text/plain": [
       "  0%|          | 0/41 [00:00<?, ?it/s]"
      ]
     },
     "metadata": {},
     "output_type": "display_data"
    },
    {
     "data": {
      "application/vnd.jupyter.widget-view+json": {
       "model_id": "3c8ea164a20247d4bee7edb13b46f42c",
       "version_major": 2,
       "version_minor": 0
      },
      "text/plain": [
       "  0%|          | 0/41 [00:00<?, ?it/s]"
      ]
     },
     "metadata": {},
     "output_type": "display_data"
    },
    {
     "data": {
      "application/vnd.jupyter.widget-view+json": {
       "model_id": "47f197f649ac48e798c526f03a713501",
       "version_major": 2,
       "version_minor": 0
      },
      "text/plain": [
       "  0%|          | 0/41 [00:00<?, ?it/s]"
      ]
     },
     "metadata": {},
     "output_type": "display_data"
    },
    {
     "data": {
      "application/vnd.jupyter.widget-view+json": {
       "model_id": "f8b31ea967f946d0a0d9feee924165bd",
       "version_major": 2,
       "version_minor": 0
      },
      "text/plain": [
       "  0%|          | 0/41 [00:00<?, ?it/s]"
      ]
     },
     "metadata": {},
     "output_type": "display_data"
    },
    {
     "data": {
      "application/vnd.jupyter.widget-view+json": {
       "model_id": "066f73589e5042b79b487e692e349e21",
       "version_major": 2,
       "version_minor": 0
      },
      "text/plain": [
       "  0%|          | 0/41 [00:00<?, ?it/s]"
      ]
     },
     "metadata": {},
     "output_type": "display_data"
    },
    {
     "data": {
      "application/vnd.jupyter.widget-view+json": {
       "model_id": "967c025f24c74fbfbfd5397c9ac16acc",
       "version_major": 2,
       "version_minor": 0
      },
      "text/plain": [
       "  0%|          | 0/41 [00:00<?, ?it/s]"
      ]
     },
     "metadata": {},
     "output_type": "display_data"
    },
    {
     "data": {
      "application/vnd.jupyter.widget-view+json": {
       "model_id": "59a357f2198f4d06be89a35fc0c1f7a7",
       "version_major": 2,
       "version_minor": 0
      },
      "text/plain": [
       "  0%|          | 0/41 [00:00<?, ?it/s]"
      ]
     },
     "metadata": {},
     "output_type": "display_data"
    },
    {
     "data": {
      "application/vnd.jupyter.widget-view+json": {
       "model_id": "26f438e99cb44261ac261f03797f6c66",
       "version_major": 2,
       "version_minor": 0
      },
      "text/plain": [
       "  0%|          | 0/41 [00:00<?, ?it/s]"
      ]
     },
     "metadata": {},
     "output_type": "display_data"
    },
    {
     "data": {
      "application/vnd.jupyter.widget-view+json": {
       "model_id": "dfb370904b694f088fd7d3b9333972f9",
       "version_major": 2,
       "version_minor": 0
      },
      "text/plain": [
       "  0%|          | 0/41 [00:00<?, ?it/s]"
      ]
     },
     "metadata": {},
     "output_type": "display_data"
    },
    {
     "data": {
      "application/vnd.jupyter.widget-view+json": {
       "model_id": "278ec732de25422dbab70d020418fc86",
       "version_major": 2,
       "version_minor": 0
      },
      "text/plain": [
       "  0%|          | 0/41 [00:00<?, ?it/s]"
      ]
     },
     "metadata": {},
     "output_type": "display_data"
    },
    {
     "data": {
      "application/vnd.jupyter.widget-view+json": {
       "model_id": "511f4b8cfe74412cba1d521689efcb0e",
       "version_major": 2,
       "version_minor": 0
      },
      "text/plain": [
       "  0%|          | 0/41 [00:00<?, ?it/s]"
      ]
     },
     "metadata": {},
     "output_type": "display_data"
    },
    {
     "data": {
      "application/vnd.jupyter.widget-view+json": {
       "model_id": "db6f24761e154e45ba2b2d8712e1ec95",
       "version_major": 2,
       "version_minor": 0
      },
      "text/plain": [
       "  0%|          | 0/41 [00:00<?, ?it/s]"
      ]
     },
     "metadata": {},
     "output_type": "display_data"
    },
    {
     "data": {
      "application/vnd.jupyter.widget-view+json": {
       "model_id": "a649f5dbc4dd452fa1b47917d0176294",
       "version_major": 2,
       "version_minor": 0
      },
      "text/plain": [
       "  0%|          | 0/41 [00:00<?, ?it/s]"
      ]
     },
     "metadata": {},
     "output_type": "display_data"
    },
    {
     "data": {
      "application/vnd.jupyter.widget-view+json": {
       "model_id": "30fa661dbae74c12995d1be830733371",
       "version_major": 2,
       "version_minor": 0
      },
      "text/plain": [
       "  0%|          | 0/41 [00:00<?, ?it/s]"
      ]
     },
     "metadata": {},
     "output_type": "display_data"
    },
    {
     "data": {
      "application/vnd.jupyter.widget-view+json": {
       "model_id": "8aa9bcf1901148eaa90a9baec46b1234",
       "version_major": 2,
       "version_minor": 0
      },
      "text/plain": [
       "  0%|          | 0/41 [00:00<?, ?it/s]"
      ]
     },
     "metadata": {},
     "output_type": "display_data"
    },
    {
     "data": {
      "application/vnd.jupyter.widget-view+json": {
       "model_id": "3532352768eb4dc0990cacb8340db7a8",
       "version_major": 2,
       "version_minor": 0
      },
      "text/plain": [
       "  0%|          | 0/41 [00:00<?, ?it/s]"
      ]
     },
     "metadata": {},
     "output_type": "display_data"
    },
    {
     "data": {
      "application/vnd.jupyter.widget-view+json": {
       "model_id": "d2fc1a8117b549de9a0724e2ee55e86e",
       "version_major": 2,
       "version_minor": 0
      },
      "text/plain": [
       "  0%|          | 0/41 [00:00<?, ?it/s]"
      ]
     },
     "metadata": {},
     "output_type": "display_data"
    },
    {
     "data": {
      "application/vnd.jupyter.widget-view+json": {
       "model_id": "af868aaf781a440f857cb830664f8805",
       "version_major": 2,
       "version_minor": 0
      },
      "text/plain": [
       "  0%|          | 0/41 [00:00<?, ?it/s]"
      ]
     },
     "metadata": {},
     "output_type": "display_data"
    },
    {
     "data": {
      "application/vnd.jupyter.widget-view+json": {
       "model_id": "10bc5930e2f245cc96101c19ea3a3592",
       "version_major": 2,
       "version_minor": 0
      },
      "text/plain": [
       "  0%|          | 0/41 [00:00<?, ?it/s]"
      ]
     },
     "metadata": {},
     "output_type": "display_data"
    },
    {
     "data": {
      "application/vnd.jupyter.widget-view+json": {
       "model_id": "261d687ad7624c658147bd37a195bbeb",
       "version_major": 2,
       "version_minor": 0
      },
      "text/plain": [
       "  0%|          | 0/41 [00:00<?, ?it/s]"
      ]
     },
     "metadata": {},
     "output_type": "display_data"
    },
    {
     "data": {
      "application/vnd.jupyter.widget-view+json": {
       "model_id": "8ea1ba6095ad4e338caa2836538a2f29",
       "version_major": 2,
       "version_minor": 0
      },
      "text/plain": [
       "  0%|          | 0/41 [00:00<?, ?it/s]"
      ]
     },
     "metadata": {},
     "output_type": "display_data"
    },
    {
     "data": {
      "application/vnd.jupyter.widget-view+json": {
       "model_id": "e463443a4fc3423cbb3aa07f7e39003c",
       "version_major": 2,
       "version_minor": 0
      },
      "text/plain": [
       "  0%|          | 0/41 [00:00<?, ?it/s]"
      ]
     },
     "metadata": {},
     "output_type": "display_data"
    },
    {
     "data": {
      "application/vnd.jupyter.widget-view+json": {
       "model_id": "9beba1d37b434239a0ceb4d1797c6480",
       "version_major": 2,
       "version_minor": 0
      },
      "text/plain": [
       "  0%|          | 0/41 [00:00<?, ?it/s]"
      ]
     },
     "metadata": {},
     "output_type": "display_data"
    },
    {
     "data": {
      "application/vnd.jupyter.widget-view+json": {
       "model_id": "44168c37c497484d94f31b5d288bb389",
       "version_major": 2,
       "version_minor": 0
      },
      "text/plain": [
       "  0%|          | 0/41 [00:00<?, ?it/s]"
      ]
     },
     "metadata": {},
     "output_type": "display_data"
    },
    {
     "data": {
      "application/vnd.jupyter.widget-view+json": {
       "model_id": "9a8df56d689349f094d8689d9bb3dd58",
       "version_major": 2,
       "version_minor": 0
      },
      "text/plain": [
       "  0%|          | 0/41 [00:00<?, ?it/s]"
      ]
     },
     "metadata": {},
     "output_type": "display_data"
    },
    {
     "data": {
      "application/vnd.jupyter.widget-view+json": {
       "model_id": "59798f47951f454590c4f3a620f1e8ad",
       "version_major": 2,
       "version_minor": 0
      },
      "text/plain": [
       "  0%|          | 0/41 [00:00<?, ?it/s]"
      ]
     },
     "metadata": {},
     "output_type": "display_data"
    },
    {
     "data": {
      "application/vnd.jupyter.widget-view+json": {
       "model_id": "4bca543b272e4bbaab997e03ea2944ee",
       "version_major": 2,
       "version_minor": 0
      },
      "text/plain": [
       "  0%|          | 0/41 [00:00<?, ?it/s]"
      ]
     },
     "metadata": {},
     "output_type": "display_data"
    },
    {
     "data": {
      "application/vnd.jupyter.widget-view+json": {
       "model_id": "d608fd5cb89c4629af8f240be53fc6bb",
       "version_major": 2,
       "version_minor": 0
      },
      "text/plain": [
       "  0%|          | 0/41 [00:00<?, ?it/s]"
      ]
     },
     "metadata": {},
     "output_type": "display_data"
    },
    {
     "data": {
      "application/vnd.jupyter.widget-view+json": {
       "model_id": "8342e03e03f9423d91c21a10828633bb",
       "version_major": 2,
       "version_minor": 0
      },
      "text/plain": [
       "  0%|          | 0/41 [00:00<?, ?it/s]"
      ]
     },
     "metadata": {},
     "output_type": "display_data"
    },
    {
     "data": {
      "application/vnd.jupyter.widget-view+json": {
       "model_id": "63fb5e4ff30c4aa78b99a09026e82aab",
       "version_major": 2,
       "version_minor": 0
      },
      "text/plain": [
       "  0%|          | 0/41 [00:00<?, ?it/s]"
      ]
     },
     "metadata": {},
     "output_type": "display_data"
    },
    {
     "data": {
      "application/vnd.jupyter.widget-view+json": {
       "model_id": "3ffcddda4648498d8dfc0760a54f4cae",
       "version_major": 2,
       "version_minor": 0
      },
      "text/plain": [
       "  0%|          | 0/41 [00:00<?, ?it/s]"
      ]
     },
     "metadata": {},
     "output_type": "display_data"
    },
    {
     "data": {
      "application/vnd.jupyter.widget-view+json": {
       "model_id": "d9a454e1a9e24e3595fd90eb0a690cce",
       "version_major": 2,
       "version_minor": 0
      },
      "text/plain": [
       "  0%|          | 0/41 [00:00<?, ?it/s]"
      ]
     },
     "metadata": {},
     "output_type": "display_data"
    },
    {
     "data": {
      "application/vnd.jupyter.widget-view+json": {
       "model_id": "ed6cc073cfca489688892eb381fef345",
       "version_major": 2,
       "version_minor": 0
      },
      "text/plain": [
       "  0%|          | 0/41 [00:00<?, ?it/s]"
      ]
     },
     "metadata": {},
     "output_type": "display_data"
    },
    {
     "data": {
      "application/vnd.jupyter.widget-view+json": {
       "model_id": "6919778d2f1e4a09aa678d25db2a1cc2",
       "version_major": 2,
       "version_minor": 0
      },
      "text/plain": [
       "  0%|          | 0/41 [00:00<?, ?it/s]"
      ]
     },
     "metadata": {},
     "output_type": "display_data"
    },
    {
     "data": {
      "application/vnd.jupyter.widget-view+json": {
       "model_id": "03b2d67957044b438728d0433308034a",
       "version_major": 2,
       "version_minor": 0
      },
      "text/plain": [
       "  0%|          | 0/41 [00:00<?, ?it/s]"
      ]
     },
     "metadata": {},
     "output_type": "display_data"
    },
    {
     "data": {
      "application/vnd.jupyter.widget-view+json": {
       "model_id": "84775247c1c04f61ad6ce5985c10696a",
       "version_major": 2,
       "version_minor": 0
      },
      "text/plain": [
       "  0%|          | 0/41 [00:00<?, ?it/s]"
      ]
     },
     "metadata": {},
     "output_type": "display_data"
    },
    {
     "data": {
      "application/vnd.jupyter.widget-view+json": {
       "model_id": "5f82e5713651414ea5867d5e3113713b",
       "version_major": 2,
       "version_minor": 0
      },
      "text/plain": [
       "  0%|          | 0/41 [00:00<?, ?it/s]"
      ]
     },
     "metadata": {},
     "output_type": "display_data"
    },
    {
     "data": {
      "application/vnd.jupyter.widget-view+json": {
       "model_id": "2ae00f8c922a43d095f692f16f7ad6b3",
       "version_major": 2,
       "version_minor": 0
      },
      "text/plain": [
       "  0%|          | 0/41 [00:00<?, ?it/s]"
      ]
     },
     "metadata": {},
     "output_type": "display_data"
    },
    {
     "data": {
      "application/vnd.jupyter.widget-view+json": {
       "model_id": "67b32cc01e56401c91f9022305f45cb6",
       "version_major": 2,
       "version_minor": 0
      },
      "text/plain": [
       "  0%|          | 0/41 [00:00<?, ?it/s]"
      ]
     },
     "metadata": {},
     "output_type": "display_data"
    },
    {
     "data": {
      "application/vnd.jupyter.widget-view+json": {
       "model_id": "d27c224b47bf4534abd2ea6408e7ef40",
       "version_major": 2,
       "version_minor": 0
      },
      "text/plain": [
       "  0%|          | 0/41 [00:00<?, ?it/s]"
      ]
     },
     "metadata": {},
     "output_type": "display_data"
    },
    {
     "data": {
      "application/vnd.jupyter.widget-view+json": {
       "model_id": "17d8e480bba44afbb60d53f40f99a6ba",
       "version_major": 2,
       "version_minor": 0
      },
      "text/plain": [
       "  0%|          | 0/41 [00:00<?, ?it/s]"
      ]
     },
     "metadata": {},
     "output_type": "display_data"
    },
    {
     "data": {
      "application/vnd.jupyter.widget-view+json": {
       "model_id": "4a1a4d8650d14c0baca63d8c89bfcdbe",
       "version_major": 2,
       "version_minor": 0
      },
      "text/plain": [
       "  0%|          | 0/41 [00:00<?, ?it/s]"
      ]
     },
     "metadata": {},
     "output_type": "display_data"
    },
    {
     "data": {
      "application/vnd.jupyter.widget-view+json": {
       "model_id": "48df78eb8c774f209f83049f4c888969",
       "version_major": 2,
       "version_minor": 0
      },
      "text/plain": [
       "  0%|          | 0/41 [00:00<?, ?it/s]"
      ]
     },
     "metadata": {},
     "output_type": "display_data"
    },
    {
     "data": {
      "application/vnd.jupyter.widget-view+json": {
       "model_id": "31ba54cf34d84a0582da1ec121ee2b16",
       "version_major": 2,
       "version_minor": 0
      },
      "text/plain": [
       "  0%|          | 0/41 [00:00<?, ?it/s]"
      ]
     },
     "metadata": {},
     "output_type": "display_data"
    },
    {
     "data": {
      "application/vnd.jupyter.widget-view+json": {
       "model_id": "0424482a33a1402ba03b54c7b3f9dca0",
       "version_major": 2,
       "version_minor": 0
      },
      "text/plain": [
       "  0%|          | 0/41 [00:00<?, ?it/s]"
      ]
     },
     "metadata": {},
     "output_type": "display_data"
    },
    {
     "data": {
      "application/vnd.jupyter.widget-view+json": {
       "model_id": "baa46d4202fa4d92ba5d177528af2985",
       "version_major": 2,
       "version_minor": 0
      },
      "text/plain": [
       "  0%|          | 0/41 [00:00<?, ?it/s]"
      ]
     },
     "metadata": {},
     "output_type": "display_data"
    },
    {
     "data": {
      "application/vnd.jupyter.widget-view+json": {
       "model_id": "c10dabdd2c1d45a8a0d469ada02abfe1",
       "version_major": 2,
       "version_minor": 0
      },
      "text/plain": [
       "  0%|          | 0/41 [00:00<?, ?it/s]"
      ]
     },
     "metadata": {},
     "output_type": "display_data"
    },
    {
     "data": {
      "application/vnd.jupyter.widget-view+json": {
       "model_id": "90a159b10de0422ca3e975a114e49106",
       "version_major": 2,
       "version_minor": 0
      },
      "text/plain": [
       "  0%|          | 0/41 [00:00<?, ?it/s]"
      ]
     },
     "metadata": {},
     "output_type": "display_data"
    },
    {
     "data": {
      "application/vnd.jupyter.widget-view+json": {
       "model_id": "896c5325c4654b4a863e0d74a12c3305",
       "version_major": 2,
       "version_minor": 0
      },
      "text/plain": [
       "  0%|          | 0/41 [00:00<?, ?it/s]"
      ]
     },
     "metadata": {},
     "output_type": "display_data"
    },
    {
     "data": {
      "application/vnd.jupyter.widget-view+json": {
       "model_id": "309fa796453e413db57b199c2c8ea36d",
       "version_major": 2,
       "version_minor": 0
      },
      "text/plain": [
       "  0%|          | 0/41 [00:00<?, ?it/s]"
      ]
     },
     "metadata": {},
     "output_type": "display_data"
    },
    {
     "data": {
      "application/vnd.jupyter.widget-view+json": {
       "model_id": "37274d4922964d05b2bec789a1c6fb53",
       "version_major": 2,
       "version_minor": 0
      },
      "text/plain": [
       "  0%|          | 0/41 [00:00<?, ?it/s]"
      ]
     },
     "metadata": {},
     "output_type": "display_data"
    },
    {
     "data": {
      "application/vnd.jupyter.widget-view+json": {
       "model_id": "2976e8553d6642329d946033b17b87b0",
       "version_major": 2,
       "version_minor": 0
      },
      "text/plain": [
       "  0%|          | 0/41 [00:00<?, ?it/s]"
      ]
     },
     "metadata": {},
     "output_type": "display_data"
    },
    {
     "data": {
      "application/vnd.jupyter.widget-view+json": {
       "model_id": "6b5f48909f394f00a157730545846300",
       "version_major": 2,
       "version_minor": 0
      },
      "text/plain": [
       "  0%|          | 0/41 [00:00<?, ?it/s]"
      ]
     },
     "metadata": {},
     "output_type": "display_data"
    },
    {
     "data": {
      "application/vnd.jupyter.widget-view+json": {
       "model_id": "c20148da60db436cb6f8e083efcbd3f2",
       "version_major": 2,
       "version_minor": 0
      },
      "text/plain": [
       "  0%|          | 0/41 [00:00<?, ?it/s]"
      ]
     },
     "metadata": {},
     "output_type": "display_data"
    },
    {
     "data": {
      "application/vnd.jupyter.widget-view+json": {
       "model_id": "a8f649410bb84f9794d07495b5a73bd3",
       "version_major": 2,
       "version_minor": 0
      },
      "text/plain": [
       "  0%|          | 0/41 [00:00<?, ?it/s]"
      ]
     },
     "metadata": {},
     "output_type": "display_data"
    },
    {
     "data": {
      "application/vnd.jupyter.widget-view+json": {
       "model_id": "3e9575d350fe4087b9530b8561d8eba7",
       "version_major": 2,
       "version_minor": 0
      },
      "text/plain": [
       "  0%|          | 0/41 [00:00<?, ?it/s]"
      ]
     },
     "metadata": {},
     "output_type": "display_data"
    },
    {
     "data": {
      "application/vnd.jupyter.widget-view+json": {
       "model_id": "7b9f34f9df284eaf9cba40ed3fff556a",
       "version_major": 2,
       "version_minor": 0
      },
      "text/plain": [
       "  0%|          | 0/41 [00:00<?, ?it/s]"
      ]
     },
     "metadata": {},
     "output_type": "display_data"
    },
    {
     "data": {
      "application/vnd.jupyter.widget-view+json": {
       "model_id": "509b0dbb45de41ff9f7916a0fcdd9f58",
       "version_major": 2,
       "version_minor": 0
      },
      "text/plain": [
       "  0%|          | 0/41 [00:00<?, ?it/s]"
      ]
     },
     "metadata": {},
     "output_type": "display_data"
    },
    {
     "data": {
      "application/vnd.jupyter.widget-view+json": {
       "model_id": "69141ab3d0cf4329adb96f8894c9f6d5",
       "version_major": 2,
       "version_minor": 0
      },
      "text/plain": [
       "  0%|          | 0/41 [00:00<?, ?it/s]"
      ]
     },
     "metadata": {},
     "output_type": "display_data"
    },
    {
     "data": {
      "application/vnd.jupyter.widget-view+json": {
       "model_id": "63e7a690c8fb4d7aa10b6ee522c43ffd",
       "version_major": 2,
       "version_minor": 0
      },
      "text/plain": [
       "  0%|          | 0/41 [00:00<?, ?it/s]"
      ]
     },
     "metadata": {},
     "output_type": "display_data"
    },
    {
     "data": {
      "application/vnd.jupyter.widget-view+json": {
       "model_id": "2b03c6f6b0404e98871dd6d76b6a0487",
       "version_major": 2,
       "version_minor": 0
      },
      "text/plain": [
       "  0%|          | 0/41 [00:00<?, ?it/s]"
      ]
     },
     "metadata": {},
     "output_type": "display_data"
    },
    {
     "data": {
      "application/vnd.jupyter.widget-view+json": {
       "model_id": "da95c7f5167a4df4a0c866b34f6f9d29",
       "version_major": 2,
       "version_minor": 0
      },
      "text/plain": [
       "  0%|          | 0/41 [00:00<?, ?it/s]"
      ]
     },
     "metadata": {},
     "output_type": "display_data"
    },
    {
     "data": {
      "application/vnd.jupyter.widget-view+json": {
       "model_id": "b3053f61348c449cb0645b01da1eae60",
       "version_major": 2,
       "version_minor": 0
      },
      "text/plain": [
       "  0%|          | 0/41 [00:00<?, ?it/s]"
      ]
     },
     "metadata": {},
     "output_type": "display_data"
    },
    {
     "data": {
      "application/vnd.jupyter.widget-view+json": {
       "model_id": "a31b2e7279ca4e2d88377cbea2a720c5",
       "version_major": 2,
       "version_minor": 0
      },
      "text/plain": [
       "  0%|          | 0/41 [00:00<?, ?it/s]"
      ]
     },
     "metadata": {},
     "output_type": "display_data"
    },
    {
     "data": {
      "application/vnd.jupyter.widget-view+json": {
       "model_id": "e2528057043a4945a5e43bb3ae7d4349",
       "version_major": 2,
       "version_minor": 0
      },
      "text/plain": [
       "  0%|          | 0/41 [00:00<?, ?it/s]"
      ]
     },
     "metadata": {},
     "output_type": "display_data"
    },
    {
     "data": {
      "application/vnd.jupyter.widget-view+json": {
       "model_id": "bb14b9b7087b4f879a4ac4b1421b090e",
       "version_major": 2,
       "version_minor": 0
      },
      "text/plain": [
       "  0%|          | 0/41 [00:00<?, ?it/s]"
      ]
     },
     "metadata": {},
     "output_type": "display_data"
    },
    {
     "data": {
      "application/vnd.jupyter.widget-view+json": {
       "model_id": "f5b9ed2872b34e6b8e6737004196eedf",
       "version_major": 2,
       "version_minor": 0
      },
      "text/plain": [
       "  0%|          | 0/41 [00:00<?, ?it/s]"
      ]
     },
     "metadata": {},
     "output_type": "display_data"
    },
    {
     "data": {
      "application/vnd.jupyter.widget-view+json": {
       "model_id": "c5fb0269c941449da82937c878139998",
       "version_major": 2,
       "version_minor": 0
      },
      "text/plain": [
       "  0%|          | 0/41 [00:00<?, ?it/s]"
      ]
     },
     "metadata": {},
     "output_type": "display_data"
    },
    {
     "data": {
      "application/vnd.jupyter.widget-view+json": {
       "model_id": "7f46fe655b1543b7a88dfec563080a1e",
       "version_major": 2,
       "version_minor": 0
      },
      "text/plain": [
       "  0%|          | 0/41 [00:00<?, ?it/s]"
      ]
     },
     "metadata": {},
     "output_type": "display_data"
    },
    {
     "data": {
      "application/vnd.jupyter.widget-view+json": {
       "model_id": "a19df8ddfeaf4cbfaa0b575b82b01ee1",
       "version_major": 2,
       "version_minor": 0
      },
      "text/plain": [
       "  0%|          | 0/41 [00:00<?, ?it/s]"
      ]
     },
     "metadata": {},
     "output_type": "display_data"
    },
    {
     "data": {
      "application/vnd.jupyter.widget-view+json": {
       "model_id": "4ae2e48aef254cb3a28696f8b780958e",
       "version_major": 2,
       "version_minor": 0
      },
      "text/plain": [
       "  0%|          | 0/41 [00:00<?, ?it/s]"
      ]
     },
     "metadata": {},
     "output_type": "display_data"
    },
    {
     "data": {
      "application/vnd.jupyter.widget-view+json": {
       "model_id": "5405bcb951bf42648326c2b419dc3b7b",
       "version_major": 2,
       "version_minor": 0
      },
      "text/plain": [
       "  0%|          | 0/41 [00:00<?, ?it/s]"
      ]
     },
     "metadata": {},
     "output_type": "display_data"
    },
    {
     "data": {
      "application/vnd.jupyter.widget-view+json": {
       "model_id": "f2d296bcd5754b368d1444bc359f34c0",
       "version_major": 2,
       "version_minor": 0
      },
      "text/plain": [
       "  0%|          | 0/41 [00:00<?, ?it/s]"
      ]
     },
     "metadata": {},
     "output_type": "display_data"
    },
    {
     "data": {
      "application/vnd.jupyter.widget-view+json": {
       "model_id": "2bd4b09b054d4b82a984385c83260fd5",
       "version_major": 2,
       "version_minor": 0
      },
      "text/plain": [
       "  0%|          | 0/41 [00:00<?, ?it/s]"
      ]
     },
     "metadata": {},
     "output_type": "display_data"
    },
    {
     "data": {
      "application/vnd.jupyter.widget-view+json": {
       "model_id": "582909c304ee4b1c8fcedf471cdc9190",
       "version_major": 2,
       "version_minor": 0
      },
      "text/plain": [
       "  0%|          | 0/41 [00:00<?, ?it/s]"
      ]
     },
     "metadata": {},
     "output_type": "display_data"
    },
    {
     "data": {
      "application/vnd.jupyter.widget-view+json": {
       "model_id": "dc6ef98c620746e4accde1b6e677c40f",
       "version_major": 2,
       "version_minor": 0
      },
      "text/plain": [
       "  0%|          | 0/41 [00:00<?, ?it/s]"
      ]
     },
     "metadata": {},
     "output_type": "display_data"
    },
    {
     "data": {
      "application/vnd.jupyter.widget-view+json": {
       "model_id": "5cd0ba56e13d44cf9c275dd6d0ed5f62",
       "version_major": 2,
       "version_minor": 0
      },
      "text/plain": [
       "  0%|          | 0/41 [00:00<?, ?it/s]"
      ]
     },
     "metadata": {},
     "output_type": "display_data"
    },
    {
     "data": {
      "application/vnd.jupyter.widget-view+json": {
       "model_id": "40641b0bea7a4a3985e161643663de15",
       "version_major": 2,
       "version_minor": 0
      },
      "text/plain": [
       "  0%|          | 0/41 [00:00<?, ?it/s]"
      ]
     },
     "metadata": {},
     "output_type": "display_data"
    },
    {
     "data": {
      "application/vnd.jupyter.widget-view+json": {
       "model_id": "e25bbfc7f29e4413ab24ac6bb730f5a3",
       "version_major": 2,
       "version_minor": 0
      },
      "text/plain": [
       "  0%|          | 0/41 [00:00<?, ?it/s]"
      ]
     },
     "metadata": {},
     "output_type": "display_data"
    },
    {
     "data": {
      "application/vnd.jupyter.widget-view+json": {
       "model_id": "aa19b296064a49c4bd73c597163e836e",
       "version_major": 2,
       "version_minor": 0
      },
      "text/plain": [
       "  0%|          | 0/41 [00:00<?, ?it/s]"
      ]
     },
     "metadata": {},
     "output_type": "display_data"
    },
    {
     "data": {
      "application/vnd.jupyter.widget-view+json": {
       "model_id": "729d0d55d55d4abdb90cac6a825f5730",
       "version_major": 2,
       "version_minor": 0
      },
      "text/plain": [
       "  0%|          | 0/41 [00:00<?, ?it/s]"
      ]
     },
     "metadata": {},
     "output_type": "display_data"
    },
    {
     "data": {
      "application/vnd.jupyter.widget-view+json": {
       "model_id": "511dab6bd955448eb438173b057c48ce",
       "version_major": 2,
       "version_minor": 0
      },
      "text/plain": [
       "  0%|          | 0/41 [00:00<?, ?it/s]"
      ]
     },
     "metadata": {},
     "output_type": "display_data"
    },
    {
     "data": {
      "application/vnd.jupyter.widget-view+json": {
       "model_id": "8d6977f916f645f0a0c4eaff5cd77a53",
       "version_major": 2,
       "version_minor": 0
      },
      "text/plain": [
       "  0%|          | 0/41 [00:00<?, ?it/s]"
      ]
     },
     "metadata": {},
     "output_type": "display_data"
    },
    {
     "data": {
      "application/vnd.jupyter.widget-view+json": {
       "model_id": "eeaa15f07e38402586ee63483c77077a",
       "version_major": 2,
       "version_minor": 0
      },
      "text/plain": [
       "  0%|          | 0/41 [00:00<?, ?it/s]"
      ]
     },
     "metadata": {},
     "output_type": "display_data"
    },
    {
     "data": {
      "application/vnd.jupyter.widget-view+json": {
       "model_id": "f4685089a9a94151a07580208b61d525",
       "version_major": 2,
       "version_minor": 0
      },
      "text/plain": [
       "  0%|          | 0/41 [00:00<?, ?it/s]"
      ]
     },
     "metadata": {},
     "output_type": "display_data"
    },
    {
     "data": {
      "application/vnd.jupyter.widget-view+json": {
       "model_id": "1f10ec9234e6450aba4224ca31161aaa",
       "version_major": 2,
       "version_minor": 0
      },
      "text/plain": [
       "  0%|          | 0/41 [00:00<?, ?it/s]"
      ]
     },
     "metadata": {},
     "output_type": "display_data"
    },
    {
     "data": {
      "application/vnd.jupyter.widget-view+json": {
       "model_id": "8c071747867f4d2286e4f2ecb16b452c",
       "version_major": 2,
       "version_minor": 0
      },
      "text/plain": [
       "  0%|          | 0/41 [00:00<?, ?it/s]"
      ]
     },
     "metadata": {},
     "output_type": "display_data"
    },
    {
     "data": {
      "application/vnd.jupyter.widget-view+json": {
       "model_id": "f9ddfc0e01bb451da58103f3bbbec6ad",
       "version_major": 2,
       "version_minor": 0
      },
      "text/plain": [
       "  0%|          | 0/41 [00:00<?, ?it/s]"
      ]
     },
     "metadata": {},
     "output_type": "display_data"
    },
    {
     "data": {
      "application/vnd.jupyter.widget-view+json": {
       "model_id": "2047f911c1024089a10bc7760440f85a",
       "version_major": 2,
       "version_minor": 0
      },
      "text/plain": [
       "  0%|          | 0/41 [00:00<?, ?it/s]"
      ]
     },
     "metadata": {},
     "output_type": "display_data"
    },
    {
     "data": {
      "application/vnd.jupyter.widget-view+json": {
       "model_id": "dcdc8b4749184b8fa59a723c50f1d059",
       "version_major": 2,
       "version_minor": 0
      },
      "text/plain": [
       "  0%|          | 0/41 [00:00<?, ?it/s]"
      ]
     },
     "metadata": {},
     "output_type": "display_data"
    },
    {
     "data": {
      "application/vnd.jupyter.widget-view+json": {
       "model_id": "30fa2511f0e44afabcca4687e1674516",
       "version_major": 2,
       "version_minor": 0
      },
      "text/plain": [
       "  0%|          | 0/41 [00:00<?, ?it/s]"
      ]
     },
     "metadata": {},
     "output_type": "display_data"
    },
    {
     "data": {
      "application/vnd.jupyter.widget-view+json": {
       "model_id": "98133263fedb43c6b8ce0997ac262b60",
       "version_major": 2,
       "version_minor": 0
      },
      "text/plain": [
       "  0%|          | 0/41 [00:00<?, ?it/s]"
      ]
     },
     "metadata": {},
     "output_type": "display_data"
    },
    {
     "data": {
      "application/vnd.jupyter.widget-view+json": {
       "model_id": "67ca0b4c48634623bf614e52b20fffe1",
       "version_major": 2,
       "version_minor": 0
      },
      "text/plain": [
       "  0%|          | 0/41 [00:00<?, ?it/s]"
      ]
     },
     "metadata": {},
     "output_type": "display_data"
    },
    {
     "data": {
      "application/vnd.jupyter.widget-view+json": {
       "model_id": "2ac01d28f317435eb23977575ee6fa7d",
       "version_major": 2,
       "version_minor": 0
      },
      "text/plain": [
       "  0%|          | 0/41 [00:00<?, ?it/s]"
      ]
     },
     "metadata": {},
     "output_type": "display_data"
    },
    {
     "data": {
      "application/vnd.jupyter.widget-view+json": {
       "model_id": "9560d5bf83f043778984de65b7785f7f",
       "version_major": 2,
       "version_minor": 0
      },
      "text/plain": [
       "  0%|          | 0/41 [00:00<?, ?it/s]"
      ]
     },
     "metadata": {},
     "output_type": "display_data"
    },
    {
     "data": {
      "application/vnd.jupyter.widget-view+json": {
       "model_id": "1d9b159cf34141faa749bbc33ebbec02",
       "version_major": 2,
       "version_minor": 0
      },
      "text/plain": [
       "  0%|          | 0/41 [00:00<?, ?it/s]"
      ]
     },
     "metadata": {},
     "output_type": "display_data"
    },
    {
     "data": {
      "application/vnd.jupyter.widget-view+json": {
       "model_id": "d0951284dd3049dda7efc19ec3e85bba",
       "version_major": 2,
       "version_minor": 0
      },
      "text/plain": [
       "  0%|          | 0/41 [00:00<?, ?it/s]"
      ]
     },
     "metadata": {},
     "output_type": "display_data"
    },
    {
     "data": {
      "application/vnd.jupyter.widget-view+json": {
       "model_id": "adb6e365534f4a71b76f0ad5f7be4494",
       "version_major": 2,
       "version_minor": 0
      },
      "text/plain": [
       "  0%|          | 0/41 [00:00<?, ?it/s]"
      ]
     },
     "metadata": {},
     "output_type": "display_data"
    },
    {
     "data": {
      "application/vnd.jupyter.widget-view+json": {
       "model_id": "1adc9398006d449b9371f436d5f17d79",
       "version_major": 2,
       "version_minor": 0
      },
      "text/plain": [
       "  0%|          | 0/41 [00:00<?, ?it/s]"
      ]
     },
     "metadata": {},
     "output_type": "display_data"
    },
    {
     "data": {
      "application/vnd.jupyter.widget-view+json": {
       "model_id": "2feb9db16b8a4d3bafd3292e274f2a36",
       "version_major": 2,
       "version_minor": 0
      },
      "text/plain": [
       "  0%|          | 0/41 [00:00<?, ?it/s]"
      ]
     },
     "metadata": {},
     "output_type": "display_data"
    },
    {
     "data": {
      "application/vnd.jupyter.widget-view+json": {
       "model_id": "436aa3455cad4c17bbf0e7ca298bc40d",
       "version_major": 2,
       "version_minor": 0
      },
      "text/plain": [
       "  0%|          | 0/41 [00:00<?, ?it/s]"
      ]
     },
     "metadata": {},
     "output_type": "display_data"
    },
    {
     "data": {
      "application/vnd.jupyter.widget-view+json": {
       "model_id": "076081487b3643cbb029f47ec5c96b35",
       "version_major": 2,
       "version_minor": 0
      },
      "text/plain": [
       "  0%|          | 0/41 [00:00<?, ?it/s]"
      ]
     },
     "metadata": {},
     "output_type": "display_data"
    },
    {
     "data": {
      "application/vnd.jupyter.widget-view+json": {
       "model_id": "e8ad381a57b54b11b64e93f177e132bc",
       "version_major": 2,
       "version_minor": 0
      },
      "text/plain": [
       "  0%|          | 0/41 [00:00<?, ?it/s]"
      ]
     },
     "metadata": {},
     "output_type": "display_data"
    },
    {
     "data": {
      "application/vnd.jupyter.widget-view+json": {
       "model_id": "2b17b863f57e4018b6c37e0bce77c590",
       "version_major": 2,
       "version_minor": 0
      },
      "text/plain": [
       "  0%|          | 0/41 [00:00<?, ?it/s]"
      ]
     },
     "metadata": {},
     "output_type": "display_data"
    },
    {
     "data": {
      "application/vnd.jupyter.widget-view+json": {
       "model_id": "558ab23b365d4eaeb1aad8d5c67bbbd4",
       "version_major": 2,
       "version_minor": 0
      },
      "text/plain": [
       "  0%|          | 0/41 [00:00<?, ?it/s]"
      ]
     },
     "metadata": {},
     "output_type": "display_data"
    },
    {
     "data": {
      "application/vnd.jupyter.widget-view+json": {
       "model_id": "e987e6317f0a4289982526e46ce9a604",
       "version_major": 2,
       "version_minor": 0
      },
      "text/plain": [
       "  0%|          | 0/41 [00:00<?, ?it/s]"
      ]
     },
     "metadata": {},
     "output_type": "display_data"
    },
    {
     "data": {
      "application/vnd.jupyter.widget-view+json": {
       "model_id": "c261b2dbac0f462f99c129893d3b1a0f",
       "version_major": 2,
       "version_minor": 0
      },
      "text/plain": [
       "  0%|          | 0/41 [00:00<?, ?it/s]"
      ]
     },
     "metadata": {},
     "output_type": "display_data"
    },
    {
     "data": {
      "application/vnd.jupyter.widget-view+json": {
       "model_id": "81713af17f8a48fa93f827aa8e3644f4",
       "version_major": 2,
       "version_minor": 0
      },
      "text/plain": [
       "  0%|          | 0/41 [00:00<?, ?it/s]"
      ]
     },
     "metadata": {},
     "output_type": "display_data"
    },
    {
     "data": {
      "application/vnd.jupyter.widget-view+json": {
       "model_id": "dbe32a9dc9cc4b06b8450cc074c53cb7",
       "version_major": 2,
       "version_minor": 0
      },
      "text/plain": [
       "  0%|          | 0/41 [00:00<?, ?it/s]"
      ]
     },
     "metadata": {},
     "output_type": "display_data"
    },
    {
     "data": {
      "application/vnd.jupyter.widget-view+json": {
       "model_id": "66220942003c4a59b49df667cfe55beb",
       "version_major": 2,
       "version_minor": 0
      },
      "text/plain": [
       "  0%|          | 0/41 [00:00<?, ?it/s]"
      ]
     },
     "metadata": {},
     "output_type": "display_data"
    },
    {
     "data": {
      "application/vnd.jupyter.widget-view+json": {
       "model_id": "cef3e7a45968499695a60e817d8c38b4",
       "version_major": 2,
       "version_minor": 0
      },
      "text/plain": [
       "  0%|          | 0/41 [00:00<?, ?it/s]"
      ]
     },
     "metadata": {},
     "output_type": "display_data"
    },
    {
     "data": {
      "application/vnd.jupyter.widget-view+json": {
       "model_id": "f3fdb80e2a8a41f2b47d72a2a247359c",
       "version_major": 2,
       "version_minor": 0
      },
      "text/plain": [
       "  0%|          | 0/41 [00:00<?, ?it/s]"
      ]
     },
     "metadata": {},
     "output_type": "display_data"
    },
    {
     "data": {
      "application/vnd.jupyter.widget-view+json": {
       "model_id": "41eba5630f374faead342550a4ab0380",
       "version_major": 2,
       "version_minor": 0
      },
      "text/plain": [
       "  0%|          | 0/41 [00:00<?, ?it/s]"
      ]
     },
     "metadata": {},
     "output_type": "display_data"
    },
    {
     "data": {
      "application/vnd.jupyter.widget-view+json": {
       "model_id": "18de3c92211041218020bbf93ce3aedb",
       "version_major": 2,
       "version_minor": 0
      },
      "text/plain": [
       "  0%|          | 0/41 [00:00<?, ?it/s]"
      ]
     },
     "metadata": {},
     "output_type": "display_data"
    },
    {
     "data": {
      "application/vnd.jupyter.widget-view+json": {
       "model_id": "9afe335211f346af81bdd00a858becfa",
       "version_major": 2,
       "version_minor": 0
      },
      "text/plain": [
       "  0%|          | 0/41 [00:00<?, ?it/s]"
      ]
     },
     "metadata": {},
     "output_type": "display_data"
    },
    {
     "data": {
      "application/vnd.jupyter.widget-view+json": {
       "model_id": "87cea8ceb3474c4ebc53f2bb873458ef",
       "version_major": 2,
       "version_minor": 0
      },
      "text/plain": [
       "  0%|          | 0/41 [00:00<?, ?it/s]"
      ]
     },
     "metadata": {},
     "output_type": "display_data"
    },
    {
     "data": {
      "application/vnd.jupyter.widget-view+json": {
       "model_id": "138decdde10e4eb393d47071df56e4fd",
       "version_major": 2,
       "version_minor": 0
      },
      "text/plain": [
       "  0%|          | 0/41 [00:00<?, ?it/s]"
      ]
     },
     "metadata": {},
     "output_type": "display_data"
    },
    {
     "data": {
      "application/vnd.jupyter.widget-view+json": {
       "model_id": "397b3d6b9a6f4b2083af1e2f139ee3fa",
       "version_major": 2,
       "version_minor": 0
      },
      "text/plain": [
       "  0%|          | 0/41 [00:00<?, ?it/s]"
      ]
     },
     "metadata": {},
     "output_type": "display_data"
    },
    {
     "data": {
      "application/vnd.jupyter.widget-view+json": {
       "model_id": "70e07eda4f664613840fbb9a7374ab5a",
       "version_major": 2,
       "version_minor": 0
      },
      "text/plain": [
       "  0%|          | 0/41 [00:00<?, ?it/s]"
      ]
     },
     "metadata": {},
     "output_type": "display_data"
    },
    {
     "data": {
      "application/vnd.jupyter.widget-view+json": {
       "model_id": "efb13bb4dd134183a2c9fcb7cf9699ba",
       "version_major": 2,
       "version_minor": 0
      },
      "text/plain": [
       "  0%|          | 0/41 [00:00<?, ?it/s]"
      ]
     },
     "metadata": {},
     "output_type": "display_data"
    },
    {
     "data": {
      "application/vnd.jupyter.widget-view+json": {
       "model_id": "e34d6938a11244a7ae61fcdfc41bc043",
       "version_major": 2,
       "version_minor": 0
      },
      "text/plain": [
       "  0%|          | 0/41 [00:00<?, ?it/s]"
      ]
     },
     "metadata": {},
     "output_type": "display_data"
    },
    {
     "data": {
      "application/vnd.jupyter.widget-view+json": {
       "model_id": "f03fb229f54a41ca964ba5c630286a4e",
       "version_major": 2,
       "version_minor": 0
      },
      "text/plain": [
       "  0%|          | 0/41 [00:00<?, ?it/s]"
      ]
     },
     "metadata": {},
     "output_type": "display_data"
    },
    {
     "data": {
      "application/vnd.jupyter.widget-view+json": {
       "model_id": "eeee5168298b4473aea8fef2108694cb",
       "version_major": 2,
       "version_minor": 0
      },
      "text/plain": [
       "  0%|          | 0/41 [00:00<?, ?it/s]"
      ]
     },
     "metadata": {},
     "output_type": "display_data"
    },
    {
     "data": {
      "application/vnd.jupyter.widget-view+json": {
       "model_id": "e2d7038923e045108c1df5750abd8e30",
       "version_major": 2,
       "version_minor": 0
      },
      "text/plain": [
       "  0%|          | 0/41 [00:00<?, ?it/s]"
      ]
     },
     "metadata": {},
     "output_type": "display_data"
    },
    {
     "data": {
      "application/vnd.jupyter.widget-view+json": {
       "model_id": "be04f0da836c40d5b837f8089da447ec",
       "version_major": 2,
       "version_minor": 0
      },
      "text/plain": [
       "  0%|          | 0/41 [00:00<?, ?it/s]"
      ]
     },
     "metadata": {},
     "output_type": "display_data"
    },
    {
     "data": {
      "application/vnd.jupyter.widget-view+json": {
       "model_id": "54c6a0f9815f4fe589d11b5d57375782",
       "version_major": 2,
       "version_minor": 0
      },
      "text/plain": [
       "  0%|          | 0/41 [00:00<?, ?it/s]"
      ]
     },
     "metadata": {},
     "output_type": "display_data"
    },
    {
     "data": {
      "application/vnd.jupyter.widget-view+json": {
       "model_id": "048abc6b9c574b0aac1940b61baf97a1",
       "version_major": 2,
       "version_minor": 0
      },
      "text/plain": [
       "  0%|          | 0/41 [00:00<?, ?it/s]"
      ]
     },
     "metadata": {},
     "output_type": "display_data"
    },
    {
     "data": {
      "application/vnd.jupyter.widget-view+json": {
       "model_id": "7869407382134645944ee29e4be0e93d",
       "version_major": 2,
       "version_minor": 0
      },
      "text/plain": [
       "  0%|          | 0/41 [00:00<?, ?it/s]"
      ]
     },
     "metadata": {},
     "output_type": "display_data"
    },
    {
     "data": {
      "application/vnd.jupyter.widget-view+json": {
       "model_id": "d9107c92f5f14fd2a05373efc42882b2",
       "version_major": 2,
       "version_minor": 0
      },
      "text/plain": [
       "  0%|          | 0/41 [00:00<?, ?it/s]"
      ]
     },
     "metadata": {},
     "output_type": "display_data"
    },
    {
     "data": {
      "application/vnd.jupyter.widget-view+json": {
       "model_id": "2b8d69942b5944848b40a49f8c5d020a",
       "version_major": 2,
       "version_minor": 0
      },
      "text/plain": [
       "  0%|          | 0/41 [00:00<?, ?it/s]"
      ]
     },
     "metadata": {},
     "output_type": "display_data"
    },
    {
     "data": {
      "application/vnd.jupyter.widget-view+json": {
       "model_id": "cb9802a6db204b8385eabb75299f3af2",
       "version_major": 2,
       "version_minor": 0
      },
      "text/plain": [
       "  0%|          | 0/41 [00:00<?, ?it/s]"
      ]
     },
     "metadata": {},
     "output_type": "display_data"
    },
    {
     "data": {
      "application/vnd.jupyter.widget-view+json": {
       "model_id": "94d48aea2b574f5e9be63658363471e7",
       "version_major": 2,
       "version_minor": 0
      },
      "text/plain": [
       "  0%|          | 0/41 [00:00<?, ?it/s]"
      ]
     },
     "metadata": {},
     "output_type": "display_data"
    },
    {
     "data": {
      "application/vnd.jupyter.widget-view+json": {
       "model_id": "2b581bc7f8964882ae7dfe7f6c2c0882",
       "version_major": 2,
       "version_minor": 0
      },
      "text/plain": [
       "  0%|          | 0/41 [00:00<?, ?it/s]"
      ]
     },
     "metadata": {},
     "output_type": "display_data"
    },
    {
     "data": {
      "application/vnd.jupyter.widget-view+json": {
       "model_id": "77013f3eb9e64f89b2b7a87bc7caec57",
       "version_major": 2,
       "version_minor": 0
      },
      "text/plain": [
       "  0%|          | 0/41 [00:00<?, ?it/s]"
      ]
     },
     "metadata": {},
     "output_type": "display_data"
    },
    {
     "data": {
      "application/vnd.jupyter.widget-view+json": {
       "model_id": "022dd9ff41454166854f559f228aaaf8",
       "version_major": 2,
       "version_minor": 0
      },
      "text/plain": [
       "  0%|          | 0/41 [00:00<?, ?it/s]"
      ]
     },
     "metadata": {},
     "output_type": "display_data"
    },
    {
     "data": {
      "application/vnd.jupyter.widget-view+json": {
       "model_id": "871b5433b47d42d99e1f5815f30dceb2",
       "version_major": 2,
       "version_minor": 0
      },
      "text/plain": [
       "  0%|          | 0/41 [00:00<?, ?it/s]"
      ]
     },
     "metadata": {},
     "output_type": "display_data"
    },
    {
     "data": {
      "application/vnd.jupyter.widget-view+json": {
       "model_id": "52963f6d6c184e1986d0645914273a3a",
       "version_major": 2,
       "version_minor": 0
      },
      "text/plain": [
       "  0%|          | 0/41 [00:00<?, ?it/s]"
      ]
     },
     "metadata": {},
     "output_type": "display_data"
    },
    {
     "data": {
      "application/vnd.jupyter.widget-view+json": {
       "model_id": "393f482a8128471daf49f0e399223176",
       "version_major": 2,
       "version_minor": 0
      },
      "text/plain": [
       "  0%|          | 0/41 [00:00<?, ?it/s]"
      ]
     },
     "metadata": {},
     "output_type": "display_data"
    },
    {
     "data": {
      "application/vnd.jupyter.widget-view+json": {
       "model_id": "767540d4e0b240bcbd6db64607f652b7",
       "version_major": 2,
       "version_minor": 0
      },
      "text/plain": [
       "  0%|          | 0/41 [00:00<?, ?it/s]"
      ]
     },
     "metadata": {},
     "output_type": "display_data"
    },
    {
     "data": {
      "application/vnd.jupyter.widget-view+json": {
       "model_id": "0efafffe89fe406c9a5a594d5c1919ef",
       "version_major": 2,
       "version_minor": 0
      },
      "text/plain": [
       "  0%|          | 0/41 [00:00<?, ?it/s]"
      ]
     },
     "metadata": {},
     "output_type": "display_data"
    },
    {
     "data": {
      "application/vnd.jupyter.widget-view+json": {
       "model_id": "27c1a9c4ac394d2ca6a1b71723be292b",
       "version_major": 2,
       "version_minor": 0
      },
      "text/plain": [
       "  0%|          | 0/41 [00:00<?, ?it/s]"
      ]
     },
     "metadata": {},
     "output_type": "display_data"
    },
    {
     "data": {
      "application/vnd.jupyter.widget-view+json": {
       "model_id": "6476223dbd404ece9faf726f9592bf26",
       "version_major": 2,
       "version_minor": 0
      },
      "text/plain": [
       "  0%|          | 0/41 [00:00<?, ?it/s]"
      ]
     },
     "metadata": {},
     "output_type": "display_data"
    },
    {
     "data": {
      "application/vnd.jupyter.widget-view+json": {
       "model_id": "bd5db1d9ef5f4c12b703894e75570805",
       "version_major": 2,
       "version_minor": 0
      },
      "text/plain": [
       "  0%|          | 0/41 [00:00<?, ?it/s]"
      ]
     },
     "metadata": {},
     "output_type": "display_data"
    },
    {
     "data": {
      "application/vnd.jupyter.widget-view+json": {
       "model_id": "792eeb2878464b80b56f4de51f579d02",
       "version_major": 2,
       "version_minor": 0
      },
      "text/plain": [
       "  0%|          | 0/41 [00:00<?, ?it/s]"
      ]
     },
     "metadata": {},
     "output_type": "display_data"
    },
    {
     "data": {
      "application/vnd.jupyter.widget-view+json": {
       "model_id": "697253e475904727a1447cc2ff7d764a",
       "version_major": 2,
       "version_minor": 0
      },
      "text/plain": [
       "  0%|          | 0/41 [00:00<?, ?it/s]"
      ]
     },
     "metadata": {},
     "output_type": "display_data"
    },
    {
     "data": {
      "application/vnd.jupyter.widget-view+json": {
       "model_id": "4231971e82364d1b8898e95b9ab4d58f",
       "version_major": 2,
       "version_minor": 0
      },
      "text/plain": [
       "  0%|          | 0/41 [00:00<?, ?it/s]"
      ]
     },
     "metadata": {},
     "output_type": "display_data"
    },
    {
     "data": {
      "application/vnd.jupyter.widget-view+json": {
       "model_id": "0b6614b7bf20435091e3bf951faa001f",
       "version_major": 2,
       "version_minor": 0
      },
      "text/plain": [
       "  0%|          | 0/41 [00:00<?, ?it/s]"
      ]
     },
     "metadata": {},
     "output_type": "display_data"
    },
    {
     "data": {
      "application/vnd.jupyter.widget-view+json": {
       "model_id": "d0a4548d7ded466b9c3629d9111547e1",
       "version_major": 2,
       "version_minor": 0
      },
      "text/plain": [
       "  0%|          | 0/41 [00:00<?, ?it/s]"
      ]
     },
     "metadata": {},
     "output_type": "display_data"
    },
    {
     "data": {
      "application/vnd.jupyter.widget-view+json": {
       "model_id": "797222b439244e8aaaa707aa3e4be976",
       "version_major": 2,
       "version_minor": 0
      },
      "text/plain": [
       "  0%|          | 0/41 [00:00<?, ?it/s]"
      ]
     },
     "metadata": {},
     "output_type": "display_data"
    },
    {
     "data": {
      "application/vnd.jupyter.widget-view+json": {
       "model_id": "edc3d6ad597e424b91bca0c986579aa7",
       "version_major": 2,
       "version_minor": 0
      },
      "text/plain": [
       "  0%|          | 0/41 [00:00<?, ?it/s]"
      ]
     },
     "metadata": {},
     "output_type": "display_data"
    },
    {
     "data": {
      "application/vnd.jupyter.widget-view+json": {
       "model_id": "982c843b1d524187a75f0d65ca99533b",
       "version_major": 2,
       "version_minor": 0
      },
      "text/plain": [
       "  0%|          | 0/41 [00:00<?, ?it/s]"
      ]
     },
     "metadata": {},
     "output_type": "display_data"
    },
    {
     "data": {
      "application/vnd.jupyter.widget-view+json": {
       "model_id": "938db638287b46eea8e4d18d12ef5177",
       "version_major": 2,
       "version_minor": 0
      },
      "text/plain": [
       "  0%|          | 0/41 [00:00<?, ?it/s]"
      ]
     },
     "metadata": {},
     "output_type": "display_data"
    },
    {
     "data": {
      "application/vnd.jupyter.widget-view+json": {
       "model_id": "bc935720103b4195a71a036b7fb42d60",
       "version_major": 2,
       "version_minor": 0
      },
      "text/plain": [
       "  0%|          | 0/41 [00:00<?, ?it/s]"
      ]
     },
     "metadata": {},
     "output_type": "display_data"
    },
    {
     "data": {
      "application/vnd.jupyter.widget-view+json": {
       "model_id": "7f21bb1576624ea29add01dd740c0c5c",
       "version_major": 2,
       "version_minor": 0
      },
      "text/plain": [
       "  0%|          | 0/41 [00:00<?, ?it/s]"
      ]
     },
     "metadata": {},
     "output_type": "display_data"
    },
    {
     "data": {
      "application/vnd.jupyter.widget-view+json": {
       "model_id": "805f977b211d4472ac20a8ed1bd363f5",
       "version_major": 2,
       "version_minor": 0
      },
      "text/plain": [
       "  0%|          | 0/41 [00:00<?, ?it/s]"
      ]
     },
     "metadata": {},
     "output_type": "display_data"
    },
    {
     "data": {
      "application/vnd.jupyter.widget-view+json": {
       "model_id": "08068d7775da417ab73501d0fe8c1627",
       "version_major": 2,
       "version_minor": 0
      },
      "text/plain": [
       "  0%|          | 0/41 [00:00<?, ?it/s]"
      ]
     },
     "metadata": {},
     "output_type": "display_data"
    }
   ],
   "source": [
    "for i in trange(df_c.shape[0]):#For all examples\n",
    "    for j in trange(len(jsonFile['intents'])):\n",
    "        if jsonFile['intents'][j]['tag'] == df_c.iloc[i,0]: #Checking the disease of each instance of dataset\n",
    "            tag=jsonFile['intents'][j]['tag'] #saving disease in variable tag\n",
    "            row=list(set(list(df_c.iloc[i,1:]))) #all symptoms of particular instance are listed\n",
    "            row=' '.join(row) # all elements of the list are joined in a one string where cells are seperated with space \n",
    "            row=re.sub(tag,'',row)\n",
    "            jsonFile['intents'][j]['patterns'].append(row) # Populating the patterns with symptoms\n",
    "            break \n",
    "    "
   ]
  },
  {
   "cell_type": "markdown",
   "id": "unique-ceremony",
   "metadata": {},
   "source": [
    "Example of the structure of a `class label`."
   ]
  },
  {
   "cell_type": "code",
   "execution_count": 84,
   "id": "congressional-algeria",
   "metadata": {
    "ExecuteTime": {
     "end_time": "2021-05-14T01:10:27.938514Z",
     "start_time": "2021-05-14T01:10:27.784870Z"
    }
   },
   "outputs": [
    {
     "data": {
      "text/plain": [
       "{'tag': 'Fungal infection',\n",
       " 'patterns': [' itching skin_rash nodal_skin_eruptions',\n",
       "  ' skin_rash nodal_skin_eruptions',\n",
       "  ' itching nodal_skin_eruptions',\n",
       "  ' itching skin_rash'],\n",
       " 'responses': ['you have Fungal infection']}"
      ]
     },
     "execution_count": 84,
     "metadata": {},
     "output_type": "execute_result"
    }
   ],
   "source": [
    "jsonFile['intents'][0]"
   ]
  },
  {
   "cell_type": "markdown",
   "id": "limited-accuracy",
   "metadata": {},
   "source": [
    "`greetings` and `goodbye` classes are added to exhibit medical doctor and patient interaction"
   ]
  },
  {
   "cell_type": "code",
   "execution_count": 85,
   "id": "brief-writing",
   "metadata": {
    "ExecuteTime": {
     "end_time": "2021-05-14T01:10:28.236219Z",
     "start_time": "2021-05-14T01:10:27.940451Z"
    }
   },
   "outputs": [],
   "source": [
    "greetings = {'tag':'greetings','patterns':['Hi','Hello','Hi there','How are you?','Good morning','Good evening','Is anyone here'],\n",
    " 'responses':['Hi, Im Dr.Stone. Please enter your symptoms so that I can diagnose your condition']}"
   ]
  },
  {
   "cell_type": "code",
   "execution_count": 86,
   "id": "express-australia",
   "metadata": {
    "ExecuteTime": {
     "end_time": "2021-05-14T01:10:28.376377Z",
     "start_time": "2021-05-14T01:10:28.238385Z"
    }
   },
   "outputs": [],
   "source": [
    "goodbye = {'tag':'goodbye','patterns':['Bye','Thank you','Goodbye','See you later'],'responses':['Wish you a long life. Bye!']}"
   ]
  },
  {
   "cell_type": "code",
   "execution_count": 87,
   "id": "creative-anger",
   "metadata": {
    "ExecuteTime": {
     "end_time": "2021-05-14T01:10:28.516937Z",
     "start_time": "2021-05-14T01:10:28.378631Z"
    }
   },
   "outputs": [],
   "source": [
    "jsonFile['intents'].append(greetings)\n",
    "jsonFile['intents'].append(goodbye)\n"
   ]
  },
  {
   "cell_type": "code",
   "execution_count": 106,
   "id": "willing-society",
   "metadata": {
    "ExecuteTime": {
     "end_time": "2021-05-14T01:12:00.916997Z",
     "start_time": "2021-05-14T01:12:00.766093Z"
    }
   },
   "outputs": [
    {
     "data": {
      "text/plain": [
       "[{'tag': 'Fungal infection',\n",
       "  'patterns': [' itching skin_rash nodal_skin_eruptions',\n",
       "   ' skin_rash nodal_skin_eruptions',\n",
       "   ' itching nodal_skin_eruptions',\n",
       "   ' itching skin_rash'],\n",
       "  'responses': ['you have Fungal infection']},\n",
       " {'tag': 'GERD',\n",
       "  'patterns': [' acidity chest_pain ulcers_on_tongue cough stomach_pain vomiting',\n",
       "   ' chest_pain ulcers_on_tongue cough stomach_pain vomiting',\n",
       "   ' acidity chest_pain cough stomach_pain vomiting',\n",
       "   ' chest_pain ulcers_on_tongue cough stomach_pain acidity',\n",
       "   ' acidity chest_pain ulcers_on_tongue stomach_pain vomiting',\n",
       "   ' acidity ulcers_on_tongue cough stomach_pain vomiting',\n",
       "   ' acidity chest_pain ulcers_on_tongue cough vomiting'],\n",
       "  'responses': ['you have GERD']},\n",
       " {'tag': 'Osteoarthristis',\n",
       "  'patterns': [' joint_pain hip_joint_pain swelling_joints neck_pain knee_pain painful_walking',\n",
       "   ' hip_joint_pain swelling_joints neck_pain knee_pain painful_walking',\n",
       "   ' joint_pain hip_joint_pain swelling_joints knee_pain painful_walking',\n",
       "   ' joint_pain hip_joint_pain swelling_joints neck_pain painful_walking',\n",
       "   ' joint_pain swelling_joints neck_pain knee_pain painful_walking',\n",
       "   ' joint_pain hip_joint_pain neck_pain knee_pain painful_walking',\n",
       "   ' joint_pain hip_joint_pain swelling_joints neck_pain knee_pain'],\n",
       "  'responses': ['you have Osteoarthristis']},\n",
       " {'tag': 'Varicose veins',\n",
       "  'patterns': [' bruising cramps fatigue obesity swollen_blood_vessels prominent_veins_on_calf swollen_legs',\n",
       "   ' bruising cramps obesity swollen_blood_vessels prominent_veins_on_calf swollen_legs',\n",
       "   ' bruising fatigue obesity swollen_blood_vessels prominent_veins_on_calf swollen_legs',\n",
       "   ' cramps fatigue obesity swollen_blood_vessels prominent_veins_on_calf swollen_legs',\n",
       "   ' bruising cramps fatigue swollen_blood_vessels prominent_veins_on_calf swollen_legs',\n",
       "   ' bruising cramps fatigue obesity swollen_blood_vessels prominent_veins_on_calf',\n",
       "   ' bruising cramps fatigue obesity prominent_veins_on_calf swollen_legs',\n",
       "   ' bruising cramps fatigue obesity swollen_blood_vessels swollen_legs'],\n",
       "  'responses': ['you have Varicose veins']},\n",
       " {'tag': 'Hypoglycemia',\n",
       "  'patterns': ['headache  slurred_speech anxiety palpitations nausea fatigue excessive_hunger blurred_and_distorted_vision vomiting sweating irritability',\n",
       "   'headache drying_and_tingling_lips slurred_speech anxiety  palpitations nausea fatigue excessive_hunger blurred_and_distorted_vision vomiting sweating irritability',\n",
       "   'headache drying_and_tingling_lips slurred_speech anxiety  palpitations nausea fatigue excessive_hunger blurred_and_distorted_vision sweating irritability',\n",
       "   'headache drying_and_tingling_lips slurred_speech anxiety  palpitations nausea excessive_hunger blurred_and_distorted_vision vomiting sweating irritability',\n",
       "   'headache drying_and_tingling_lips slurred_speech  palpitations nausea fatigue excessive_hunger blurred_and_distorted_vision vomiting sweating irritability',\n",
       "   'headache drying_and_tingling_lips  anxiety palpitations nausea fatigue excessive_hunger blurred_and_distorted_vision vomiting slurred_speech irritability',\n",
       "   ' drying_and_tingling_lips slurred_speech anxiety palpitations nausea fatigue excessive_hunger blurred_and_distorted_vision vomiting sweating irritability',\n",
       "   'headache drying_and_tingling_lips slurred_speech anxiety  palpitations fatigue excessive_hunger blurred_and_distorted_vision vomiting sweating irritability',\n",
       "   'headache drying_and_tingling_lips slurred_speech anxiety  palpitations nausea fatigue excessive_hunger vomiting sweating irritability'],\n",
       "  'responses': ['you have Hypoglycemia']},\n",
       " {'tag': 'Hypothyroidism',\n",
       "  'patterns': [' abnormal_menstruation swollen_extremeties enlarged_thyroid lethargy fatigue dizziness puffy_face_and_eyes weight_gain depression brittle_nails cold_hands_and_feets irritability mood_swings',\n",
       "   ' abnormal_menstruation swollen_extremeties enlarged_thyroid lethargy dizziness puffy_face_and_eyes weight_gain depression brittle_nails cold_hands_and_feets irritability mood_swings',\n",
       "   ' abnormal_menstruation swollen_extremeties enlarged_thyroid lethargy fatigue dizziness puffy_face_and_eyes depression brittle_nails cold_hands_and_feets irritability mood_swings',\n",
       "   ' abnormal_menstruation swollen_extremeties enlarged_thyroid lethargy fatigue dizziness puffy_face_and_eyes weight_gain depression brittle_nails irritability mood_swings',\n",
       "   ' abnormal_menstruation swollen_extremeties enlarged_thyroid lethargy fatigue dizziness puffy_face_and_eyes weight_gain depression cold_hands_and_feets irritability brittle_nails',\n",
       "   ' abnormal_menstruation swollen_extremeties enlarged_thyroid fatigue dizziness puffy_face_and_eyes weight_gain depression brittle_nails cold_hands_and_feets irritability mood_swings',\n",
       "   ' abnormal_menstruation swollen_extremeties enlarged_thyroid lethargy fatigue puffy_face_and_eyes weight_gain depression brittle_nails cold_hands_and_feets irritability mood_swings',\n",
       "   ' abnormal_menstruation swollen_extremeties enlarged_thyroid lethargy fatigue dizziness weight_gain depression brittle_nails cold_hands_and_feets irritability mood_swings'],\n",
       "  'responses': ['you have Hypothyroidism']},\n",
       " {'tag': 'Chronic cholestasis',\n",
       "  'patterns': [' itching yellowish_skin loss_of_appetite nausea abdominal_pain yellowing_of_eyes vomiting',\n",
       "   ' yellowish_skin nausea loss_of_appetite abdominal_pain yellowing_of_eyes vomiting',\n",
       "   ' itching yellowish_skin loss_of_appetite nausea abdominal_pain yellowing_of_eyes',\n",
       "   ' itching loss_of_appetite nausea abdominal_pain yellowing_of_eyes vomiting',\n",
       "   ' itching yellowish_skin loss_of_appetite abdominal_pain yellowing_of_eyes vomiting',\n",
       "   ' itching yellowish_skin nausea abdominal_pain yellowing_of_eyes vomiting',\n",
       "   ' itching yellowish_skin loss_of_appetite nausea yellowing_of_eyes vomiting',\n",
       "   ' itching yellowish_skin loss_of_appetite nausea abdominal_pain vomiting'],\n",
       "  'responses': ['you have Chronic cholestasis']},\n",
       " {'tag': 'Hepatitis D',\n",
       "  'patterns': [' joint_pain yellowish_skin nausea loss_of_appetite fatigue abdominal_pain dark_urine yellowing_of_eyes vomiting',\n",
       "   ' yellowish_skin nausea loss_of_appetite fatigue abdominal_pain dark_urine yellowing_of_eyes vomiting',\n",
       "   ' joint_pain yellowish_skin nausea loss_of_appetite fatigue abdominal_pain dark_urine yellowing_of_eyes',\n",
       "   ' joint_pain yellowish_skin nausea loss_of_appetite abdominal_pain dark_urine yellowing_of_eyes vomiting',\n",
       "   ' joint_pain nausea loss_of_appetite fatigue abdominal_pain dark_urine yellowing_of_eyes vomiting',\n",
       "   ' joint_pain yellowish_skin nausea loss_of_appetite fatigue abdominal_pain yellowing_of_eyes vomiting',\n",
       "   ' joint_pain yellowish_skin loss_of_appetite fatigue abdominal_pain dark_urine yellowing_of_eyes vomiting',\n",
       "   ' joint_pain yellowish_skin nausea fatigue abdominal_pain dark_urine yellowing_of_eyes vomiting',\n",
       "   ' joint_pain yellowish_skin nausea loss_of_appetite fatigue dark_urine yellowing_of_eyes vomiting',\n",
       "   ' joint_pain yellowish_skin nausea loss_of_appetite fatigue abdominal_pain dark_urine vomiting'],\n",
       "  'responses': ['you have Hepatitis D']},\n",
       " {'tag': 'Heart attack',\n",
       "  'patterns': [' chest_pain vomiting sweating breathlessness',\n",
       "   ' sweating breathlessness chest_pain',\n",
       "   ' sweating chest_pain vomiting',\n",
       "   ' chest_pain breathlessness vomiting',\n",
       "   ' sweating breathlessness vomiting'],\n",
       "  'responses': ['you have Heart attack']},\n",
       " {'tag': 'Psoriasis',\n",
       "  'patterns': [' joint_pain silver_like_dusting skin_peeling skin_rash inflammatory_nails small_dents_in_nails',\n",
       "   ' joint_pain silver_like_dusting skin_peeling inflammatory_nails small_dents_in_nails',\n",
       "   ' silver_like_dusting skin_peeling skin_rash inflammatory_nails small_dents_in_nails',\n",
       "   ' joint_pain silver_like_dusting skin_rash inflammatory_nails small_dents_in_nails',\n",
       "   ' joint_pain skin_peeling skin_rash inflammatory_nails small_dents_in_nails',\n",
       "   ' joint_pain silver_like_dusting skin_peeling skin_rash inflammatory_nails',\n",
       "   ' joint_pain silver_like_dusting skin_peeling skin_rash small_dents_in_nails'],\n",
       "  'responses': ['you have Psoriasis']},\n",
       " {'tag': 'Hepatitis C',\n",
       "  'patterns': [' yellowish_skin nausea loss_of_appetite family_history fatigue',\n",
       "   ' yellowish_skin nausea loss_of_appetite family_history fatigue yellowing_of_eyes',\n",
       "   ' yellowish_skin nausea loss_of_appetite family_history yellowing_of_eyes',\n",
       "   ' nausea loss_of_appetite family_history fatigue yellowing_of_eyes',\n",
       "   ' yellowish_skin loss_of_appetite family_history fatigue yellowing_of_eyes',\n",
       "   ' yellowish_skin nausea family_history fatigue yellowing_of_eyes',\n",
       "   ' yellowish_skin nausea loss_of_appetite fatigue yellowing_of_eyes'],\n",
       "  'responses': ['you have Hepatitis C']},\n",
       " {'tag': 'Chicken pox',\n",
       "  'patterns': ['headache itching  loss_of_appetite swelled_lymph_nodes lethargy fatigue skin_rash high_fever malaise mild_fever red_spots_over_body',\n",
       "   'headache  loss_of_appetite swelled_lymph_nodes lethargy fatigue skin_rash high_fever malaise mild_fever red_spots_over_body',\n",
       "   'headache itching  loss_of_appetite swelled_lymph_nodes lethargy fatigue high_fever malaise mild_fever red_spots_over_body',\n",
       "   'headache itching  loss_of_appetite swelled_lymph_nodes lethargy skin_rash high_fever malaise mild_fever red_spots_over_body',\n",
       "   'headache itching  loss_of_appetite swelled_lymph_nodes fatigue skin_rash high_fever malaise mild_fever red_spots_over_body',\n",
       "   'headache itching  loss_of_appetite swelled_lymph_nodes lethargy fatigue skin_rash malaise mild_fever red_spots_over_body',\n",
       "   ' itching loss_of_appetite swelled_lymph_nodes lethargy fatigue skin_rash high_fever malaise mild_fever red_spots_over_body',\n",
       "   'headache itching  swelled_lymph_nodes lethargy fatigue skin_rash high_fever malaise mild_fever red_spots_over_body',\n",
       "   'headache itching  loss_of_appetite swelled_lymph_nodes lethargy fatigue skin_rash high_fever malaise red_spots_over_body',\n",
       "   'headache itching  loss_of_appetite lethargy fatigue skin_rash high_fever malaise mild_fever red_spots_over_body'],\n",
       "  'responses': ['you have Chicken pox']},\n",
       " {'tag': 'Urinary tract infection',\n",
       "  'patterns': ['burning_micturition  bladder_discomfort continuous_feel_of_urine',\n",
       "   ' bladder_discomfort continuous_feel_of_urine',\n",
       "   'burning_micturition  continuous_feel_of_urine',\n",
       "   'burning_micturition  bladder_discomfort continuous_feel_of_urine',\n",
       "   'burning_micturition  bladder_discomfort'],\n",
       "  'responses': ['you have Urinary tract infection']},\n",
       " {'tag': 'Bronchial Asthma',\n",
       "  'patterns': [' mucoid_sputum family_history fatigue cough high_fever breathlessness',\n",
       "   ' mucoid_sputum family_history cough high_fever breathlessness',\n",
       "   ' mucoid_sputum family_history fatigue high_fever breathlessness',\n",
       "   ' mucoid_sputum family_history fatigue cough breathlessness',\n",
       "   ' mucoid_sputum family_history fatigue cough high_fever',\n",
       "   ' mucoid_sputum fatigue cough high_fever breathlessness',\n",
       "   ' family_history fatigue cough high_fever breathlessness'],\n",
       "  'responses': ['you have Bronchial Asthma']},\n",
       " {'tag': 'Tuberculosis',\n",
       "  'patterns': [' blood_in_sputum chills weight_loss chest_pain loss_of_appetite swelled_lymph_nodes fatigue cough yellowing_of_eyes high_fever malaise vomiting mild_fever sweating phlegm breathlessness',\n",
       "   ' blood_in_sputum weight_loss chest_pain loss_of_appetite swelled_lymph_nodes fatigue cough yellowing_of_eyes high_fever malaise vomiting mild_fever sweating phlegm breathlessness',\n",
       "   ' blood_in_sputum chills weight_loss chest_pain loss_of_appetite swelled_lymph_nodes fatigue cough yellowing_of_eyes high_fever malaise mild_fever sweating phlegm breathlessness',\n",
       "   ' blood_in_sputum chills weight_loss chest_pain loss_of_appetite swelled_lymph_nodes cough yellowing_of_eyes high_fever malaise vomiting mild_fever sweating phlegm breathlessness',\n",
       "   ' blood_in_sputum chills chest_pain loss_of_appetite swelled_lymph_nodes fatigue cough yellowing_of_eyes high_fever malaise vomiting mild_fever sweating phlegm breathlessness',\n",
       "   ' blood_in_sputum chills weight_loss chest_pain loss_of_appetite swelled_lymph_nodes fatigue yellowing_of_eyes high_fever malaise vomiting mild_fever sweating phlegm breathlessness',\n",
       "   ' blood_in_sputum chills weight_loss chest_pain loss_of_appetite swelled_lymph_nodes fatigue cough yellowing_of_eyes malaise vomiting mild_fever sweating phlegm breathlessness',\n",
       "   ' blood_in_sputum chills weight_loss chest_pain loss_of_appetite swelled_lymph_nodes fatigue cough yellowing_of_eyes high_fever malaise vomiting mild_fever sweating phlegm',\n",
       "   ' blood_in_sputum chills weight_loss chest_pain loss_of_appetite swelled_lymph_nodes fatigue cough yellowing_of_eyes high_fever malaise vomiting mild_fever phlegm breathlessness'],\n",
       "  'responses': ['you have Tuberculosis']},\n",
       " {'tag': 'Jaundice',\n",
       "  'patterns': [' itching weight_loss yellowish_skin fatigue abdominal_pain dark_urine high_fever vomiting',\n",
       "   ' weight_loss yellowish_skin fatigue abdominal_pain dark_urine high_fever vomiting',\n",
       "   ' itching weight_loss yellowish_skin fatigue abdominal_pain dark_urine high_fever',\n",
       "   ' itching weight_loss yellowish_skin abdominal_pain dark_urine high_fever vomiting',\n",
       "   ' itching yellowish_skin fatigue abdominal_pain dark_urine high_fever vomiting',\n",
       "   ' itching weight_loss yellowish_skin fatigue abdominal_pain dark_urine vomiting',\n",
       "   ' itching weight_loss fatigue abdominal_pain dark_urine high_fever vomiting',\n",
       "   ' itching weight_loss yellowish_skin fatigue abdominal_pain high_fever vomiting',\n",
       "   ' itching weight_loss yellowish_skin fatigue dark_urine high_fever vomiting'],\n",
       "  'responses': ['you have Jaundice']},\n",
       " {'tag': 'Drug Reaction',\n",
       "  'patterns': [' itching burning_micturition skin_rash stomach_pain',\n",
       "   'burning_micturition itching stomach_pain ',\n",
       "   'burning_micturition itching skin_rash ',\n",
       "   ' itching skin_rash stomach_pain',\n",
       "   'burning_micturition  skin_rash stomach_pain'],\n",
       "  'responses': ['you have Drug Reaction']},\n",
       " {'tag': 'Impetigo',\n",
       "  'patterns': [' yellow_crust_ooze red_sore_around_nose skin_rash high_fever blister',\n",
       "   ' yellow_crust_ooze red_sore_around_nose high_fever blister',\n",
       "   ' yellow_crust_ooze red_sore_around_nose skin_rash blister',\n",
       "   ' yellow_crust_ooze red_sore_around_nose skin_rash high_fever',\n",
       "   ' yellow_crust_ooze skin_rash high_fever blister',\n",
       "   ' red_sore_around_nose skin_rash high_fever blister'],\n",
       "  'responses': ['you have Impetigo']},\n",
       " {'tag': 'hepatitis A',\n",
       "  'patterns': [' muscle_pain joint_pain diarrhoea yellowish_skin nausea loss_of_appetite abdominal_pain dark_urine yellowing_of_eyes vomiting mild_fever',\n",
       "   ' muscle_pain diarrhoea yellowish_skin nausea loss_of_appetite abdominal_pain dark_urine yellowing_of_eyes vomiting mild_fever',\n",
       "   ' muscle_pain joint_pain diarrhoea yellowish_skin nausea loss_of_appetite abdominal_pain dark_urine yellowing_of_eyes mild_fever',\n",
       "   ' muscle_pain joint_pain diarrhoea nausea loss_of_appetite abdominal_pain dark_urine yellowing_of_eyes vomiting mild_fever',\n",
       "   ' muscle_pain joint_pain diarrhoea yellowish_skin nausea loss_of_appetite abdominal_pain yellowing_of_eyes vomiting mild_fever',\n",
       "   ' muscle_pain joint_pain diarrhoea yellowish_skin loss_of_appetite abdominal_pain dark_urine yellowing_of_eyes vomiting mild_fever',\n",
       "   ' muscle_pain joint_pain diarrhoea yellowish_skin nausea abdominal_pain dark_urine yellowing_of_eyes vomiting mild_fever',\n",
       "   ' muscle_pain joint_pain diarrhoea yellowish_skin nausea loss_of_appetite dark_urine yellowing_of_eyes vomiting mild_fever',\n",
       "   ' muscle_pain joint_pain yellowish_skin nausea loss_of_appetite abdominal_pain dark_urine yellowing_of_eyes vomiting mild_fever'],\n",
       "  'responses': ['you have hepatitis A']},\n",
       " {'tag': 'Typhoid',\n",
       "  'patterns': ['constipation  diarrhoea chills belly_pain nausea fatigue abdominal_pain high_fever vomiting toxic_look_(typhos)',\n",
       "   'headache constipation diarrhoea chills  belly_pain fatigue abdominal_pain high_fever vomiting toxic_look_(typhos)',\n",
       "   'headache  diarrhoea chills belly_pain nausea fatigue abdominal_pain high_fever vomiting toxic_look_(typhos)',\n",
       "   'headache constipation diarrhoea chills  belly_pain nausea fatigue high_fever vomiting toxic_look_(typhos)',\n",
       "   'headache constipation  chills belly_pain nausea fatigue abdominal_pain high_fever vomiting toxic_look_(typhos)',\n",
       "   'headache constipation diarrhoea chills  belly_pain nausea fatigue abdominal_pain high_fever vomiting',\n",
       "   'headache constipation diarrhoea chills  nausea fatigue abdominal_pain high_fever vomiting toxic_look_(typhos)',\n",
       "   'headache constipation diarrhoea chills  belly_pain nausea fatigue abdominal_pain high_fever vomiting toxic_look_(typhos)',\n",
       "   'headache constipation diarrhoea chills  belly_pain nausea fatigue abdominal_pain high_fever toxic_look_(typhos)'],\n",
       "  'responses': ['you have Typhoid']},\n",
       " {'tag': 'AIDS',\n",
       "  'patterns': [' extra_marital_contacts muscle_wasting high_fever patches_in_throat',\n",
       "   ' extra_marital_contacts high_fever patches_in_throat',\n",
       "   'muscle_wasting  extra_marital_contacts high_fever',\n",
       "   'muscle_wasting  extra_marital_contacts patches_in_throat',\n",
       "   'muscle_wasting  high_fever patches_in_throat'],\n",
       "  'responses': ['you have AIDS']},\n",
       " {'tag': 'Dimorphic hemmorhoids(piles)',\n",
       "  'patterns': ['constipation  pain_in_anal_region pain_during_bowel_movements bloody_stool irritation_in_anus',\n",
       "   ' pain_in_anal_region pain_during_bowel_movements bloody_stool irritation_in_anus',\n",
       "   'constipation  pain_in_anal_region bloody_stool irritation_in_anus',\n",
       "   'constipation  pain_during_bowel_movements bloody_stool irritation_in_anus',\n",
       "   'constipation  pain_in_anal_region pain_during_bowel_movements irritation_in_anus',\n",
       "   'constipation  pain_in_anal_region pain_during_bowel_movements bloody_stool'],\n",
       "  'responses': ['you have Dimorphic hemmorhoids(piles)']},\n",
       " {'tag': '(vertigo) Paroymsal  Positional Vertigo',\n",
       "  'patterns': ['headache  loss_of_balance nausea unsteadiness vomiting spinning_movements',\n",
       "   'headache  loss_of_balance nausea unsteadiness spinning_movements',\n",
       "   ' loss_of_balance nausea unsteadiness vomiting spinning_movements',\n",
       "   'headache  loss_of_balance unsteadiness vomiting spinning_movements',\n",
       "   'headache  loss_of_balance nausea vomiting unsteadiness',\n",
       "   'headache  nausea unsteadiness vomiting spinning_movements',\n",
       "   'headache  loss_of_balance nausea vomiting spinning_movements'],\n",
       "  'responses': ['you have (vertigo) Paroymsal  Positional Vertigo']},\n",
       " {'tag': 'Cervical spondylosis',\n",
       "  'patterns': [' loss_of_balance dizziness weakness_in_limbs neck_pain back_pain',\n",
       "   ' loss_of_balance dizziness weakness_in_limbs neck_pain',\n",
       "   ' loss_of_balance dizziness neck_pain back_pain',\n",
       "   ' loss_of_balance dizziness weakness_in_limbs back_pain',\n",
       "   ' loss_of_balance weakness_in_limbs neck_pain back_pain',\n",
       "   ' dizziness weakness_in_limbs neck_pain back_pain'],\n",
       "  'responses': ['you have Cervical spondylosis']},\n",
       " {'tag': 'Gastroenteritis',\n",
       "  'patterns': [' diarrhoea sunken_eyes vomiting dehydration',\n",
       "   'dehydration  diarrhoea sunken_eyes',\n",
       "   'dehydration  diarrhoea vomiting',\n",
       "   ' diarrhoea sunken_eyes vomiting',\n",
       "   'dehydration  sunken_eyes vomiting'],\n",
       "  'responses': ['you have Gastroenteritis']},\n",
       " {'tag': 'Alcoholic hepatitis',\n",
       "  'patterns': [' history_of_alcohol_consumption yellowish_skin fluid_overload distention_of_abdomen abdominal_pain vomiting swelling_of_stomach',\n",
       "   ' history_of_alcohol_consumption yellowish_skin fluid_overload distention_of_abdomen abdominal_pain swelling_of_stomach',\n",
       "   ' history_of_alcohol_consumption fluid_overload distention_of_abdomen abdominal_pain vomiting swelling_of_stomach',\n",
       "   ' history_of_alcohol_consumption yellowish_skin fluid_overload distention_of_abdomen vomiting swelling_of_stomach',\n",
       "   ' history_of_alcohol_consumption yellowish_skin fluid_overload distention_of_abdomen abdominal_pain vomiting',\n",
       "   ' history_of_alcohol_consumption yellowish_skin fluid_overload abdominal_pain vomiting swelling_of_stomach',\n",
       "   ' yellowish_skin fluid_overload distention_of_abdomen abdominal_pain vomiting swelling_of_stomach',\n",
       "   ' history_of_alcohol_consumption yellowish_skin distention_of_abdomen abdominal_pain vomiting swelling_of_stomach'],\n",
       "  'responses': ['you have Alcoholic hepatitis']},\n",
       " {'tag': 'Acne',\n",
       "  'patterns': [' pus_filled_pimples scurring skin_rash blackheads',\n",
       "   'pus_filled_pimples blackheads scurring ',\n",
       "   ' blackheads skin_rash scurring',\n",
       "   'pus_filled_pimples scurring skin_rash ',\n",
       "   'pus_filled_pimples blackheads skin_rash '],\n",
       "  'responses': ['you have Acne']},\n",
       " {'tag': 'Dengue',\n",
       "  'patterns': ['headache  joint_pain chills red_spots_over_body nausea loss_of_appetite fatigue skin_rash pain_behind_the_eyes high_fever vomiting muscle_pain back_pain',\n",
       "   'headache  joint_pain chills red_spots_over_body nausea loss_of_appetite fatigue skin_rash pain_behind_the_eyes high_fever malaise vomiting back_pain',\n",
       "   'headache  joint_pain chills nausea loss_of_appetite fatigue skin_rash pain_behind_the_eyes high_fever malaise vomiting muscle_pain back_pain',\n",
       "   'headache  joint_pain chills red_spots_over_body nausea loss_of_appetite fatigue skin_rash pain_behind_the_eyes high_fever malaise vomiting muscle_pain back_pain',\n",
       "   'headache  joint_pain chills red_spots_over_body nausea loss_of_appetite fatigue pain_behind_the_eyes high_fever malaise vomiting muscle_pain back_pain',\n",
       "   'headache  joint_pain red_spots_over_body nausea loss_of_appetite fatigue skin_rash pain_behind_the_eyes high_fever malaise vomiting muscle_pain back_pain',\n",
       "   'headache  chills red_spots_over_body nausea loss_of_appetite fatigue skin_rash pain_behind_the_eyes high_fever malaise vomiting muscle_pain back_pain',\n",
       "   'headache  joint_pain chills red_spots_over_body nausea loss_of_appetite fatigue skin_rash pain_behind_the_eyes high_fever malaise muscle_pain back_pain',\n",
       "   'headache  joint_pain chills red_spots_over_body nausea loss_of_appetite skin_rash pain_behind_the_eyes high_fever malaise vomiting muscle_pain back_pain',\n",
       "   'headache  joint_pain chills red_spots_over_body nausea loss_of_appetite fatigue skin_rash pain_behind_the_eyes malaise vomiting muscle_pain back_pain'],\n",
       "  'responses': ['you have Dengue']},\n",
       " {'tag': 'Common Cold',\n",
       "  'patterns': ['headache continuous_sneezing chills congestion chest_pain throat_irritation swelled_lymph_nodes sinus_pressure fatigue cough redness_of_eyes loss_of_smell high_fever malaise runny_nose muscle_pain phlegm',\n",
       "   'headache  chills congestion chest_pain throat_irritation swelled_lymph_nodes sinus_pressure fatigue cough redness_of_eyes loss_of_smell high_fever malaise runny_nose muscle_pain phlegm',\n",
       "   'headache continuous_sneezing  congestion chest_pain throat_irritation swelled_lymph_nodes sinus_pressure fatigue cough redness_of_eyes loss_of_smell high_fever malaise runny_nose muscle_pain phlegm',\n",
       "   'headache continuous_sneezing  chills congestion chest_pain throat_irritation swelled_lymph_nodes sinus_pressure cough redness_of_eyes loss_of_smell high_fever malaise runny_nose muscle_pain phlegm',\n",
       "   'headache continuous_sneezing  chills congestion chest_pain throat_irritation swelled_lymph_nodes sinus_pressure fatigue redness_of_eyes loss_of_smell high_fever malaise runny_nose muscle_pain phlegm',\n",
       "   'headache continuous_sneezing  chills congestion chest_pain throat_irritation swelled_lymph_nodes sinus_pressure fatigue cough redness_of_eyes loss_of_smell malaise runny_nose muscle_pain phlegm',\n",
       "   ' continuous_sneezing chills congestion chest_pain throat_irritation swelled_lymph_nodes sinus_pressure fatigue cough redness_of_eyes loss_of_smell high_fever malaise runny_nose muscle_pain phlegm',\n",
       "   'headache continuous_sneezing  chills congestion chest_pain throat_irritation sinus_pressure fatigue cough redness_of_eyes loss_of_smell high_fever malaise runny_nose muscle_pain phlegm',\n",
       "   'headache continuous_sneezing  chills congestion chest_pain throat_irritation swelled_lymph_nodes sinus_pressure fatigue cough redness_of_eyes loss_of_smell high_fever runny_nose muscle_pain phlegm'],\n",
       "  'responses': ['you have Common Cold']},\n",
       " {'tag': 'Migraine',\n",
       "  'patterns': ['headache visual_disturbances  indigestion excessive_hunger blurred_and_distorted_vision depression acidity irritability stiff_neck',\n",
       "   'headache visual_disturbances  indigestion excessive_hunger blurred_and_distorted_vision depression irritability stiff_neck',\n",
       "   'headache visual_disturbances  excessive_hunger blurred_and_distorted_vision depression acidity irritability stiff_neck',\n",
       "   'visual_disturbances  indigestion excessive_hunger blurred_and_distorted_vision depression acidity irritability stiff_neck',\n",
       "   'headache visual_disturbances  indigestion excessive_hunger depression acidity irritability stiff_neck',\n",
       "   'headache visual_disturbances  indigestion depression blurred_and_distorted_vision acidity irritability stiff_neck',\n",
       "   'headache visual_disturbances  indigestion excessive_hunger blurred_and_distorted_vision depression acidity irritability',\n",
       "   'headache visual_disturbances  indigestion excessive_hunger blurred_and_distorted_vision acidity irritability stiff_neck',\n",
       "   'headache visual_disturbances  indigestion excessive_hunger blurred_and_distorted_vision depression acidity stiff_neck',\n",
       "   'headache  indigestion excessive_hunger blurred_and_distorted_vision depression acidity irritability stiff_neck'],\n",
       "  'responses': ['you have Migraine']},\n",
       " {'tag': 'Malaria',\n",
       "  'patterns': ['headache  chills nausea high_fever vomiting muscle_pain sweating',\n",
       "   'headache  diarrhoea chills nausea high_fever vomiting muscle_pain sweating',\n",
       "   'headache  diarrhoea nausea high_fever vomiting muscle_pain sweating',\n",
       "   'headache  diarrhoea chills nausea high_fever muscle_pain sweating',\n",
       "   'headache  diarrhoea chills nausea vomiting muscle_pain sweating',\n",
       "   'headache  diarrhoea chills nausea high_fever vomiting muscle_pain',\n",
       "   ' diarrhoea chills nausea high_fever vomiting muscle_pain sweating',\n",
       "   'headache  diarrhoea chills high_fever vomiting muscle_pain sweating'],\n",
       "  'responses': ['you have Malaria']},\n",
       " {'tag': 'Pneumonia',\n",
       "  'patterns': [' chills chest_pain rusty_sputum fatigue cough high_fever malaise fast_heart_rate sweating breathlessness',\n",
       "   ' chills chest_pain rusty_sputum fatigue cough high_fever malaise fast_heart_rate sweating phlegm breathlessness',\n",
       "   ' chest_pain rusty_sputum fatigue cough high_fever malaise fast_heart_rate sweating phlegm breathlessness',\n",
       "   ' chills chest_pain rusty_sputum cough high_fever malaise fast_heart_rate sweating phlegm breathlessness',\n",
       "   ' chills chest_pain rusty_sputum fatigue high_fever malaise fast_heart_rate sweating phlegm breathlessness',\n",
       "   ' chills chest_pain rusty_sputum fatigue cough malaise fast_heart_rate sweating phlegm breathlessness',\n",
       "   ' chills chest_pain rusty_sputum fatigue cough high_fever malaise fast_heart_rate sweating phlegm',\n",
       "   ' chills chest_pain rusty_sputum fatigue cough high_fever malaise fast_heart_rate phlegm breathlessness',\n",
       "   ' chills chest_pain rusty_sputum fatigue cough high_fever fast_heart_rate sweating phlegm breathlessness'],\n",
       "  'responses': ['you have Pneumonia']},\n",
       " {'tag': 'Hypertension',\n",
       "  'patterns': ['headache  loss_of_balance chest_pain dizziness lack_of_concentration',\n",
       "   ' loss_of_balance chest_pain dizziness lack_of_concentration',\n",
       "   'headache  loss_of_balance dizziness lack_of_concentration',\n",
       "   'headache  loss_of_balance chest_pain lack_of_concentration',\n",
       "   'headache  chest_pain dizziness lack_of_concentration',\n",
       "   'headache  loss_of_balance chest_pain dizziness'],\n",
       "  'responses': ['you have Hypertension']},\n",
       " {'tag': 'Allergy',\n",
       "  'patterns': [' continuous_sneezing chills shivering watering_from_eyes',\n",
       "   ' chills watering_from_eyes shivering',\n",
       "   ' continuous_sneezing chills watering_from_eyes',\n",
       "   ' continuous_sneezing watering_from_eyes shivering',\n",
       "   ' continuous_sneezing chills shivering'],\n",
       "  'responses': ['you have Allergy']},\n",
       " {'tag': 'Arthritis',\n",
       "  'patterns': ['movement_stiffness  muscle_weakness swelling_joints stiff_neck painful_walking',\n",
       "   'movement_stiffness  swelling_joints stiff_neck painful_walking',\n",
       "   'movement_stiffness  muscle_weakness swelling_joints painful_walking',\n",
       "   'movement_stiffness  muscle_weakness stiff_neck painful_walking',\n",
       "   ' muscle_weakness swelling_joints stiff_neck painful_walking',\n",
       "   'movement_stiffness  muscle_weakness swelling_joints stiff_neck'],\n",
       "  'responses': ['you have Arthritis']},\n",
       " {'tag': 'Peptic ulcer diseae',\n",
       "  'patterns': [' passage_of_gases loss_of_appetite abdominal_pain internal_itching vomiting',\n",
       "   ' passage_of_gases indigestion abdominal_pain internal_itching vomiting',\n",
       "   ' passage_of_gases loss_of_appetite indigestion abdominal_pain internal_itching',\n",
       "   ' passage_of_gases loss_of_appetite indigestion internal_itching vomiting',\n",
       "   ' loss_of_appetite indigestion abdominal_pain internal_itching vomiting',\n",
       "   ' passage_of_gases loss_of_appetite indigestion abdominal_pain vomiting',\n",
       "   ' passage_of_gases loss_of_appetite indigestion abdominal_pain internal_itching vomiting'],\n",
       "  'responses': ['you have Peptic ulcer diseae']},\n",
       " {'tag': 'Hyperthyroidism',\n",
       "  'patterns': [' diarrhoea abnormal_menstruation restlessness weight_loss muscle_weakness fatigue excessive_hunger fast_heart_rate sweating irritability mood_swings',\n",
       "   ' diarrhoea abnormal_menstruation restlessness weight_loss muscle_weakness excessive_hunger fast_heart_rate sweating irritability mood_swings',\n",
       "   ' diarrhoea abnormal_menstruation restlessness weight_loss muscle_weakness fatigue excessive_hunger fast_heart_rate sweating irritability',\n",
       "   ' diarrhoea abnormal_menstruation restlessness muscle_weakness fatigue excessive_hunger fast_heart_rate sweating irritability mood_swings',\n",
       "   ' diarrhoea abnormal_menstruation muscle_weakness weight_loss fatigue excessive_hunger fast_heart_rate sweating irritability mood_swings',\n",
       "   ' diarrhoea abnormal_menstruation restlessness weight_loss muscle_weakness fatigue excessive_hunger fast_heart_rate irritability mood_swings',\n",
       "   ' abnormal_menstruation restlessness weight_loss muscle_weakness fatigue excessive_hunger fast_heart_rate sweating irritability mood_swings',\n",
       "   ' diarrhoea abnormal_menstruation restlessness weight_loss muscle_weakness fatigue excessive_hunger sweating irritability mood_swings',\n",
       "   ' diarrhoea abnormal_menstruation restlessness weight_loss muscle_weakness fatigue fast_heart_rate sweating irritability mood_swings'],\n",
       "  'responses': ['you have Hyperthyroidism']},\n",
       " {'tag': 'Paralysis (brain hemorrhage)',\n",
       "  'patterns': ['headache  weakness_of_one_body_side vomiting altered_sensorium',\n",
       "   'headache  weakness_of_one_body_side altered_sensorium',\n",
       "   ' altered_sensorium weakness_of_one_body_side vomiting',\n",
       "   'headache  altered_sensorium vomiting',\n",
       "   'headache  weakness_of_one_body_side vomiting'],\n",
       "  'responses': ['you have Paralysis (brain hemorrhage)']},\n",
       " {'tag': 'Hepatitis B',\n",
       "  'patterns': [' itching yellowish_skin loss_of_appetite receiving_unsterile_injections yellow_urine lethargy fatigue abdominal_pain receiving_blood_transfusion dark_urine yellowing_of_eyes malaise',\n",
       "   ' yellowish_skin loss_of_appetite receiving_unsterile_injections yellow_urine lethargy fatigue abdominal_pain receiving_blood_transfusion dark_urine yellowing_of_eyes malaise',\n",
       "   ' itching yellowish_skin loss_of_appetite receiving_unsterile_injections yellow_urine lethargy receiving_blood_transfusion abdominal_pain dark_urine yellowing_of_eyes malaise',\n",
       "   ' itching yellowish_skin loss_of_appetite receiving_unsterile_injections yellow_urine receiving_blood_transfusion fatigue abdominal_pain dark_urine yellowing_of_eyes malaise',\n",
       "   ' itching loss_of_appetite receiving_unsterile_injections yellow_urine lethargy fatigue abdominal_pain receiving_blood_transfusion dark_urine yellowing_of_eyes malaise',\n",
       "   ' itching yellowish_skin loss_of_appetite receiving_unsterile_injections yellow_urine lethargy fatigue abdominal_pain receiving_blood_transfusion yellowing_of_eyes malaise',\n",
       "   ' itching yellowish_skin receiving_unsterile_injections yellow_urine lethargy fatigue abdominal_pain receiving_blood_transfusion dark_urine yellowing_of_eyes malaise',\n",
       "   ' itching yellowish_skin loss_of_appetite receiving_unsterile_injections yellow_urine lethargy fatigue receiving_blood_transfusion dark_urine yellowing_of_eyes malaise',\n",
       "   ' itching yellowish_skin loss_of_appetite receiving_unsterile_injections lethargy fatigue abdominal_pain receiving_blood_transfusion dark_urine yellowing_of_eyes malaise'],\n",
       "  'responses': ['you have Hepatitis B']},\n",
       " {'tag': 'Hepatitis E',\n",
       "  'patterns': [' joint_pain yellowish_skin nausea loss_of_appetite coma fatigue abdominal_pain dark_urine yellowing_of_eyes high_fever vomiting stomach_bleeding',\n",
       "   ' joint_pain acute_liver_failure yellowish_skin nausea loss_of_appetite coma fatigue abdominal_pain dark_urine yellowing_of_eyes high_fever vomiting stomach_bleeding',\n",
       "   ' acute_liver_failure yellowish_skin nausea loss_of_appetite coma fatigue abdominal_pain dark_urine yellowing_of_eyes high_fever vomiting stomach_bleeding',\n",
       "   ' joint_pain acute_liver_failure yellowish_skin nausea loss_of_appetite coma fatigue abdominal_pain dark_urine yellowing_of_eyes high_fever stomach_bleeding',\n",
       "   ' joint_pain acute_liver_failure yellowish_skin nausea loss_of_appetite coma abdominal_pain dark_urine yellowing_of_eyes high_fever vomiting stomach_bleeding',\n",
       "   ' joint_pain acute_liver_failure yellowish_skin nausea loss_of_appetite coma fatigue abdominal_pain dark_urine yellowing_of_eyes vomiting stomach_bleeding',\n",
       "   ' joint_pain acute_liver_failure nausea loss_of_appetite coma fatigue abdominal_pain dark_urine yellowing_of_eyes high_fever vomiting stomach_bleeding',\n",
       "   ' joint_pain acute_liver_failure yellowish_skin nausea loss_of_appetite coma fatigue abdominal_pain yellowing_of_eyes high_fever vomiting stomach_bleeding',\n",
       "   ' joint_pain acute_liver_failure yellowish_skin loss_of_appetite coma fatigue abdominal_pain dark_urine yellowing_of_eyes high_fever vomiting stomach_bleeding'],\n",
       "  'responses': ['you have Hepatitis E']},\n",
       " {'tag': 'Diabetes',\n",
       "  'patterns': [' increased_appetite restlessness weight_loss lethargy fatigue irregular_sugar_level excessive_hunger blurred_and_distorted_vision obesity polyuria',\n",
       "   ' increased_appetite restlessness weight_loss lethargy irregular_sugar_level excessive_hunger blurred_and_distorted_vision obesity polyuria',\n",
       "   ' increased_appetite restlessness lethargy fatigue irregular_sugar_level excessive_hunger blurred_and_distorted_vision obesity polyuria',\n",
       "   ' increased_appetite weight_loss lethargy fatigue irregular_sugar_level excessive_hunger blurred_and_distorted_vision obesity polyuria',\n",
       "   ' increased_appetite restlessness weight_loss fatigue irregular_sugar_level excessive_hunger blurred_and_distorted_vision obesity polyuria',\n",
       "   ' increased_appetite restlessness weight_loss lethargy fatigue polyuria excessive_hunger blurred_and_distorted_vision obesity',\n",
       "   ' increased_appetite restlessness weight_loss lethargy fatigue irregular_sugar_level excessive_hunger polyuria obesity',\n",
       "   ' increased_appetite restlessness weight_loss lethargy fatigue irregular_sugar_level excessive_hunger blurred_and_distorted_vision polyuria',\n",
       "   ' increased_appetite restlessness weight_loss lethargy fatigue irregular_sugar_level polyuria blurred_and_distorted_vision obesity'],\n",
       "  'responses': ['you have Diabetes']},\n",
       " {'tag': 'greetings',\n",
       "  'patterns': ['Hi',\n",
       "   'Hello',\n",
       "   'Hi there',\n",
       "   'How are you?',\n",
       "   'Good morning',\n",
       "   'Good evening',\n",
       "   'Is anyone here'],\n",
       "  'responses': ['Hi, Im Dr.Stone. Please enter your symptoms so that I can diagnose your condition']},\n",
       " {'tag': 'goodbye',\n",
       "  'patterns': ['Bye', 'Thank you', 'Goodbye', 'See you later'],\n",
       "  'responses': ['Wish you a long life. Bye!']}]"
      ]
     },
     "execution_count": 106,
     "metadata": {},
     "output_type": "execute_result"
    }
   ],
   "source": [
    "jsonFile['intents']"
   ]
  },
  {
   "cell_type": "markdown",
   "id": "resistant-zambia",
   "metadata": {},
   "source": [
    "List of `Disease`class labels"
   ]
  },
  {
   "cell_type": "code",
   "execution_count": 107,
   "id": "excited-expert",
   "metadata": {
    "ExecuteTime": {
     "end_time": "2021-05-14T01:12:02.858418Z",
     "start_time": "2021-05-14T01:12:02.710428Z"
    }
   },
   "outputs": [
    {
     "name": "stdout",
     "output_type": "stream",
     "text": [
      "Fungal infection\n",
      "GERD\n",
      "Osteoarthristis\n",
      "Varicose veins\n",
      "Hypoglycemia\n",
      "Hypothyroidism\n",
      "Chronic cholestasis\n",
      "Hepatitis D\n",
      "Heart attack\n",
      "Psoriasis\n",
      "Hepatitis C\n",
      "Chicken pox\n",
      "Urinary tract infection\n",
      "Bronchial Asthma\n",
      "Tuberculosis\n",
      "Jaundice\n",
      "Drug Reaction\n",
      "Impetigo\n",
      "hepatitis A\n",
      "Typhoid\n",
      "AIDS\n",
      "Dimorphic hemmorhoids(piles)\n",
      "(vertigo) Paroymsal  Positional Vertigo\n",
      "Cervical spondylosis\n",
      "Gastroenteritis\n",
      "Alcoholic hepatitis\n",
      "Acne\n",
      "Dengue\n",
      "Common Cold\n",
      "Migraine\n",
      "Malaria\n",
      "Pneumonia\n",
      "Hypertension\n",
      "Allergy\n",
      "Arthritis\n",
      "Peptic ulcer diseae\n",
      "Hyperthyroidism\n",
      "Paralysis (brain hemorrhage)\n",
      "Hepatitis B\n",
      "Hepatitis E\n",
      "Diabetes\n",
      "greetings\n",
      "goodbye\n"
     ]
    }
   ],
   "source": [
    "for i in range(43):\n",
    "    print(jsonFile['intents'][i]['tag'])\n",
    "    "
   ]
  },
  {
   "cell_type": "markdown",
   "id": "twenty-carrier",
   "metadata": {
    "heading_collapsed": true
   },
   "source": [
    "## Training Data Creation "
   ]
  },
  {
   "cell_type": "markdown",
   "id": "advance-chest",
   "metadata": {
    "hidden": true
   },
   "source": [
    "Renaming"
   ]
  },
  {
   "cell_type": "code",
   "execution_count": 90,
   "id": "expensive-campus",
   "metadata": {
    "ExecuteTime": {
     "end_time": "2021-05-14T01:10:28.956773Z",
     "start_time": "2021-05-14T01:10:28.814698Z"
    },
    "hidden": true
   },
   "outputs": [],
   "source": [
    "intents=jsonFile"
   ]
  },
  {
   "cell_type": "code",
   "execution_count": 91,
   "id": "coordinate-moldova",
   "metadata": {
    "ExecuteTime": {
     "end_time": "2021-05-14T01:10:29.098739Z",
     "start_time": "2021-05-14T01:10:28.957780Z"
    },
    "hidden": true
   },
   "outputs": [],
   "source": [
    "intents['intents']"
   ]
  },
  {
   "cell_type": "markdown",
   "id": "infinite-permission",
   "metadata": {
    "hidden": true
   },
   "source": [
    "A `lemmatizer` object is created "
   ]
  },
  {
   "cell_type": "code",
   "execution_count": 92,
   "id": "golden-breeding",
   "metadata": {
    "ExecuteTime": {
     "end_time": "2021-05-14T01:10:29.240793Z",
     "start_time": "2021-05-14T01:10:29.099684Z"
    },
    "hidden": true
   },
   "outputs": [],
   "source": [
    "lemma_object= WordNetLemmatizer()"
   ]
  },
  {
   "cell_type": "markdown",
   "id": "electronic-pennsylvania",
   "metadata": {
    "hidden": true
   },
   "source": [
    "the concept of `Bag of words` is implemented in a seperate function."
   ]
  },
  {
   "cell_type": "code",
   "execution_count": 93,
   "id": "otherwise-aircraft",
   "metadata": {
    "ExecuteTime": {
     "end_time": "2021-05-14T01:10:29.383938Z",
     "start_time": "2021-05-14T01:10:29.241796Z"
    },
    "hidden": true
   },
   "outputs": [],
   "source": [
    "def bag_of_words(tokenized_pattern,vocabulary): #Accepts vocabulary which is the prepared Json file\n",
    "    tokenized_pattern=[lemma_object.lemmatize(word) for word in tokenized_pattern ]\n",
    "    bag= np.zeros(len(vocabulary),dtype=int)\n",
    "    #One Hot Encoding\n",
    "    for i, word in enumerate(vocabulary):\n",
    "        if word in tokenized_pattern:\n",
    "            bag[i]=1\n",
    "    return bag\n",
    "\n",
    "     "
   ]
  },
  {
   "cell_type": "markdown",
   "id": "functional-intention",
   "metadata": {
    "hidden": true
   },
   "source": [
    "Creating the `Vocabulary` variable and setting up the `Dataset` where each instance is induced as a tuple. "
   ]
  },
  {
   "cell_type": "code",
   "execution_count": 94,
   "id": "strange-locking",
   "metadata": {
    "ExecuteTime": {
     "end_time": "2021-05-14T01:10:31.921592Z",
     "start_time": "2021-05-14T01:10:29.384939Z"
    },
    "hidden": true
   },
   "outputs": [],
   "source": [
    "\n",
    "vocabulary=[] #List of symptoms\n",
    "tags=[] #List of diseases\n",
    "X_y=[] #Dataset\n",
    "for intent in intents['intents']:\n",
    "    tag=intent['tag']\n",
    "    tags.append(tag)\n",
    "    for pattern in intent['patterns']:\n",
    "        pattern=re.sub('[^a-zA-Z]',' ',pattern) #Removing anything but letters\n",
    "        words = nltk.word_tokenize(pattern) #Tokeize the string in a list of words\n",
    "        vocabulary.extend(words) #Extend is used so that the elements of the array are added individually rather than appended as a list.\n",
    "        X_y.append((words,tag))\n",
    "        \n",
    "vocabulary=[ lemma_object.lemmatize(word.lower()) for word in vocabulary ]  #lowering to small case and lemmatizing words\n",
    "\n"
   ]
  },
  {
   "cell_type": "markdown",
   "id": "manufactured-commonwealth",
   "metadata": {
    "hidden": true
   },
   "source": [
    "Sorting and removing the duplicates. "
   ]
  },
  {
   "cell_type": "code",
   "execution_count": 95,
   "id": "fundamental-depth",
   "metadata": {
    "ExecuteTime": {
     "end_time": "2021-05-14T01:10:32.240820Z",
     "start_time": "2021-05-14T01:10:31.924589Z"
    },
    "hidden": true
   },
   "outputs": [],
   "source": [
    "tags=sorted(set(tags)) \n",
    "vocabulary=sorted(set(vocabulary))   "
   ]
  },
  {
   "cell_type": "markdown",
   "id": "appointed-conversation",
   "metadata": {
    "hidden": true
   },
   "source": [
    "Applying One Hot Encoding for all instances of the dataset `X_y`"
   ]
  },
  {
   "cell_type": "code",
   "execution_count": 96,
   "id": "fantastic-conclusion",
   "metadata": {
    "ExecuteTime": {
     "end_time": "2021-05-14T01:10:32.621653Z",
     "start_time": "2021-05-14T01:10:32.243808Z"
    },
    "hidden": true
   },
   "outputs": [],
   "source": [
    "x_tr_c = [] \n",
    "y_tr_c = []\n",
    "c2i_c={} #class to index\n",
    "for (tokenized_pattern,tag) in X_y:\n",
    "    encoded_pattern = bag_of_words(tokenized_pattern,vocabulary)\n",
    "    x_tr_c.append(encoded_pattern)\n",
    "    \n",
    "    class_label=tags.index(tag) #Assigning a numeric value between 0-40 to each label\n",
    "    y_tr_c.append(class_label) #list containing labels in order and parallel to X_tr\n",
    "    c2i_c[tag]=class_label #Class to index {'class':number}"
   ]
  },
  {
   "cell_type": "code",
   "execution_count": 97,
   "id": "skilled-lecture",
   "metadata": {
    "ExecuteTime": {
     "end_time": "2021-05-14T01:10:32.952606Z",
     "start_time": "2021-05-14T01:10:32.624654Z"
    },
    "hidden": true
   },
   "outputs": [],
   "source": [
    "#Converting list to numpy array\n",
    "x_tr_c=np.array(x_tr_c)\n",
    "y_tr_c=np.array(y_tr_c)\n",
    "    "
   ]
  },
  {
   "cell_type": "code",
   "execution_count": 98,
   "id": "invalid-endorsement",
   "metadata": {
    "ExecuteTime": {
     "end_time": "2021-05-14T01:10:33.206593Z",
     "start_time": "2021-05-14T01:10:32.955530Z"
    },
    "hidden": true
   },
   "outputs": [
    {
     "data": {
      "text/plain": [
       "((313, 219), (313,))"
      ]
     },
     "execution_count": 98,
     "metadata": {},
     "output_type": "execute_result"
    }
   ],
   "source": [
    "x_tr_c.shape,y_tr_c.shape"
   ]
  },
  {
   "cell_type": "markdown",
   "id": "outside-appointment",
   "metadata": {
    "hidden": true
   },
   "source": [
    "Splitting Dataset and training model using the `Naive bayes` classifier"
   ]
  },
  {
   "cell_type": "code",
   "execution_count": 99,
   "id": "executive-enlargement",
   "metadata": {
    "ExecuteTime": {
     "end_time": "2021-05-14T01:10:33.363549Z",
     "start_time": "2021-05-14T01:10:33.210582Z"
    },
    "hidden": true
   },
   "outputs": [],
   "source": [
    "X_train_c, X_test_c, y_train_c, y_test_c = train_test_split(x_tr_c,y_tr_c, test_size = 0.20, random_state = seed)"
   ]
  },
  {
   "cell_type": "code",
   "execution_count": 100,
   "id": "initial-appeal",
   "metadata": {
    "ExecuteTime": {
     "end_time": "2021-05-14T01:10:33.550236Z",
     "start_time": "2021-05-14T01:10:33.364385Z"
    },
    "hidden": true
   },
   "outputs": [],
   "source": [
    "disease_detect_model = MultinomialNB().fit(X_train_c, y_train_c)\n",
    "y_pred_c=disease_detect_model.predict(X_test_c)"
   ]
  },
  {
   "cell_type": "markdown",
   "id": "infectious-tuesday",
   "metadata": {
    "hidden": true
   },
   "source": [
    "Calculating `confusion matrix` and `accuracy score`"
   ]
  },
  {
   "cell_type": "code",
   "execution_count": 101,
   "id": "stainless-catch",
   "metadata": {
    "ExecuteTime": {
     "end_time": "2021-05-14T01:10:33.755480Z",
     "start_time": "2021-05-14T01:10:33.551234Z"
    },
    "hidden": true
   },
   "outputs": [],
   "source": [
    "confusion_m = confusion_matrix(y_test_c,y_pred_c)\n",
    "accuracy=accuracy_score(y_test_c,y_pred_c)"
   ]
  },
  {
   "cell_type": "code",
   "execution_count": 102,
   "id": "collaborative-works",
   "metadata": {
    "ExecuteTime": {
     "end_time": "2021-05-14T01:10:33.938852Z",
     "start_time": "2021-05-14T01:10:33.759470Z"
    },
    "hidden": true
   },
   "outputs": [
    {
     "data": {
      "text/plain": [
       "(0.9047619047619048,\n",
       " array([[2, 0, 0, ..., 0, 0, 0],\n",
       "        [0, 1, 0, ..., 0, 0, 0],\n",
       "        [0, 0, 2, ..., 0, 0, 0],\n",
       "        ...,\n",
       "        [0, 0, 0, ..., 2, 0, 0],\n",
       "        [0, 0, 0, ..., 0, 0, 0],\n",
       "        [0, 0, 0, ..., 0, 0, 2]], dtype=int64))"
      ]
     },
     "execution_count": 102,
     "metadata": {},
     "output_type": "execute_result"
    }
   ],
   "source": [
    "accuracy,confusion_m"
   ]
  },
  {
   "cell_type": "markdown",
   "id": "abroad-cannon",
   "metadata": {
    "hidden": true
   },
   "source": [
    "The chatbot function. (Please check the GUI implementation where you can have the interaction with the medical chatbot). Check the `ReadMe` File for pointers."
   ]
  },
  {
   "cell_type": "code",
   "execution_count": 103,
   "id": "confidential-husband",
   "metadata": {
    "ExecuteTime": {
     "end_time": "2021-05-14T01:10:34.101464Z",
     "start_time": "2021-05-14T01:10:33.942842Z"
    },
    "hidden": true
   },
   "outputs": [],
   "source": [
    "def reply(message):\n",
    "    words = nltk.word_tokenize(message)#Tokenize input sentence\n",
    "    bag = bag_of_words(words,vocabulary) # One Hot encoding\n",
    "    bag = np.reshape(bag,(-1,1)) # Reshaping\n",
    "    bag = np.transpose(bag) # Transpose\n",
    "    prediction=disease_detect_model.predict(bag) #Predicting the output\n",
    "    label=tags[prediction[0]]\n",
    "    for intent in intents['intents']:\n",
    "        if label == intent['tag']:\n",
    "          return intent[\"responses\"][0]"
   ]
  },
  {
   "cell_type": "markdown",
   "id": "hollywood-advocacy",
   "metadata": {
    "hidden": true
   },
   "source": [
    "Few testings"
   ]
  },
  {
   "cell_type": "code",
   "execution_count": 104,
   "id": "inside-attendance",
   "metadata": {
    "ExecuteTime": {
     "end_time": "2021-05-14T01:10:34.273050Z",
     "start_time": "2021-05-14T01:10:34.103465Z"
    },
    "hidden": true,
    "scrolled": true
   },
   "outputs": [
    {
     "data": {
      "text/plain": [
       "'Hi, Im Dr.Stone. Please enter your symptoms so that I can diagnose your condition'"
      ]
     },
     "execution_count": 104,
     "metadata": {},
     "output_type": "execute_result"
    }
   ],
   "source": [
    "message = 'hi there'\n",
    "rep=reply(message)\n",
    "rep"
   ]
  },
  {
   "cell_type": "code",
   "execution_count": 105,
   "id": "velvet-prime",
   "metadata": {
    "ExecuteTime": {
     "end_time": "2021-05-14T01:10:34.448167Z",
     "start_time": "2021-05-14T01:10:34.275045Z"
    },
    "hidden": true
   },
   "outputs": [
    {
     "data": {
      "text/plain": [
       "'Wish you a long life. Bye!'"
      ]
     },
     "execution_count": 105,
     "metadata": {},
     "output_type": "execute_result"
    }
   ],
   "source": [
    "message = 'thank you'\n",
    "rep=reply(message)\n",
    "rep"
   ]
  }
 ],
 "metadata": {
  "kernelspec": {
   "display_name": "Python 3",
   "language": "python",
   "name": "python3"
  },
  "language_info": {
   "codemirror_mode": {
    "name": "ipython",
    "version": 3
   },
   "file_extension": ".py",
   "mimetype": "text/x-python",
   "name": "python",
   "nbconvert_exporter": "python",
   "pygments_lexer": "ipython3",
   "version": "3.8.5"
  },
  "toc": {
   "base_numbering": 1,
   "nav_menu": {},
   "number_sections": true,
   "sideBar": true,
   "skip_h1_title": false,
   "title_cell": "Table of Contents",
   "title_sidebar": "Contents",
   "toc_cell": false,
   "toc_position": {},
   "toc_section_display": true,
   "toc_window_display": false
  }
 },
 "nbformat": 4,
 "nbformat_minor": 5
}
