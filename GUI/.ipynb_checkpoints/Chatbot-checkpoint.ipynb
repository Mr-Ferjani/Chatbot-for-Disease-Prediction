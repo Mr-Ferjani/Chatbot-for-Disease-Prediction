{
 "cells": [
  {
   "cell_type": "code",
   "execution_count": 1,
   "id": "outdoor-player",
   "metadata": {
    "ExecuteTime": {
     "end_time": "2021-05-06T15:33:06.735325Z",
     "start_time": "2021-05-06T15:33:04.379535Z"
    }
   },
   "outputs": [],
   "source": [
    "from Setup import reply\n",
    "from PyQt5.QtWidgets import *\n",
    "from functools import partial\n",
    "from PyQt5.QtGui import *\n",
    "from PyQt5 import *\n",
    "from PyQt5.QtCore import *\n",
    "import os\n",
    "import sys\n",
    "from PyQt5.QtGui import *\n",
    "from Uiapp import Ui_MainWindow\n",
    "from functools import partial\n",
    "from PyQt5.QtWidgets import (QApplication, QWidget)\n",
    "from PyQt5 import QtGui\n",
    "from PyQt5.QtCore import QTimer,QDateTime\n",
    "from modules import *"
   ]
  },
  {
   "cell_type": "code",
   "execution_count": 2,
   "id": "thrown-midwest",
   "metadata": {
    "ExecuteTime": {
     "end_time": "2021-05-06T15:33:26.135942Z",
     "start_time": "2021-05-06T15:33:08.391230Z"
    }
   },
   "outputs": [
    {
     "ename": "SystemExit",
     "evalue": "0",
     "output_type": "error",
     "traceback": [
      "An exception has occurred, use %tb to see the full traceback.\n",
      "\u001b[1;31mSystemExit\u001b[0m\u001b[1;31m:\u001b[0m 0\n"
     ]
    },
    {
     "name": "stderr",
     "output_type": "stream",
     "text": [
      "C:\\Users\\Marouane\\anaconda3\\lib\\site-packages\\IPython\\core\\interactiveshell.py:3435: UserWarning: To exit: use 'exit', 'quit', or Ctrl-D.\n",
      "  warn(\"To exit: use 'exit', 'quit', or Ctrl-D.\", stacklevel=1)\n"
     ]
    }
   ],
   "source": [
    "counter = 0\n",
    "class MainWindow(QMainWindow):\n",
    "    def __init__(self):\n",
    "        QWidget.__init__(self)\n",
    "        self.ui = Ui_MainWindow()\n",
    "        self.ui.setupUi(self)\n",
    "        self.show()\n",
    "        ############################################################### them \n",
    "        Theme.inint_ui(self)\n",
    "        Theme.actionbutton(self)\n",
    "        ############################################################### uifunctions\n",
    "        Uifunctions.inint_ui(self)\n",
    "        Uifunctions.actionbutton(self)\n",
    "        ############################################################### splash screen \n",
    "        self.timer = QTimer()\n",
    "        self.timer.setInterval(30)\n",
    "        self.timer.timeout.connect(self.progress2)\n",
    "        self.timer.start()\n",
    "    # progresse bar for splash screen\n",
    "    def progress2(self):\n",
    "        global counter\n",
    "        self.ui.progressBar.setValue(counter)\n",
    "        if counter > 100:\n",
    "            self.timer.stop()\n",
    "            self.ui.stackedWidget_login.setCurrentIndex(0)\n",
    "        counter +=1\n",
    "       \n",
    "\n",
    "\n",
    "if __name__ == \"__main__\":\n",
    "    app = QApplication(sys.argv)  \n",
    "    window = MainWindow()\n",
    "    sys.exit(app.exec_())"
   ]
  }
 ],
 "metadata": {
  "kernelspec": {
   "display_name": "Python 3",
   "language": "python",
   "name": "python3"
  },
  "language_info": {
   "codemirror_mode": {
    "name": "ipython",
    "version": 3
   },
   "file_extension": ".py",
   "mimetype": "text/x-python",
   "name": "python",
   "nbconvert_exporter": "python",
   "pygments_lexer": "ipython3",
   "version": "3.8.5"
  },
  "toc": {
   "base_numbering": 1,
   "nav_menu": {},
   "number_sections": true,
   "sideBar": true,
   "skip_h1_title": false,
   "title_cell": "Table of Contents",
   "title_sidebar": "Contents",
   "toc_cell": false,
   "toc_position": {},
   "toc_section_display": true,
   "toc_window_display": false
  }
 },
 "nbformat": 4,
 "nbformat_minor": 5
}
