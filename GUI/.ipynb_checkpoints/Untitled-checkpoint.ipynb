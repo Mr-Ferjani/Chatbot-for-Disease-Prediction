{
 "cells": [
  {
   "cell_type": "code",
   "execution_count": 12,
   "id": "pregnant-university",
   "metadata": {
    "ExecuteTime": {
     "end_time": "2021-05-07T01:04:34.492658Z",
     "start_time": "2021-05-07T01:04:30.001824Z"
    }
   },
   "outputs": [],
   "source": [
    "%reload_ext autoreload\n",
    "%autoreload 2\n",
    "%matplotlib inline"
   ]
  },
  {
   "cell_type": "code",
   "execution_count": 25,
   "id": "coral-oxide",
   "metadata": {
    "ExecuteTime": {
     "end_time": "2021-05-07T01:19:44.020780Z",
     "start_time": "2021-05-07T01:19:43.882818Z"
    }
   },
   "outputs": [],
   "source": [
    "from Setup import reply"
   ]
  },
  {
   "cell_type": "code",
   "execution_count": 26,
   "id": "protecting-investigation",
   "metadata": {
    "ExecuteTime": {
     "end_time": "2021-05-07T01:19:46.269391Z",
     "start_time": "2021-05-07T01:19:46.136913Z"
    }
   },
   "outputs": [
    {
     "data": {
      "text/plain": [
       "'Wish you a long life. Bye!'"
      ]
     },
     "execution_count": 26,
     "metadata": {},
     "output_type": "execute_result"
    }
   ],
   "source": [
    " "
   ]
  }
 ],
 "metadata": {
  "kernelspec": {
   "display_name": "Python 3",
   "language": "python",
   "name": "python3"
  },
  "language_info": {
   "codemirror_mode": {
    "name": "ipython",
    "version": 3
   },
   "file_extension": ".py",
   "mimetype": "text/x-python",
   "name": "python",
   "nbconvert_exporter": "python",
   "pygments_lexer": "ipython3",
   "version": "3.8.5"
  },
  "toc": {
   "base_numbering": 1,
   "nav_menu": {},
   "number_sections": true,
   "sideBar": true,
   "skip_h1_title": false,
   "title_cell": "Table of Contents",
   "title_sidebar": "Contents",
   "toc_cell": false,
   "toc_position": {},
   "toc_section_display": true,
   "toc_window_display": false
  }
 },
 "nbformat": 4,
 "nbformat_minor": 5
}
